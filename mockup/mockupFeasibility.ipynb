{
 "metadata": {
  "name": "",
  "signature": "sha256:8e82bb26673d1bacd11e8cc236803ec5a1540076d9c8e4ea422e809f827fd49a"
 },
 "nbformat": 3,
 "nbformat_minor": 0,
 "worksheets": [
  {
   "cells": [
    {
     "cell_type": "code",
     "collapsed": false,
     "input": [
      "import pandas as pd\n",
      "import numpy as np\n",
      "from ggplot import *"
     ],
     "language": "python",
     "metadata": {},
     "outputs": [],
     "prompt_number": 484
    },
    {
     "cell_type": "code",
     "collapsed": false,
     "input": [
      "# queryIds = ['20140731-201408',\n",
      "# '20140731-201802',\n",
      "# '20140731-202351',\n",
      "# '20140731-202609',\n",
      "# '20140731-203012',]\n",
      "queryIds = ['20140731-174542']"
     ],
     "language": "python",
     "metadata": {},
     "outputs": [],
     "prompt_number": 485
    },
    {
     "cell_type": "code",
     "collapsed": false,
     "input": [
      "def loadQueryResult(queryId):\n",
      "    basePath = 'data/inputdata/'\n",
      "    csvFile = basePath + 'results-' + queryId + '.csv'\n",
      "    queryFile = basePath + 'query-' + queryId + '.sql'\n",
      "    print open(queryFile).read()\n",
      "    return pd.read_csv(csvFile)"
     ],
     "language": "python",
     "metadata": {},
     "outputs": [],
     "prompt_number": 486
    },
    {
     "cell_type": "code",
     "collapsed": false,
     "input": [
      "chunks = [loadQueryResult(qid) for qid in queryIds]"
     ],
     "language": "python",
     "metadata": {},
     "outputs": [
      {
       "output_type": "stream",
       "stream": "stdout",
       "text": [
        "SELECT \n",
        "  repository_url,\n",
        "  actor_attributes_login,\n",
        "  created_at,\n",
        "  payload_commit_msg\n",
        "FROM [githubarchive:github.timeline]\n",
        "WHERE type=\"PushEvent\"\n",
        "    AND repository_language=\"Python\"\n",
        "    AND PARSE_UTC_USEC(repository_created_at) >= PARSE_UTC_USEC('2012-04-01 00:00:00')\n",
        "    AND PARSE_UTC_USEC(repository_created_at) <= PARSE_UTC_USEC('2012-04-02 00:00:00')\n",
        "ORDER BY created_at DESC\n",
        ";\n",
        "\n"
       ]
      }
     ],
     "prompt_number": 487
    },
    {
     "cell_type": "code",
     "collapsed": false,
     "input": [
      "x = pd.concat(chunks)\n",
      "x['commits'] = 1"
     ],
     "language": "python",
     "metadata": {},
     "outputs": [],
     "prompt_number": 488
    },
    {
     "cell_type": "code",
     "collapsed": false,
     "input": [
      "pd.set_option( 'display.notebook_repr_html', True )\n",
      "pd.set_option('max_rows', 5)"
     ],
     "language": "python",
     "metadata": {},
     "outputs": [],
     "prompt_number": 489
    },
    {
     "cell_type": "code",
     "collapsed": false,
     "input": [
      "x.head()"
     ],
     "language": "python",
     "metadata": {},
     "outputs": [
      {
       "html": [
        "<div style=\"max-height:1000px;max-width:1500px;overflow:auto;\">\n",
        "<table border=\"1\" class=\"dataframe\">\n",
        "  <thead>\n",
        "    <tr style=\"text-align: right;\">\n",
        "      <th></th>\n",
        "      <th>repository_url</th>\n",
        "      <th>actor_attributes_login</th>\n",
        "      <th>created_at</th>\n",
        "      <th>payload_commit_msg</th>\n",
        "      <th>commits</th>\n",
        "    </tr>\n",
        "  </thead>\n",
        "  <tbody>\n",
        "    <tr>\n",
        "      <th>0</th>\n",
        "      <td> https://github.com/dlanger/inlinestyler</td>\n",
        "      <td> dlanger</td>\n",
        "      <td> 2014-07-31 17:45:13</td>\n",
        "      <td>                               Version bump, et al</td>\n",
        "      <td> 1</td>\n",
        "    </tr>\n",
        "    <tr>\n",
        "      <th>1</th>\n",
        "      <td> https://github.com/dlanger/inlinestyler</td>\n",
        "      <td> dlanger</td>\n",
        "      <td> 2014-07-31 17:39:47</td>\n",
        "      <td> Merge pull request #5 from riklaunim/master Py...</td>\n",
        "      <td> 1</td>\n",
        "    </tr>\n",
        "    <tr>\n",
        "      <th>2</th>\n",
        "      <td>     https://github.com/eae/discoversong</td>\n",
        "      <td>     eae</td>\n",
        "      <td> 2014-07-28 00:38:20</td>\n",
        "      <td>                                        cache more</td>\n",
        "      <td> 1</td>\n",
        "    </tr>\n",
        "    <tr>\n",
        "      <th>3</th>\n",
        "      <td>     https://github.com/eae/discoversong</td>\n",
        "      <td>     eae</td>\n",
        "      <td> 2014-07-28 00:26:36</td>\n",
        "      <td>                                      sleep longer</td>\n",
        "      <td> 1</td>\n",
        "    </tr>\n",
        "    <tr>\n",
        "      <th>4</th>\n",
        "      <td>     https://github.com/eae/discoversong</td>\n",
        "      <td>     eae</td>\n",
        "      <td> 2014-07-28 00:21:00</td>\n",
        "      <td>                                               duh</td>\n",
        "      <td> 1</td>\n",
        "    </tr>\n",
        "  </tbody>\n",
        "</table>\n",
        "</div>"
       ],
       "metadata": {},
       "output_type": "pyout",
       "prompt_number": 490,
       "text": [
        "                            repository_url actor_attributes_login  \\\n",
        "0  https://github.com/dlanger/inlinestyler                dlanger   \n",
        "1  https://github.com/dlanger/inlinestyler                dlanger   \n",
        "2      https://github.com/eae/discoversong                    eae   \n",
        "3      https://github.com/eae/discoversong                    eae   \n",
        "4      https://github.com/eae/discoversong                    eae   \n",
        "\n",
        "            created_at                                 payload_commit_msg  \\\n",
        "0  2014-07-31 17:45:13                                Version bump, et al   \n",
        "1  2014-07-31 17:39:47  Merge pull request #5 from riklaunim/master Py...   \n",
        "2  2014-07-28 00:38:20                                         cache more   \n",
        "3  2014-07-28 00:26:36                                       sleep longer   \n",
        "4  2014-07-28 00:21:00                                                duh   \n",
        "\n",
        "   commits  \n",
        "0        1  \n",
        "1        1  \n",
        "2        1  \n",
        "3        1  \n",
        "4        1  "
       ]
      }
     ],
     "prompt_number": 490
    },
    {
     "cell_type": "code",
     "collapsed": false,
     "input": [
      "type(x)"
     ],
     "language": "python",
     "metadata": {},
     "outputs": [
      {
       "metadata": {},
       "output_type": "pyout",
       "prompt_number": 491,
       "text": [
        "pandas.core.frame.DataFrame"
       ]
      }
     ],
     "prompt_number": 491
    },
    {
     "cell_type": "code",
     "collapsed": false,
     "input": [
      "x['created_at'].values"
     ],
     "language": "python",
     "metadata": {},
     "outputs": [
      {
       "metadata": {},
       "output_type": "pyout",
       "prompt_number": 492,
       "text": [
        "array(['2014-07-31 17:45:13', '2014-07-31 17:39:47', '2014-07-28 00:38:20',\n",
        "       ..., '2012-04-01 00:03:25', '2012-04-01 00:03:25',\n",
        "       '2012-04-01 00:03:25'], dtype=object)"
       ]
      }
     ],
     "prompt_number": 492
    },
    {
     "cell_type": "code",
     "collapsed": false,
     "input": [
      "x['created_at'] = pd.to_datetime(x['created_at'])"
     ],
     "language": "python",
     "metadata": {},
     "outputs": [],
     "prompt_number": 493
    },
    {
     "cell_type": "code",
     "collapsed": false,
     "input": [
      "x.index = x.created_at"
     ],
     "language": "python",
     "metadata": {},
     "outputs": [],
     "prompt_number": 494
    },
    {
     "cell_type": "code",
     "collapsed": false,
     "input": [
      "x.head()"
     ],
     "language": "python",
     "metadata": {},
     "outputs": [
      {
       "html": [
        "<div style=\"max-height:1000px;max-width:1500px;overflow:auto;\">\n",
        "<table border=\"1\" class=\"dataframe\">\n",
        "  <thead>\n",
        "    <tr style=\"text-align: right;\">\n",
        "      <th></th>\n",
        "      <th>repository_url</th>\n",
        "      <th>actor_attributes_login</th>\n",
        "      <th>created_at</th>\n",
        "      <th>payload_commit_msg</th>\n",
        "      <th>commits</th>\n",
        "    </tr>\n",
        "    <tr>\n",
        "      <th>created_at</th>\n",
        "      <th></th>\n",
        "      <th></th>\n",
        "      <th></th>\n",
        "      <th></th>\n",
        "      <th></th>\n",
        "    </tr>\n",
        "  </thead>\n",
        "  <tbody>\n",
        "    <tr>\n",
        "      <th>2014-07-31 17:45:13</th>\n",
        "      <td> https://github.com/dlanger/inlinestyler</td>\n",
        "      <td> dlanger</td>\n",
        "      <td>2014-07-31 17:45:13</td>\n",
        "      <td>                               Version bump, et al</td>\n",
        "      <td> 1</td>\n",
        "    </tr>\n",
        "    <tr>\n",
        "      <th>2014-07-31 17:39:47</th>\n",
        "      <td> https://github.com/dlanger/inlinestyler</td>\n",
        "      <td> dlanger</td>\n",
        "      <td>2014-07-31 17:39:47</td>\n",
        "      <td> Merge pull request #5 from riklaunim/master Py...</td>\n",
        "      <td> 1</td>\n",
        "    </tr>\n",
        "    <tr>\n",
        "      <th>2014-07-28 00:38:20</th>\n",
        "      <td>     https://github.com/eae/discoversong</td>\n",
        "      <td>     eae</td>\n",
        "      <td>2014-07-28 00:38:20</td>\n",
        "      <td>                                        cache more</td>\n",
        "      <td> 1</td>\n",
        "    </tr>\n",
        "    <tr>\n",
        "      <th>2014-07-28 00:26:36</th>\n",
        "      <td>     https://github.com/eae/discoversong</td>\n",
        "      <td>     eae</td>\n",
        "      <td>2014-07-28 00:26:36</td>\n",
        "      <td>                                      sleep longer</td>\n",
        "      <td> 1</td>\n",
        "    </tr>\n",
        "    <tr>\n",
        "      <th>2014-07-28 00:21:00</th>\n",
        "      <td>     https://github.com/eae/discoversong</td>\n",
        "      <td>     eae</td>\n",
        "      <td>2014-07-28 00:21:00</td>\n",
        "      <td>                                               duh</td>\n",
        "      <td> 1</td>\n",
        "    </tr>\n",
        "  </tbody>\n",
        "</table>\n",
        "</div>"
       ],
       "metadata": {},
       "output_type": "pyout",
       "prompt_number": 495,
       "text": [
        "                                              repository_url  \\\n",
        "created_at                                                     \n",
        "2014-07-31 17:45:13  https://github.com/dlanger/inlinestyler   \n",
        "2014-07-31 17:39:47  https://github.com/dlanger/inlinestyler   \n",
        "2014-07-28 00:38:20      https://github.com/eae/discoversong   \n",
        "2014-07-28 00:26:36      https://github.com/eae/discoversong   \n",
        "2014-07-28 00:21:00      https://github.com/eae/discoversong   \n",
        "\n",
        "                    actor_attributes_login          created_at  \\\n",
        "created_at                                                       \n",
        "2014-07-31 17:45:13                dlanger 2014-07-31 17:45:13   \n",
        "2014-07-31 17:39:47                dlanger 2014-07-31 17:39:47   \n",
        "2014-07-28 00:38:20                    eae 2014-07-28 00:38:20   \n",
        "2014-07-28 00:26:36                    eae 2014-07-28 00:26:36   \n",
        "2014-07-28 00:21:00                    eae 2014-07-28 00:21:00   \n",
        "\n",
        "                                                    payload_commit_msg  \\\n",
        "created_at                                                               \n",
        "2014-07-31 17:45:13                                Version bump, et al   \n",
        "2014-07-31 17:39:47  Merge pull request #5 from riklaunim/master Py...   \n",
        "2014-07-28 00:38:20                                         cache more   \n",
        "2014-07-28 00:26:36                                       sleep longer   \n",
        "2014-07-28 00:21:00                                                duh   \n",
        "\n",
        "                     commits  \n",
        "created_at                    \n",
        "2014-07-31 17:45:13        1  \n",
        "2014-07-31 17:39:47        1  \n",
        "2014-07-28 00:38:20        1  \n",
        "2014-07-28 00:26:36        1  \n",
        "2014-07-28 00:21:00        1  "
       ]
      }
     ],
     "prompt_number": 495
    },
    {
     "cell_type": "markdown",
     "metadata": {},
     "source": [
      "# All Commits"
     ]
    },
    {
     "cell_type": "code",
     "collapsed": false,
     "input": [
      "x.index"
     ],
     "language": "python",
     "metadata": {},
     "outputs": [
      {
       "metadata": {},
       "output_type": "pyout",
       "prompt_number": 496,
       "text": [
        "<class 'pandas.tseries.index.DatetimeIndex'>\n",
        "[2014-07-31 17:45:13, ..., 2012-04-01 00:03:25]\n",
        "Length: 7872, Freq: None, Timezone: None"
       ]
      }
     ],
     "prompt_number": 496
    },
    {
     "cell_type": "code",
     "collapsed": false,
     "input": [
      "byMonth = x.resample('M', how='sum')"
     ],
     "language": "python",
     "metadata": {},
     "outputs": [],
     "prompt_number": 497
    },
    {
     "cell_type": "code",
     "collapsed": false,
     "input": [
      "byMonth['commits'].plot(kind='bar', title='all repos')"
     ],
     "language": "python",
     "metadata": {},
     "outputs": [
      {
       "metadata": {},
       "output_type": "pyout",
       "prompt_number": 546,
       "text": [
        "<matplotlib.axes.AxesSubplot at 0x113f47350>"
       ]
      },
      {
       "metadata": {},
       "output_type": "display_data",
       "png": "[encoded data removed]",
       "text": [
        "<matplotlib.figure.Figure at 0x11344ed50>"
       ]
      }
     ],
     "prompt_number": 546
    },
    {
     "cell_type": "code",
     "collapsed": false,
     "input": [
      "byMonth.head()"
     ],
     "language": "python",
     "metadata": {},
     "outputs": [
      {
       "html": [
        "<div style=\"max-height:1000px;max-width:1500px;overflow:auto;\">\n",
        "<table border=\"1\" class=\"dataframe\">\n",
        "  <thead>\n",
        "    <tr style=\"text-align: right;\">\n",
        "      <th></th>\n",
        "      <th>commits</th>\n",
        "    </tr>\n",
        "    <tr>\n",
        "      <th>created_at</th>\n",
        "      <th></th>\n",
        "    </tr>\n",
        "  </thead>\n",
        "  <tbody>\n",
        "    <tr>\n",
        "      <th>2012-04-30</th>\n",
        "      <td> 3972</td>\n",
        "    </tr>\n",
        "    <tr>\n",
        "      <th>2012-05-31</th>\n",
        "      <td> 1299</td>\n",
        "    </tr>\n",
        "    <tr>\n",
        "      <th>2012-06-30</th>\n",
        "      <td>  507</td>\n",
        "    </tr>\n",
        "    <tr>\n",
        "      <th>2012-07-31</th>\n",
        "      <td>  436</td>\n",
        "    </tr>\n",
        "    <tr>\n",
        "      <th>2012-08-31</th>\n",
        "      <td>  604</td>\n",
        "    </tr>\n",
        "  </tbody>\n",
        "</table>\n",
        "</div>"
       ],
       "metadata": {},
       "output_type": "pyout",
       "prompt_number": 545,
       "text": [
        "            commits\n",
        "created_at         \n",
        "2012-04-30     3972\n",
        "2012-05-31     1299\n",
        "2012-06-30      507\n",
        "2012-07-31      436\n",
        "2012-08-31      604"
       ]
      }
     ],
     "prompt_number": 545
    },
    {
     "cell_type": "code",
     "collapsed": false,
     "input": [
      "x.repository_url.value_counts().head()\n",
      "# np.log10(x.repository_url.value_counts()).plot(x=kind='bar')"
     ],
     "language": "python",
     "metadata": {},
     "outputs": [
      {
       "metadata": {},
       "output_type": "pyout",
       "prompt_number": 499,
       "text": [
        "https://github.com/jbergantine/django-newproj    648\n",
        "https://github.com/eae/discoversong              379\n",
        "https://github.com/igoreus/catalog               251\n",
        "https://github.com/palango/pitivi                230\n",
        "https://github.com/joshayers/PyTables            230\n",
        "dtype: int64"
       ]
      }
     ],
     "prompt_number": 499
    },
    {
     "cell_type": "code",
     "collapsed": false,
     "input": [
      "x.repository_url.value_counts().tail()"
     ],
     "language": "python",
     "metadata": {},
     "outputs": [
      {
       "metadata": {},
       "output_type": "pyout",
       "prompt_number": 500,
       "text": [
        "https://github.com//arango-python               1\n",
        "https://github.com/tusharchandra1992/ChatGAE    1\n",
        "https://github.com/daeken/QuestCompanions       1\n",
        "https://github.com/DamnWidget/corepost          1\n",
        "https://github.com/stephaneAG/emokit            1\n",
        "dtype: int64"
       ]
      }
     ],
     "prompt_number": 500
    },
    {
     "cell_type": "code",
     "collapsed": false,
     "input": [
      "mostPopularRepoURL = x.repository_url.value_counts().index[0]"
     ],
     "language": "python",
     "metadata": {},
     "outputs": [],
     "prompt_number": 501
    },
    {
     "cell_type": "markdown",
     "metadata": {},
     "source": [
      "# The most committed-to repo"
     ]
    },
    {
     "cell_type": "code",
     "collapsed": false,
     "input": [
      "arepo = x[x['repository_url']==mostPopularRepoURL]"
     ],
     "language": "python",
     "metadata": {},
     "outputs": [],
     "prompt_number": 502
    },
    {
     "cell_type": "code",
     "collapsed": false,
     "input": [
      "arepo"
     ],
     "language": "python",
     "metadata": {},
     "outputs": [
      {
       "html": [
        "<div style=\"max-height:1000px;max-width:1500px;overflow:auto;\">\n",
        "<table border=\"1\" class=\"dataframe\">\n",
        "  <thead>\n",
        "    <tr style=\"text-align: right;\">\n",
        "      <th></th>\n",
        "      <th>repository_url</th>\n",
        "      <th>actor_attributes_login</th>\n",
        "      <th>created_at</th>\n",
        "      <th>payload_commit_msg</th>\n",
        "      <th>commits</th>\n",
        "    </tr>\n",
        "    <tr>\n",
        "      <th>created_at</th>\n",
        "      <th></th>\n",
        "      <th></th>\n",
        "      <th></th>\n",
        "      <th></th>\n",
        "      <th></th>\n",
        "    </tr>\n",
        "  </thead>\n",
        "  <tbody>\n",
        "    <tr>\n",
        "      <th>2012-10-10 20:13:25</th>\n",
        "      <td> https://github.com/jbergantine/django-newproj</td>\n",
        "      <td> jbergantine</td>\n",
        "      <td>2012-10-10 20:13:25</td>\n",
        "      <td> Hard coded project name.</td>\n",
        "      <td> 1</td>\n",
        "    </tr>\n",
        "    <tr>\n",
        "      <th>2012-10-10 20:07:11</th>\n",
        "      <td> https://github.com/jbergantine/django-newproj</td>\n",
        "      <td> jbergantine</td>\n",
        "      <td>2012-10-10 20:07:11</td>\n",
        "      <td>         Removed bycrypt.</td>\n",
        "      <td> 1</td>\n",
        "    </tr>\n",
        "    <tr>\n",
        "      <th>...</th>\n",
        "      <td>...</td>\n",
        "      <td>...</td>\n",
        "      <td>...</td>\n",
        "      <td>...</td>\n",
        "      <td>...</td>\n",
        "    </tr>\n",
        "    <tr>\n",
        "      <th>2012-04-01 03:54:57</th>\n",
        "      <td> https://github.com/jbergantine/django-newproj</td>\n",
        "      <td> jbergantine</td>\n",
        "      <td>2012-04-01 03:54:57</td>\n",
        "      <td>   added default settings</td>\n",
        "      <td> 1</td>\n",
        "    </tr>\n",
        "    <tr>\n",
        "      <th>2012-04-01 03:54:57</th>\n",
        "      <td> https://github.com/jbergantine/django-newproj</td>\n",
        "      <td> jbergantine</td>\n",
        "      <td>2012-04-01 03:54:57</td>\n",
        "      <td>   added default settings</td>\n",
        "      <td> 1</td>\n",
        "    </tr>\n",
        "  </tbody>\n",
        "</table>\n",
        "<p>648 rows \u00d7 5 columns</p>\n",
        "</div>"
       ],
       "metadata": {},
       "output_type": "pyout",
       "prompt_number": 503,
       "text": [
        "                                                    repository_url  \\\n",
        "created_at                                                           \n",
        "2012-10-10 20:13:25  https://github.com/jbergantine/django-newproj   \n",
        "2012-10-10 20:07:11  https://github.com/jbergantine/django-newproj   \n",
        "...                                                            ...   \n",
        "2012-04-01 03:54:57  https://github.com/jbergantine/django-newproj   \n",
        "2012-04-01 03:54:57  https://github.com/jbergantine/django-newproj   \n",
        "\n",
        "                    actor_attributes_login          created_at  \\\n",
        "created_at                                                       \n",
        "2012-10-10 20:13:25            jbergantine 2012-10-10 20:13:25   \n",
        "2012-10-10 20:07:11            jbergantine 2012-10-10 20:07:11   \n",
        "...                                    ...                 ...   \n",
        "2012-04-01 03:54:57            jbergantine 2012-04-01 03:54:57   \n",
        "2012-04-01 03:54:57            jbergantine 2012-04-01 03:54:57   \n",
        "\n",
        "                           payload_commit_msg  commits  \n",
        "created_at                                              \n",
        "2012-10-10 20:13:25  Hard coded project name.        1  \n",
        "2012-10-10 20:07:11          Removed bycrypt.        1  \n",
        "...                                       ...      ...  \n",
        "2012-04-01 03:54:57    added default settings        1  \n",
        "2012-04-01 03:54:57    added default settings        1  \n",
        "\n",
        "[648 rows x 5 columns]"
       ]
      }
     ],
     "prompt_number": 503
    },
    {
     "cell_type": "code",
     "collapsed": false,
     "input": [
      "def plotCommits(df, repository_url):\n",
      "    workingDf = df[df['repository_url']==repository_url]\n",
      "    workingDf = workingDf.resample('M', how='sum')\n",
      "    workingDf['commits'].plot(kind='bar', title=repository_url)"
     ],
     "language": "python",
     "metadata": {},
     "outputs": [],
     "prompt_number": 504
    },
    {
     "cell_type": "code",
     "collapsed": false,
     "input": [
      "plotCommits(x, mostPopularRepoURL)"
     ],
     "language": "python",
     "metadata": {},
     "outputs": [
      {
       "metadata": {},
       "output_type": "display_data",
       "png": "[encoded data removed]",
       "text": [
        "<matplotlib.figure.Figure at 0x11269b5d0>"
       ]
      }
     ],
     "prompt_number": 505
    },
    {
     "cell_type": "markdown",
     "metadata": {},
     "source": [
      "# Other repos"
     ]
    },
    {
     "cell_type": "code",
     "collapsed": false,
     "input": [
      "sortedByCommit = x.repository_url.value_counts()\n",
      "sortedByCommit"
     ],
     "language": "python",
     "metadata": {},
     "outputs": [
      {
       "metadata": {},
       "output_type": "pyout",
       "prompt_number": 506,
       "text": [
        "https://github.com/jbergantine/django-newproj    648\n",
        "...\n",
        "https://github.com/stephaneAG/emokit    1\n",
        "Length: 280, dtype: int64"
       ]
      }
     ],
     "prompt_number": 506
    },
    {
     "cell_type": "code",
     "collapsed": false,
     "input": [
      "plotCommits(x, sortedByCommit.index[0])"
     ],
     "language": "python",
     "metadata": {},
     "outputs": [
      {
       "metadata": {},
       "output_type": "display_data",
       "png": "[encoded data removed]",
       "text": [
        "<matplotlib.figure.Figure at 0x1137a4510>"
       ]
      }
     ],
     "prompt_number": 507
    },
    {
     "cell_type": "code",
     "collapsed": false,
     "input": [
      "plotCommits(x, sortedByCommit.index[1])"
     ],
     "language": "python",
     "metadata": {},
     "outputs": [
      {
       "metadata": {},
       "output_type": "display_data",
       "png": "[encoded data removed]",
       "text": [
        "<matplotlib.figure.Figure at 0x1122834d0>"
       ]
      }
     ],
     "prompt_number": 508
    },
    {
     "cell_type": "code",
     "collapsed": false,
     "input": [
      "plotCommits(x, sortedByCommit.index[2])"
     ],
     "language": "python",
     "metadata": {},
     "outputs": [
      {
       "metadata": {},
       "output_type": "display_data",
       "png": "[encoded data removed]",
       "text": [
        "<matplotlib.figure.Figure at 0x11496b950>"
       ]
      }
     ],
     "prompt_number": 509
    },
    {
     "cell_type": "code",
     "collapsed": false,
     "input": [
      "plotCommits(x, sortedByCommit.index[3])"
     ],
     "language": "python",
     "metadata": {},
     "outputs": [
      {
       "metadata": {},
       "output_type": "display_data",
       "png": "[encoded data removed]",
       "text": [
        "<matplotlib.figure.Figure at 0x10cc1fc10>"
       ]
      }
     ],
     "prompt_number": 510
    },
    {
     "cell_type": "code",
     "collapsed": false,
     "input": [
      "plotCommits(x, sortedByCommit.index[4])"
     ],
     "language": "python",
     "metadata": {},
     "outputs": [
      {
       "metadata": {},
       "output_type": "display_data",
       "png": "[encoded data removed]",
       "text": [
        "<matplotlib.figure.Figure at 0x112159c50>"
       ]
      }
     ],
     "prompt_number": 511
    },
    {
     "cell_type": "code",
     "collapsed": false,
     "input": [
      "plotCommits(x, sortedByCommit.index[21])"
     ],
     "language": "python",
     "metadata": {},
     "outputs": [
      {
       "metadata": {},
       "output_type": "display_data",
       "png": "[encoded data removed]",
       "text": [
        "<matplotlib.figure.Figure at 0x1139864d0>"
       ]
      }
     ],
     "prompt_number": 512
    },
    {
     "cell_type": "code",
     "collapsed": false,
     "input": [
      "x.head()"
     ],
     "language": "python",
     "metadata": {},
     "outputs": [
      {
       "html": [
        "<div style=\"max-height:1000px;max-width:1500px;overflow:auto;\">\n",
        "<table border=\"1\" class=\"dataframe\">\n",
        "  <thead>\n",
        "    <tr style=\"text-align: right;\">\n",
        "      <th></th>\n",
        "      <th>repository_url</th>\n",
        "      <th>actor_attributes_login</th>\n",
        "      <th>created_at</th>\n",
        "      <th>payload_commit_msg</th>\n",
        "      <th>commits</th>\n",
        "    </tr>\n",
        "    <tr>\n",
        "      <th>created_at</th>\n",
        "      <th></th>\n",
        "      <th></th>\n",
        "      <th></th>\n",
        "      <th></th>\n",
        "      <th></th>\n",
        "    </tr>\n",
        "  </thead>\n",
        "  <tbody>\n",
        "    <tr>\n",
        "      <th>2014-07-31 17:45:13</th>\n",
        "      <td> https://github.com/dlanger/inlinestyler</td>\n",
        "      <td> dlanger</td>\n",
        "      <td>2014-07-31 17:45:13</td>\n",
        "      <td>                               Version bump, et al</td>\n",
        "      <td> 1</td>\n",
        "    </tr>\n",
        "    <tr>\n",
        "      <th>2014-07-31 17:39:47</th>\n",
        "      <td> https://github.com/dlanger/inlinestyler</td>\n",
        "      <td> dlanger</td>\n",
        "      <td>2014-07-31 17:39:47</td>\n",
        "      <td> Merge pull request #5 from riklaunim/master Py...</td>\n",
        "      <td> 1</td>\n",
        "    </tr>\n",
        "    <tr>\n",
        "      <th>2014-07-28 00:38:20</th>\n",
        "      <td>     https://github.com/eae/discoversong</td>\n",
        "      <td>     eae</td>\n",
        "      <td>2014-07-28 00:38:20</td>\n",
        "      <td>                                        cache more</td>\n",
        "      <td> 1</td>\n",
        "    </tr>\n",
        "    <tr>\n",
        "      <th>2014-07-28 00:26:36</th>\n",
        "      <td>     https://github.com/eae/discoversong</td>\n",
        "      <td>     eae</td>\n",
        "      <td>2014-07-28 00:26:36</td>\n",
        "      <td>                                      sleep longer</td>\n",
        "      <td> 1</td>\n",
        "    </tr>\n",
        "    <tr>\n",
        "      <th>2014-07-28 00:21:00</th>\n",
        "      <td>     https://github.com/eae/discoversong</td>\n",
        "      <td>     eae</td>\n",
        "      <td>2014-07-28 00:21:00</td>\n",
        "      <td>                                               duh</td>\n",
        "      <td> 1</td>\n",
        "    </tr>\n",
        "  </tbody>\n",
        "</table>\n",
        "</div>"
       ],
       "metadata": {},
       "output_type": "pyout",
       "prompt_number": 513,
       "text": [
        "                                              repository_url  \\\n",
        "created_at                                                     \n",
        "2014-07-31 17:45:13  https://github.com/dlanger/inlinestyler   \n",
        "2014-07-31 17:39:47  https://github.com/dlanger/inlinestyler   \n",
        "2014-07-28 00:38:20      https://github.com/eae/discoversong   \n",
        "2014-07-28 00:26:36      https://github.com/eae/discoversong   \n",
        "2014-07-28 00:21:00      https://github.com/eae/discoversong   \n",
        "\n",
        "                    actor_attributes_login          created_at  \\\n",
        "created_at                                                       \n",
        "2014-07-31 17:45:13                dlanger 2014-07-31 17:45:13   \n",
        "2014-07-31 17:39:47                dlanger 2014-07-31 17:39:47   \n",
        "2014-07-28 00:38:20                    eae 2014-07-28 00:38:20   \n",
        "2014-07-28 00:26:36                    eae 2014-07-28 00:26:36   \n",
        "2014-07-28 00:21:00                    eae 2014-07-28 00:21:00   \n",
        "\n",
        "                                                    payload_commit_msg  \\\n",
        "created_at                                                               \n",
        "2014-07-31 17:45:13                                Version bump, et al   \n",
        "2014-07-31 17:39:47  Merge pull request #5 from riklaunim/master Py...   \n",
        "2014-07-28 00:38:20                                         cache more   \n",
        "2014-07-28 00:26:36                                       sleep longer   \n",
        "2014-07-28 00:21:00                                                duh   \n",
        "\n",
        "                     commits  \n",
        "created_at                    \n",
        "2014-07-31 17:45:13        1  \n",
        "2014-07-31 17:39:47        1  \n",
        "2014-07-28 00:38:20        1  \n",
        "2014-07-28 00:26:36        1  \n",
        "2014-07-28 00:21:00        1  "
       ]
      }
     ],
     "prompt_number": 513
    },
    {
     "cell_type": "markdown",
     "metadata": {},
     "source": [
      "# pushes before vs. pushes after"
     ]
    },
    {
     "cell_type": "code",
     "collapsed": false,
     "input": [
      "tPresent = pd.Timestamp('2013-04-01 00:00:00')"
     ],
     "language": "python",
     "metadata": {},
     "outputs": [],
     "prompt_number": 514
    },
    {
     "cell_type": "code",
     "collapsed": false,
     "input": [
      "def getPastOrFuture(t):\n",
      "    if t < tPresent:\n",
      "        return 'past'\n",
      "    else:\n",
      "        return 'future'\n",
      "    \n",
      "x['pastOrFuture'] = [getPastOrFuture(t) for t in x.index]"
     ],
     "language": "python",
     "metadata": {},
     "outputs": [],
     "prompt_number": 515
    },
    {
     "cell_type": "code",
     "collapsed": false,
     "input": [
      "x.head()"
     ],
     "language": "python",
     "metadata": {},
     "outputs": [
      {
       "html": [
        "<div style=\"max-height:1000px;max-width:1500px;overflow:auto;\">\n",
        "<table border=\"1\" class=\"dataframe\">\n",
        "  <thead>\n",
        "    <tr style=\"text-align: right;\">\n",
        "      <th></th>\n",
        "      <th>repository_url</th>\n",
        "      <th>actor_attributes_login</th>\n",
        "      <th>created_at</th>\n",
        "      <th>payload_commit_msg</th>\n",
        "      <th>commits</th>\n",
        "      <th>pastOrFuture</th>\n",
        "    </tr>\n",
        "    <tr>\n",
        "      <th>created_at</th>\n",
        "      <th></th>\n",
        "      <th></th>\n",
        "      <th></th>\n",
        "      <th></th>\n",
        "      <th></th>\n",
        "      <th></th>\n",
        "    </tr>\n",
        "  </thead>\n",
        "  <tbody>\n",
        "    <tr>\n",
        "      <th>2014-07-31 17:45:13</th>\n",
        "      <td> https://github.com/dlanger/inlinestyler</td>\n",
        "      <td> dlanger</td>\n",
        "      <td>2014-07-31 17:45:13</td>\n",
        "      <td>                               Version bump, et al</td>\n",
        "      <td> 1</td>\n",
        "      <td> future</td>\n",
        "    </tr>\n",
        "    <tr>\n",
        "      <th>2014-07-31 17:39:47</th>\n",
        "      <td> https://github.com/dlanger/inlinestyler</td>\n",
        "      <td> dlanger</td>\n",
        "      <td>2014-07-31 17:39:47</td>\n",
        "      <td> Merge pull request #5 from riklaunim/master Py...</td>\n",
        "      <td> 1</td>\n",
        "      <td> future</td>\n",
        "    </tr>\n",
        "    <tr>\n",
        "      <th>2014-07-28 00:38:20</th>\n",
        "      <td>     https://github.com/eae/discoversong</td>\n",
        "      <td>     eae</td>\n",
        "      <td>2014-07-28 00:38:20</td>\n",
        "      <td>                                        cache more</td>\n",
        "      <td> 1</td>\n",
        "      <td> future</td>\n",
        "    </tr>\n",
        "    <tr>\n",
        "      <th>2014-07-28 00:26:36</th>\n",
        "      <td>     https://github.com/eae/discoversong</td>\n",
        "      <td>     eae</td>\n",
        "      <td>2014-07-28 00:26:36</td>\n",
        "      <td>                                      sleep longer</td>\n",
        "      <td> 1</td>\n",
        "      <td> future</td>\n",
        "    </tr>\n",
        "    <tr>\n",
        "      <th>2014-07-28 00:21:00</th>\n",
        "      <td>     https://github.com/eae/discoversong</td>\n",
        "      <td>     eae</td>\n",
        "      <td>2014-07-28 00:21:00</td>\n",
        "      <td>                                               duh</td>\n",
        "      <td> 1</td>\n",
        "      <td> future</td>\n",
        "    </tr>\n",
        "  </tbody>\n",
        "</table>\n",
        "</div>"
       ],
       "metadata": {},
       "output_type": "pyout",
       "prompt_number": 516,
       "text": [
        "                                              repository_url  \\\n",
        "created_at                                                     \n",
        "2014-07-31 17:45:13  https://github.com/dlanger/inlinestyler   \n",
        "2014-07-31 17:39:47  https://github.com/dlanger/inlinestyler   \n",
        "2014-07-28 00:38:20      https://github.com/eae/discoversong   \n",
        "2014-07-28 00:26:36      https://github.com/eae/discoversong   \n",
        "2014-07-28 00:21:00      https://github.com/eae/discoversong   \n",
        "\n",
        "                    actor_attributes_login          created_at  \\\n",
        "created_at                                                       \n",
        "2014-07-31 17:45:13                dlanger 2014-07-31 17:45:13   \n",
        "2014-07-31 17:39:47                dlanger 2014-07-31 17:39:47   \n",
        "2014-07-28 00:38:20                    eae 2014-07-28 00:38:20   \n",
        "2014-07-28 00:26:36                    eae 2014-07-28 00:26:36   \n",
        "2014-07-28 00:21:00                    eae 2014-07-28 00:21:00   \n",
        "\n",
        "                                                    payload_commit_msg  \\\n",
        "created_at                                                               \n",
        "2014-07-31 17:45:13                                Version bump, et al   \n",
        "2014-07-31 17:39:47  Merge pull request #5 from riklaunim/master Py...   \n",
        "2014-07-28 00:38:20                                         cache more   \n",
        "2014-07-28 00:26:36                                       sleep longer   \n",
        "2014-07-28 00:21:00                                                duh   \n",
        "\n",
        "                     commits pastOrFuture  \n",
        "created_at                                 \n",
        "2014-07-31 17:45:13        1       future  \n",
        "2014-07-31 17:39:47        1       future  \n",
        "2014-07-28 00:38:20        1       future  \n",
        "2014-07-28 00:26:36        1       future  \n",
        "2014-07-28 00:21:00        1       future  "
       ]
      }
     ],
     "prompt_number": 516
    },
    {
     "cell_type": "code",
     "collapsed": false,
     "input": [
      "x.tail()"
     ],
     "language": "python",
     "metadata": {},
     "outputs": [
      {
       "html": [
        "<div style=\"max-height:1000px;max-width:1500px;overflow:auto;\">\n",
        "<table border=\"1\" class=\"dataframe\">\n",
        "  <thead>\n",
        "    <tr style=\"text-align: right;\">\n",
        "      <th></th>\n",
        "      <th>repository_url</th>\n",
        "      <th>actor_attributes_login</th>\n",
        "      <th>created_at</th>\n",
        "      <th>payload_commit_msg</th>\n",
        "      <th>commits</th>\n",
        "      <th>pastOrFuture</th>\n",
        "    </tr>\n",
        "    <tr>\n",
        "      <th>created_at</th>\n",
        "      <th></th>\n",
        "      <th></th>\n",
        "      <th></th>\n",
        "      <th></th>\n",
        "      <th></th>\n",
        "      <th></th>\n",
        "    </tr>\n",
        "  </thead>\n",
        "  <tbody>\n",
        "    <tr>\n",
        "      <th>2012-04-01 00:05:32</th>\n",
        "      <td> https://github.com/eae/discoversong</td>\n",
        "      <td> eae</td>\n",
        "      <td>2012-04-01 00:05:32</td>\n",
        "      <td>    better readme</td>\n",
        "      <td> 1</td>\n",
        "      <td> past</td>\n",
        "    </tr>\n",
        "    <tr>\n",
        "      <th>2012-04-01 00:05:32</th>\n",
        "      <td> https://github.com/eae/discoversong</td>\n",
        "      <td> eae</td>\n",
        "      <td>2012-04-01 00:05:32</td>\n",
        "      <td>    better readme</td>\n",
        "      <td> 1</td>\n",
        "      <td> past</td>\n",
        "    </tr>\n",
        "    <tr>\n",
        "      <th>2012-04-01 00:03:25</th>\n",
        "      <td> https://github.com/eae/discoversong</td>\n",
        "      <td> eae</td>\n",
        "      <td>2012-04-01 00:03:25</td>\n",
        "      <td> rm this nonsense</td>\n",
        "      <td> 1</td>\n",
        "      <td> past</td>\n",
        "    </tr>\n",
        "    <tr>\n",
        "      <th>2012-04-01 00:03:25</th>\n",
        "      <td> https://github.com/eae/discoversong</td>\n",
        "      <td> eae</td>\n",
        "      <td>2012-04-01 00:03:25</td>\n",
        "      <td> rm this nonsense</td>\n",
        "      <td> 1</td>\n",
        "      <td> past</td>\n",
        "    </tr>\n",
        "    <tr>\n",
        "      <th>2012-04-01 00:03:25</th>\n",
        "      <td> https://github.com/eae/discoversong</td>\n",
        "      <td> eae</td>\n",
        "      <td>2012-04-01 00:03:25</td>\n",
        "      <td> rm this nonsense</td>\n",
        "      <td> 1</td>\n",
        "      <td> past</td>\n",
        "    </tr>\n",
        "  </tbody>\n",
        "</table>\n",
        "</div>"
       ],
       "metadata": {},
       "output_type": "pyout",
       "prompt_number": 517,
       "text": [
        "                                          repository_url  \\\n",
        "created_at                                                 \n",
        "2012-04-01 00:05:32  https://github.com/eae/discoversong   \n",
        "2012-04-01 00:05:32  https://github.com/eae/discoversong   \n",
        "2012-04-01 00:03:25  https://github.com/eae/discoversong   \n",
        "2012-04-01 00:03:25  https://github.com/eae/discoversong   \n",
        "2012-04-01 00:03:25  https://github.com/eae/discoversong   \n",
        "\n",
        "                    actor_attributes_login          created_at  \\\n",
        "created_at                                                       \n",
        "2012-04-01 00:05:32                    eae 2012-04-01 00:05:32   \n",
        "2012-04-01 00:05:32                    eae 2012-04-01 00:05:32   \n",
        "2012-04-01 00:03:25                    eae 2012-04-01 00:03:25   \n",
        "2012-04-01 00:03:25                    eae 2012-04-01 00:03:25   \n",
        "2012-04-01 00:03:25                    eae 2012-04-01 00:03:25   \n",
        "\n",
        "                    payload_commit_msg  commits pastOrFuture  \n",
        "created_at                                                    \n",
        "2012-04-01 00:05:32      better readme        1         past  \n",
        "2012-04-01 00:05:32      better readme        1         past  \n",
        "2012-04-01 00:03:25   rm this nonsense        1         past  \n",
        "2012-04-01 00:03:25   rm this nonsense        1         past  \n",
        "2012-04-01 00:03:25   rm this nonsense        1         past  "
       ]
      }
     ],
     "prompt_number": 517
    },
    {
     "cell_type": "code",
     "collapsed": false,
     "input": [
      "byRepoByEra = x.groupby(['repository_url', 'pastOrFuture'])"
     ],
     "language": "python",
     "metadata": {},
     "outputs": [],
     "prompt_number": 518
    },
    {
     "cell_type": "code",
     "collapsed": false,
     "input": [
      "commitsByRepoByEra = byRepoByEra['commits'].sum().unstack('pastOrFuture').fillna(0)\n",
      "commitsByRepoByEra.sort_index(by='past',inplace=True)"
     ],
     "language": "python",
     "metadata": {},
     "outputs": [],
     "prompt_number": 519
    },
    {
     "cell_type": "code",
     "collapsed": false,
     "input": [
      "commitsByRepoByEra.head()"
     ],
     "language": "python",
     "metadata": {},
     "outputs": [
      {
       "html": [
        "<div style=\"max-height:1000px;max-width:1500px;overflow:auto;\">\n",
        "<table border=\"1\" class=\"dataframe\">\n",
        "  <thead>\n",
        "    <tr style=\"text-align: right;\">\n",
        "      <th>pastOrFuture</th>\n",
        "      <th>future</th>\n",
        "      <th>past</th>\n",
        "    </tr>\n",
        "    <tr>\n",
        "      <th>repository_url</th>\n",
        "      <th></th>\n",
        "      <th></th>\n",
        "    </tr>\n",
        "  </thead>\n",
        "  <tbody>\n",
        "    <tr>\n",
        "      <th>https://github.com/gilgamezh/Learning_Python</th>\n",
        "      <td>  2</td>\n",
        "      <td> 0</td>\n",
        "    </tr>\n",
        "    <tr>\n",
        "      <th>https://github.com/Aarushi-Ign/hello-world</th>\n",
        "      <td>  2</td>\n",
        "      <td> 0</td>\n",
        "    </tr>\n",
        "    <tr>\n",
        "      <th>https://github.com/masa21kik/dotfiles</th>\n",
        "      <td> 10</td>\n",
        "      <td> 0</td>\n",
        "    </tr>\n",
        "    <tr>\n",
        "      <th>https://github.com/stephaneAG/emokit</th>\n",
        "      <td>  1</td>\n",
        "      <td> 0</td>\n",
        "    </tr>\n",
        "    <tr>\n",
        "      <th>https://github.com/rodw/.dotfiles</th>\n",
        "      <td>  5</td>\n",
        "      <td> 0</td>\n",
        "    </tr>\n",
        "  </tbody>\n",
        "</table>\n",
        "</div>"
       ],
       "metadata": {},
       "output_type": "pyout",
       "prompt_number": 520,
       "text": [
        "pastOrFuture                                  future  past\n",
        "repository_url                                            \n",
        "https://github.com/gilgamezh/Learning_Python       2     0\n",
        "https://github.com/Aarushi-Ign/hello-world         2     0\n",
        "https://github.com/masa21kik/dotfiles             10     0\n",
        "https://github.com/stephaneAG/emokit               1     0\n",
        "https://github.com/rodw/.dotfiles                  5     0"
       ]
      }
     ],
     "prompt_number": 520
    },
    {
     "cell_type": "code",
     "collapsed": false,
     "input": [
      "(commitsByRepoByEra.past == 0).value_counts()"
     ],
     "language": "python",
     "metadata": {},
     "outputs": [
      {
       "metadata": {},
       "output_type": "pyout",
       "prompt_number": 521,
       "text": [
        "False    274\n",
        "True       6\n",
        "dtype: int64"
       ]
      }
     ],
     "prompt_number": 521
    },
    {
     "cell_type": "code",
     "collapsed": false,
     "input": [
      "commitsByRepoByEra = commitsByRepoByEra[commitsByRepoByEra.past > 0]"
     ],
     "language": "python",
     "metadata": {},
     "outputs": [],
     "prompt_number": 522
    },
    {
     "cell_type": "code",
     "collapsed": false,
     "input": [
      "x[x.repository_url == 'https://github.com/Aarushi-Ign/hello-world']"
     ],
     "language": "python",
     "metadata": {},
     "outputs": [
      {
       "html": [
        "<div style=\"max-height:1000px;max-width:1500px;overflow:auto;\">\n",
        "<table border=\"1\" class=\"dataframe\">\n",
        "  <thead>\n",
        "    <tr style=\"text-align: right;\">\n",
        "      <th></th>\n",
        "      <th>repository_url</th>\n",
        "      <th>actor_attributes_login</th>\n",
        "      <th>created_at</th>\n",
        "      <th>payload_commit_msg</th>\n",
        "      <th>commits</th>\n",
        "      <th>pastOrFuture</th>\n",
        "    </tr>\n",
        "    <tr>\n",
        "      <th>created_at</th>\n",
        "      <th></th>\n",
        "      <th></th>\n",
        "      <th></th>\n",
        "      <th></th>\n",
        "      <th></th>\n",
        "      <th></th>\n",
        "    </tr>\n",
        "  </thead>\n",
        "  <tbody>\n",
        "    <tr>\n",
        "      <th>2014-07-07 11:58:16</th>\n",
        "      <td> https://github.com/Aarushi-Ign/hello-world</td>\n",
        "      <td> Aarushi-Ign</td>\n",
        "      <td>2014-07-07 11:58:16</td>\n",
        "      <td> Update test.py</td>\n",
        "      <td> 1</td>\n",
        "      <td> future</td>\n",
        "    </tr>\n",
        "    <tr>\n",
        "      <th>2014-07-07 11:57:12</th>\n",
        "      <td> https://github.com/Aarushi-Ign/hello-world</td>\n",
        "      <td> Aarushi-Ign</td>\n",
        "      <td>2014-07-07 11:57:12</td>\n",
        "      <td> Update test.py</td>\n",
        "      <td> 1</td>\n",
        "      <td> future</td>\n",
        "    </tr>\n",
        "  </tbody>\n",
        "</table>\n",
        "</div>"
       ],
       "metadata": {},
       "output_type": "pyout",
       "prompt_number": 523,
       "text": [
        "                                                 repository_url  \\\n",
        "created_at                                                        \n",
        "2014-07-07 11:58:16  https://github.com/Aarushi-Ign/hello-world   \n",
        "2014-07-07 11:57:12  https://github.com/Aarushi-Ign/hello-world   \n",
        "\n",
        "                    actor_attributes_login          created_at  \\\n",
        "created_at                                                       \n",
        "2014-07-07 11:58:16            Aarushi-Ign 2014-07-07 11:58:16   \n",
        "2014-07-07 11:57:12            Aarushi-Ign 2014-07-07 11:57:12   \n",
        "\n",
        "                    payload_commit_msg  commits pastOrFuture  \n",
        "created_at                                                    \n",
        "2014-07-07 11:58:16     Update test.py        1       future  \n",
        "2014-07-07 11:57:12     Update test.py        1       future  "
       ]
      }
     ],
     "prompt_number": 523
    },
    {
     "cell_type": "code",
     "collapsed": false,
     "input": [
      "q = ggplot(commitsByRepoByEra, aes(x='past',y='future')) + geom_point()\n",
      "q += xlab('past commits')\n",
      "q += ylab('future commits')\n",
      "print q"
     ],
     "language": "python",
     "metadata": {},
     "outputs": [
      {
       "metadata": {},
       "output_type": "display_data",
       "png": "[encoded data removed]",
       "text": [
        "<matplotlib.figure.Figure at 0x113b25490>"
       ]
      },
      {
       "output_type": "stream",
       "stream": "stdout",
       "text": [
        "<ggplot: (286692465)>\n"
       ]
      }
     ],
     "prompt_number": 524
    },
    {
     "cell_type": "code",
     "collapsed": false,
     "input": [
      "commitsByRepoByEra['past']"
     ],
     "language": "python",
     "metadata": {},
     "outputs": [
      {
       "metadata": {},
       "output_type": "pyout",
       "prompt_number": 525,
       "text": [
        "repository_url\n",
        "https://github.com/daeken/QuestCompanions    1\n",
        "...\n",
        "https://github.com/jbergantine/django-newproj    648\n",
        "Name: past, Length: 274, dtype: float64"
       ]
      }
     ],
     "prompt_number": 525
    },
    {
     "cell_type": "code",
     "collapsed": false,
     "input": [
      "byRepoByEra = x.groupby(['repository_url', 'pastOrFuture'])"
     ],
     "language": "python",
     "metadata": {},
     "outputs": [],
     "prompt_number": 526
    },
    {
     "cell_type": "code",
     "collapsed": false,
     "input": [
      "byRepoByEra['commits'].agg({'commits' : np.sum})"
     ],
     "language": "python",
     "metadata": {},
     "outputs": [
      {
       "html": [
        "<div style=\"max-height:1000px;max-width:1500px;overflow:auto;\">\n",
        "<table border=\"1\" class=\"dataframe\">\n",
        "  <thead>\n",
        "    <tr style=\"text-align: right;\">\n",
        "      <th></th>\n",
        "      <th></th>\n",
        "      <th>commits</th>\n",
        "    </tr>\n",
        "    <tr>\n",
        "      <th>repository_url</th>\n",
        "      <th>pastOrFuture</th>\n",
        "      <th></th>\n",
        "    </tr>\n",
        "  </thead>\n",
        "  <tbody>\n",
        "    <tr>\n",
        "      <th>https://github.com//arango-python</th>\n",
        "      <th>past</th>\n",
        "      <td>  1</td>\n",
        "    </tr>\n",
        "    <tr>\n",
        "      <th>https://github.com/Aarushi-Ign/hello-world</th>\n",
        "      <th>future</th>\n",
        "      <td>  2</td>\n",
        "    </tr>\n",
        "    <tr>\n",
        "      <th>...</th>\n",
        "      <th>...</th>\n",
        "      <td>...</td>\n",
        "    </tr>\n",
        "    <tr>\n",
        "      <th>https://github.com/zanardo/ticket</th>\n",
        "      <th>past</th>\n",
        "      <td> 34</td>\n",
        "    </tr>\n",
        "    <tr>\n",
        "      <th>https://github.com/zeroXzero/acoustic_crypt</th>\n",
        "      <th>past</th>\n",
        "      <td>  9</td>\n",
        "    </tr>\n",
        "  </tbody>\n",
        "</table>\n",
        "<p>316 rows \u00d7 1 columns</p>\n",
        "</div>"
       ],
       "metadata": {},
       "output_type": "pyout",
       "prompt_number": 527,
       "text": [
        "                                                          commits\n",
        "repository_url                              pastOrFuture         \n",
        "https://github.com//arango-python           past                1\n",
        "https://github.com/Aarushi-Ign/hello-world  future              2\n",
        "...                                                           ...\n",
        "https://github.com/zanardo/ticket           past               34\n",
        "https://github.com/zeroXzero/acoustic_crypt past                9\n",
        "\n",
        "[316 rows x 1 columns]"
       ]
      }
     ],
     "prompt_number": 527
    },
    {
     "cell_type": "code",
     "collapsed": false,
     "input": [
      "x.head()"
     ],
     "language": "python",
     "metadata": {},
     "outputs": [
      {
       "html": [
        "<div style=\"max-height:1000px;max-width:1500px;overflow:auto;\">\n",
        "<table border=\"1\" class=\"dataframe\">\n",
        "  <thead>\n",
        "    <tr style=\"text-align: right;\">\n",
        "      <th></th>\n",
        "      <th>repository_url</th>\n",
        "      <th>actor_attributes_login</th>\n",
        "      <th>created_at</th>\n",
        "      <th>payload_commit_msg</th>\n",
        "      <th>commits</th>\n",
        "      <th>pastOrFuture</th>\n",
        "    </tr>\n",
        "    <tr>\n",
        "      <th>created_at</th>\n",
        "      <th></th>\n",
        "      <th></th>\n",
        "      <th></th>\n",
        "      <th></th>\n",
        "      <th></th>\n",
        "      <th></th>\n",
        "    </tr>\n",
        "  </thead>\n",
        "  <tbody>\n",
        "    <tr>\n",
        "      <th>2014-07-31 17:45:13</th>\n",
        "      <td> https://github.com/dlanger/inlinestyler</td>\n",
        "      <td> dlanger</td>\n",
        "      <td>2014-07-31 17:45:13</td>\n",
        "      <td>                               Version bump, et al</td>\n",
        "      <td> 1</td>\n",
        "      <td> future</td>\n",
        "    </tr>\n",
        "    <tr>\n",
        "      <th>2014-07-31 17:39:47</th>\n",
        "      <td> https://github.com/dlanger/inlinestyler</td>\n",
        "      <td> dlanger</td>\n",
        "      <td>2014-07-31 17:39:47</td>\n",
        "      <td> Merge pull request #5 from riklaunim/master Py...</td>\n",
        "      <td> 1</td>\n",
        "      <td> future</td>\n",
        "    </tr>\n",
        "    <tr>\n",
        "      <th>2014-07-28 00:38:20</th>\n",
        "      <td>     https://github.com/eae/discoversong</td>\n",
        "      <td>     eae</td>\n",
        "      <td>2014-07-28 00:38:20</td>\n",
        "      <td>                                        cache more</td>\n",
        "      <td> 1</td>\n",
        "      <td> future</td>\n",
        "    </tr>\n",
        "    <tr>\n",
        "      <th>2014-07-28 00:26:36</th>\n",
        "      <td>     https://github.com/eae/discoversong</td>\n",
        "      <td>     eae</td>\n",
        "      <td>2014-07-28 00:26:36</td>\n",
        "      <td>                                      sleep longer</td>\n",
        "      <td> 1</td>\n",
        "      <td> future</td>\n",
        "    </tr>\n",
        "    <tr>\n",
        "      <th>2014-07-28 00:21:00</th>\n",
        "      <td>     https://github.com/eae/discoversong</td>\n",
        "      <td>     eae</td>\n",
        "      <td>2014-07-28 00:21:00</td>\n",
        "      <td>                                               duh</td>\n",
        "      <td> 1</td>\n",
        "      <td> future</td>\n",
        "    </tr>\n",
        "  </tbody>\n",
        "</table>\n",
        "</div>"
       ],
       "metadata": {},
       "output_type": "pyout",
       "prompt_number": 528,
       "text": [
        "                                              repository_url  \\\n",
        "created_at                                                     \n",
        "2014-07-31 17:45:13  https://github.com/dlanger/inlinestyler   \n",
        "2014-07-31 17:39:47  https://github.com/dlanger/inlinestyler   \n",
        "2014-07-28 00:38:20      https://github.com/eae/discoversong   \n",
        "2014-07-28 00:26:36      https://github.com/eae/discoversong   \n",
        "2014-07-28 00:21:00      https://github.com/eae/discoversong   \n",
        "\n",
        "                    actor_attributes_login          created_at  \\\n",
        "created_at                                                       \n",
        "2014-07-31 17:45:13                dlanger 2014-07-31 17:45:13   \n",
        "2014-07-31 17:39:47                dlanger 2014-07-31 17:39:47   \n",
        "2014-07-28 00:38:20                    eae 2014-07-28 00:38:20   \n",
        "2014-07-28 00:26:36                    eae 2014-07-28 00:26:36   \n",
        "2014-07-28 00:21:00                    eae 2014-07-28 00:21:00   \n",
        "\n",
        "                                                    payload_commit_msg  \\\n",
        "created_at                                                               \n",
        "2014-07-31 17:45:13                                Version bump, et al   \n",
        "2014-07-31 17:39:47  Merge pull request #5 from riklaunim/master Py...   \n",
        "2014-07-28 00:38:20                                         cache more   \n",
        "2014-07-28 00:26:36                                       sleep longer   \n",
        "2014-07-28 00:21:00                                                duh   \n",
        "\n",
        "                     commits pastOrFuture  \n",
        "created_at                                 \n",
        "2014-07-31 17:45:13        1       future  \n",
        "2014-07-31 17:39:47        1       future  \n",
        "2014-07-28 00:38:20        1       future  \n",
        "2014-07-28 00:26:36        1       future  \n",
        "2014-07-28 00:21:00        1       future  "
       ]
      }
     ],
     "prompt_number": 528
    },
    {
     "cell_type": "code",
     "collapsed": false,
     "input": [
      "x['created_at'].max()"
     ],
     "language": "python",
     "metadata": {},
     "outputs": [
      {
       "metadata": {},
       "output_type": "pyout",
       "prompt_number": 529,
       "text": [
        "Timestamp('2014-07-31 17:45:13')"
       ]
      }
     ],
     "prompt_number": 529
    },
    {
     "cell_type": "code",
     "collapsed": false,
     "input": [
      "x['created_at'].values"
     ],
     "language": "python",
     "metadata": {},
     "outputs": [
      {
       "metadata": {},
       "output_type": "pyout",
       "prompt_number": 530,
       "text": [
        "array(['2014-07-31T13:45:13.000000000-0400',\n",
        "       '2014-07-31T13:39:47.000000000-0400',\n",
        "       '2014-07-27T20:38:20.000000000-0400', ...,\n",
        "       '2012-03-31T20:03:25.000000000-0400',\n",
        "       '2012-03-31T20:03:25.000000000-0400',\n",
        "       '2012-03-31T20:03:25.000000000-0400'], dtype='datetime64[ns]')"
       ]
      }
     ],
     "prompt_number": 530
    },
    {
     "cell_type": "code",
     "collapsed": false,
     "input": [
      "pastx = x[x['pastOrFuture'] == 'past']"
     ],
     "language": "python",
     "metadata": {},
     "outputs": [],
     "prompt_number": 531
    },
    {
     "cell_type": "code",
     "collapsed": false,
     "input": [
      "mostRecentPastCommit = pastx.groupby('repository_url')['created_at'].max()\n",
      "mostRecentPastCommit.head()"
     ],
     "language": "python",
     "metadata": {},
     "outputs": [
      {
       "metadata": {},
       "output_type": "pyout",
       "prompt_number": 532,
       "text": [
        "repository_url\n",
        "https://github.com//arango-python                           2013-02-24 13:18:34\n",
        "https://github.com/AeroNotix/meble_site                     2013-02-24 21:53:46\n",
        "https://github.com/AndreasDamgaardPedersen/Stream-Alerter   2012-04-28 15:17:21\n",
        "https://github.com/Aries-UA/voda                            2012-11-18 19:14:49\n",
        "https://github.com/Axis-EF/axis_todo                        2012-04-10 02:23:33\n",
        "Name: created_at, dtype: datetime64[ns]"
       ]
      }
     ],
     "prompt_number": 532
    },
    {
     "cell_type": "code",
     "collapsed": false,
     "input": [
      "commitsByRepoByEra['mostRecentPastCommit'] = mostRecentPastCommit"
     ],
     "language": "python",
     "metadata": {},
     "outputs": [],
     "prompt_number": 533
    },
    {
     "cell_type": "code",
     "collapsed": false,
     "input": [
      "commitsByRepoByEra.head()"
     ],
     "language": "python",
     "metadata": {},
     "outputs": [
      {
       "html": [
        "<div style=\"max-height:1000px;max-width:1500px;overflow:auto;\">\n",
        "<table border=\"1\" class=\"dataframe\">\n",
        "  <thead>\n",
        "    <tr style=\"text-align: right;\">\n",
        "      <th>pastOrFuture</th>\n",
        "      <th>future</th>\n",
        "      <th>past</th>\n",
        "      <th>mostRecentPastCommit</th>\n",
        "    </tr>\n",
        "    <tr>\n",
        "      <th>repository_url</th>\n",
        "      <th></th>\n",
        "      <th></th>\n",
        "      <th></th>\n",
        "    </tr>\n",
        "  </thead>\n",
        "  <tbody>\n",
        "    <tr>\n",
        "      <th>https://github.com/daeken/QuestCompanions</th>\n",
        "      <td> 0</td>\n",
        "      <td> 1</td>\n",
        "      <td>2012-12-02 21:52:26</td>\n",
        "    </tr>\n",
        "    <tr>\n",
        "      <th>https://github.com/TimSC/ostn02python</th>\n",
        "      <td> 7</td>\n",
        "      <td> 1</td>\n",
        "      <td>2013-03-04 21:54:40</td>\n",
        "    </tr>\n",
        "    <tr>\n",
        "      <th>https://github.com/DamnWidget/corepost</th>\n",
        "      <td> 0</td>\n",
        "      <td> 1</td>\n",
        "      <td>2012-12-08 21:58:01</td>\n",
        "    </tr>\n",
        "    <tr>\n",
        "      <th>https://github.com/tusharchandra1992/ChatGAE</th>\n",
        "      <td> 0</td>\n",
        "      <td> 1</td>\n",
        "      <td>2012-10-04 07:08:17</td>\n",
        "    </tr>\n",
        "    <tr>\n",
        "      <th>https://github.com//arango-python</th>\n",
        "      <td> 0</td>\n",
        "      <td> 1</td>\n",
        "      <td>2013-02-24 13:18:34</td>\n",
        "    </tr>\n",
        "  </tbody>\n",
        "</table>\n",
        "</div>"
       ],
       "metadata": {},
       "output_type": "pyout",
       "prompt_number": 534,
       "text": [
        "pastOrFuture                                  future  past  \\\n",
        "repository_url                                               \n",
        "https://github.com/daeken/QuestCompanions          0     1   \n",
        "https://github.com/TimSC/ostn02python              7     1   \n",
        "https://github.com/DamnWidget/corepost             0     1   \n",
        "https://github.com/tusharchandra1992/ChatGAE       0     1   \n",
        "https://github.com//arango-python                  0     1   \n",
        "\n",
        "pastOrFuture                                 mostRecentPastCommit  \n",
        "repository_url                                                     \n",
        "https://github.com/daeken/QuestCompanions     2012-12-02 21:52:26  \n",
        "https://github.com/TimSC/ostn02python         2013-03-04 21:54:40  \n",
        "https://github.com/DamnWidget/corepost        2012-12-08 21:58:01  \n",
        "https://github.com/tusharchandra1992/ChatGAE  2012-10-04 07:08:17  \n",
        "https://github.com//arango-python             2013-02-24 13:18:34  "
       ]
      }
     ],
     "prompt_number": 534
    },
    {
     "cell_type": "code",
     "collapsed": false,
     "input": [
      "commitsByRepoByEra.ix[sortedByCommit.index[0]]"
     ],
     "language": "python",
     "metadata": {},
     "outputs": [
      {
       "metadata": {},
       "output_type": "pyout",
       "prompt_number": 535,
       "text": [
        "pastOrFuture\n",
        "future                                    0\n",
        "past                                    648\n",
        "mostRecentPastCommit    2012-10-10 20:13:25\n",
        "Name: https://github.com/jbergantine/django-newproj, dtype: object"
       ]
      }
     ],
     "prompt_number": 535
    },
    {
     "cell_type": "code",
     "collapsed": false,
     "input": [
      "commitsByRepoByEra.sort_index(by='mostRecentPastCommit').plot(x='mostRecentPastCommit',y='future')"
     ],
     "language": "python",
     "metadata": {},
     "outputs": [
      {
       "metadata": {},
       "output_type": "pyout",
       "prompt_number": 536,
       "text": [
        "<matplotlib.axes.AxesSubplot at 0x11387a290>"
       ]
      },
      {
       "metadata": {},
       "output_type": "display_data",
       "png": "[encoded data removed]",
       "text": [
        "<matplotlib.figure.Figure at 0x11380de10>"
       ]
      }
     ],
     "prompt_number": 536
    },
    {
     "cell_type": "code",
     "collapsed": false,
     "input": [
      "q = ggplot(commitsByRepoByEra, aes(x='mostRecentPastCommit', y='future')) + geom_point()\n",
      "q += ylab('future commits')\n",
      "print q"
     ],
     "language": "python",
     "metadata": {},
     "outputs": [
      {
       "metadata": {},
       "output_type": "display_data",
       "png": "[encoded data removed]",
       "text": [
        "<matplotlib.figure.Figure at 0x112674310>"
       ]
      },
      {
       "output_type": "stream",
       "stream": "stdout",
       "text": [
        "<ggplot: (287471953)>\n"
       ]
      }
     ],
     "prompt_number": 537
    },
    {
     "cell_type": "code",
     "collapsed": false,
     "input": [
      "commitsByRepoByEra['repoPulse'] = np.where(commitsByRepoByEra['future'] == 0, 'dead', 'alive')\n",
      "commitsByRepoByEra['daysSinceLastCommit'] = [(tPresent -t).days for t in commitsByRepoByEra.mostRecentPastCommit]\n",
      "commitsByRepoByEra.head()"
     ],
     "language": "python",
     "metadata": {},
     "outputs": [
      {
       "html": [
        "<div style=\"max-height:1000px;max-width:1500px;overflow:auto;\">\n",
        "<table border=\"1\" class=\"dataframe\">\n",
        "  <thead>\n",
        "    <tr style=\"text-align: right;\">\n",
        "      <th>pastOrFuture</th>\n",
        "      <th>future</th>\n",
        "      <th>past</th>\n",
        "      <th>mostRecentPastCommit</th>\n",
        "      <th>repoPulse</th>\n",
        "      <th>daysSinceLastCommit</th>\n",
        "    </tr>\n",
        "    <tr>\n",
        "      <th>repository_url</th>\n",
        "      <th></th>\n",
        "      <th></th>\n",
        "      <th></th>\n",
        "      <th></th>\n",
        "      <th></th>\n",
        "    </tr>\n",
        "  </thead>\n",
        "  <tbody>\n",
        "    <tr>\n",
        "      <th>https://github.com/daeken/QuestCompanions</th>\n",
        "      <td> 0</td>\n",
        "      <td> 1</td>\n",
        "      <td>2012-12-02 21:52:26</td>\n",
        "      <td>  dead</td>\n",
        "      <td> 119</td>\n",
        "    </tr>\n",
        "    <tr>\n",
        "      <th>https://github.com/TimSC/ostn02python</th>\n",
        "      <td> 7</td>\n",
        "      <td> 1</td>\n",
        "      <td>2013-03-04 21:54:40</td>\n",
        "      <td> alive</td>\n",
        "      <td>  27</td>\n",
        "    </tr>\n",
        "    <tr>\n",
        "      <th>https://github.com/DamnWidget/corepost</th>\n",
        "      <td> 0</td>\n",
        "      <td> 1</td>\n",
        "      <td>2012-12-08 21:58:01</td>\n",
        "      <td>  dead</td>\n",
        "      <td> 113</td>\n",
        "    </tr>\n",
        "    <tr>\n",
        "      <th>https://github.com/tusharchandra1992/ChatGAE</th>\n",
        "      <td> 0</td>\n",
        "      <td> 1</td>\n",
        "      <td>2012-10-04 07:08:17</td>\n",
        "      <td>  dead</td>\n",
        "      <td> 178</td>\n",
        "    </tr>\n",
        "    <tr>\n",
        "      <th>https://github.com//arango-python</th>\n",
        "      <td> 0</td>\n",
        "      <td> 1</td>\n",
        "      <td>2013-02-24 13:18:34</td>\n",
        "      <td>  dead</td>\n",
        "      <td>  35</td>\n",
        "    </tr>\n",
        "  </tbody>\n",
        "</table>\n",
        "</div>"
       ],
       "metadata": {},
       "output_type": "pyout",
       "prompt_number": 538,
       "text": [
        "pastOrFuture                                  future  past  \\\n",
        "repository_url                                               \n",
        "https://github.com/daeken/QuestCompanions          0     1   \n",
        "https://github.com/TimSC/ostn02python              7     1   \n",
        "https://github.com/DamnWidget/corepost             0     1   \n",
        "https://github.com/tusharchandra1992/ChatGAE       0     1   \n",
        "https://github.com//arango-python                  0     1   \n",
        "\n",
        "pastOrFuture                                 mostRecentPastCommit repoPulse  \\\n",
        "repository_url                                                                \n",
        "https://github.com/daeken/QuestCompanions     2012-12-02 21:52:26      dead   \n",
        "https://github.com/TimSC/ostn02python         2013-03-04 21:54:40     alive   \n",
        "https://github.com/DamnWidget/corepost        2012-12-08 21:58:01      dead   \n",
        "https://github.com/tusharchandra1992/ChatGAE  2012-10-04 07:08:17      dead   \n",
        "https://github.com//arango-python             2013-02-24 13:18:34      dead   \n",
        "\n",
        "pastOrFuture                                  daysSinceLastCommit  \n",
        "repository_url                                                     \n",
        "https://github.com/daeken/QuestCompanions                     119  \n",
        "https://github.com/TimSC/ostn02python                          27  \n",
        "https://github.com/DamnWidget/corepost                        113  \n",
        "https://github.com/tusharchandra1992/ChatGAE                  178  \n",
        "https://github.com//arango-python                              35  "
       ]
      }
     ],
     "prompt_number": 538
    },
    {
     "cell_type": "code",
     "collapsed": false,
     "input": [
      "q = ggplot(commitsByRepoByEra, aes(x='daysSinceLastCommit')) + geom_bar()\n",
      "q += ylab('number of repos')\n",
      "q += facet_wrap('repoPulse')\n",
      "print q"
     ],
     "language": "python",
     "metadata": {},
     "outputs": [
      {
       "metadata": {},
       "output_type": "display_data",
       "png": "[encoded data removed]",
       "text": [
        "<matplotlib.figure.Figure at 0x114f65b50>"
       ]
      },
      {
       "output_type": "stream",
       "stream": "stdout",
       "text": [
        "<ggplot: (286744429)>\n"
       ]
      }
     ],
     "prompt_number": 548
    },
    {
     "cell_type": "code",
     "collapsed": false,
     "input": [
      "commitsByRepoByEra['log10PastCommits'] = np.log10(commitsByRepoByEra['past'])\n",
      "q = ggplot(commitsByRepoByEra, aes(x='log10PastCommits')) + geom_bar()\n",
      "q += ylab('number of repos')\n",
      "q += facet_wrap('repoPulse')\n",
      "q += xlim(0, 3)\n",
      "print q"
     ],
     "language": "python",
     "metadata": {},
     "outputs": [
      {
       "metadata": {},
       "output_type": "display_data",
       "png": "[encoded data removed]",
       "text": [
        "<matplotlib.figure.Figure at 0x114f5add0>"
       ]
      },
      {
       "output_type": "stream",
       "stream": "stdout",
       "text": [
        "<ggplot: (290413261)>\n"
       ]
      }
     ],
     "prompt_number": 552
    },
    {
     "cell_type": "code",
     "collapsed": false,
     "input": [
      "tPresent"
     ],
     "language": "python",
     "metadata": {},
     "outputs": [
      {
       "metadata": {},
       "output_type": "pyout",
       "prompt_number": 541,
       "text": [
        "Timestamp('2013-04-01 00:00:00')"
       ]
      }
     ],
     "prompt_number": 541
    },
    {
     "cell_type": "code",
     "collapsed": false,
     "input": [],
     "language": "python",
     "metadata": {},
     "outputs": [],
     "prompt_number": 544
    }
   ],
   "metadata": {}
  }
 ]
}