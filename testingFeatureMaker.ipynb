{
 "metadata": {
  "name": "",
  "signature": "sha256:1a0ff5d3956eec673e72097354a2975f86d0f430a7e56fa49d9ee6ffe6be1c29"
 },
 "nbformat": 3,
 "nbformat_minor": 0,
 "worksheets": [
  {
   "cells": [
    {
     "cell_type": "code",
     "collapsed": false,
     "input": [
      "%run featureMakers"
     ],
     "language": "python",
     "metadata": {},
     "outputs": [],
     "prompt_number": 202
    },
    {
     "cell_type": "code",
     "collapsed": false,
     "input": [
      "import pymysql as mdb\n",
      "con = mdb.connect('localhost', 'root', '', 'gitdb');"
     ],
     "language": "python",
     "metadata": {},
     "outputs": [],
     "prompt_number": 2
    },
    {
     "cell_type": "code",
     "collapsed": false,
     "input": [
      "query = \"SELECT * FROM WeeklyContributions\"\n",
      "contrib = pd.io.sql.read_sql(query, con)"
     ],
     "language": "python",
     "metadata": {},
     "outputs": [],
     "prompt_number": 3
    },
    {
     "cell_type": "code",
     "collapsed": false,
     "input": [
      "vals = contrib['week_start'].values"
     ],
     "language": "python",
     "metadata": {},
     "outputs": [],
     "prompt_number": 4
    },
    {
     "cell_type": "code",
     "collapsed": false,
     "input": [
      "setIndexToWeekStartDate(contrib)\n",
      "contrib.head()"
     ],
     "language": "python",
     "metadata": {},
     "outputs": [
      {
       "html": [
        "<div style=\"max-height:1000px;max-width:1500px;overflow:auto;\">\n",
        "<table border=\"1\" class=\"dataframe\">\n",
        "  <thead>\n",
        "    <tr style=\"text-align: right;\">\n",
        "      <th></th>\n",
        "      <th>id</th>\n",
        "      <th>author_login</th>\n",
        "      <th>repo_full_name</th>\n",
        "      <th>week_start</th>\n",
        "      <th>commits_num</th>\n",
        "      <th>additions_num</th>\n",
        "      <th>deletions_num</th>\n",
        "    </tr>\n",
        "  </thead>\n",
        "  <tbody>\n",
        "    <tr>\n",
        "      <th>2014-07-12</th>\n",
        "      <td> 1</td>\n",
        "      <td> hadley</td>\n",
        "      <td>    hadley/rvest</td>\n",
        "      <td>2014-07-12 20:00:00</td>\n",
        "      <td> 14</td>\n",
        "      <td>  519</td>\n",
        "      <td> 108</td>\n",
        "    </tr>\n",
        "    <tr>\n",
        "      <th>2014-07-19</th>\n",
        "      <td> 2</td>\n",
        "      <td> hadley</td>\n",
        "      <td>    hadley/rvest</td>\n",
        "      <td>2014-07-19 20:00:00</td>\n",
        "      <td> 14</td>\n",
        "      <td>  419</td>\n",
        "      <td>  70</td>\n",
        "    </tr>\n",
        "    <tr>\n",
        "      <th>2014-07-26</th>\n",
        "      <td> 3</td>\n",
        "      <td> hadley</td>\n",
        "      <td>    hadley/rvest</td>\n",
        "      <td>2014-07-26 20:00:00</td>\n",
        "      <td> 35</td>\n",
        "      <td> 1291</td>\n",
        "      <td> 422</td>\n",
        "    </tr>\n",
        "    <tr>\n",
        "      <th>2014-07-05</th>\n",
        "      <td> 4</td>\n",
        "      <td>   juba</td>\n",
        "      <td> juba/rmdformats</td>\n",
        "      <td>2014-07-05 20:00:00</td>\n",
        "      <td> 16</td>\n",
        "      <td> 3268</td>\n",
        "      <td>  27</td>\n",
        "    </tr>\n",
        "    <tr>\n",
        "      <th>2014-07-12</th>\n",
        "      <td> 5</td>\n",
        "      <td>   juba</td>\n",
        "      <td> juba/rmdformats</td>\n",
        "      <td>2014-07-12 20:00:00</td>\n",
        "      <td>  1</td>\n",
        "      <td>    8</td>\n",
        "      <td>   7</td>\n",
        "    </tr>\n",
        "  </tbody>\n",
        "</table>\n",
        "</div>"
       ],
       "metadata": {},
       "output_type": "pyout",
       "prompt_number": 5,
       "text": [
        "            id author_login   repo_full_name          week_start  commits_num  \\\n",
        "2014-07-12   1       hadley     hadley/rvest 2014-07-12 20:00:00           14   \n",
        "2014-07-19   2       hadley     hadley/rvest 2014-07-19 20:00:00           14   \n",
        "2014-07-26   3       hadley     hadley/rvest 2014-07-26 20:00:00           35   \n",
        "2014-07-05   4         juba  juba/rmdformats 2014-07-05 20:00:00           16   \n",
        "2014-07-12   5         juba  juba/rmdformats 2014-07-12 20:00:00            1   \n",
        "\n",
        "            additions_num  deletions_num  \n",
        "2014-07-12            519            108  \n",
        "2014-07-19            419             70  \n",
        "2014-07-26           1291            422  \n",
        "2014-07-05           3268             27  \n",
        "2014-07-12              8              7  "
       ]
      }
     ],
     "prompt_number": 5
    },
    {
     "cell_type": "code",
     "collapsed": false,
     "input": [
      "plyr = contrib[contrib['repo_full_name']=='hadley/plyr']\n",
      "hadleyPlyr = plyr[plyr['author_login'] == 'hadley']"
     ],
     "language": "python",
     "metadata": {},
     "outputs": [],
     "prompt_number": 6
    },
    {
     "cell_type": "code",
     "collapsed": false,
     "input": [
      "hadleyPlyr['commits_num'].plot()"
     ],
     "language": "python",
     "metadata": {},
     "outputs": [
      {
       "metadata": {},
       "output_type": "pyout",
       "prompt_number": 7,
       "text": [
        "<matplotlib.axes.AxesSubplot at 0x10853a310>"
       ]
      },
      {
       "metadata": {},
       "output_type": "display_data",
       "png": "[encoded data removed]",
       "text": [
        "<matplotlib.figure.Figure at 0x1077128d0>"
       ]
      }
     ],
     "prompt_number": 7
    },
    {
     "cell_type": "markdown",
     "metadata": {},
     "source": [
      "# resample to days"
     ]
    },
    {
     "cell_type": "code",
     "collapsed": false,
     "input": [
      "dailyHadleyPlyr = resampleToDays(hadleyPlyr['commits_num'])\n",
      "dailyHadleyPlyr.plot()"
     ],
     "language": "python",
     "metadata": {},
     "outputs": [
      {
       "metadata": {},
       "output_type": "pyout",
       "prompt_number": 8,
       "text": [
        "<matplotlib.axes.AxesSubplot at 0x1085aab90>"
       ]
      },
      {
       "metadata": {},
       "output_type": "display_data",
       "png": "[encoded data removed]",
       "text": [
        "<matplotlib.figure.Figure at 0x1085b5cd0>"
       ]
      }
     ],
     "prompt_number": 8
    },
    {
     "cell_type": "code",
     "collapsed": false,
     "input": [
      "dailyHadleyPlyr.sum()"
     ],
     "language": "python",
     "metadata": {},
     "outputs": [
      {
       "metadata": {},
       "output_type": "pyout",
       "prompt_number": 9,
       "text": [
        "560.00000000000091"
       ]
      }
     ],
     "prompt_number": 9
    },
    {
     "cell_type": "code",
     "collapsed": false,
     "input": [
      "hadleyPlyr['commits_num'].sum()"
     ],
     "language": "python",
     "metadata": {},
     "outputs": [
      {
       "metadata": {},
       "output_type": "pyout",
       "prompt_number": 10,
       "text": [
        "560"
       ]
      }
     ],
     "prompt_number": 10
    },
    {
     "cell_type": "code",
     "collapsed": false,
     "input": [
      "firstbit = hadleyPlyr['commits_num'].ix[:'2008-06-01']\n",
      "np.abs(firstbit.sum() - resampleToDays(firstbit).sum()) < 0.00001"
     ],
     "language": "python",
     "metadata": {},
     "outputs": [
      {
       "metadata": {},
       "output_type": "pyout",
       "prompt_number": 11,
       "text": [
        "True"
       ]
      }
     ],
     "prompt_number": 11
    },
    {
     "cell_type": "code",
     "collapsed": false,
     "input": [
      "lastbit = hadleyPlyr['commits_num'].ix['2013-10-01':]\n",
      "lastbit"
     ],
     "language": "python",
     "metadata": {},
     "outputs": [
      {
       "metadata": {},
       "output_type": "pyout",
       "prompt_number": 12,
       "text": [
        "2013-11-23    11\n",
        "2013-12-28     8\n",
        "2014-01-04     2\n",
        "2014-02-15     9\n",
        "2014-02-22     3\n",
        "Name: commits_num, dtype: int64"
       ]
      }
     ],
     "prompt_number": 12
    },
    {
     "cell_type": "code",
     "collapsed": false,
     "input": [
      "resampleToDays(lastbit).sum()"
     ],
     "language": "python",
     "metadata": {},
     "outputs": [
      {
       "metadata": {},
       "output_type": "pyout",
       "prompt_number": 13,
       "text": [
        "32.999999999999979"
       ]
      }
     ],
     "prompt_number": 13
    },
    {
     "cell_type": "code",
     "collapsed": false,
     "input": [
      "lastbit.sum()"
     ],
     "language": "python",
     "metadata": {},
     "outputs": [
      {
       "metadata": {},
       "output_type": "pyout",
       "prompt_number": 14,
       "text": [
        "33"
       ]
      }
     ],
     "prompt_number": 14
    },
    {
     "cell_type": "code",
     "collapsed": false,
     "input": [
      "weeklySum = hadleyPlyr['commits_num'].cumsum()\n",
      "dailySum = resampleToDays(hadleyPlyr['commits_num']).cumsum()"
     ],
     "language": "python",
     "metadata": {},
     "outputs": [],
     "prompt_number": 15
    },
    {
     "cell_type": "code",
     "collapsed": false,
     "input": [
      "weeklyReindexed = weeklySum.reindex(index=dailySum.index, method='ffill')\n",
      "weeklyReindexed[-1]"
     ],
     "language": "python",
     "metadata": {},
     "outputs": [
      {
       "metadata": {},
       "output_type": "pyout",
       "prompt_number": 16,
       "text": [
        "560"
       ]
      }
     ],
     "prompt_number": 16
    },
    {
     "cell_type": "code",
     "collapsed": false,
     "input": [
      "(weeklyReindexed - dailySum).plot()"
     ],
     "language": "python",
     "metadata": {},
     "outputs": [
      {
       "metadata": {},
       "output_type": "pyout",
       "prompt_number": 17,
       "text": [
        "<matplotlib.axes.AxesSubplot at 0x108cf6050>"
       ]
      },
      {
       "metadata": {},
       "output_type": "display_data",
       "png": "[encoded data removed]",
       "text": [
        "<matplotlib.figure.Figure at 0x1088e5690>"
       ]
      }
     ],
     "prompt_number": 17
    },
    {
     "cell_type": "markdown",
     "metadata": {},
     "source": [
      "# total commits in a period"
     ]
    },
    {
     "cell_type": "code",
     "collapsed": false,
     "input": [
      "defaultTref()"
     ],
     "language": "python",
     "metadata": {},
     "outputs": [
      {
       "metadata": {},
       "output_type": "pyout",
       "prompt_number": 203,
       "text": [
        "datetime.date(2014, 2, 7)"
       ]
      }
     ],
     "prompt_number": 203
    },
    {
     "cell_type": "code",
     "collapsed": false,
     "input": [
      "featureMaker = FeatureMaker(tref=defaultTref())"
     ],
     "language": "python",
     "metadata": {},
     "outputs": [],
     "prompt_number": 204
    },
    {
     "cell_type": "code",
     "collapsed": false,
     "input": [
      "featureMaker.totalInPeriodStarting(dailyHadleyPlyr)"
     ],
     "language": "python",
     "metadata": {},
     "outputs": [
      {
       "metadata": {},
       "output_type": "pyout",
       "prompt_number": 199,
       "text": [
        "12.000000000000002"
       ]
      }
     ],
     "prompt_number": 199
    },
    {
     "cell_type": "code",
     "collapsed": false,
     "input": [
      "featureMaker.totalInPeriodStarting(hadleyPlyr['commits_num'])"
     ],
     "language": "python",
     "metadata": {},
     "outputs": [
      {
       "metadata": {},
       "output_type": "pyout",
       "prompt_number": 200,
       "text": [
        "12"
       ]
      }
     ],
     "prompt_number": 200
    },
    {
     "cell_type": "markdown",
     "metadata": {},
     "source": [
      "# function to get time since last commit"
     ]
    },
    {
     "cell_type": "code",
     "collapsed": false,
     "input": [
      "dailyHadleyPlyr[dailyHadleyPlyr>0].ix[:defaultTref()].tail()"
     ],
     "language": "python",
     "metadata": {},
     "outputs": [
      {
       "metadata": {},
       "output_type": "pyout",
       "prompt_number": 22,
       "text": [
        "2014-01-06    0.285714\n",
        "2014-01-07    0.285714\n",
        "2014-01-08    0.285714\n",
        "2014-01-09    0.285714\n",
        "2014-01-10    0.285714\n",
        "Name: commits_num, dtype: float64"
       ]
      }
     ],
     "prompt_number": 22
    },
    {
     "cell_type": "code",
     "collapsed": false,
     "input": [
      "featureMaker.daysSinceLastNonZero(dailyHadleyPlyr)"
     ],
     "language": "python",
     "metadata": {},
     "outputs": [
      {
       "metadata": {},
       "output_type": "pyout",
       "prompt_number": 23,
       "text": [
        "28"
       ]
      }
     ],
     "prompt_number": 23
    },
    {
     "cell_type": "code",
     "collapsed": false,
     "input": [
      "featureMaker.mostRecentNonZero(dailyHadleyPlyr)"
     ],
     "language": "python",
     "metadata": {},
     "outputs": [
      {
       "metadata": {},
       "output_type": "pyout",
       "prompt_number": 24,
       "text": [
        "Timestamp('2014-01-10 00:00:00')"
       ]
      }
     ],
     "prompt_number": 24
    },
    {
     "cell_type": "code",
     "collapsed": false,
     "input": [
      "defaultTref()"
     ],
     "language": "python",
     "metadata": {},
     "outputs": [
      {
       "metadata": {},
       "output_type": "pyout",
       "prompt_number": 25,
       "text": [
        "datetime.date(2014, 2, 7)"
       ]
      }
     ],
     "prompt_number": 25
    },
    {
     "cell_type": "markdown",
     "metadata": {},
     "source": [
      "# commits to date"
     ]
    },
    {
     "cell_type": "code",
     "collapsed": false,
     "input": [
      "featureMaker.totalToDate(dailyHadleyPlyr)"
     ],
     "language": "python",
     "metadata": {},
     "outputs": [
      {
       "metadata": {},
       "output_type": "pyout",
       "prompt_number": 26,
       "text": [
        "548.00000000000045"
       ]
      }
     ],
     "prompt_number": 26
    },
    {
     "cell_type": "code",
     "collapsed": false,
     "input": [
      "dailyHadleyPlyr.ix[:defaultTref()].sum()"
     ],
     "language": "python",
     "metadata": {},
     "outputs": [
      {
       "metadata": {},
       "output_type": "pyout",
       "prompt_number": 27,
       "text": [
        "548.00000000000045"
       ]
      }
     ],
     "prompt_number": 27
    },
    {
     "cell_type": "code",
     "collapsed": false,
     "input": [
      "hadleyPlyr['commits_num'].ix[:defaultTref()].sum()"
     ],
     "language": "python",
     "metadata": {},
     "outputs": [
      {
       "metadata": {},
       "output_type": "pyout",
       "prompt_number": 28,
       "text": [
        "548"
       ]
      }
     ],
     "prompt_number": 28
    },
    {
     "cell_type": "markdown",
     "metadata": {},
     "source": [
      "# an aggregator"
     ]
    },
    {
     "cell_type": "code",
     "collapsed": false,
     "input": [
      "results = dict()\n",
      "basicFeatureMakers = featureMaker.makeBasicCommitsFeatureMakers()['commits_num']\n",
      "for (name, maker) in basicFeatureMakers.items():\n",
      "    results[name] = maker(dailyHadleyPlyr)\n",
      "results"
     ],
     "language": "python",
     "metadata": {},
     "outputs": [
      {
       "metadata": {},
       "output_type": "pyout",
       "prompt_number": 205,
       "text": [
        "{'daysSinceFirstCommit': 2113,\n",
        " 'daysSinceLastCommit': 28,\n",
        " 'ewmaOneMonth': 0.018607636812319205,\n",
        " 'ewmaOneYear': 0.018921193029299507,\n",
        " 'ewmaSixMonth': 0.016388396133414744,\n",
        " 'ewmaThreeMonth': 0.018735507737246727,\n",
        " 'ewmaTwoWeeks': 0.0085424578050410007,\n",
        " 'futureCommits_num': 12.000000000000002,\n",
        " 'pastCommits_num': 548.00000000000045}"
       ]
      }
     ],
     "prompt_number": 205
    },
    {
     "cell_type": "code",
     "collapsed": false,
     "input": [
      "dailyHadleyPlyr.head()"
     ],
     "language": "python",
     "metadata": {},
     "outputs": [
      {
       "metadata": {},
       "output_type": "pyout",
       "prompt_number": 30,
       "text": [
        "2008-04-26    2.142857\n",
        "2008-04-27    2.142857\n",
        "2008-04-28    2.142857\n",
        "2008-04-29    2.142857\n",
        "2008-04-30    2.142857\n",
        "Freq: D, Name: commits_num, dtype: float64"
       ]
      }
     ],
     "prompt_number": 30
    },
    {
     "cell_type": "markdown",
     "metadata": {},
     "source": [
      "## Exponentially weighted moving average"
     ]
    },
    {
     "cell_type": "code",
     "collapsed": false,
     "input": [
      "smoothed = pd.ewma(dailyHadleyPlyr, com=30*2)\n",
      "# com means center of mass, which is the same as the expected value of time"
     ],
     "language": "python",
     "metadata": {},
     "outputs": [],
     "prompt_number": 145
    },
    {
     "cell_type": "code",
     "collapsed": false,
     "input": [
      "smoothed.plot()"
     ],
     "language": "python",
     "metadata": {},
     "outputs": [
      {
       "metadata": {},
       "output_type": "pyout",
       "prompt_number": 147,
       "text": [
        "<matplotlib.axes.AxesSubplot at 0x10af099d0>"
       ]
      },
      {
       "metadata": {},
       "output_type": "display_data",
       "png": "[encoded data removed]",
       "text": [
        "<matplotlib.figure.Figure at 0x10ad9dfd0>"
       ]
      }
     ],
     "prompt_number": 147
    },
    {
     "cell_type": "code",
     "collapsed": false,
     "input": [
      "pd.ewma(pd.Series([]), com = 1).mean()"
     ],
     "language": "python",
     "metadata": {},
     "outputs": [
      {
       "metadata": {},
       "output_type": "pyout",
       "prompt_number": 150,
       "text": [
        "nan"
       ]
      }
     ],
     "prompt_number": 150
    },
    {
     "cell_type": "markdown",
     "metadata": {},
     "source": [
      "## gap finding"
     ]
    },
    {
     "cell_type": "code",
     "collapsed": false,
     "input": [
      "dailyHadleyPlyr"
     ],
     "language": "python",
     "metadata": {},
     "outputs": [
      {
       "metadata": {},
       "output_type": "pyout",
       "prompt_number": 34,
       "text": [
        "2008-04-26    2.142857\n",
        "2008-04-27    2.142857\n",
        "2008-04-28    2.142857\n",
        "2008-04-29    2.142857\n",
        "2008-04-30    2.142857\n",
        "2008-05-01    2.142857\n",
        "2008-05-02    2.142857\n",
        "2008-05-03    3.000000\n",
        "2008-05-04    3.000000\n",
        "2008-05-05    3.000000\n",
        "2008-05-06    3.000000\n",
        "2008-05-07    3.000000\n",
        "2008-05-08    3.000000\n",
        "2008-05-09    3.000000\n",
        "2008-05-10    0.142857\n",
        "...\n",
        "2014-07-27    0\n",
        "2014-07-28    0\n",
        "2014-07-29    0\n",
        "2014-07-30    0\n",
        "2014-07-31    0\n",
        "2014-08-01    0\n",
        "2014-08-02    0\n",
        "2014-08-03    0\n",
        "2014-08-04    0\n",
        "2014-08-05    0\n",
        "2014-08-06    0\n",
        "2014-08-07    0\n",
        "2014-08-08    0\n",
        "2014-08-09    0\n",
        "2014-08-10    0\n",
        "Freq: D, Name: commits_num, Length: 2298"
       ]
      }
     ],
     "prompt_number": 34
    },
    {
     "cell_type": "code",
     "collapsed": false,
     "input": [
      "series = dailyHadleyPlyr.ix[:'2008-09-01']"
     ],
     "language": "python",
     "metadata": {},
     "outputs": [],
     "prompt_number": 42
    },
    {
     "cell_type": "code",
     "collapsed": false,
     "input": [
      "series.plot()"
     ],
     "language": "python",
     "metadata": {},
     "outputs": [
      {
       "metadata": {},
       "output_type": "pyout",
       "prompt_number": 43,
       "text": [
        "<matplotlib.axes.AxesSubplot at 0x108cff750>"
       ]
      },
      {
       "metadata": {},
       "output_type": "display_data",
       "png": "[encoded data removed]",
       "text": [
        "<matplotlib.figure.Figure at 0x109169610>"
       ]
      }
     ],
     "prompt_number": 43
    },
    {
     "cell_type": "code",
     "collapsed": false,
     "input": [
      "noActivity = series == 0\n",
      "noActivity.plot()"
     ],
     "language": "python",
     "metadata": {},
     "outputs": [
      {
       "metadata": {},
       "output_type": "pyout",
       "prompt_number": 46,
       "text": [
        "<matplotlib.axes.AxesSubplot at 0x108a68ad0>"
       ]
      },
      {
       "metadata": {},
       "output_type": "display_data",
       "png": "[encoded data removed]",
       "text": [
        "<matplotlib.figure.Figure at 0x108c7dc50>"
       ]
      }
     ],
     "prompt_number": 46
    },
    {
     "cell_type": "code",
     "collapsed": false,
     "input": [
      "different_from_last = noActivity.diff()\n",
      "\n",
      "print different_from_last.shape\n",
      "print noActivity.shape\n",
      "print different_from_last[0]\n",
      "different_from_last[0] = False\n",
      "different_from_last.plot()"
     ],
     "language": "python",
     "metadata": {},
     "outputs": [
      {
       "output_type": "stream",
       "stream": "stdout",
       "text": [
        "(129,)\n",
        "(129,)\n",
        "nan\n"
       ]
      },
      {
       "metadata": {},
       "output_type": "pyout",
       "prompt_number": 58,
       "text": [
        "<matplotlib.axes.AxesSubplot at 0x109a84bd0>"
       ]
      },
      {
       "metadata": {},
       "output_type": "display_data",
       "png": "[encoded data removed]",
       "text": [
        "<matplotlib.figure.Figure at 0x109a94210>"
       ]
      }
     ],
     "prompt_number": 58
    },
    {
     "cell_type": "code",
     "collapsed": false,
     "input": [
      "gap_ends = series[~noActivity & different_from_last].index.values"
     ],
     "language": "python",
     "metadata": {},
     "outputs": [],
     "prompt_number": 74
    },
    {
     "cell_type": "code",
     "collapsed": false,
     "input": [
      "gap_ends"
     ],
     "language": "python",
     "metadata": {},
     "outputs": [
      {
       "metadata": {},
       "output_type": "pyout",
       "prompt_number": 76,
       "text": [
        "array(['2008-06-06T20:00:00.000000000-0400',\n",
        "       '2008-06-27T20:00:00.000000000-0400',\n",
        "       '2008-08-15T20:00:00.000000000-0400'], dtype='datetime64[ns]')"
       ]
      }
     ],
     "prompt_number": 76
    },
    {
     "cell_type": "code",
     "collapsed": false,
     "input": [
      "gap_starts = series[noActivity & different_from_last].index.values"
     ],
     "language": "python",
     "metadata": {},
     "outputs": [],
     "prompt_number": 77
    },
    {
     "cell_type": "code",
     "collapsed": false,
     "input": [
      "gap_starts"
     ],
     "language": "python",
     "metadata": {},
     "outputs": [
      {
       "metadata": {},
       "output_type": "pyout",
       "prompt_number": 78,
       "text": [
        "array(['2008-05-23T20:00:00.000000000-0400',\n",
        "       '2008-06-20T20:00:00.000000000-0400',\n",
        "       '2008-07-04T20:00:00.000000000-0400',\n",
        "       '2008-08-22T20:00:00.000000000-0400'], dtype='datetime64[ns]')"
       ]
      }
     ],
     "prompt_number": 78
    },
    {
     "cell_type": "code",
     "collapsed": false,
     "input": [
      "pd.Series([True, False, True])\n"
     ],
     "language": "python",
     "metadata": {},
     "outputs": [
      {
       "metadata": {},
       "output_type": "pyout",
       "prompt_number": 79,
       "text": [
        "0     True\n",
        "1    False\n",
        "2     True\n",
        "dtype: bool"
       ]
      }
     ],
     "prompt_number": 79
    },
    {
     "cell_type": "code",
     "collapsed": false,
     "input": [
      "pd.Series([True, False, True]).diff()"
     ],
     "language": "python",
     "metadata": {},
     "outputs": [
      {
       "metadata": {},
       "output_type": "pyout",
       "prompt_number": 80,
       "text": [
        "0     NaN\n",
        "1    True\n",
        "2    True\n",
        "dtype: object"
       ]
      }
     ],
     "prompt_number": 80
    },
    {
     "cell_type": "code",
     "collapsed": false,
     "input": [
      "series.index"
     ],
     "language": "python",
     "metadata": {},
     "outputs": [
      {
       "metadata": {},
       "output_type": "pyout",
       "prompt_number": 81,
       "text": [
        "<class 'pandas.tseries.index.DatetimeIndex'>\n",
        "[2008-04-26, ..., 2008-09-01]\n",
        "Length: 129, Freq: D, Timezone: None"
       ]
      }
     ],
     "prompt_number": 81
    },
    {
     "cell_type": "code",
     "collapsed": false,
     "input": [
      "gap_starts[:-1]"
     ],
     "language": "python",
     "metadata": {},
     "outputs": [
      {
       "metadata": {},
       "output_type": "pyout",
       "prompt_number": 82,
       "text": [
        "array(['2008-05-23T20:00:00.000000000-0400',\n",
        "       '2008-06-20T20:00:00.000000000-0400',\n",
        "       '2008-07-04T20:00:00.000000000-0400'], dtype='datetime64[ns]')"
       ]
      }
     ],
     "prompt_number": 82
    },
    {
     "cell_type": "code",
     "collapsed": false,
     "input": [
      "if len(gap_starts) > len(gap_ends):\n",
      "    gap_starts = gap_starts[:-1]"
     ],
     "language": "python",
     "metadata": {},
     "outputs": [],
     "prompt_number": 83
    },
    {
     "cell_type": "code",
     "collapsed": false,
     "input": [
      "gap_starts"
     ],
     "language": "python",
     "metadata": {},
     "outputs": [
      {
       "metadata": {},
       "output_type": "pyout",
       "prompt_number": 84,
       "text": [
        "array(['2008-05-23T20:00:00.000000000-0400',\n",
        "       '2008-06-20T20:00:00.000000000-0400',\n",
        "       '2008-07-04T20:00:00.000000000-0400'], dtype='datetime64[ns]')"
       ]
      }
     ],
     "prompt_number": 84
    },
    {
     "cell_type": "code",
     "collapsed": false,
     "input": [
      "x = pd.DataFrame(data={'gap_start': gap_starts, 'gap_end' : gap_ends}, index = gap_ends)"
     ],
     "language": "python",
     "metadata": {},
     "outputs": [],
     "prompt_number": 92
    },
    {
     "cell_type": "code",
     "collapsed": false,
     "input": [
      "x"
     ],
     "language": "python",
     "metadata": {},
     "outputs": [
      {
       "html": [
        "<div style=\"max-height:1000px;max-width:1500px;overflow:auto;\">\n",
        "<table border=\"1\" class=\"dataframe\">\n",
        "  <thead>\n",
        "    <tr style=\"text-align: right;\">\n",
        "      <th></th>\n",
        "      <th>gap_end</th>\n",
        "      <th>gap_start</th>\n",
        "    </tr>\n",
        "  </thead>\n",
        "  <tbody>\n",
        "    <tr>\n",
        "      <th>2008-06-07</th>\n",
        "      <td>2008-06-07</td>\n",
        "      <td>2008-05-24</td>\n",
        "    </tr>\n",
        "    <tr>\n",
        "      <th>2008-06-28</th>\n",
        "      <td>2008-06-28</td>\n",
        "      <td>2008-06-21</td>\n",
        "    </tr>\n",
        "    <tr>\n",
        "      <th>2008-08-16</th>\n",
        "      <td>2008-08-16</td>\n",
        "      <td>2008-07-05</td>\n",
        "    </tr>\n",
        "  </tbody>\n",
        "</table>\n",
        "</div>"
       ],
       "metadata": {},
       "output_type": "pyout",
       "prompt_number": 93,
       "text": [
        "              gap_end  gap_start\n",
        "2008-06-07 2008-06-07 2008-05-24\n",
        "2008-06-28 2008-06-28 2008-06-21\n",
        "2008-08-16 2008-08-16 2008-07-05"
       ]
      }
     ],
     "prompt_number": 93
    },
    {
     "cell_type": "code",
     "collapsed": false,
     "input": [
      "x['gap_length'] = x['gap_end'] - x['gap_start']"
     ],
     "language": "python",
     "metadata": {},
     "outputs": [],
     "prompt_number": 94
    },
    {
     "cell_type": "code",
     "collapsed": false,
     "input": [
      "x"
     ],
     "language": "python",
     "metadata": {},
     "outputs": [
      {
       "html": [
        "<div style=\"max-height:1000px;max-width:1500px;overflow:auto;\">\n",
        "<table border=\"1\" class=\"dataframe\">\n",
        "  <thead>\n",
        "    <tr style=\"text-align: right;\">\n",
        "      <th></th>\n",
        "      <th>gap_end</th>\n",
        "      <th>gap_start</th>\n",
        "      <th>gap_length</th>\n",
        "    </tr>\n",
        "  </thead>\n",
        "  <tbody>\n",
        "    <tr>\n",
        "      <th>2008-06-07</th>\n",
        "      <td>2008-06-07</td>\n",
        "      <td>2008-05-24</td>\n",
        "      <td>14 days</td>\n",
        "    </tr>\n",
        "    <tr>\n",
        "      <th>2008-06-28</th>\n",
        "      <td>2008-06-28</td>\n",
        "      <td>2008-06-21</td>\n",
        "      <td> 7 days</td>\n",
        "    </tr>\n",
        "    <tr>\n",
        "      <th>2008-08-16</th>\n",
        "      <td>2008-08-16</td>\n",
        "      <td>2008-07-05</td>\n",
        "      <td>42 days</td>\n",
        "    </tr>\n",
        "  </tbody>\n",
        "</table>\n",
        "</div>"
       ],
       "metadata": {},
       "output_type": "pyout",
       "prompt_number": 95,
       "text": [
        "              gap_end  gap_start  gap_length\n",
        "2008-06-07 2008-06-07 2008-05-24     14 days\n",
        "2008-06-28 2008-06-28 2008-06-21      7 days\n",
        "2008-08-16 2008-08-16 2008-07-05     42 days"
       ]
      }
     ],
     "prompt_number": 95
    },
    {
     "cell_type": "code",
     "collapsed": false,
     "input": [
      "x['gap_length'].mean()"
     ],
     "language": "python",
     "metadata": {},
     "outputs": [
      {
       "metadata": {},
       "output_type": "pyout",
       "prompt_number": 96,
       "text": [
        "0   21 days\n",
        "dtype: timedelta64[ns]"
       ]
      }
     ],
     "prompt_number": 96
    },
    {
     "cell_type": "code",
     "collapsed": false,
     "input": [
      "%run gapFinder.py"
     ],
     "language": "python",
     "metadata": {},
     "outputs": [],
     "prompt_number": 100
    },
    {
     "cell_type": "code",
     "collapsed": false,
     "input": [
      "stats = get_ZeroRuns(dailyHadleyPlyr)"
     ],
     "language": "python",
     "metadata": {},
     "outputs": [],
     "prompt_number": 102
    },
    {
     "cell_type": "code",
     "collapsed": false,
     "input": [
      "stats['gap_length'].head()"
     ],
     "language": "python",
     "metadata": {},
     "outputs": [
      {
       "metadata": {},
       "output_type": "pyout",
       "prompt_number": 195,
       "text": [
        "gap_end\n",
        "2008-06-07   14 days\n",
        "2008-06-28    7 days\n",
        "2008-08-16   42 days\n",
        "2008-09-13   21 days\n",
        "2008-10-04    7 days\n",
        "Name: gap_length, dtype: timedelta64[ns]"
       ]
      }
     ],
     "prompt_number": 195
    },
    {
     "cell_type": "code",
     "collapsed": false,
     "input": [
      "allAuthorsCommits = plyr['commits_num'].groupby(level=0).aggregate(np.sum)"
     ],
     "language": "python",
     "metadata": {},
     "outputs": [],
     "prompt_number": 134
    },
    {
     "cell_type": "code",
     "collapsed": false,
     "input": [
      "resampleToDays(allAuthorsCommits).plot()"
     ],
     "language": "python",
     "metadata": {},
     "outputs": [
      {
       "metadata": {},
       "output_type": "pyout",
       "prompt_number": 135,
       "text": [
        "<matplotlib.axes.AxesSubplot at 0x10a83b890>"
       ]
      },
      {
       "metadata": {},
       "output_type": "display_data",
       "png": "[encoded data removed]",
       "text": [
        "<matplotlib.figure.Figure at 0x10aa73690>"
       ]
      }
     ],
     "prompt_number": 135
    },
    {
     "cell_type": "code",
     "collapsed": false,
     "input": [
      "dailyHadleyPlyr.plot()"
     ],
     "language": "python",
     "metadata": {},
     "outputs": [
      {
       "metadata": {},
       "output_type": "pyout",
       "prompt_number": 113,
       "text": [
        "<matplotlib.axes.AxesSubplot at 0x109f8c390>"
       ]
      },
      {
       "metadata": {},
       "output_type": "display_data",
       "png": "[encoded data removed]",
       "text": [
        "<matplotlib.figure.Figure at 0x109f09650>"
       ]
      }
     ],
     "prompt_number": 113
    },
    {
     "cell_type": "code",
     "collapsed": false,
     "input": [
      "k =x.gap_length.values[0]"
     ],
     "language": "python",
     "metadata": {},
     "outputs": [],
     "prompt_number": 117
    },
    {
     "cell_type": "code",
     "collapsed": false,
     "input": [
      "k"
     ],
     "language": "python",
     "metadata": {},
     "outputs": [
      {
       "metadata": {},
       "output_type": "pyout",
       "prompt_number": 118,
       "text": [
        "numpy.timedelta64(1209600000000000,'ns')"
       ]
      }
     ],
     "prompt_number": 118
    },
    {
     "cell_type": "code",
     "collapsed": false,
     "input": [
      "k.to_days"
     ],
     "language": "python",
     "metadata": {},
     "outputs": [
      {
       "ename": "AttributeError",
       "evalue": "'numpy.timedelta64' object has no attribute 'to_days'",
       "output_type": "pyerr",
       "traceback": [
        "\u001b[0;31m---------------------------------------------------------------------------\u001b[0m\n\u001b[0;31mAttributeError\u001b[0m                            Traceback (most recent call last)",
        "\u001b[0;32m<ipython-input-122-6b0b0b8120f2>\u001b[0m in \u001b[0;36m<module>\u001b[0;34m()\u001b[0m\n\u001b[0;32m----> 1\u001b[0;31m \u001b[0mk\u001b[0m\u001b[0;34m.\u001b[0m\u001b[0mto_days\u001b[0m\u001b[0;34m\u001b[0m\u001b[0m\n\u001b[0m",
        "\u001b[0;31mAttributeError\u001b[0m: 'numpy.timedelta64' object has no attribute 'to_days'"
       ]
      }
     ],
     "prompt_number": 122
    },
    {
     "cell_type": "code",
     "collapsed": false,
     "input": [
      "z = pd.to_timedelta(k)"
     ],
     "language": "python",
     "metadata": {},
     "outputs": [],
     "prompt_number": 128
    },
    {
     "cell_type": "code",
     "collapsed": false,
     "input": [
      "z."
     ],
     "language": "python",
     "metadata": {},
     "outputs": [
      {
       "ename": "AttributeError",
       "evalue": "'numpy.timedelta64' object has no attribute 'days'",
       "output_type": "pyerr",
       "traceback": [
        "\u001b[0;31m---------------------------------------------------------------------------\u001b[0m\n\u001b[0;31mAttributeError\u001b[0m                            Traceback (most recent call last)",
        "\u001b[0;32m<ipython-input-133-38b3d4bb05da>\u001b[0m in \u001b[0;36m<module>\u001b[0;34m()\u001b[0m\n\u001b[0;32m----> 1\u001b[0;31m \u001b[0mz\u001b[0m\u001b[0;34m.\u001b[0m\u001b[0mdays\u001b[0m\u001b[0;34m(\u001b[0m\u001b[0;34m)\u001b[0m\u001b[0;34m\u001b[0m\u001b[0m\n\u001b[0m",
        "\u001b[0;31mAttributeError\u001b[0m: 'numpy.timedelta64' object has no attribute 'days'"
       ]
      }
     ],
     "prompt_number": 133
    },
    {
     "cell_type": "code",
     "collapsed": false,
     "input": [
      "%run featureMakers.py"
     ],
     "language": "python",
     "metadata": {},
     "outputs": [],
     "prompt_number": 176
    },
    {
     "cell_type": "code",
     "collapsed": false,
     "input": [
      "fm = FeatureMaker(tref=defaultTref())"
     ],
     "language": "python",
     "metadata": {},
     "outputs": [],
     "prompt_number": 177
    },
    {
     "cell_type": "code",
     "collapsed": false,
     "input": [
      "fm.makeGapsFeature(plyr).head()"
     ],
     "language": "python",
     "metadata": {},
     "outputs": [
      {
       "html": [
        "<div style=\"max-height:1000px;max-width:1500px;overflow:auto;\">\n",
        "<table border=\"1\" class=\"dataframe\">\n",
        "  <thead>\n",
        "    <tr style=\"text-align: right;\">\n",
        "      <th></th>\n",
        "      <th>gap_end</th>\n",
        "      <th>gap_start</th>\n",
        "      <th>gap_length_days</th>\n",
        "    </tr>\n",
        "    <tr>\n",
        "      <th>gap_end</th>\n",
        "      <th></th>\n",
        "      <th></th>\n",
        "      <th></th>\n",
        "    </tr>\n",
        "  </thead>\n",
        "  <tbody>\n",
        "    <tr>\n",
        "      <th>2008-06-07</th>\n",
        "      <td>2008-06-07</td>\n",
        "      <td>2008-05-24</td>\n",
        "      <td> 14</td>\n",
        "    </tr>\n",
        "    <tr>\n",
        "      <th>2008-06-28</th>\n",
        "      <td>2008-06-28</td>\n",
        "      <td>2008-06-21</td>\n",
        "      <td>  7</td>\n",
        "    </tr>\n",
        "    <tr>\n",
        "      <th>2008-08-16</th>\n",
        "      <td>2008-08-16</td>\n",
        "      <td>2008-07-05</td>\n",
        "      <td> 42</td>\n",
        "    </tr>\n",
        "    <tr>\n",
        "      <th>2008-09-13</th>\n",
        "      <td>2008-09-13</td>\n",
        "      <td>2008-08-23</td>\n",
        "      <td> 21</td>\n",
        "    </tr>\n",
        "    <tr>\n",
        "      <th>2008-10-04</th>\n",
        "      <td>2008-10-04</td>\n",
        "      <td>2008-09-27</td>\n",
        "      <td>  7</td>\n",
        "    </tr>\n",
        "  </tbody>\n",
        "</table>\n",
        "</div>"
       ],
       "metadata": {},
       "output_type": "pyout",
       "prompt_number": 180,
       "text": [
        "              gap_end  gap_start  gap_length_days\n",
        "gap_end                                          \n",
        "2008-06-07 2008-06-07 2008-05-24               14\n",
        "2008-06-28 2008-06-28 2008-06-21                7\n",
        "2008-08-16 2008-08-16 2008-07-05               42\n",
        "2008-09-13 2008-09-13 2008-08-23               21\n",
        "2008-10-04 2008-10-04 2008-09-27                7"
       ]
      }
     ],
     "prompt_number": 180
    },
    {
     "cell_type": "code",
     "collapsed": false,
     "input": [
      "gaps = get_ZeroRuns(resampleToDays(allAuthorsCommits))\n",
      "gaps.head()"
     ],
     "language": "python",
     "metadata": {},
     "outputs": [
      {
       "html": [
        "<div style=\"max-height:1000px;max-width:1500px;overflow:auto;\">\n",
        "<table border=\"1\" class=\"dataframe\">\n",
        "  <thead>\n",
        "    <tr style=\"text-align: right;\">\n",
        "      <th></th>\n",
        "      <th>gap_end</th>\n",
        "      <th>gap_start</th>\n",
        "      <th>gap_length_days</th>\n",
        "    </tr>\n",
        "    <tr>\n",
        "      <th>gap_end</th>\n",
        "      <th></th>\n",
        "      <th></th>\n",
        "      <th></th>\n",
        "    </tr>\n",
        "  </thead>\n",
        "  <tbody>\n",
        "    <tr>\n",
        "      <th>2008-06-07</th>\n",
        "      <td>2008-06-07</td>\n",
        "      <td>2008-05-24</td>\n",
        "      <td> 14</td>\n",
        "    </tr>\n",
        "    <tr>\n",
        "      <th>2008-06-28</th>\n",
        "      <td>2008-06-28</td>\n",
        "      <td>2008-06-21</td>\n",
        "      <td>  7</td>\n",
        "    </tr>\n",
        "    <tr>\n",
        "      <th>2008-08-16</th>\n",
        "      <td>2008-08-16</td>\n",
        "      <td>2008-07-05</td>\n",
        "      <td> 42</td>\n",
        "    </tr>\n",
        "    <tr>\n",
        "      <th>2008-09-13</th>\n",
        "      <td>2008-09-13</td>\n",
        "      <td>2008-08-23</td>\n",
        "      <td> 21</td>\n",
        "    </tr>\n",
        "    <tr>\n",
        "      <th>2008-10-04</th>\n",
        "      <td>2008-10-04</td>\n",
        "      <td>2008-09-27</td>\n",
        "      <td>  7</td>\n",
        "    </tr>\n",
        "  </tbody>\n",
        "</table>\n",
        "</div>"
       ],
       "metadata": {},
       "output_type": "pyout",
       "prompt_number": 181,
       "text": [
        "              gap_end  gap_start  gap_length_days\n",
        "gap_end                                          \n",
        "2008-06-07 2008-06-07 2008-05-24               14\n",
        "2008-06-28 2008-06-28 2008-06-21                7\n",
        "2008-08-16 2008-08-16 2008-07-05               42\n",
        "2008-09-13 2008-09-13 2008-08-23               21\n",
        "2008-10-04 2008-10-04 2008-09-27                7"
       ]
      }
     ],
     "prompt_number": 181
    },
    {
     "cell_type": "code",
     "collapsed": false,
     "input": [
      "toplot = gaps['gap_length_days']\n",
      "\n",
      "gaps['gap_length_days'].reindex(index=arange(len(gaps['gap_length_days']))).plot(kind='bar')"
     ],
     "language": "python",
     "metadata": {},
     "outputs": [
      {
       "metadata": {},
       "output_type": "pyout",
       "prompt_number": 185,
       "text": [
        "<matplotlib.axes.AxesSubplot at 0x10b438b10>"
       ]
      },
      {
       "metadata": {},
       "output_type": "display_data",
       "png": "[encoded data removed]",
       "text": [
        "<matplotlib.figure.Figure at 0x10b443150>"
       ]
      }
     ],
     "prompt_number": 185
    },
    {
     "cell_type": "code",
     "collapsed": false,
     "input": [
      "x"
     ],
     "language": "python",
     "metadata": {},
     "outputs": [
      {
       "html": [
        "<div style=\"max-height:1000px;max-width:1500px;overflow:auto;\">\n",
        "<table border=\"1\" class=\"dataframe\">\n",
        "  <thead>\n",
        "    <tr style=\"text-align: right;\">\n",
        "      <th></th>\n",
        "      <th>gap_end</th>\n",
        "      <th>gap_start</th>\n",
        "      <th>gap_length</th>\n",
        "    </tr>\n",
        "  </thead>\n",
        "  <tbody>\n",
        "    <tr>\n",
        "      <th>2008-06-07</th>\n",
        "      <td>2008-06-07</td>\n",
        "      <td>2008-05-24</td>\n",
        "      <td>14 days</td>\n",
        "    </tr>\n",
        "    <tr>\n",
        "      <th>2008-06-28</th>\n",
        "      <td>2008-06-28</td>\n",
        "      <td>2008-06-21</td>\n",
        "      <td> 7 days</td>\n",
        "    </tr>\n",
        "    <tr>\n",
        "      <th>2008-08-16</th>\n",
        "      <td>2008-08-16</td>\n",
        "      <td>2008-07-05</td>\n",
        "      <td>42 days</td>\n",
        "    </tr>\n",
        "  </tbody>\n",
        "</table>\n",
        "</div>"
       ],
       "metadata": {},
       "output_type": "pyout",
       "prompt_number": 151,
       "text": [
        "              gap_end  gap_start  gap_length\n",
        "2008-06-07 2008-06-07 2008-05-24     14 days\n",
        "2008-06-28 2008-06-28 2008-06-21      7 days\n",
        "2008-08-16 2008-08-16 2008-07-05     42 days"
       ]
      }
     ],
     "prompt_number": 151
    },
    {
     "cell_type": "code",
     "collapsed": false,
     "input": [
      "import datetime"
     ],
     "language": "python",
     "metadata": {},
     "outputs": [],
     "prompt_number": 152
    },
    {
     "cell_type": "code",
     "collapsed": false,
     "input": [
      "z = datetime.timedelta(3)"
     ],
     "language": "python",
     "metadata": {},
     "outputs": [],
     "prompt_number": 153
    },
    {
     "cell_type": "code",
     "collapsed": false,
     "input": [
      "z = pd.to_numeric(x['gap_length'].values[0])"
     ],
     "language": "python",
     "metadata": {},
     "outputs": [
      {
       "ename": "AttributeError",
       "evalue": "'module' object has no attribute 'to_numeric'",
       "output_type": "pyerr",
       "traceback": [
        "\u001b[0;31m---------------------------------------------------------------------------\u001b[0m\n\u001b[0;31mAttributeError\u001b[0m                            Traceback (most recent call last)",
        "\u001b[0;32m<ipython-input-167-3bec8ce4934c>\u001b[0m in \u001b[0;36m<module>\u001b[0;34m()\u001b[0m\n\u001b[0;32m----> 1\u001b[0;31m \u001b[0mz\u001b[0m \u001b[0;34m=\u001b[0m \u001b[0mpd\u001b[0m\u001b[0;34m.\u001b[0m\u001b[0mto_numeric\u001b[0m\u001b[0;34m(\u001b[0m\u001b[0mx\u001b[0m\u001b[0;34m[\u001b[0m\u001b[0;34m'gap_length'\u001b[0m\u001b[0;34m]\u001b[0m\u001b[0;34m.\u001b[0m\u001b[0mvalues\u001b[0m\u001b[0;34m[\u001b[0m\u001b[0;36m0\u001b[0m\u001b[0;34m]\u001b[0m\u001b[0;34m)\u001b[0m\u001b[0;34m\u001b[0m\u001b[0m\n\u001b[0m",
        "\u001b[0;31mAttributeError\u001b[0m: 'module' object has no attribute 'to_numeric'"
       ]
      }
     ],
     "prompt_number": 167
    },
    {
     "cell_type": "code",
     "collapsed": false,
     "input": [
      "z.astype(np.float64)"
     ],
     "language": "python",
     "metadata": {},
     "outputs": [
      {
       "metadata": {},
       "output_type": "pyout",
       "prompt_number": 170,
       "text": [
        "1209600000000000.0"
       ]
      }
     ],
     "prompt_number": 170
    },
    {
     "cell_type": "code",
     "collapsed": false,
     "input": [
      "x['gap_length'].values.astype(np.float64) / (10**9 * 3600 * 24)"
     ],
     "language": "python",
     "metadata": {},
     "outputs": [
      {
       "metadata": {},
       "output_type": "pyout",
       "prompt_number": 172,
       "text": [
        "array([ 14.,   7.,  42.])"
       ]
      }
     ],
     "prompt_number": 172
    },
    {
     "cell_type": "code",
     "collapsed": false,
     "input": [
      "k = plyr.groupby('author_login').apply(lambda x: resampleToDays(x['commits_num']))"
     ],
     "language": "python",
     "metadata": {},
     "outputs": [],
     "prompt_number": 212
    },
    {
     "cell_type": "code",
     "collapsed": false,
     "input": [
      "k.index"
     ],
     "language": "python",
     "metadata": {},
     "outputs": [
      {
       "metadata": {},
       "output_type": "pyout",
       "prompt_number": 215,
       "text": [
        "MultiIndex(levels=[[u'baptiste', u'crowding', u'froh', u'hadley', u'jiho', u'jimhester', u'krlmlr', u'richierocks', u'scottko', u'strongh', u'tbates', u'tjmahr', u'wch', u'wibeasley'], [2008-04-26 00:00:00, 2008-04-27 00:00:00, 2008-04-28 00:00:00, 2008-04-29 00:00:00, 2008-04-30 00:00:00, 2008-05-01 00:00:00, 2008-05-02 00:00:00, 2008-05-03 00:00:00, 2008-05-04 00:00:00, 2008-05-05 00:00:00, 2008-05-06 00:00:00, 2008-05-07 00:00:00, 2008-05-08 00:00:00, 2008-05-09 00:00:00, 2008-05-10 00:00:00, 2008-05-11 00:00:00, 2008-05-12 00:00:00, 2008-05-13 00:00:00, 2008-05-14 00:00:00, 2008-05-15 00:00:00, 2008-05-16 00:00:00, 2008-05-17 00:00:00, 2008-05-18 00:00:00, 2008-05-19 00:00:00, 2008-05-20 00:00:00, 2008-05-21 00:00:00, 2008-05-22 00:00:00, 2008-05-23 00:00:00, 2008-05-24 00:00:00, 2008-05-25 00:00:00, 2008-05-26 00:00:00, 2008-05-27 00:00:00, 2008-05-28 00:00:00, 2008-05-29 00:00:00, 2008-05-30 00:00:00, 2008-05-31 00:00:00, 2008-06-01 00:00:00, 2008-06-02 00:00:00, 2008-06-03 00:00:00, 2008-06-04 00:00:00, 2008-06-05 00:00:00, 2008-06-06 00:00:00, 2008-06-07 00:00:00, 2008-06-08 00:00:00, 2008-06-09 00:00:00, 2008-06-10 00:00:00, 2008-06-11 00:00:00, 2008-06-12 00:00:00, 2008-06-13 00:00:00, 2008-06-14 00:00:00, 2008-06-15 00:00:00, 2008-06-16 00:00:00, 2008-06-17 00:00:00, 2008-06-18 00:00:00, 2008-06-19 00:00:00, 2008-06-20 00:00:00, 2008-06-21 00:00:00, 2008-06-22 00:00:00, 2008-06-23 00:00:00, 2008-06-24 00:00:00, 2008-06-25 00:00:00, 2008-06-26 00:00:00, 2008-06-27 00:00:00, 2008-06-28 00:00:00, 2008-06-29 00:00:00, 2008-06-30 00:00:00, 2008-07-01 00:00:00, 2008-07-02 00:00:00, 2008-07-03 00:00:00, 2008-07-04 00:00:00, 2008-07-05 00:00:00, 2008-07-06 00:00:00, 2008-07-07 00:00:00, 2008-07-08 00:00:00, 2008-07-09 00:00:00, 2008-07-10 00:00:00, 2008-07-11 00:00:00, 2008-07-12 00:00:00, 2008-07-13 00:00:00, 2008-07-14 00:00:00, 2008-07-15 00:00:00, 2008-07-16 00:00:00, 2008-07-17 00:00:00, 2008-07-18 00:00:00, 2008-07-19 00:00:00, 2008-07-20 00:00:00, 2008-07-21 00:00:00, 2008-07-22 00:00:00, 2008-07-23 00:00:00, 2008-07-24 00:00:00, 2008-07-25 00:00:00, 2008-07-26 00:00:00, 2008-07-27 00:00:00, 2008-07-28 00:00:00, 2008-07-29 00:00:00, 2008-07-30 00:00:00, 2008-07-31 00:00:00, 2008-08-01 00:00:00, 2008-08-02 00:00:00, 2008-08-03 00:00:00, ...]],\n",
        "           labels=[[0, 0, 0, 0, 0, 0, 0, 0, 0, 0, 0, 0, 0, 0, 0, 0, 0, 0, 0, 0, 0, 0, 0, 0, 0, 0, 0, 0, 0, 0, 0, 0, 0, 0, 0, 0, 0, 0, 0, 0, 0, 0, 0, 0, 0, 0, 0, 0, 0, 0, 0, 0, 0, 0, 0, 0, 0, 0, 0, 0, 0, 0, 0, 0, 0, 0, 0, 0, 0, 0, 0, 0, 0, 0, 0, 0, 0, 0, 0, 0, 0, 0, 0, 0, 0, 0, 0, 0, 0, 0, 0, 0, 0, 0, 0, 0, 0, 0, 0, 0, ...], [2107, 2108, 2109, 2110, 2111, 2112, 2113, 2114, 2115, 2116, 2117, 2118, 2119, 2120, 2121, 2122, 2123, 2124, 2125, 2126, 2127, 2128, 2129, 2130, 2131, 2132, 2133, 2134, 2135, 2136, 2137, 2138, 2139, 2140, 2141, 2142, 2143, 2144, 2145, 2146, 2147, 2148, 2149, 2150, 2151, 2152, 2153, 2154, 2155, 2156, 2157, 2158, 2159, 2160, 2161, 2162, 2163, 2164, 2165, 2166, 2167, 2168, 2169, 2170, 2171, 2172, 2173, 2174, 2175, 2176, 2177, 2178, 2179, 2180, 2181, 2182, 2183, 2184, 2185, 2186, 2187, 2188, 2189, 2190, 2191, 2192, 2193, 2194, 2195, 2196, 2197, 2198, 2199, 2200, 2201, 2202, 2203, 2204, 2205, 2206, ...]],\n",
        "           names=[u'author_login', None])"
       ]
      }
     ],
     "prompt_number": 215
    },
    {
     "cell_type": "code",
     "collapsed": false,
     "input": [
      "plyr.groupby('author_login').apply"
     ],
     "language": "python",
     "metadata": {},
     "outputs": []
    },
    {
     "cell_type": "code",
     "collapsed": false,
     "input": [
      "z = featureMaker.makeByAuthorFeatures(plyr)"
     ],
     "language": "python",
     "metadata": {},
     "outputs": [],
     "prompt_number": 206
    },
    {
     "cell_type": "code",
     "collapsed": false,
     "input": [
      "z"
     ],
     "language": "python",
     "metadata": {},
     "outputs": [
      {
       "html": [
        "<div style=\"max-height:1000px;max-width:1500px;overflow:auto;\">\n",
        "<table border=\"1\" class=\"dataframe\">\n",
        "  <thead>\n",
        "    <tr style=\"text-align: right;\">\n",
        "      <th></th>\n",
        "      <th>ewmaOneMonth</th>\n",
        "      <th>futureCommits_num</th>\n",
        "      <th>pastCommits_num</th>\n",
        "      <th>daysSinceLastCommit</th>\n",
        "      <th>daysSinceFirstCommit</th>\n",
        "      <th>ewmaSixMonth</th>\n",
        "      <th>ewmaThreeMonth</th>\n",
        "      <th>ewmaTwoWeeks</th>\n",
        "      <th>ewmaOneYear</th>\n",
        "    </tr>\n",
        "    <tr>\n",
        "      <th>author_login</th>\n",
        "      <th></th>\n",
        "      <th></th>\n",
        "      <th></th>\n",
        "      <th></th>\n",
        "      <th></th>\n",
        "      <th></th>\n",
        "      <th></th>\n",
        "      <th></th>\n",
        "      <th></th>\n",
        "    </tr>\n",
        "  </thead>\n",
        "  <tbody>\n",
        "    <tr>\n",
        "      <th>baptiste</th>\n",
        "      <td> 2.857143e-01</td>\n",
        "      <td>  0</td>\n",
        "      <td>   2</td>\n",
        "      <td>    6</td>\n",
        "      <td>    6</td>\n",
        "      <td> 0.285714</td>\n",
        "      <td> 0.285714</td>\n",
        "      <td> 2.857143e-01</td>\n",
        "      <td> 0.285714</td>\n",
        "    </tr>\n",
        "    <tr>\n",
        "      <th>crowding</th>\n",
        "      <td> 1.206144e-02</td>\n",
        "      <td>  1</td>\n",
        "      <td>  37</td>\n",
        "      <td>   41</td>\n",
        "      <td>  517</td>\n",
        "      <td> 0.051835</td>\n",
        "      <td> 0.038647</td>\n",
        "      <td> 4.910522e-03</td>\n",
        "      <td> 0.060002</td>\n",
        "    </tr>\n",
        "    <tr>\n",
        "      <th>froh</th>\n",
        "      <td> 1.773345e-17</td>\n",
        "      <td>  0</td>\n",
        "      <td>   2</td>\n",
        "      <td> 1077</td>\n",
        "      <td> 1154</td>\n",
        "      <td> 0.000024</td>\n",
        "      <td> 0.000000</td>\n",
        "      <td> 4.463432e-34</td>\n",
        "      <td> 0.000273</td>\n",
        "    </tr>\n",
        "    <tr>\n",
        "      <th>hadley</th>\n",
        "      <td> 1.302535e-01</td>\n",
        "      <td> 12</td>\n",
        "      <td> 548</td>\n",
        "      <td>   34</td>\n",
        "      <td> 2113</td>\n",
        "      <td> 0.114719</td>\n",
        "      <td> 0.131149</td>\n",
        "      <td> 5.979720e-02</td>\n",
        "      <td> 0.132448</td>\n",
        "    </tr>\n",
        "    <tr>\n",
        "      <th>jiho</th>\n",
        "      <td> 2.505343e-12</td>\n",
        "      <td>  0</td>\n",
        "      <td>   2</td>\n",
        "      <td>  713</td>\n",
        "      <td> 1049</td>\n",
        "      <td> 0.000125</td>\n",
        "      <td> 0.000004</td>\n",
        "      <td> 3.582172e-23</td>\n",
        "      <td> 0.000581</td>\n",
        "    </tr>\n",
        "    <tr>\n",
        "      <th>jimhester</th>\n",
        "      <td> 8.021556e-10</td>\n",
        "      <td>  0</td>\n",
        "      <td>   2</td>\n",
        "      <td>  552</td>\n",
        "      <td>  566</td>\n",
        "      <td> 0.000531</td>\n",
        "      <td> 0.000047</td>\n",
        "      <td> 3.298420e-18</td>\n",
        "      <td> 0.001515</td>\n",
        "    </tr>\n",
        "    <tr>\n",
        "      <th>krlmlr</th>\n",
        "      <td> 9.452902e-02</td>\n",
        "      <td>  3</td>\n",
        "      <td>  14</td>\n",
        "      <td>   34</td>\n",
        "      <td>  328</td>\n",
        "      <td> 0.053650</td>\n",
        "      <td> 0.069212</td>\n",
        "      <td> 6.346476e-02</td>\n",
        "      <td> 0.046872</td>\n",
        "    </tr>\n",
        "    <tr>\n",
        "      <th>richierocks</th>\n",
        "      <td> 1.131375e-04</td>\n",
        "      <td>  0</td>\n",
        "      <td>   3</td>\n",
        "      <td>  209</td>\n",
        "      <td>  209</td>\n",
        "      <td> 0.007700</td>\n",
        "      <td> 0.003754</td>\n",
        "      <td> 1.357477e-07</td>\n",
        "      <td> 0.010674</td>\n",
        "    </tr>\n",
        "    <tr>\n",
        "      <th>scottko</th>\n",
        "      <td> 8.127415e-16</td>\n",
        "      <td>  0</td>\n",
        "      <td>   1</td>\n",
        "      <td>  958</td>\n",
        "      <td>  958</td>\n",
        "      <td> 0.000028</td>\n",
        "      <td> 0.000000</td>\n",
        "      <td> 1.633641e-30</td>\n",
        "      <td> 0.000216</td>\n",
        "    </tr>\n",
        "    <tr>\n",
        "      <th>strongh</th>\n",
        "      <td> 1.085577e-18</td>\n",
        "      <td>  0</td>\n",
        "      <td>   6</td>\n",
        "      <td> 1210</td>\n",
        "      <td> 1217</td>\n",
        "      <td> 0.000040</td>\n",
        "      <td> 0.000000</td>\n",
        "      <td> 2.053630e-37</td>\n",
        "      <td> 0.000618</td>\n",
        "    </tr>\n",
        "    <tr>\n",
        "      <th>tbates</th>\n",
        "      <td> 1.173205e-13</td>\n",
        "      <td>  0</td>\n",
        "      <td>  14</td>\n",
        "      <td>  881</td>\n",
        "      <td>  909</td>\n",
        "      <td> 0.000579</td>\n",
        "      <td> 0.000009</td>\n",
        "      <td> 3.329725e-27</td>\n",
        "      <td> 0.003705</td>\n",
        "    </tr>\n",
        "    <tr>\n",
        "      <th>tjmahr</th>\n",
        "      <td> 2.398130e-06</td>\n",
        "      <td>  0</td>\n",
        "      <td>   1</td>\n",
        "      <td>  293</td>\n",
        "      <td>  293</td>\n",
        "      <td> 0.001379</td>\n",
        "      <td> 0.000464</td>\n",
        "      <td> 1.376259e-10</td>\n",
        "      <td> 0.002236</td>\n",
        "    </tr>\n",
        "    <tr>\n",
        "      <th>wch</th>\n",
        "      <td> 9.384254e-03</td>\n",
        "      <td>  0</td>\n",
        "      <td>  19</td>\n",
        "      <td>   83</td>\n",
        "      <td>  734</td>\n",
        "      <td> 0.019125</td>\n",
        "      <td> 0.018777</td>\n",
        "      <td> 1.079039e-03</td>\n",
        "      <td> 0.021197</td>\n",
        "    </tr>\n",
        "    <tr>\n",
        "      <th>wibeasley</th>\n",
        "      <td> 3.083439e-09</td>\n",
        "      <td>  0</td>\n",
        "      <td>   1</td>\n",
        "      <td>  496</td>\n",
        "      <td>  496</td>\n",
        "      <td> 0.000384</td>\n",
        "      <td> 0.000048</td>\n",
        "      <td> 1.138062e-16</td>\n",
        "      <td> 0.000954</td>\n",
        "    </tr>\n",
        "  </tbody>\n",
        "</table>\n",
        "</div>"
       ],
       "metadata": {},
       "output_type": "pyout",
       "prompt_number": 207,
       "text": [
        "              ewmaOneMonth  futureCommits_num  pastCommits_num  \\\n",
        "author_login                                                     \n",
        "baptiste      2.857143e-01                  0                2   \n",
        "crowding      1.206144e-02                  1               37   \n",
        "froh          1.773345e-17                  0                2   \n",
        "hadley        1.302535e-01                 12              548   \n",
        "jiho          2.505343e-12                  0                2   \n",
        "jimhester     8.021556e-10                  0                2   \n",
        "krlmlr        9.452902e-02                  3               14   \n",
        "richierocks   1.131375e-04                  0                3   \n",
        "scottko       8.127415e-16                  0                1   \n",
        "strongh       1.085577e-18                  0                6   \n",
        "tbates        1.173205e-13                  0               14   \n",
        "tjmahr        2.398130e-06                  0                1   \n",
        "wch           9.384254e-03                  0               19   \n",
        "wibeasley     3.083439e-09                  0                1   \n",
        "\n",
        "              daysSinceLastCommit  daysSinceFirstCommit  ewmaSixMonth  \\\n",
        "author_login                                                            \n",
        "baptiste                        6                     6      0.285714   \n",
        "crowding                       41                   517      0.051835   \n",
        "froh                         1077                  1154      0.000024   \n",
        "hadley                         34                  2113      0.114719   \n",
        "jiho                          713                  1049      0.000125   \n",
        "jimhester                     552                   566      0.000531   \n",
        "krlmlr                         34                   328      0.053650   \n",
        "richierocks                   209                   209      0.007700   \n",
        "scottko                       958                   958      0.000028   \n",
        "strongh                      1210                  1217      0.000040   \n",
        "tbates                        881                   909      0.000579   \n",
        "tjmahr                        293                   293      0.001379   \n",
        "wch                            83                   734      0.019125   \n",
        "wibeasley                     496                   496      0.000384   \n",
        "\n",
        "              ewmaThreeMonth  ewmaTwoWeeks  ewmaOneYear  \n",
        "author_login                                             \n",
        "baptiste            0.285714  2.857143e-01     0.285714  \n",
        "crowding            0.038647  4.910522e-03     0.060002  \n",
        "froh                0.000000  4.463432e-34     0.000273  \n",
        "hadley              0.131149  5.979720e-02     0.132448  \n",
        "jiho                0.000004  3.582172e-23     0.000581  \n",
        "jimhester           0.000047  3.298420e-18     0.001515  \n",
        "krlmlr              0.069212  6.346476e-02     0.046872  \n",
        "richierocks         0.003754  1.357477e-07     0.010674  \n",
        "scottko             0.000000  1.633641e-30     0.000216  \n",
        "strongh             0.000000  2.053630e-37     0.000618  \n",
        "tbates              0.000009  3.329725e-27     0.003705  \n",
        "tjmahr              0.000464  1.376259e-10     0.002236  \n",
        "wch                 0.018777  1.079039e-03     0.021197  \n",
        "wibeasley           0.000048  1.138062e-16     0.000954  "
       ]
      }
     ],
     "prompt_number": 207
    },
    {
     "cell_type": "code",
     "collapsed": false,
     "input": [
      "plyr[plyr['author_login']=='baptiste']['commits_num']"
     ],
     "language": "python",
     "metadata": {},
     "outputs": [
      {
       "metadata": {},
       "output_type": "pyout",
       "prompt_number": 209,
       "text": [
        "2014-02-01    2\n",
        "Name: commits_num, dtype: int64"
       ]
      }
     ],
     "prompt_number": 209
    },
    {
     "cell_type": "code",
     "collapsed": false,
     "input": [
      "x = plyr.pivot(index = 'week_start', columns='author_login', values='commits_num')\n",
      "x = x.fillna(0)\n",
      "x = resampleToDays(x)\n",
      "x.head()"
     ],
     "language": "python",
     "metadata": {},
     "outputs": [
      {
       "html": [
        "<div style=\"max-height:1000px;max-width:1500px;overflow:auto;\">\n",
        "<table border=\"1\" class=\"dataframe\">\n",
        "  <thead>\n",
        "    <tr style=\"text-align: right;\">\n",
        "      <th>author_login</th>\n",
        "      <th>baptiste</th>\n",
        "      <th>crowding</th>\n",
        "      <th>froh</th>\n",
        "      <th>hadley</th>\n",
        "      <th>jiho</th>\n",
        "      <th>jimhester</th>\n",
        "      <th>krlmlr</th>\n",
        "      <th>richierocks</th>\n",
        "      <th>scottko</th>\n",
        "      <th>strongh</th>\n",
        "      <th>tbates</th>\n",
        "      <th>tjmahr</th>\n",
        "      <th>wch</th>\n",
        "      <th>wibeasley</th>\n",
        "    </tr>\n",
        "  </thead>\n",
        "  <tbody>\n",
        "    <tr>\n",
        "      <th>2008-04-26 20:00:00</th>\n",
        "      <td> 0</td>\n",
        "      <td> 0</td>\n",
        "      <td> 0</td>\n",
        "      <td> 2.142857</td>\n",
        "      <td> 0</td>\n",
        "      <td> 0</td>\n",
        "      <td> 0</td>\n",
        "      <td> 0</td>\n",
        "      <td> 0</td>\n",
        "      <td> 0</td>\n",
        "      <td> 0</td>\n",
        "      <td> 0</td>\n",
        "      <td> 0</td>\n",
        "      <td> 0</td>\n",
        "    </tr>\n",
        "    <tr>\n",
        "      <th>2008-04-27 20:00:00</th>\n",
        "      <td> 0</td>\n",
        "      <td> 0</td>\n",
        "      <td> 0</td>\n",
        "      <td> 2.142857</td>\n",
        "      <td> 0</td>\n",
        "      <td> 0</td>\n",
        "      <td> 0</td>\n",
        "      <td> 0</td>\n",
        "      <td> 0</td>\n",
        "      <td> 0</td>\n",
        "      <td> 0</td>\n",
        "      <td> 0</td>\n",
        "      <td> 0</td>\n",
        "      <td> 0</td>\n",
        "    </tr>\n",
        "    <tr>\n",
        "      <th>2008-04-28 20:00:00</th>\n",
        "      <td> 0</td>\n",
        "      <td> 0</td>\n",
        "      <td> 0</td>\n",
        "      <td> 2.142857</td>\n",
        "      <td> 0</td>\n",
        "      <td> 0</td>\n",
        "      <td> 0</td>\n",
        "      <td> 0</td>\n",
        "      <td> 0</td>\n",
        "      <td> 0</td>\n",
        "      <td> 0</td>\n",
        "      <td> 0</td>\n",
        "      <td> 0</td>\n",
        "      <td> 0</td>\n",
        "    </tr>\n",
        "    <tr>\n",
        "      <th>2008-04-29 20:00:00</th>\n",
        "      <td> 0</td>\n",
        "      <td> 0</td>\n",
        "      <td> 0</td>\n",
        "      <td> 2.142857</td>\n",
        "      <td> 0</td>\n",
        "      <td> 0</td>\n",
        "      <td> 0</td>\n",
        "      <td> 0</td>\n",
        "      <td> 0</td>\n",
        "      <td> 0</td>\n",
        "      <td> 0</td>\n",
        "      <td> 0</td>\n",
        "      <td> 0</td>\n",
        "      <td> 0</td>\n",
        "    </tr>\n",
        "    <tr>\n",
        "      <th>2008-04-30 20:00:00</th>\n",
        "      <td> 0</td>\n",
        "      <td> 0</td>\n",
        "      <td> 0</td>\n",
        "      <td> 2.142857</td>\n",
        "      <td> 0</td>\n",
        "      <td> 0</td>\n",
        "      <td> 0</td>\n",
        "      <td> 0</td>\n",
        "      <td> 0</td>\n",
        "      <td> 0</td>\n",
        "      <td> 0</td>\n",
        "      <td> 0</td>\n",
        "      <td> 0</td>\n",
        "      <td> 0</td>\n",
        "    </tr>\n",
        "  </tbody>\n",
        "</table>\n",
        "</div>"
       ],
       "metadata": {},
       "output_type": "pyout",
       "prompt_number": 228,
       "text": [
        "author_login         baptiste  crowding  froh    hadley  jiho  jimhester  \\\n",
        "2008-04-26 20:00:00         0         0     0  2.142857     0          0   \n",
        "2008-04-27 20:00:00         0         0     0  2.142857     0          0   \n",
        "2008-04-28 20:00:00         0         0     0  2.142857     0          0   \n",
        "2008-04-29 20:00:00         0         0     0  2.142857     0          0   \n",
        "2008-04-30 20:00:00         0         0     0  2.142857     0          0   \n",
        "\n",
        "author_login         krlmlr  richierocks  scottko  strongh  tbates  tjmahr  \\\n",
        "2008-04-26 20:00:00       0            0        0        0       0       0   \n",
        "2008-04-27 20:00:00       0            0        0        0       0       0   \n",
        "2008-04-28 20:00:00       0            0        0        0       0       0   \n",
        "2008-04-29 20:00:00       0            0        0        0       0       0   \n",
        "2008-04-30 20:00:00       0            0        0        0       0       0   \n",
        "\n",
        "author_login         wch  wibeasley  \n",
        "2008-04-26 20:00:00    0          0  \n",
        "2008-04-27 20:00:00    0          0  \n",
        "2008-04-28 20:00:00    0          0  \n",
        "2008-04-29 20:00:00    0          0  \n",
        "2008-04-30 20:00:00    0          0  "
       ]
      }
     ],
     "prompt_number": 228
    },
    {
     "cell_type": "code",
     "collapsed": false,
     "input": [
      "def mySummary(x):\n",
      "    makers = featureMaker.makeBasicCommitsFeatureMakers()['commits_num']\n",
      "    funcNames, values = zip(*[(name,f(x)) for (name,f) in makers.items()])\n",
      "    return pd.Series(values, index=funcNames)\n",
      "x.apply(mySummary)"
     ],
     "language": "python",
     "metadata": {},
     "outputs": [
      {
       "html": [
        "<div style=\"max-height:1000px;max-width:1500px;overflow:auto;\">\n",
        "<table border=\"1\" class=\"dataframe\">\n",
        "  <thead>\n",
        "    <tr style=\"text-align: right;\">\n",
        "      <th>author_login</th>\n",
        "      <th>baptiste</th>\n",
        "      <th>crowding</th>\n",
        "      <th>froh</th>\n",
        "      <th>hadley</th>\n",
        "      <th>jiho</th>\n",
        "      <th>jimhester</th>\n",
        "      <th>krlmlr</th>\n",
        "      <th>richierocks</th>\n",
        "      <th>scottko</th>\n",
        "      <th>strongh</th>\n",
        "      <th>tbates</th>\n",
        "      <th>tjmahr</th>\n",
        "      <th>wch</th>\n",
        "      <th>wibeasley</th>\n",
        "    </tr>\n",
        "  </thead>\n",
        "  <tbody>\n",
        "    <tr>\n",
        "      <th>ewmaOneMonth</th>\n",
        "      <td> 0.007290</td>\n",
        "      <td>   0.001565</td>\n",
        "      <td> 2.206053e-18</td>\n",
        "      <td>    0.016204</td>\n",
        "      <td> 3.116672e-13</td>\n",
        "      <td> 1.184134e-10</td>\n",
        "      <td>   0.011781</td>\n",
        "      <td> 1.668418e-05</td>\n",
        "      <td> 1.199761e-16</td>\n",
        "      <td> 1.602519e-19</td>\n",
        "      <td> 1.731874e-14</td>\n",
        "      <td> 3.539866e-07</td>\n",
        "      <td>   0.001167</td>\n",
        "      <td> 4.551743e-10</td>\n",
        "    </tr>\n",
        "    <tr>\n",
        "      <th>futureCommits_num</th>\n",
        "      <td> 0.000000</td>\n",
        "      <td>   0.857143</td>\n",
        "      <td> 0.000000e+00</td>\n",
        "      <td>   10.285714</td>\n",
        "      <td> 0.000000e+00</td>\n",
        "      <td> 0.000000e+00</td>\n",
        "      <td>   2.571429</td>\n",
        "      <td> 0.000000e+00</td>\n",
        "      <td> 0.000000e+00</td>\n",
        "      <td> 0.000000e+00</td>\n",
        "      <td> 0.000000e+00</td>\n",
        "      <td> 0.000000e+00</td>\n",
        "      <td>   0.000000</td>\n",
        "      <td> 0.000000e+00</td>\n",
        "    </tr>\n",
        "    <tr>\n",
        "      <th>pastCommits_num</th>\n",
        "      <td> 1.714286</td>\n",
        "      <td>  36.571429</td>\n",
        "      <td> 1.714286e+00</td>\n",
        "      <td>  530.714286</td>\n",
        "      <td> 1.857143e+00</td>\n",
        "      <td> 2.000000e+00</td>\n",
        "      <td>  12.857143</td>\n",
        "      <td> 3.000000e+00</td>\n",
        "      <td> 1.000000e+00</td>\n",
        "      <td> 6.000000e+00</td>\n",
        "      <td> 1.400000e+01</td>\n",
        "      <td> 1.000000e+00</td>\n",
        "      <td>  17.714286</td>\n",
        "      <td> 1.000000e+00</td>\n",
        "    </tr>\n",
        "    <tr>\n",
        "      <th>daysSinceLastCommit</th>\n",
        "      <td> 1.000000</td>\n",
        "      <td>  36.000000</td>\n",
        "      <td> 1.072000e+03</td>\n",
        "      <td>   29.000000</td>\n",
        "      <td> 7.080000e+02</td>\n",
        "      <td> 5.460000e+02</td>\n",
        "      <td>  29.000000</td>\n",
        "      <td> 2.030000e+02</td>\n",
        "      <td> 9.520000e+02</td>\n",
        "      <td> 1.204000e+03</td>\n",
        "      <td> 8.750000e+02</td>\n",
        "      <td> 2.870000e+02</td>\n",
        "      <td>  78.000000</td>\n",
        "      <td> 4.900000e+02</td>\n",
        "    </tr>\n",
        "    <tr>\n",
        "      <th>daysSinceFirstCommit</th>\n",
        "      <td> 6.000000</td>\n",
        "      <td> 517.000000</td>\n",
        "      <td> 1.154000e+03</td>\n",
        "      <td> 2113.000000</td>\n",
        "      <td> 1.049000e+03</td>\n",
        "      <td> 5.660000e+02</td>\n",
        "      <td> 328.000000</td>\n",
        "      <td> 2.090000e+02</td>\n",
        "      <td> 9.580000e+02</td>\n",
        "      <td> 1.217000e+03</td>\n",
        "      <td> 9.090000e+02</td>\n",
        "      <td> 2.930000e+02</td>\n",
        "      <td> 734.000000</td>\n",
        "      <td> 4.960000e+02</td>\n",
        "    </tr>\n",
        "    <tr>\n",
        "      <th>ewmaSixMonth</th>\n",
        "      <td> 0.001334</td>\n",
        "      <td>   0.006895</td>\n",
        "      <td> 2.921361e-06</td>\n",
        "      <td>    0.014584</td>\n",
        "      <td> 1.569481e-05</td>\n",
        "      <td> 7.298631e-05</td>\n",
        "      <td>   0.005685</td>\n",
        "      <td> 7.605549e-04</td>\n",
        "      <td> 3.998187e-06</td>\n",
        "      <td> 5.788010e-06</td>\n",
        "      <td> 8.258895e-05</td>\n",
        "      <td> 1.591840e-04</td>\n",
        "      <td>   0.002377</td>\n",
        "      <td> 5.169723e-05</td>\n",
        "    </tr>\n",
        "    <tr>\n",
        "      <th>ewmaThreeMonth</th>\n",
        "      <td> 0.002618</td>\n",
        "      <td>   0.005399</td>\n",
        "      <td> 1.354664e-08</td>\n",
        "      <td>    0.016212</td>\n",
        "      <td> 5.450627e-07</td>\n",
        "      <td> 6.837770e-06</td>\n",
        "      <td>   0.008402</td>\n",
        "      <td> 4.890090e-04</td>\n",
        "      <td> 4.147939e-08</td>\n",
        "      <td> 1.460701e-08</td>\n",
        "      <td> 1.264346e-06</td>\n",
        "      <td> 6.443020e-05</td>\n",
        "      <td>   0.002320</td>\n",
        "      <td> 6.837798e-06</td>\n",
        "    </tr>\n",
        "    <tr>\n",
        "      <th>ewmaTwoWeeks</th>\n",
        "      <td> 0.013836</td>\n",
        "      <td>   0.000621</td>\n",
        "      <td> 5.642735e-35</td>\n",
        "      <td>    0.007560</td>\n",
        "      <td> 4.528634e-24</td>\n",
        "      <td> 5.048603e-19</td>\n",
        "      <td>   0.008024</td>\n",
        "      <td> 2.077770e-08</td>\n",
        "      <td> 2.500472e-31</td>\n",
        "      <td> 3.143312e-38</td>\n",
        "      <td> 5.096518e-28</td>\n",
        "      <td> 2.106519e-11</td>\n",
        "      <td>   0.000136</td>\n",
        "      <td> 1.741932e-17</td>\n",
        "    </tr>\n",
        "    <tr>\n",
        "      <th>ewmaOneYear</th>\n",
        "      <td> 0.000667</td>\n",
        "      <td>   0.006436</td>\n",
        "      <td> 3.220728e-05</td>\n",
        "      <td>    0.017600</td>\n",
        "      <td> 7.061303e-05</td>\n",
        "      <td> 1.715601e-04</td>\n",
        "      <td>   0.003582</td>\n",
        "      <td> 6.703557e-04</td>\n",
        "      <td> 2.878767e-05</td>\n",
        "      <td> 8.558524e-05</td>\n",
        "      <td> 4.882411e-04</td>\n",
        "      <td> 1.775716e-04</td>\n",
        "      <td>   0.002398</td>\n",
        "      <td> 1.018978e-04</td>\n",
        "    </tr>\n",
        "  </tbody>\n",
        "</table>\n",
        "</div>"
       ],
       "metadata": {},
       "output_type": "pyout",
       "prompt_number": 237,
       "text": [
        "author_login          baptiste    crowding          froh       hadley  \\\n",
        "ewmaOneMonth          0.007290    0.001565  2.206053e-18     0.016204   \n",
        "futureCommits_num     0.000000    0.857143  0.000000e+00    10.285714   \n",
        "pastCommits_num       1.714286   36.571429  1.714286e+00   530.714286   \n",
        "daysSinceLastCommit   1.000000   36.000000  1.072000e+03    29.000000   \n",
        "daysSinceFirstCommit  6.000000  517.000000  1.154000e+03  2113.000000   \n",
        "ewmaSixMonth          0.001334    0.006895  2.921361e-06     0.014584   \n",
        "ewmaThreeMonth        0.002618    0.005399  1.354664e-08     0.016212   \n",
        "ewmaTwoWeeks          0.013836    0.000621  5.642735e-35     0.007560   \n",
        "ewmaOneYear           0.000667    0.006436  3.220728e-05     0.017600   \n",
        "\n",
        "author_login                  jiho     jimhester      krlmlr   richierocks  \\\n",
        "ewmaOneMonth          3.116672e-13  1.184134e-10    0.011781  1.668418e-05   \n",
        "futureCommits_num     0.000000e+00  0.000000e+00    2.571429  0.000000e+00   \n",
        "pastCommits_num       1.857143e+00  2.000000e+00   12.857143  3.000000e+00   \n",
        "daysSinceLastCommit   7.080000e+02  5.460000e+02   29.000000  2.030000e+02   \n",
        "daysSinceFirstCommit  1.049000e+03  5.660000e+02  328.000000  2.090000e+02   \n",
        "ewmaSixMonth          1.569481e-05  7.298631e-05    0.005685  7.605549e-04   \n",
        "ewmaThreeMonth        5.450627e-07  6.837770e-06    0.008402  4.890090e-04   \n",
        "ewmaTwoWeeks          4.528634e-24  5.048603e-19    0.008024  2.077770e-08   \n",
        "ewmaOneYear           7.061303e-05  1.715601e-04    0.003582  6.703557e-04   \n",
        "\n",
        "author_login               scottko       strongh        tbates        tjmahr  \\\n",
        "ewmaOneMonth          1.199761e-16  1.602519e-19  1.731874e-14  3.539866e-07   \n",
        "futureCommits_num     0.000000e+00  0.000000e+00  0.000000e+00  0.000000e+00   \n",
        "pastCommits_num       1.000000e+00  6.000000e+00  1.400000e+01  1.000000e+00   \n",
        "daysSinceLastCommit   9.520000e+02  1.204000e+03  8.750000e+02  2.870000e+02   \n",
        "daysSinceFirstCommit  9.580000e+02  1.217000e+03  9.090000e+02  2.930000e+02   \n",
        "ewmaSixMonth          3.998187e-06  5.788010e-06  8.258895e-05  1.591840e-04   \n",
        "ewmaThreeMonth        4.147939e-08  1.460701e-08  1.264346e-06  6.443020e-05   \n",
        "ewmaTwoWeeks          2.500472e-31  3.143312e-38  5.096518e-28  2.106519e-11   \n",
        "ewmaOneYear           2.878767e-05  8.558524e-05  4.882411e-04  1.775716e-04   \n",
        "\n",
        "author_login                 wch     wibeasley  \n",
        "ewmaOneMonth            0.001167  4.551743e-10  \n",
        "futureCommits_num       0.000000  0.000000e+00  \n",
        "pastCommits_num        17.714286  1.000000e+00  \n",
        "daysSinceLastCommit    78.000000  4.900000e+02  \n",
        "daysSinceFirstCommit  734.000000  4.960000e+02  \n",
        "ewmaSixMonth            0.002377  5.169723e-05  \n",
        "ewmaThreeMonth          0.002320  6.837798e-06  \n",
        "ewmaTwoWeeks            0.000136  1.741932e-17  \n",
        "ewmaOneYear             0.002398  1.018978e-04  "
       ]
      }
     ],
     "prompt_number": 237
    },
    {
     "cell_type": "code",
     "collapsed": false,
     "input": [
      "plyr.head()"
     ],
     "language": "python",
     "metadata": {},
     "outputs": [
      {
       "html": [
        "<div style=\"max-height:1000px;max-width:1500px;overflow:auto;\">\n",
        "<table border=\"1\" class=\"dataframe\">\n",
        "  <thead>\n",
        "    <tr style=\"text-align: right;\">\n",
        "      <th></th>\n",
        "      <th>id</th>\n",
        "      <th>author_login</th>\n",
        "      <th>repo_full_name</th>\n",
        "      <th>week_start</th>\n",
        "      <th>commits_num</th>\n",
        "      <th>additions_num</th>\n",
        "      <th>deletions_num</th>\n",
        "    </tr>\n",
        "  </thead>\n",
        "  <tbody>\n",
        "    <tr>\n",
        "      <th>2012-09-29</th>\n",
        "      <td> 30163</td>\n",
        "      <td> wibeasley</td>\n",
        "      <td> hadley/plyr</td>\n",
        "      <td>2012-09-29 20:00:00</td>\n",
        "      <td> 1</td>\n",
        "      <td>  1</td>\n",
        "      <td> 1</td>\n",
        "    </tr>\n",
        "    <tr>\n",
        "      <th>2013-04-20</th>\n",
        "      <td> 30164</td>\n",
        "      <td>    tjmahr</td>\n",
        "      <td> hadley/plyr</td>\n",
        "      <td>2013-04-20 20:00:00</td>\n",
        "      <td> 1</td>\n",
        "      <td>  2</td>\n",
        "      <td> 2</td>\n",
        "    </tr>\n",
        "    <tr>\n",
        "      <th>2011-06-25</th>\n",
        "      <td> 30165</td>\n",
        "      <td>   scottko</td>\n",
        "      <td> hadley/plyr</td>\n",
        "      <td>2011-06-25 20:00:00</td>\n",
        "      <td> 1</td>\n",
        "      <td>  2</td>\n",
        "      <td> 2</td>\n",
        "    </tr>\n",
        "    <tr>\n",
        "      <th>2011-03-26</th>\n",
        "      <td> 30166</td>\n",
        "      <td>      jiho</td>\n",
        "      <td> hadley/plyr</td>\n",
        "      <td>2011-03-26 20:00:00</td>\n",
        "      <td> 1</td>\n",
        "      <td> 80</td>\n",
        "      <td> 0</td>\n",
        "    </tr>\n",
        "    <tr>\n",
        "      <th>2012-02-25</th>\n",
        "      <td> 30167</td>\n",
        "      <td>      jiho</td>\n",
        "      <td> hadley/plyr</td>\n",
        "      <td>2012-02-25 19:00:00</td>\n",
        "      <td> 1</td>\n",
        "      <td> 26</td>\n",
        "      <td> 4</td>\n",
        "    </tr>\n",
        "  </tbody>\n",
        "</table>\n",
        "</div>"
       ],
       "metadata": {},
       "output_type": "pyout",
       "prompt_number": 219,
       "text": [
        "               id author_login repo_full_name          week_start  \\\n",
        "2012-09-29  30163    wibeasley    hadley/plyr 2012-09-29 20:00:00   \n",
        "2013-04-20  30164       tjmahr    hadley/plyr 2013-04-20 20:00:00   \n",
        "2011-06-25  30165      scottko    hadley/plyr 2011-06-25 20:00:00   \n",
        "2011-03-26  30166         jiho    hadley/plyr 2011-03-26 20:00:00   \n",
        "2012-02-25  30167         jiho    hadley/plyr 2012-02-25 19:00:00   \n",
        "\n",
        "            commits_num  additions_num  deletions_num  \n",
        "2012-09-29            1              1              1  \n",
        "2013-04-20            1              2              2  \n",
        "2011-06-25            1              2              2  \n",
        "2011-03-26            1             80              0  \n",
        "2012-02-25            1             26              4  "
       ]
      }
     ],
     "prompt_number": 219
    },
    {
     "cell_type": "code",
     "collapsed": false,
     "input": [],
     "language": "python",
     "metadata": {},
     "outputs": []
    }
   ],
   "metadata": {}
  }
 ]
}