{
 "metadata": {
  "name": "",
  "signature": "sha256:641dd9c66c8cbe3cb94fe94f7a3abc31906ac742a5e21f9bec07e5c518461742"
 },
 "nbformat": 3,
 "nbformat_minor": 0,
 "worksheets": [
  {
   "cells": [
    {
     "cell_type": "code",
     "collapsed": false,
     "input": [
      "%run featureMakers"
     ],
     "language": "python",
     "metadata": {},
     "outputs": [],
     "prompt_number": 107
    },
    {
     "cell_type": "code",
     "collapsed": false,
     "input": [
      "import pymysql as mdb\n",
      "con = mdb.connect('localhost', 'root', '', 'gitdb');"
     ],
     "language": "python",
     "metadata": {},
     "outputs": [],
     "prompt_number": 108
    },
    {
     "cell_type": "code",
     "collapsed": false,
     "input": [
      "query = \"SELECT * FROM WeeklyContributions\"\n",
      "contrib = pd.io.sql.read_sql(query, con)"
     ],
     "language": "python",
     "metadata": {},
     "outputs": [],
     "prompt_number": 109
    },
    {
     "cell_type": "code",
     "collapsed": false,
     "input": [
      "vals = contrib['week_start'].values"
     ],
     "language": "python",
     "metadata": {},
     "outputs": [],
     "prompt_number": 110
    },
    {
     "cell_type": "code",
     "collapsed": false,
     "input": [
      "contrib.index = pd.to_datetime([x.date() for x in contrib['week_start']])\n",
      "# contrib.index = contrib['week_start']\n",
      "contrib.head()"
     ],
     "language": "python",
     "metadata": {},
     "outputs": [
      {
       "html": [
        "<div style=\"max-height:1000px;max-width:1500px;overflow:auto;\">\n",
        "<table border=\"1\" class=\"dataframe\">\n",
        "  <thead>\n",
        "    <tr style=\"text-align: right;\">\n",
        "      <th></th>\n",
        "      <th>id</th>\n",
        "      <th>author_login</th>\n",
        "      <th>repo_full_name</th>\n",
        "      <th>week_start</th>\n",
        "      <th>commits_num</th>\n",
        "      <th>additions_num</th>\n",
        "      <th>deletions_num</th>\n",
        "    </tr>\n",
        "  </thead>\n",
        "  <tbody>\n",
        "    <tr>\n",
        "      <th>2014-07-12</th>\n",
        "      <td> 1</td>\n",
        "      <td> hadley</td>\n",
        "      <td>    hadley/rvest</td>\n",
        "      <td>2014-07-12 20:00:00</td>\n",
        "      <td> 14</td>\n",
        "      <td>  519</td>\n",
        "      <td> 108</td>\n",
        "    </tr>\n",
        "    <tr>\n",
        "      <th>2014-07-19</th>\n",
        "      <td> 2</td>\n",
        "      <td> hadley</td>\n",
        "      <td>    hadley/rvest</td>\n",
        "      <td>2014-07-19 20:00:00</td>\n",
        "      <td> 14</td>\n",
        "      <td>  419</td>\n",
        "      <td>  70</td>\n",
        "    </tr>\n",
        "    <tr>\n",
        "      <th>2014-07-26</th>\n",
        "      <td> 3</td>\n",
        "      <td> hadley</td>\n",
        "      <td>    hadley/rvest</td>\n",
        "      <td>2014-07-26 20:00:00</td>\n",
        "      <td> 35</td>\n",
        "      <td> 1291</td>\n",
        "      <td> 422</td>\n",
        "    </tr>\n",
        "    <tr>\n",
        "      <th>2014-07-05</th>\n",
        "      <td> 4</td>\n",
        "      <td>   juba</td>\n",
        "      <td> juba/rmdformats</td>\n",
        "      <td>2014-07-05 20:00:00</td>\n",
        "      <td> 16</td>\n",
        "      <td> 3268</td>\n",
        "      <td>  27</td>\n",
        "    </tr>\n",
        "    <tr>\n",
        "      <th>2014-07-12</th>\n",
        "      <td> 5</td>\n",
        "      <td>   juba</td>\n",
        "      <td> juba/rmdformats</td>\n",
        "      <td>2014-07-12 20:00:00</td>\n",
        "      <td>  1</td>\n",
        "      <td>    8</td>\n",
        "      <td>   7</td>\n",
        "    </tr>\n",
        "  </tbody>\n",
        "</table>\n",
        "</div>"
       ],
       "metadata": {},
       "output_type": "pyout",
       "prompt_number": 112,
       "text": [
        "            id author_login   repo_full_name          week_start  commits_num  \\\n",
        "2014-07-12   1       hadley     hadley/rvest 2014-07-12 20:00:00           14   \n",
        "2014-07-19   2       hadley     hadley/rvest 2014-07-19 20:00:00           14   \n",
        "2014-07-26   3       hadley     hadley/rvest 2014-07-26 20:00:00           35   \n",
        "2014-07-05   4         juba  juba/rmdformats 2014-07-05 20:00:00           16   \n",
        "2014-07-12   5         juba  juba/rmdformats 2014-07-12 20:00:00            1   \n",
        "\n",
        "            additions_num  deletions_num  \n",
        "2014-07-12            519            108  \n",
        "2014-07-19            419             70  \n",
        "2014-07-26           1291            422  \n",
        "2014-07-05           3268             27  \n",
        "2014-07-12              8              7  "
       ]
      }
     ],
     "prompt_number": 112
    },
    {
     "cell_type": "code",
     "collapsed": false,
     "input": [
      "plyr = contrib[contrib['repo_full_name']=='hadley/plyr']\n",
      "hadleyPlyr = plyr[plyr['author_login'] == 'hadley']"
     ],
     "language": "python",
     "metadata": {},
     "outputs": [],
     "prompt_number": 113
    },
    {
     "cell_type": "code",
     "collapsed": false,
     "input": [
      "hadleyPlyr['commits_num'].plot()"
     ],
     "language": "python",
     "metadata": {},
     "outputs": [
      {
       "metadata": {},
       "output_type": "pyout",
       "prompt_number": 114,
       "text": [
        "<matplotlib.axes.AxesSubplot at 0x109f25e10>"
       ]
      },
      {
       "metadata": {},
       "output_type": "display_data",
       "png": "[encoded data removed]",
       "text": [
        "<matplotlib.figure.Figure at 0x108c2bd50>"
       ]
      }
     ],
     "prompt_number": 114
    },
    {
     "cell_type": "markdown",
     "metadata": {},
     "source": [
      "# resample to days"
     ]
    },
    {
     "cell_type": "code",
     "collapsed": false,
     "input": [
      "dailyHadleyPlyr = resampleToDays(hadleyPlyr['commits_num'])\n",
      "dailyHadleyPlyr.plot()"
     ],
     "language": "python",
     "metadata": {},
     "outputs": [
      {
       "metadata": {},
       "output_type": "pyout",
       "prompt_number": 115,
       "text": [
        "<matplotlib.axes.AxesSubplot at 0x109818d90>"
       ]
      },
      {
       "metadata": {},
       "output_type": "display_data",
       "png": "[encoded data removed]",
       "text": [
        "<matplotlib.figure.Figure at 0x109f5a3d0>"
       ]
      }
     ],
     "prompt_number": 115
    },
    {
     "cell_type": "code",
     "collapsed": false,
     "input": [
      "dailyHadleyPlyr.sum()"
     ],
     "language": "python",
     "metadata": {},
     "outputs": [
      {
       "metadata": {},
       "output_type": "pyout",
       "prompt_number": 116,
       "text": [
        "560.00000000000091"
       ]
      }
     ],
     "prompt_number": 116
    },
    {
     "cell_type": "code",
     "collapsed": false,
     "input": [
      "hadleyPlyr['commits_num'].sum()"
     ],
     "language": "python",
     "metadata": {},
     "outputs": [
      {
       "metadata": {},
       "output_type": "pyout",
       "prompt_number": 117,
       "text": [
        "560"
       ]
      }
     ],
     "prompt_number": 117
    },
    {
     "cell_type": "code",
     "collapsed": false,
     "input": [
      "firstbit = hadleyPlyr['commits_num'].ix[:'2008-06-01']\n",
      "np.abs(firstbit.sum() - resampleToDays(firstbit).sum()) < 0.00001"
     ],
     "language": "python",
     "metadata": {},
     "outputs": [
      {
       "metadata": {},
       "output_type": "pyout",
       "prompt_number": 43,
       "text": [
        "True"
       ]
      }
     ],
     "prompt_number": 43
    },
    {
     "cell_type": "code",
     "collapsed": false,
     "input": [
      "lastbit = hadleyPlyr['commits_num'].ix['2013-10-01':]\n",
      "lastbit"
     ],
     "language": "python",
     "metadata": {},
     "outputs": [
      {
       "metadata": {},
       "output_type": "pyout",
       "prompt_number": 57,
       "text": [
        "week_start\n",
        "2013-11-23 19:00:00    11\n",
        "2013-12-28 19:00:00     8\n",
        "2014-01-04 19:00:00     2\n",
        "2014-02-15 19:00:00     9\n",
        "2014-02-22 19:00:00     3\n",
        "Name: commits_num, dtype: int64"
       ]
      }
     ],
     "prompt_number": 57
    },
    {
     "cell_type": "code",
     "collapsed": false,
     "input": [
      "resampleToDays(lastbit).sum()"
     ],
     "language": "python",
     "metadata": {},
     "outputs": [
      {
       "metadata": {},
       "output_type": "pyout",
       "prompt_number": 58,
       "text": [
        "32.999999999999979"
       ]
      }
     ],
     "prompt_number": 58
    },
    {
     "cell_type": "code",
     "collapsed": false,
     "input": [
      "lastbit.sum()"
     ],
     "language": "python",
     "metadata": {},
     "outputs": [
      {
       "metadata": {},
       "output_type": "pyout",
       "prompt_number": 59,
       "text": [
        "33"
       ]
      }
     ],
     "prompt_number": 59
    },
    {
     "cell_type": "code",
     "collapsed": false,
     "input": [
      "weeklySum = hadleyPlyr['commits_num'].cumsum()\n",
      "weeklySum\n",
      "dailySum = resampleToDays(hadleyPlyr['commits_num']).cumsum()\n",
      "dailySum"
     ],
     "language": "python",
     "metadata": {},
     "outputs": [
      {
       "metadata": {},
       "output_type": "pyout",
       "prompt_number": 50,
       "text": [
        "2008-04-26 20:00:00     2.142857\n",
        "2008-04-27 20:00:00     4.285714\n",
        "2008-04-28 20:00:00     6.428571\n",
        "2008-04-29 20:00:00     8.571429\n",
        "2008-04-30 20:00:00    10.714286\n",
        "2008-05-01 20:00:00    12.857143\n",
        "2008-05-02 20:00:00    15.000000\n",
        "2008-05-03 20:00:00    18.000000\n",
        "2008-05-04 20:00:00    21.000000\n",
        "2008-05-05 20:00:00    24.000000\n",
        "2008-05-06 20:00:00    27.000000\n",
        "2008-05-07 20:00:00    30.000000\n",
        "2008-05-08 20:00:00    33.000000\n",
        "2008-05-09 20:00:00    36.000000\n",
        "2008-05-10 20:00:00    36.142857\n",
        "...\n",
        "2014-07-25 20:00:00    541\n",
        "2014-07-26 20:00:00    541\n",
        "2014-07-27 20:00:00    541\n",
        "2014-07-28 20:00:00    541\n",
        "2014-07-29 20:00:00    541\n",
        "2014-07-30 20:00:00    541\n",
        "2014-07-31 20:00:00    541\n",
        "2014-08-01 20:00:00    541\n",
        "2014-08-02 20:00:00    541\n",
        "2014-08-03 20:00:00    541\n",
        "2014-08-04 20:00:00    541\n",
        "2014-08-05 20:00:00    541\n",
        "2014-08-06 20:00:00    541\n",
        "2014-08-07 20:00:00    541\n",
        "2014-08-08 20:00:00    541\n",
        "Freq: D, Name: commits_num, Length: 2296"
       ]
      }
     ],
     "prompt_number": 50
    },
    {
     "cell_type": "code",
     "collapsed": false,
     "input": [
      "dailySum.ix['2014-08-03'].values - dailySum.ix['2013-10-01'].values"
     ],
     "language": "python",
     "metadata": {},
     "outputs": [
      {
       "metadata": {},
       "output_type": "pyout",
       "prompt_number": 62,
       "text": [
        "array([ 28.28571429])"
       ]
      }
     ],
     "prompt_number": 62
    },
    {
     "cell_type": "code",
     "collapsed": false,
     "input": [
      "weeklyReindexed = weeklySum.reindex(index=dailySum.index, method='ffill')\n",
      "weeklyReindexed[-1]"
     ],
     "language": "python",
     "metadata": {},
     "outputs": [
      {
       "metadata": {},
       "output_type": "pyout",
       "prompt_number": 54,
       "text": [
        "560"
       ]
      }
     ],
     "prompt_number": 54
    },
    {
     "cell_type": "code",
     "collapsed": false,
     "input": [
      "(weeklyReindexed - dailySum).plot()"
     ],
     "language": "python",
     "metadata": {},
     "outputs": [
      {
       "metadata": {},
       "output_type": "pyout",
       "prompt_number": 55,
       "text": [
        "<matplotlib.axes.AxesSubplot at 0x1097a3290>"
       ]
      },
      {
       "metadata": {},
       "output_type": "display_data",
       "png": "[encoded data removed]",
       "text": [
        "<matplotlib.figure.Figure at 0x1096fcd90>"
       ]
      }
     ],
     "prompt_number": 55
    },
    {
     "cell_type": "code",
     "collapsed": false,
     "input": [
      "daily.value_counts()"
     ],
     "language": "python",
     "metadata": {},
     "outputs": [
      {
       "metadata": {},
       "output_type": "pyout",
       "prompt_number": 72,
       "text": [
        "0.000000    2268\n",
        "0.285714       7\n",
        "0.142857       7\n",
        "2.142857       7\n",
        "3.000000       7\n",
        "dtype: int64"
       ]
      }
     ],
     "prompt_number": 72
    },
    {
     "cell_type": "code",
     "collapsed": false,
     "input": [
      "x = pd.Series(data=[1,0], index=[datetime.datetime('2011-)])"
     ],
     "language": "python",
     "metadata": {},
     "outputs": [],
     "prompt_number": 72
    },
    {
     "cell_type": "code",
     "collapsed": false,
     "input": [
      "t1 = datetime.datetime(2011, 1, 1, 20, 0)\n",
      "t2 = datetime.datetime(2011, 1, 2, , 0)\n",
      "str(t1)"
     ],
     "language": "python",
     "metadata": {},
     "outputs": [
      {
       "metadata": {},
       "output_type": "pyout",
       "prompt_number": 76,
       "text": [
        "'2011-01-01 20:00:00'"
       ]
      }
     ],
     "prompt_number": 76
    },
    {
     "cell_type": "code",
     "collapsed": false,
     "input": [
      "hadleyPlyr['commits_num'].sum()"
     ],
     "language": "python",
     "metadata": {},
     "outputs": [
      {
       "metadata": {},
       "output_type": "pyout",
       "prompt_number": 78,
       "text": [
        "560"
       ]
      }
     ],
     "prompt_number": 78
    },
    {
     "cell_type": "code",
     "collapsed": false,
     "input": [
      "hadleyPlyr['commits_num'].values.sum()"
     ],
     "language": "python",
     "metadata": {},
     "outputs": [
      {
       "metadata": {},
       "output_type": "pyout",
       "prompt_number": 79,
       "text": [
        "560"
       ]
      }
     ],
     "prompt_number": 79
    },
    {
     "cell_type": "code",
     "collapsed": false,
     "input": [
      "dailyHadleyPlyr[dailyHadleyPlyr>0].value_counts()"
     ],
     "language": "python",
     "metadata": {},
     "outputs": [
      {
       "metadata": {},
       "output_type": "pyout",
       "prompt_number": 83,
       "text": [
        "0.142857    146\n",
        "0.285714     97\n",
        "0.428571     93\n",
        "0.571429     53\n",
        "1.285714     27\n",
        "0.714286     26\n",
        "1.000000     21\n",
        "2.142857     21\n",
        "0.857143     20\n",
        "2.000000     20\n",
        "1.142857     19\n",
        "2.714286     14\n",
        "2.285714     13\n",
        "1.571429     13\n",
        "5.714286      7\n",
        "2.571429      7\n",
        "3.285714      7\n",
        "3.142857      7\n",
        "3.000000      7\n",
        "1.714286      7\n",
        "dtype: int64"
       ]
      }
     ],
     "prompt_number": 83
    },
    {
     "cell_type": "code",
     "collapsed": false,
     "input": [
      "sub = dailyHadleyPlyr[np.abs(dailyHadleyPlyr-2.285714)<0.001]\n",
      "sub"
     ],
     "language": "python",
     "metadata": {},
     "outputs": [
      {
       "metadata": {},
       "output_type": "pyout",
       "prompt_number": 86,
       "text": [
        "2010-04-24 20:00:00    2.285714\n",
        "2010-04-25 20:00:00    2.285714\n",
        "2010-04-26 20:00:00    2.285714\n",
        "2010-04-27 20:00:00    2.285714\n",
        "2010-04-28 20:00:00    2.285714\n",
        "2010-04-29 20:00:00    2.285714\n",
        "2010-04-30 20:00:00    2.285714\n",
        "2010-12-25 20:00:00    2.285714\n",
        "2010-12-26 20:00:00    2.285714\n",
        "2010-12-27 20:00:00    2.285714\n",
        "2010-12-28 20:00:00    2.285714\n",
        "2010-12-29 20:00:00    2.285714\n",
        "2010-12-30 20:00:00    2.285714\n",
        "Name: commits_num, dtype: float64"
       ]
      }
     ],
     "prompt_number": 86
    },
    {
     "cell_type": "code",
     "collapsed": false,
     "input": [
      "dailyHadleyPlyr.ix['2010-12-20':'2011-01-02']"
     ],
     "language": "python",
     "metadata": {},
     "outputs": [
      {
       "metadata": {},
       "output_type": "pyout",
       "prompt_number": 92,
       "text": [
        "2010-12-20 20:00:00    0.000000\n",
        "2010-12-21 20:00:00    0.000000\n",
        "2010-12-22 20:00:00    0.000000\n",
        "2010-12-23 20:00:00    0.000000\n",
        "2010-12-24 20:00:00    0.000000\n",
        "2010-12-25 20:00:00    2.285714\n",
        "2010-12-26 20:00:00    2.285714\n",
        "2010-12-27 20:00:00    2.285714\n",
        "2010-12-28 20:00:00    2.285714\n",
        "2010-12-29 20:00:00    2.285714\n",
        "2010-12-30 20:00:00    2.285714\n",
        "2010-12-31 20:00:00    0.000000\n",
        "2011-01-01 20:00:00    0.428571\n",
        "2011-01-02 20:00:00    0.428571\n",
        "Freq: D, Name: commits_num, dtype: float64"
       ]
      }
     ],
     "prompt_number": 92
    },
    {
     "cell_type": "code",
     "collapsed": false,
     "input": [
      "hadleyPlyr['commits_num'].ix['2010-12-01':'2011-01-05']"
     ],
     "language": "python",
     "metadata": {},
     "outputs": [
      {
       "metadata": {},
       "output_type": "pyout",
       "prompt_number": 96,
       "text": [
        "week_start\n",
        "2010-12-25 19:00:00    16\n",
        "2011-01-01 19:00:00     3\n",
        "Name: commits_num, dtype: int64"
       ]
      }
     ],
     "prompt_number": 96
    },
    {
     "cell_type": "code",
     "collapsed": false,
     "input": [
      "pd.to_datetime?"
     ],
     "language": "python",
     "metadata": {},
     "outputs": [],
     "prompt_number": 103
    },
    {
     "cell_type": "code",
     "collapsed": false,
     "input": [
      "x=pd.Series(data=[55],index=pd.to_datetime([datetime.date.today()]))"
     ],
     "language": "python",
     "metadata": {},
     "outputs": [],
     "prompt_number": 100
    },
    {
     "cell_type": "code",
     "collapsed": false,
     "input": [
      "pd.to_datetime([x.date() for x in hadleyPlyr['week_start']])"
     ],
     "language": "python",
     "metadata": {},
     "outputs": [
      {
       "metadata": {},
       "output_type": "pyout",
       "prompt_number": 106,
       "text": [
        "<class 'pandas.tseries.index.DatetimeIndex'>\n",
        "[2008-04-26, ..., 2014-02-22]\n",
        "Length: 94, Freq: None, Timezone: None"
       ]
      }
     ],
     "prompt_number": 106
    },
    {
     "cell_type": "markdown",
     "metadata": {},
     "source": [
      "I need to fix this discrepancy at some point. It implies some bad ffilling somewhere."
     ]
    },
    {
     "cell_type": "markdown",
     "metadata": {},
     "source": [
      "# total commits in a period"
     ]
    },
    {
     "cell_type": "code",
     "collapsed": false,
     "input": [
      "defaultTref()"
     ],
     "language": "python",
     "metadata": {},
     "outputs": [
      {
       "metadata": {},
       "output_type": "pyout",
       "prompt_number": 10,
       "text": [
        "datetime.date(2014, 2, 7)"
       ]
      }
     ],
     "prompt_number": 10
    },
    {
     "cell_type": "code",
     "collapsed": false,
     "input": [
      "totalInPeriodStarting(\n",
      "    timeseries=dailyHadleyPlyr, \n",
      "    tref=defaultTref(), \n",
      "    futureWindowInDays=defaultFutureWindowInDays)"
     ],
     "language": "python",
     "metadata": {},
     "outputs": [
      {
       "metadata": {},
       "output_type": "pyout",
       "prompt_number": 11,
       "text": [
        "12.000000000000002"
       ]
      }
     ],
     "prompt_number": 11
    },
    {
     "cell_type": "code",
     "collapsed": false,
     "input": [
      "totalInDefaultPeriod(dailyHadleyPlyr)"
     ],
     "language": "python",
     "metadata": {},
     "outputs": [
      {
       "metadata": {},
       "output_type": "pyout",
       "prompt_number": 12,
       "text": [
        "12.000000000000002"
       ]
      }
     ],
     "prompt_number": 12
    },
    {
     "cell_type": "code",
     "collapsed": false,
     "input": [
      "totalInDefaultPeriod(hadleyPlyr['commits_num'])"
     ],
     "language": "python",
     "metadata": {},
     "outputs": [
      {
       "metadata": {},
       "output_type": "pyout",
       "prompt_number": 13,
       "text": [
        "12"
       ]
      }
     ],
     "prompt_number": 13
    },
    {
     "cell_type": "code",
     "collapsed": false,
     "input": [
      "hadleyPlyr['commits_num'].ix[defaultTref():].sum()"
     ],
     "language": "python",
     "metadata": {},
     "outputs": [
      {
       "metadata": {},
       "output_type": "pyout",
       "prompt_number": 14,
       "text": [
        "12"
       ]
      }
     ],
     "prompt_number": 14
    },
    {
     "cell_type": "markdown",
     "metadata": {},
     "source": [
      "# function to get time since last commit"
     ]
    },
    {
     "cell_type": "code",
     "collapsed": false,
     "input": [
      "dailyHadleyPlyr[dailyHadleyPlyr>0].ix[:defaultTref()].tail()"
     ],
     "language": "python",
     "metadata": {},
     "outputs": [
      {
       "metadata": {},
       "output_type": "pyout",
       "prompt_number": 15,
       "text": [
        "2014-01-06 20:00:00    0.285714\n",
        "2014-01-07 20:00:00    0.285714\n",
        "2014-01-08 20:00:00    0.285714\n",
        "2014-01-09 20:00:00    0.285714\n",
        "2014-01-10 20:00:00    0.285714\n",
        "Name: commits_num, dtype: float64"
       ]
      }
     ],
     "prompt_number": 15
    },
    {
     "cell_type": "code",
     "collapsed": false,
     "input": [
      "daysSinceLastNonZero(dailyHadleyPlyr, tref=defaultTref())"
     ],
     "language": "python",
     "metadata": {},
     "outputs": [
      {
       "metadata": {},
       "output_type": "pyout",
       "prompt_number": 16,
       "text": [
        "28"
       ]
      }
     ],
     "prompt_number": 16
    },
    {
     "cell_type": "code",
     "collapsed": false,
     "input": [
      "mostRecentNonZero(dailyHadleyPlyr, tref=defaultTref())"
     ],
     "language": "python",
     "metadata": {},
     "outputs": [
      {
       "metadata": {},
       "output_type": "pyout",
       "prompt_number": 17,
       "text": [
        "Timestamp('2014-01-10 20:00:00')"
       ]
      }
     ],
     "prompt_number": 17
    },
    {
     "cell_type": "code",
     "collapsed": false,
     "input": [
      "defaultTref()"
     ],
     "language": "python",
     "metadata": {},
     "outputs": [
      {
       "metadata": {},
       "output_type": "pyout",
       "prompt_number": 18,
       "text": [
        "datetime.date(2014, 2, 7)"
       ]
      }
     ],
     "prompt_number": 18
    },
    {
     "cell_type": "markdown",
     "metadata": {},
     "source": [
      "# commits to date"
     ]
    },
    {
     "cell_type": "code",
     "collapsed": false,
     "input": [
      "totalToDate(dailyHadleyPlyr, tref=defaultTref())"
     ],
     "language": "python",
     "metadata": {},
     "outputs": [
      {
       "metadata": {},
       "output_type": "pyout",
       "prompt_number": 19,
       "text": [
        "563.28571428571479"
       ]
      }
     ],
     "prompt_number": 19
    },
    {
     "cell_type": "code",
     "collapsed": false,
     "input": [
      "dailyHadleyPlyr.ix[:defaultTref()].sum()"
     ],
     "language": "python",
     "metadata": {},
     "outputs": [
      {
       "metadata": {},
       "output_type": "pyout",
       "prompt_number": 20,
       "text": [
        "563.28571428571479"
       ]
      }
     ],
     "prompt_number": 20
    },
    {
     "cell_type": "code",
     "collapsed": false,
     "input": [
      "hadleyPlyr['commits_num'].ix[:defaultTref()].sum()"
     ],
     "language": "python",
     "metadata": {},
     "outputs": [
      {
       "metadata": {},
       "output_type": "pyout",
       "prompt_number": 21,
       "text": [
        "548"
       ]
      }
     ],
     "prompt_number": 21
    },
    {
     "cell_type": "markdown",
     "metadata": {},
     "source": [
      "discrepancy"
     ]
    },
    {
     "cell_type": "markdown",
     "metadata": {},
     "source": [
      "# an aggregator"
     ]
    },
    {
     "cell_type": "code",
     "collapsed": false,
     "input": [
      "tref = defaultTref()\n",
      "def makeFeatureMakersFromDefault():\n",
      "    return makeFeatureMakers(tref=tref)\n",
      "featureMakers = makeFeatureMakersFromDefault()"
     ],
     "language": "python",
     "metadata": {},
     "outputs": [],
     "prompt_number": 22
    },
    {
     "cell_type": "code",
     "collapsed": false,
     "input": [
      "results = dict()\n",
      "for maker in featureMakers:\n",
      "    results[maker.__name__] = maker(dailyHadleyPlyr)\n",
      "results"
     ],
     "language": "python",
     "metadata": {},
     "outputs": [
      {
       "metadata": {},
       "output_type": "pyout",
       "prompt_number": 23,
       "text": [
        "{'daysSinceFirstCommit': 2113,\n",
        " 'daysSinceLastCommit': 28,\n",
        " 'futureCommits_num': 12.000000000000002,\n",
        " 'pastCommits_num': 563.28571428571479}"
       ]
      }
     ],
     "prompt_number": 23
    },
    {
     "cell_type": "code",
     "collapsed": false,
     "input": [
      "results = dict()\n",
      "for maker in featureMakers:\n",
      "    results[maker.__name__] = maker(hadleyPlyr['commits_num'])\n",
      "results"
     ],
     "language": "python",
     "metadata": {},
     "outputs": [
      {
       "metadata": {},
       "output_type": "pyout",
       "prompt_number": 24,
       "text": [
        "{'daysSinceFirstCommit': 2113,\n",
        " 'daysSinceLastCommit': 34,\n",
        " 'futureCommits_num': 12,\n",
        " 'pastCommits_num': 548}"
       ]
      }
     ],
     "prompt_number": 24
    },
    {
     "cell_type": "code",
     "collapsed": false,
     "input": [
      "# contrib[['repo_full_name', 'author_login']]\n",
      "# contrib.head()"
     ],
     "language": "python",
     "metadata": {},
     "outputs": [],
     "prompt_number": 25
    },
    {
     "cell_type": "code",
     "collapsed": false,
     "input": [
      "grouped = contrib.groupby(['repo_full_name', 'author_login'], as_index=False)"
     ],
     "language": "python",
     "metadata": {},
     "outputs": [],
     "prompt_number": 26
    },
    {
     "cell_type": "code",
     "collapsed": false,
     "input": [
      "# for (groupID, group) in grouped['commits_num']:\n",
      "#     try:\n",
      "#         for maker in featureMakers:\n",
      "#             maker(group['commits_num'])\n",
      "#     except:\n",
      "#         print groupID\n",
      "#         failed = group\n",
      "#         break"
     ],
     "language": "python",
     "metadata": {},
     "outputs": [],
     "prompt_number": 27
    },
    {
     "cell_type": "code",
     "collapsed": false,
     "input": [
      "aggregated = grouped['commits_num'].aggregate(featureMakers)"
     ],
     "language": "python",
     "metadata": {},
     "outputs": [],
     "prompt_number": 28
    },
    {
     "cell_type": "code",
     "collapsed": false,
     "input": [
      "commitsFeatures = aggregated['commits_num']"
     ],
     "language": "python",
     "metadata": {},
     "outputs": [],
     "prompt_number": 29
    },
    {
     "cell_type": "code",
     "collapsed": false,
     "input": [
      "commitsFeatures.ix['hadley/plyr'].sum()"
     ],
     "language": "python",
     "metadata": {},
     "outputs": [
      {
       "metadata": {},
       "output_type": "pyout",
       "prompt_number": 225,
       "text": [
        "futureCommits_num        16\n",
        "daysSinceLastCommit    6587\n",
        "pastCommits_num         652\n",
        "dtype: float64"
       ]
      }
     ],
     "prompt_number": 225
    },
    {
     "cell_type": "code",
     "collapsed": false,
     "input": [
      "howToAggregate = {\n",
      "'futureCommits_num': np.sum,\n",
      "'pastCommits_num' : np.sum,\n",
      "'daysSinceLastCommit' : np.min,\n",
      "'daysSinceFirstCommit' : np.max\n",
      "}\n",
      "byRepo = commitsFeatures.groupby(level=0).aggregate(howToAggregate)"
     ],
     "language": "python",
     "metadata": {},
     "outputs": [],
     "prompt_number": 30
    },
    {
     "cell_type": "code",
     "collapsed": false,
     "input": [
      "byRepo.head()"
     ],
     "language": "python",
     "metadata": {},
     "outputs": [
      {
       "html": [
        "<div style=\"max-height:1000px;max-width:1500px;overflow:auto;\">\n",
        "<table border=\"1\" class=\"dataframe\">\n",
        "  <thead>\n",
        "    <tr style=\"text-align: right;\">\n",
        "      <th></th>\n",
        "      <th>futureCommits_num</th>\n",
        "      <th>pastCommits_num</th>\n",
        "      <th>daysSinceLastCommit</th>\n",
        "      <th>daysSinceFirstCommit</th>\n",
        "    </tr>\n",
        "    <tr>\n",
        "      <th>repo_full_name</th>\n",
        "      <th></th>\n",
        "      <th></th>\n",
        "      <th></th>\n",
        "      <th></th>\n",
        "    </tr>\n",
        "  </thead>\n",
        "  <tbody>\n",
        "    <tr>\n",
        "      <th>52yyy/Rsweibo</th>\n",
        "      <td>  0</td>\n",
        "      <td> 11</td>\n",
        "      <td> 111</td>\n",
        "      <td> 153</td>\n",
        "    </tr>\n",
        "    <tr>\n",
        "      <th>AdriMarteau/RTradingStation</th>\n",
        "      <td>  0</td>\n",
        "      <td> 14</td>\n",
        "      <td> 741</td>\n",
        "      <td> 755</td>\n",
        "    </tr>\n",
        "    <tr>\n",
        "      <th>AjarKeen/netreader</th>\n",
        "      <td> 22</td>\n",
        "      <td>  0</td>\n",
        "      <td> NaN</td>\n",
        "      <td> NaN</td>\n",
        "    </tr>\n",
        "    <tr>\n",
        "      <th>AlexBerlin/BerlinOpenData</th>\n",
        "      <td>  7</td>\n",
        "      <td>  0</td>\n",
        "      <td> NaN</td>\n",
        "      <td> NaN</td>\n",
        "    </tr>\n",
        "    <tr>\n",
        "      <th>AlexMckey/Coursera_R</th>\n",
        "      <td>  0</td>\n",
        "      <td>  4</td>\n",
        "      <td> 475</td>\n",
        "      <td> 475</td>\n",
        "    </tr>\n",
        "  </tbody>\n",
        "</table>\n",
        "</div>"
       ],
       "metadata": {},
       "output_type": "pyout",
       "prompt_number": 32,
       "text": [
        "                             futureCommits_num  pastCommits_num  \\\n",
        "repo_full_name                                                    \n",
        "52yyy/Rsweibo                                0               11   \n",
        "AdriMarteau/RTradingStation                  0               14   \n",
        "AjarKeen/netreader                          22                0   \n",
        "AlexBerlin/BerlinOpenData                    7                0   \n",
        "AlexMckey/Coursera_R                         0                4   \n",
        "\n",
        "                             daysSinceLastCommit  daysSinceFirstCommit  \n",
        "repo_full_name                                                          \n",
        "52yyy/Rsweibo                                111                   153  \n",
        "AdriMarteau/RTradingStation                  741                   755  \n",
        "AjarKeen/netreader                           NaN                   NaN  \n",
        "AlexBerlin/BerlinOpenData                    NaN                   NaN  \n",
        "AlexMckey/Coursera_R                         475                   475  "
       ]
      }
     ],
     "prompt_number": 32
    },
    {
     "cell_type": "code",
     "collapsed": false,
     "input": [
      "byRepo.ix['hadley/plyr']"
     ],
     "language": "python",
     "metadata": {},
     "outputs": [
      {
       "metadata": {},
       "output_type": "pyout",
       "prompt_number": 34,
       "text": [
        "futureCommits_num         16\n",
        "pastCommits_num          652\n",
        "daysSinceLastCommit        6\n",
        "daysSinceFirstCommit    2113\n",
        "Name: hadley/plyr, dtype: float64"
       ]
      }
     ],
     "prompt_number": 34
    },
    {
     "cell_type": "code",
     "collapsed": false,
     "input": [
      "createdInPast = byRepo[~ byRepo['daysSinceLastCommit'].isnull()]"
     ],
     "language": "python",
     "metadata": {},
     "outputs": [],
     "prompt_number": 238
    },
    {
     "cell_type": "code",
     "collapsed": false,
     "input": [
      "createdInPast.shape"
     ],
     "language": "python",
     "metadata": {},
     "outputs": [
      {
       "metadata": {},
       "output_type": "pyout",
       "prompt_number": 240,
       "text": [
        "(1812, 3)"
       ]
      }
     ],
     "prompt_number": 240
    },
    {
     "cell_type": "code",
     "collapsed": false,
     "input": [
      "z = pd.Series(data=[3,np.nan,5])"
     ],
     "language": "python",
     "metadata": {},
     "outputs": [],
     "prompt_number": 233
    },
    {
     "cell_type": "code",
     "collapsed": false,
     "input": [
      "~ z.isnull()"
     ],
     "language": "python",
     "metadata": {},
     "outputs": [
      {
       "metadata": {},
       "output_type": "pyout",
       "prompt_number": 237,
       "text": [
        "0     True\n",
        "1    False\n",
        "2     True\n",
        "dtype: bool"
       ]
      }
     ],
     "prompt_number": 237
    },
    {
     "cell_type": "code",
     "collapsed": false,
     "input": [],
     "language": "python",
     "metadata": {},
     "outputs": []
    }
   ],
   "metadata": {}
  }
 ]
}