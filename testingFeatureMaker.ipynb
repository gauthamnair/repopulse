{
 "metadata": {
  "name": "",
  "signature": "sha256:f05f83c85fa7286ea422b3bd58b87060d8871875a53a61c11ce83088a4188a6a"
 },
 "nbformat": 3,
 "nbformat_minor": 0,
 "worksheets": [
  {
   "cells": [
    {
     "cell_type": "code",
     "collapsed": false,
     "input": [
      "%run featureMakers"
     ],
     "language": "python",
     "metadata": {},
     "outputs": [],
     "prompt_number": 119
    },
    {
     "cell_type": "code",
     "collapsed": false,
     "input": [
      "import pymysql as mdb\n",
      "con = mdb.connect('localhost', 'root', '', 'gitdb');"
     ],
     "language": "python",
     "metadata": {},
     "outputs": [],
     "prompt_number": 120
    },
    {
     "cell_type": "code",
     "collapsed": false,
     "input": [
      "query = \"SELECT * FROM WeeklyContributions\"\n",
      "contrib = pd.io.sql.read_sql(query, con)"
     ],
     "language": "python",
     "metadata": {},
     "outputs": [],
     "prompt_number": 121
    },
    {
     "cell_type": "code",
     "collapsed": false,
     "input": [
      "vals = contrib['week_start'].values"
     ],
     "language": "python",
     "metadata": {},
     "outputs": [],
     "prompt_number": 110
    },
    {
     "cell_type": "code",
     "collapsed": false,
     "input": [
      "setIndexToWeekStartDate(contrib)\n",
      "contrib.head()"
     ],
     "language": "python",
     "metadata": {},
     "outputs": [
      {
       "html": [
        "<div style=\"max-height:1000px;max-width:1500px;overflow:auto;\">\n",
        "<table border=\"1\" class=\"dataframe\">\n",
        "  <thead>\n",
        "    <tr style=\"text-align: right;\">\n",
        "      <th></th>\n",
        "      <th>id</th>\n",
        "      <th>author_login</th>\n",
        "      <th>repo_full_name</th>\n",
        "      <th>week_start</th>\n",
        "      <th>commits_num</th>\n",
        "      <th>additions_num</th>\n",
        "      <th>deletions_num</th>\n",
        "    </tr>\n",
        "  </thead>\n",
        "  <tbody>\n",
        "    <tr>\n",
        "      <th>2014-07-12</th>\n",
        "      <td> 1</td>\n",
        "      <td> hadley</td>\n",
        "      <td>    hadley/rvest</td>\n",
        "      <td>2014-07-12 20:00:00</td>\n",
        "      <td> 14</td>\n",
        "      <td>  519</td>\n",
        "      <td> 108</td>\n",
        "    </tr>\n",
        "    <tr>\n",
        "      <th>2014-07-19</th>\n",
        "      <td> 2</td>\n",
        "      <td> hadley</td>\n",
        "      <td>    hadley/rvest</td>\n",
        "      <td>2014-07-19 20:00:00</td>\n",
        "      <td> 14</td>\n",
        "      <td>  419</td>\n",
        "      <td>  70</td>\n",
        "    </tr>\n",
        "    <tr>\n",
        "      <th>2014-07-26</th>\n",
        "      <td> 3</td>\n",
        "      <td> hadley</td>\n",
        "      <td>    hadley/rvest</td>\n",
        "      <td>2014-07-26 20:00:00</td>\n",
        "      <td> 35</td>\n",
        "      <td> 1291</td>\n",
        "      <td> 422</td>\n",
        "    </tr>\n",
        "    <tr>\n",
        "      <th>2014-07-05</th>\n",
        "      <td> 4</td>\n",
        "      <td>   juba</td>\n",
        "      <td> juba/rmdformats</td>\n",
        "      <td>2014-07-05 20:00:00</td>\n",
        "      <td> 16</td>\n",
        "      <td> 3268</td>\n",
        "      <td>  27</td>\n",
        "    </tr>\n",
        "    <tr>\n",
        "      <th>2014-07-12</th>\n",
        "      <td> 5</td>\n",
        "      <td>   juba</td>\n",
        "      <td> juba/rmdformats</td>\n",
        "      <td>2014-07-12 20:00:00</td>\n",
        "      <td>  1</td>\n",
        "      <td>    8</td>\n",
        "      <td>   7</td>\n",
        "    </tr>\n",
        "  </tbody>\n",
        "</table>\n",
        "</div>"
       ],
       "metadata": {},
       "output_type": "pyout",
       "prompt_number": 122,
       "text": [
        "            id author_login   repo_full_name          week_start  commits_num  \\\n",
        "2014-07-12   1       hadley     hadley/rvest 2014-07-12 20:00:00           14   \n",
        "2014-07-19   2       hadley     hadley/rvest 2014-07-19 20:00:00           14   \n",
        "2014-07-26   3       hadley     hadley/rvest 2014-07-26 20:00:00           35   \n",
        "2014-07-05   4         juba  juba/rmdformats 2014-07-05 20:00:00           16   \n",
        "2014-07-12   5         juba  juba/rmdformats 2014-07-12 20:00:00            1   \n",
        "\n",
        "            additions_num  deletions_num  \n",
        "2014-07-12            519            108  \n",
        "2014-07-19            419             70  \n",
        "2014-07-26           1291            422  \n",
        "2014-07-05           3268             27  \n",
        "2014-07-12              8              7  "
       ]
      }
     ],
     "prompt_number": 122
    },
    {
     "cell_type": "code",
     "collapsed": false,
     "input": [
      "plyr = contrib[contrib['repo_full_name']=='hadley/plyr']\n",
      "hadleyPlyr = plyr[plyr['author_login'] == 'hadley']"
     ],
     "language": "python",
     "metadata": {},
     "outputs": [],
     "prompt_number": 123
    },
    {
     "cell_type": "code",
     "collapsed": false,
     "input": [
      "hadleyPlyr['commits_num'].plot()"
     ],
     "language": "python",
     "metadata": {},
     "outputs": [
      {
       "metadata": {},
       "output_type": "pyout",
       "prompt_number": 124,
       "text": [
        "<matplotlib.axes.AxesSubplot at 0x10a818e10>"
       ]
      },
      {
       "metadata": {},
       "output_type": "display_data",
       "png": "[encoded data removed]",
       "text": [
        "<matplotlib.figure.Figure at 0x10a23cd90>"
       ]
      }
     ],
     "prompt_number": 124
    },
    {
     "cell_type": "markdown",
     "metadata": {},
     "source": [
      "# resample to days"
     ]
    },
    {
     "cell_type": "code",
     "collapsed": false,
     "input": [
      "dailyHadleyPlyr = resampleToDays(hadleyPlyr['commits_num'])\n",
      "dailyHadleyPlyr.plot()"
     ],
     "language": "python",
     "metadata": {},
     "outputs": [
      {
       "metadata": {},
       "output_type": "pyout",
       "prompt_number": 125,
       "text": [
        "<matplotlib.axes.AxesSubplot at 0x10a9a0b50>"
       ]
      },
      {
       "metadata": {},
       "output_type": "display_data",
       "png": "[encoded data removed]",
       "text": [
        "<matplotlib.figure.Figure at 0x109f5ab50>"
       ]
      }
     ],
     "prompt_number": 125
    },
    {
     "cell_type": "code",
     "collapsed": false,
     "input": [
      "dailyHadleyPlyr.sum()"
     ],
     "language": "python",
     "metadata": {},
     "outputs": [
      {
       "metadata": {},
       "output_type": "pyout",
       "prompt_number": 126,
       "text": [
        "560.00000000000091"
       ]
      }
     ],
     "prompt_number": 126
    },
    {
     "cell_type": "code",
     "collapsed": false,
     "input": [
      "hadleyPlyr['commits_num'].sum()"
     ],
     "language": "python",
     "metadata": {},
     "outputs": [
      {
       "metadata": {},
       "output_type": "pyout",
       "prompt_number": 127,
       "text": [
        "560"
       ]
      }
     ],
     "prompt_number": 127
    },
    {
     "cell_type": "code",
     "collapsed": false,
     "input": [
      "firstbit = hadleyPlyr['commits_num'].ix[:'2008-06-01']\n",
      "np.abs(firstbit.sum() - resampleToDays(firstbit).sum()) < 0.00001"
     ],
     "language": "python",
     "metadata": {},
     "outputs": [
      {
       "metadata": {},
       "output_type": "pyout",
       "prompt_number": 129,
       "text": [
        "True"
       ]
      }
     ],
     "prompt_number": 129
    },
    {
     "cell_type": "code",
     "collapsed": false,
     "input": [
      "lastbit = hadleyPlyr['commits_num'].ix['2013-10-01':]\n",
      "lastbit"
     ],
     "language": "python",
     "metadata": {},
     "outputs": [
      {
       "metadata": {},
       "output_type": "pyout",
       "prompt_number": 130,
       "text": [
        "2013-11-23    11\n",
        "2013-12-28     8\n",
        "2014-01-04     2\n",
        "2014-02-15     9\n",
        "2014-02-22     3\n",
        "Name: commits_num, dtype: int64"
       ]
      }
     ],
     "prompt_number": 130
    },
    {
     "cell_type": "code",
     "collapsed": false,
     "input": [
      "resampleToDays(lastbit).sum()"
     ],
     "language": "python",
     "metadata": {},
     "outputs": [
      {
       "metadata": {},
       "output_type": "pyout",
       "prompt_number": 131,
       "text": [
        "32.999999999999979"
       ]
      }
     ],
     "prompt_number": 131
    },
    {
     "cell_type": "code",
     "collapsed": false,
     "input": [
      "lastbit.sum()"
     ],
     "language": "python",
     "metadata": {},
     "outputs": [
      {
       "metadata": {},
       "output_type": "pyout",
       "prompt_number": 132,
       "text": [
        "33"
       ]
      }
     ],
     "prompt_number": 132
    },
    {
     "cell_type": "code",
     "collapsed": false,
     "input": [
      "weeklySum = hadleyPlyr['commits_num'].cumsum()\n",
      "dailySum = resampleToDays(hadleyPlyr['commits_num']).cumsum()"
     ],
     "language": "python",
     "metadata": {},
     "outputs": [],
     "prompt_number": 138
    },
    {
     "cell_type": "code",
     "collapsed": false,
     "input": [
      "weeklyReindexed = weeklySum.reindex(index=dailySum.index, method='ffill')\n",
      "weeklyReindexed[-1]"
     ],
     "language": "python",
     "metadata": {},
     "outputs": [
      {
       "metadata": {},
       "output_type": "pyout",
       "prompt_number": 139,
       "text": [
        "560"
       ]
      }
     ],
     "prompt_number": 139
    },
    {
     "cell_type": "code",
     "collapsed": false,
     "input": [
      "(weeklyReindexed - dailySum).plot()"
     ],
     "language": "python",
     "metadata": {},
     "outputs": [
      {
       "metadata": {},
       "output_type": "pyout",
       "prompt_number": 140,
       "text": [
        "<matplotlib.axes.AxesSubplot at 0x10afb1a90>"
       ]
      },
      {
       "metadata": {},
       "output_type": "display_data",
       "png": "[encoded data removed]",
       "text": [
        "<matplotlib.figure.Figure at 0x10afa0c10>"
       ]
      }
     ],
     "prompt_number": 140
    },
    {
     "cell_type": "markdown",
     "metadata": {},
     "source": [
      "# total commits in a period"
     ]
    },
    {
     "cell_type": "code",
     "collapsed": false,
     "input": [
      "defaultTref()"
     ],
     "language": "python",
     "metadata": {},
     "outputs": [
      {
       "metadata": {},
       "output_type": "pyout",
       "prompt_number": 144,
       "text": [
        "datetime.date(2014, 2, 7)"
       ]
      }
     ],
     "prompt_number": 144
    },
    {
     "cell_type": "code",
     "collapsed": false,
     "input": [
      "featureMaker = FeatureMaker(tref=defaultTref())"
     ],
     "language": "python",
     "metadata": {},
     "outputs": [],
     "prompt_number": 147
    },
    {
     "cell_type": "code",
     "collapsed": false,
     "input": [
      "featureMaker.totalInPeriodStarting(dailyHadleyPlyr)"
     ],
     "language": "python",
     "metadata": {},
     "outputs": [
      {
       "metadata": {},
       "output_type": "pyout",
       "prompt_number": 148,
       "text": [
        "12.000000000000002"
       ]
      }
     ],
     "prompt_number": 148
    },
    {
     "cell_type": "code",
     "collapsed": false,
     "input": [
      "featureMaker.totalInPeriodStarting(hadleyPlyr['commits_num'])"
     ],
     "language": "python",
     "metadata": {},
     "outputs": [
      {
       "metadata": {},
       "output_type": "pyout",
       "prompt_number": 149,
       "text": [
        "12"
       ]
      }
     ],
     "prompt_number": 149
    },
    {
     "cell_type": "markdown",
     "metadata": {},
     "source": [
      "# function to get time since last commit"
     ]
    },
    {
     "cell_type": "code",
     "collapsed": false,
     "input": [
      "dailyHadleyPlyr[dailyHadleyPlyr>0].ix[:defaultTref()].tail()"
     ],
     "language": "python",
     "metadata": {},
     "outputs": [
      {
       "metadata": {},
       "output_type": "pyout",
       "prompt_number": 150,
       "text": [
        "2014-01-06    0.285714\n",
        "2014-01-07    0.285714\n",
        "2014-01-08    0.285714\n",
        "2014-01-09    0.285714\n",
        "2014-01-10    0.285714\n",
        "Name: commits_num, dtype: float64"
       ]
      }
     ],
     "prompt_number": 150
    },
    {
     "cell_type": "code",
     "collapsed": false,
     "input": [
      "featureMaker.daysSinceLastNonZero(dailyHadleyPlyr)"
     ],
     "language": "python",
     "metadata": {},
     "outputs": [
      {
       "metadata": {},
       "output_type": "pyout",
       "prompt_number": 151,
       "text": [
        "28"
       ]
      }
     ],
     "prompt_number": 151
    },
    {
     "cell_type": "code",
     "collapsed": false,
     "input": [
      "featureMaker.mostRecentNonZero(dailyHadleyPlyr)"
     ],
     "language": "python",
     "metadata": {},
     "outputs": [
      {
       "metadata": {},
       "output_type": "pyout",
       "prompt_number": 152,
       "text": [
        "Timestamp('2014-01-10 00:00:00')"
       ]
      }
     ],
     "prompt_number": 152
    },
    {
     "cell_type": "code",
     "collapsed": false,
     "input": [
      "defaultTref()"
     ],
     "language": "python",
     "metadata": {},
     "outputs": [
      {
       "metadata": {},
       "output_type": "pyout",
       "prompt_number": 153,
       "text": [
        "datetime.date(2014, 2, 7)"
       ]
      }
     ],
     "prompt_number": 153
    },
    {
     "cell_type": "markdown",
     "metadata": {},
     "source": [
      "# commits to date"
     ]
    },
    {
     "cell_type": "code",
     "collapsed": false,
     "input": [
      "featureMaker.totalToDate(dailyHadleyPlyr)"
     ],
     "language": "python",
     "metadata": {},
     "outputs": [
      {
       "metadata": {},
       "output_type": "pyout",
       "prompt_number": 154,
       "text": [
        "548.00000000000045"
       ]
      }
     ],
     "prompt_number": 154
    },
    {
     "cell_type": "code",
     "collapsed": false,
     "input": [
      "dailyHadleyPlyr.ix[:defaultTref()].sum()"
     ],
     "language": "python",
     "metadata": {},
     "outputs": [
      {
       "metadata": {},
       "output_type": "pyout",
       "prompt_number": 155,
       "text": [
        "548.00000000000045"
       ]
      }
     ],
     "prompt_number": 155
    },
    {
     "cell_type": "code",
     "collapsed": false,
     "input": [
      "hadleyPlyr['commits_num'].ix[:defaultTref()].sum()"
     ],
     "language": "python",
     "metadata": {},
     "outputs": [
      {
       "metadata": {},
       "output_type": "pyout",
       "prompt_number": 156,
       "text": [
        "548"
       ]
      }
     ],
     "prompt_number": 156
    },
    {
     "cell_type": "markdown",
     "metadata": {},
     "source": [
      "# an aggregator"
     ]
    },
    {
     "cell_type": "code",
     "collapsed": false,
     "input": [
      "results = dict()\n",
      "basicFeatureMakers = featureMaker.makeBasicCommitsFeatureMakers()['commits_num']\n",
      "for (name, maker) in basicFeatureMakers.items():\n",
      "    results[name] = maker(dailyHadleyPlyr)\n",
      "results"
     ],
     "language": "python",
     "metadata": {},
     "outputs": [
      {
       "metadata": {},
       "output_type": "pyout",
       "prompt_number": 158,
       "text": [
        "{'daysSinceFirstCommit': 2113,\n",
        " 'daysSinceLastCommit': 28,\n",
        " 'futureCommits_num': 12.000000000000002,\n",
        " 'pastCommits_num': 548.00000000000045}"
       ]
      }
     ],
     "prompt_number": 158
    },
    {
     "cell_type": "code",
     "collapsed": false,
     "input": [
      "dailyHadleyPlyr.head()"
     ],
     "language": "python",
     "metadata": {},
     "outputs": [
      {
       "metadata": {},
       "output_type": "pyout",
       "prompt_number": 160,
       "text": [
        "2008-04-26    2.142857\n",
        "2008-04-27    2.142857\n",
        "2008-04-28    2.142857\n",
        "2008-04-29    2.142857\n",
        "2008-04-30    2.142857\n",
        "Freq: D, Name: commits_num, dtype: float64"
       ]
      }
     ],
     "prompt_number": 160
    },
    {
     "cell_type": "code",
     "collapsed": false,
     "input": [
      "smoothed = pd.ewma(dailyHadleyPlyr, com=30*2)"
     ],
     "language": "python",
     "metadata": {},
     "outputs": [],
     "prompt_number": 163
    },
    {
     "cell_type": "code",
     "collapsed": false,
     "input": [
      "smoothed.plot()"
     ],
     "language": "python",
     "metadata": {},
     "outputs": [
      {
       "metadata": {},
       "output_type": "pyout",
       "prompt_number": 164,
       "text": [
        "<matplotlib.axes.AxesSubplot at 0x10b075190>"
       ]
      },
      {
       "metadata": {},
       "output_type": "display_data",
       "png": "[encoded data removed]",
       "text": [
        "<matplotlib.figure.Figure at 0x10b32b650>"
       ]
      }
     ],
     "prompt_number": 164
    },
    {
     "cell_type": "code",
     "collapsed": false,
     "input": [],
     "language": "python",
     "metadata": {},
     "outputs": []
    }
   ],
   "metadata": {}
  }
 ]
}