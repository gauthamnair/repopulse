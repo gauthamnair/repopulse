{
 "metadata": {
  "name": "",
  "signature": "sha256:4ff7e17ebda4af4afd3839cf3640052c75892d193c0da27fdc11f9ebef207719"
 },
 "nbformat": 3,
 "nbformat_minor": 0,
 "worksheets": [
  {
   "cells": [
    {
     "cell_type": "code",
     "collapsed": false,
     "input": [
      "%run featureMakers"
     ],
     "language": "python",
     "metadata": {},
     "outputs": [],
     "prompt_number": 191
    },
    {
     "cell_type": "code",
     "collapsed": false,
     "input": [
      "import pymysql as mdb\n",
      "con = mdb.connect('localhost', 'root', '', 'gitdb');"
     ],
     "language": "python",
     "metadata": {},
     "outputs": [],
     "prompt_number": 192
    },
    {
     "cell_type": "code",
     "collapsed": false,
     "input": [
      "query = \"SELECT * FROM WeeklyContributions\"\n",
      "contrib = pd.io.sql.read_sql(query, con)"
     ],
     "language": "python",
     "metadata": {},
     "outputs": [],
     "prompt_number": 194
    },
    {
     "cell_type": "code",
     "collapsed": false,
     "input": [
      "contrib.index = contrib['week_start']\n",
      "contrib.head()"
     ],
     "language": "python",
     "metadata": {},
     "outputs": [
      {
       "html": [
        "<div style=\"max-height:1000px;max-width:1500px;overflow:auto;\">\n",
        "<table border=\"1\" class=\"dataframe\">\n",
        "  <thead>\n",
        "    <tr style=\"text-align: right;\">\n",
        "      <th></th>\n",
        "      <th>id</th>\n",
        "      <th>author_login</th>\n",
        "      <th>repo_full_name</th>\n",
        "      <th>week_start</th>\n",
        "      <th>commits_num</th>\n",
        "      <th>additions_num</th>\n",
        "      <th>deletions_num</th>\n",
        "    </tr>\n",
        "    <tr>\n",
        "      <th>week_start</th>\n",
        "      <th></th>\n",
        "      <th></th>\n",
        "      <th></th>\n",
        "      <th></th>\n",
        "      <th></th>\n",
        "      <th></th>\n",
        "      <th></th>\n",
        "    </tr>\n",
        "  </thead>\n",
        "  <tbody>\n",
        "    <tr>\n",
        "      <th>2014-07-12 20:00:00</th>\n",
        "      <td> 1</td>\n",
        "      <td> hadley</td>\n",
        "      <td>    hadley/rvest</td>\n",
        "      <td>2014-07-12 20:00:00</td>\n",
        "      <td> 14</td>\n",
        "      <td>  519</td>\n",
        "      <td> 108</td>\n",
        "    </tr>\n",
        "    <tr>\n",
        "      <th>2014-07-19 20:00:00</th>\n",
        "      <td> 2</td>\n",
        "      <td> hadley</td>\n",
        "      <td>    hadley/rvest</td>\n",
        "      <td>2014-07-19 20:00:00</td>\n",
        "      <td> 14</td>\n",
        "      <td>  419</td>\n",
        "      <td>  70</td>\n",
        "    </tr>\n",
        "    <tr>\n",
        "      <th>2014-07-26 20:00:00</th>\n",
        "      <td> 3</td>\n",
        "      <td> hadley</td>\n",
        "      <td>    hadley/rvest</td>\n",
        "      <td>2014-07-26 20:00:00</td>\n",
        "      <td> 35</td>\n",
        "      <td> 1291</td>\n",
        "      <td> 422</td>\n",
        "    </tr>\n",
        "    <tr>\n",
        "      <th>2014-07-05 20:00:00</th>\n",
        "      <td> 4</td>\n",
        "      <td>   juba</td>\n",
        "      <td> juba/rmdformats</td>\n",
        "      <td>2014-07-05 20:00:00</td>\n",
        "      <td> 16</td>\n",
        "      <td> 3268</td>\n",
        "      <td>  27</td>\n",
        "    </tr>\n",
        "    <tr>\n",
        "      <th>2014-07-12 20:00:00</th>\n",
        "      <td> 5</td>\n",
        "      <td>   juba</td>\n",
        "      <td> juba/rmdformats</td>\n",
        "      <td>2014-07-12 20:00:00</td>\n",
        "      <td>  1</td>\n",
        "      <td>    8</td>\n",
        "      <td>   7</td>\n",
        "    </tr>\n",
        "  </tbody>\n",
        "</table>\n",
        "</div>"
       ],
       "metadata": {},
       "output_type": "pyout",
       "prompt_number": 195,
       "text": [
        "                     id author_login   repo_full_name          week_start  \\\n",
        "week_start                                                                  \n",
        "2014-07-12 20:00:00   1       hadley     hadley/rvest 2014-07-12 20:00:00   \n",
        "2014-07-19 20:00:00   2       hadley     hadley/rvest 2014-07-19 20:00:00   \n",
        "2014-07-26 20:00:00   3       hadley     hadley/rvest 2014-07-26 20:00:00   \n",
        "2014-07-05 20:00:00   4         juba  juba/rmdformats 2014-07-05 20:00:00   \n",
        "2014-07-12 20:00:00   5         juba  juba/rmdformats 2014-07-12 20:00:00   \n",
        "\n",
        "                     commits_num  additions_num  deletions_num  \n",
        "week_start                                                      \n",
        "2014-07-12 20:00:00           14            519            108  \n",
        "2014-07-19 20:00:00           14            419             70  \n",
        "2014-07-26 20:00:00           35           1291            422  \n",
        "2014-07-05 20:00:00           16           3268             27  \n",
        "2014-07-12 20:00:00            1              8              7  "
       ]
      }
     ],
     "prompt_number": 195
    },
    {
     "cell_type": "code",
     "collapsed": false,
     "input": [
      "plyr = contrib[contrib['repo_full_name']=='hadley/plyr']\n",
      "hadleyPlyr = plyr[plyr['author_login'] == 'hadley']"
     ],
     "language": "python",
     "metadata": {},
     "outputs": [],
     "prompt_number": 196
    },
    {
     "cell_type": "code",
     "collapsed": false,
     "input": [
      "hadleyPlyr['commits_num'].plot()"
     ],
     "language": "python",
     "metadata": {},
     "outputs": [
      {
       "metadata": {},
       "output_type": "pyout",
       "prompt_number": 197,
       "text": [
        "<matplotlib.axes.AxesSubplot at 0x10b32f0d0>"
       ]
      },
      {
       "metadata": {},
       "output_type": "display_data",
       "png": "[encoded data removed]",
       "text": [
        "<matplotlib.figure.Figure at 0x109e13150>"
       ]
      }
     ],
     "prompt_number": 197
    },
    {
     "cell_type": "markdown",
     "metadata": {},
     "source": [
      "# resample to days"
     ]
    },
    {
     "cell_type": "code",
     "collapsed": false,
     "input": [
      "dailyHadleyPlyr = resampleToDays(hadleyPlyr['commits_num'])\n",
      "dailyHadleyPlyr.plot()"
     ],
     "language": "python",
     "metadata": {},
     "outputs": [
      {
       "metadata": {},
       "output_type": "pyout",
       "prompt_number": 198,
       "text": [
        "<matplotlib.axes.AxesSubplot at 0x10b7f7750>"
       ]
      },
      {
       "metadata": {},
       "output_type": "display_data",
       "png": "[encoded data removed]",
       "text": [
        "<matplotlib.figure.Figure at 0x109e109d0>"
       ]
      }
     ],
     "prompt_number": 198
    },
    {
     "cell_type": "code",
     "collapsed": false,
     "input": [
      "dailyHadleyPlyr.sum()"
     ],
     "language": "python",
     "metadata": {},
     "outputs": [
      {
       "metadata": {},
       "output_type": "pyout",
       "prompt_number": 199,
       "text": [
        "575.28571428571524"
       ]
      }
     ],
     "prompt_number": 199
    },
    {
     "cell_type": "code",
     "collapsed": false,
     "input": [
      "hadleyPlyr['commits_num'].sum()"
     ],
     "language": "python",
     "metadata": {},
     "outputs": [
      {
       "metadata": {},
       "output_type": "pyout",
       "prompt_number": 200,
       "text": [
        "560"
       ]
      }
     ],
     "prompt_number": 200
    },
    {
     "cell_type": "markdown",
     "metadata": {},
     "source": [
      "I need to fix this discrepancy at some point. It implies some bad ffilling somewhere."
     ]
    },
    {
     "cell_type": "markdown",
     "metadata": {},
     "source": [
      "# total commits in a period"
     ]
    },
    {
     "cell_type": "code",
     "collapsed": false,
     "input": [
      "defaultTref()"
     ],
     "language": "python",
     "metadata": {},
     "outputs": [
      {
       "metadata": {},
       "output_type": "pyout",
       "prompt_number": 201,
       "text": [
        "datetime.date(2014, 2, 7)"
       ]
      }
     ],
     "prompt_number": 201
    },
    {
     "cell_type": "code",
     "collapsed": false,
     "input": [
      "totalInPeriodStarting(\n",
      "    timeseries=dailyHadleyPlyr, \n",
      "    tref=defaultTref(), \n",
      "    futureWindowInDays=defaultFutureWindowInDays)"
     ],
     "language": "python",
     "metadata": {},
     "outputs": [
      {
       "metadata": {},
       "output_type": "pyout",
       "prompt_number": 202,
       "text": [
        "12.000000000000002"
       ]
      }
     ],
     "prompt_number": 202
    },
    {
     "cell_type": "code",
     "collapsed": false,
     "input": [
      "totalInDefaultPeriod(dailyHadleyPlyr)"
     ],
     "language": "python",
     "metadata": {},
     "outputs": [
      {
       "metadata": {},
       "output_type": "pyout",
       "prompt_number": 203,
       "text": [
        "12.000000000000002"
       ]
      }
     ],
     "prompt_number": 203
    },
    {
     "cell_type": "code",
     "collapsed": false,
     "input": [
      "totalInDefaultPeriod(hadleyPlyr['commits_num'])"
     ],
     "language": "python",
     "metadata": {},
     "outputs": [
      {
       "metadata": {},
       "output_type": "pyout",
       "prompt_number": 204,
       "text": [
        "12"
       ]
      }
     ],
     "prompt_number": 204
    },
    {
     "cell_type": "code",
     "collapsed": false,
     "input": [
      "hadleyPlyr['commits_num'].ix[defaultTref():].sum()"
     ],
     "language": "python",
     "metadata": {},
     "outputs": [
      {
       "metadata": {},
       "output_type": "pyout",
       "prompt_number": 205,
       "text": [
        "12"
       ]
      }
     ],
     "prompt_number": 205
    },
    {
     "cell_type": "markdown",
     "metadata": {},
     "source": [
      "# function to get time since last commit"
     ]
    },
    {
     "cell_type": "code",
     "collapsed": false,
     "input": [
      "dailyHadleyPlyr[dailyHadleyPlyr>0].ix[:defaultTref()].tail()"
     ],
     "language": "python",
     "metadata": {},
     "outputs": [
      {
       "metadata": {},
       "output_type": "pyout",
       "prompt_number": 206,
       "text": [
        "2014-01-06 20:00:00    0.285714\n",
        "2014-01-07 20:00:00    0.285714\n",
        "2014-01-08 20:00:00    0.285714\n",
        "2014-01-09 20:00:00    0.285714\n",
        "2014-01-10 20:00:00    0.285714\n",
        "Name: commits_num, dtype: float64"
       ]
      }
     ],
     "prompt_number": 206
    },
    {
     "cell_type": "code",
     "collapsed": false,
     "input": [
      "daysSinceLastNonZero(dailyHadleyPlyr, tref=defaultTref())"
     ],
     "language": "python",
     "metadata": {},
     "outputs": [
      {
       "metadata": {},
       "output_type": "pyout",
       "prompt_number": 207,
       "text": [
        "28"
       ]
      }
     ],
     "prompt_number": 207
    },
    {
     "cell_type": "code",
     "collapsed": false,
     "input": [
      "mostRecentNonZero(dailyHadleyPlyr, tref=defaultTref())"
     ],
     "language": "python",
     "metadata": {},
     "outputs": [
      {
       "metadata": {},
       "output_type": "pyout",
       "prompt_number": 208,
       "text": [
        "Timestamp('2014-01-10 20:00:00')"
       ]
      }
     ],
     "prompt_number": 208
    },
    {
     "cell_type": "code",
     "collapsed": false,
     "input": [
      "defaultTref()"
     ],
     "language": "python",
     "metadata": {},
     "outputs": [
      {
       "metadata": {},
       "output_type": "pyout",
       "prompt_number": 209,
       "text": [
        "datetime.date(2014, 2, 7)"
       ]
      }
     ],
     "prompt_number": 209
    },
    {
     "cell_type": "markdown",
     "metadata": {},
     "source": [
      "# commits to date"
     ]
    },
    {
     "cell_type": "code",
     "collapsed": false,
     "input": [
      "totalToDate(dailyHadleyPlyr, tref=defaultTref())"
     ],
     "language": "python",
     "metadata": {},
     "outputs": [
      {
       "metadata": {},
       "output_type": "pyout",
       "prompt_number": 210,
       "text": [
        "563.28571428571479"
       ]
      }
     ],
     "prompt_number": 210
    },
    {
     "cell_type": "code",
     "collapsed": false,
     "input": [
      "dailyHadleyPlyr.ix[:defaultTref()].sum()"
     ],
     "language": "python",
     "metadata": {},
     "outputs": [
      {
       "metadata": {},
       "output_type": "pyout",
       "prompt_number": 211,
       "text": [
        "563.28571428571479"
       ]
      }
     ],
     "prompt_number": 211
    },
    {
     "cell_type": "code",
     "collapsed": false,
     "input": [
      "hadleyPlyr['commits_num'].ix[:defaultTref()].sum()"
     ],
     "language": "python",
     "metadata": {},
     "outputs": [
      {
       "metadata": {},
       "output_type": "pyout",
       "prompt_number": 212,
       "text": [
        "548"
       ]
      }
     ],
     "prompt_number": 212
    },
    {
     "cell_type": "markdown",
     "metadata": {},
     "source": [
      "discrepancy"
     ]
    },
    {
     "cell_type": "markdown",
     "metadata": {},
     "source": [
      "# an aggregator"
     ]
    },
    {
     "cell_type": "code",
     "collapsed": false,
     "input": [
      "tref = defaultTref()\n",
      "def makeFeatureMakersFromDefault():\n",
      "    return makeFeatureMakers(tref=tref)\n",
      "featureMakers = makeFeatureMakersFromDefault()"
     ],
     "language": "python",
     "metadata": {},
     "outputs": [],
     "prompt_number": 213
    },
    {
     "cell_type": "code",
     "collapsed": false,
     "input": [
      "results = dict()\n",
      "for maker in featureMakers:\n",
      "    results[maker.__name__] = maker(dailyHadleyPlyr)\n",
      "results"
     ],
     "language": "python",
     "metadata": {},
     "outputs": [
      {
       "metadata": {},
       "output_type": "pyout",
       "prompt_number": 214,
       "text": [
        "{'daysSinceLastCommit': 28,\n",
        " 'futureCommits_num': 12.000000000000002,\n",
        " 'pastCommits_num': 563.28571428571479}"
       ]
      }
     ],
     "prompt_number": 214
    },
    {
     "cell_type": "code",
     "collapsed": false,
     "input": [
      "results = dict()\n",
      "for maker in featureMakers:\n",
      "    results[maker.__name__] = maker(hadleyPlyr['commits_num'])\n",
      "results"
     ],
     "language": "python",
     "metadata": {},
     "outputs": [
      {
       "metadata": {},
       "output_type": "pyout",
       "prompt_number": 215,
       "text": [
        "{'daysSinceLastCommit': 34, 'futureCommits_num': 12, 'pastCommits_num': 548}"
       ]
      }
     ],
     "prompt_number": 215
    },
    {
     "cell_type": "code",
     "collapsed": false,
     "input": [
      "# contrib[['repo_full_name', 'author_login']]\n",
      "# contrib.head()"
     ],
     "language": "python",
     "metadata": {},
     "outputs": [],
     "prompt_number": 216
    },
    {
     "cell_type": "code",
     "collapsed": false,
     "input": [
      "grouped = contrib.groupby(['repo_full_name', 'author_login'], as_index=False)"
     ],
     "language": "python",
     "metadata": {},
     "outputs": [],
     "prompt_number": 217
    },
    {
     "cell_type": "code",
     "collapsed": false,
     "input": [
      "# for (groupID, group) in grouped['commits_num']:\n",
      "#     try:\n",
      "#         for maker in featureMakers:\n",
      "#             maker(group['commits_num'])\n",
      "#     except:\n",
      "#         print groupID\n",
      "#         failed = group\n",
      "#         break"
     ],
     "language": "python",
     "metadata": {},
     "outputs": [],
     "prompt_number": 218
    },
    {
     "cell_type": "code",
     "collapsed": false,
     "input": [
      "aggregated = grouped['commits_num'].aggregate(featureMakers)"
     ],
     "language": "python",
     "metadata": {},
     "outputs": [],
     "prompt_number": 219
    },
    {
     "cell_type": "code",
     "collapsed": false,
     "input": [
      "commitsFeatures = aggregated['commits_num']"
     ],
     "language": "python",
     "metadata": {},
     "outputs": [],
     "prompt_number": 223
    },
    {
     "cell_type": "code",
     "collapsed": false,
     "input": [
      "commitsFeatures.ix['hadley/plyr'].sum()"
     ],
     "language": "python",
     "metadata": {},
     "outputs": [
      {
       "metadata": {},
       "output_type": "pyout",
       "prompt_number": 225,
       "text": [
        "futureCommits_num        16\n",
        "daysSinceLastCommit    6587\n",
        "pastCommits_num         652\n",
        "dtype: float64"
       ]
      }
     ],
     "prompt_number": 225
    },
    {
     "cell_type": "code",
     "collapsed": false,
     "input": [
      "howToAggregate = {\n",
      "'futureCommits_num': np.sum,\n",
      "'pastCommits_num' : np.sum,\n",
      "'daysSinceLastCommit' : np.min\n",
      "}\n",
      "byRepo = commitsFeatures.groupby(level=0).aggregate(howToAggregate)"
     ],
     "language": "python",
     "metadata": {},
     "outputs": [],
     "prompt_number": 226
    },
    {
     "cell_type": "code",
     "collapsed": false,
     "input": [
      "byRepo"
     ],
     "language": "python",
     "metadata": {},
     "outputs": [
      {
       "html": [
        "<div style=\"max-height:1000px;max-width:1500px;overflow:auto;\">\n",
        "<table border=\"1\" class=\"dataframe\">\n",
        "  <thead>\n",
        "    <tr style=\"text-align: right;\">\n",
        "      <th></th>\n",
        "      <th>futureCommits_num</th>\n",
        "      <th>pastCommits_num</th>\n",
        "      <th>daysSinceLastCommit</th>\n",
        "    </tr>\n",
        "    <tr>\n",
        "      <th>repo_full_name</th>\n",
        "      <th></th>\n",
        "      <th></th>\n",
        "      <th></th>\n",
        "    </tr>\n",
        "  </thead>\n",
        "  <tbody>\n",
        "    <tr>\n",
        "      <th>52yyy/Rsweibo</th>\n",
        "      <td>   0</td>\n",
        "      <td>   11</td>\n",
        "      <td>  111</td>\n",
        "    </tr>\n",
        "    <tr>\n",
        "      <th>AdriMarteau/RTradingStation</th>\n",
        "      <td>   0</td>\n",
        "      <td>   14</td>\n",
        "      <td>  741</td>\n",
        "    </tr>\n",
        "    <tr>\n",
        "      <th>AjarKeen/netreader</th>\n",
        "      <td>  22</td>\n",
        "      <td>    0</td>\n",
        "      <td>  NaN</td>\n",
        "    </tr>\n",
        "    <tr>\n",
        "      <th>AlexBerlin/BerlinOpenData</th>\n",
        "      <td>   7</td>\n",
        "      <td>    0</td>\n",
        "      <td>  NaN</td>\n",
        "    </tr>\n",
        "    <tr>\n",
        "      <th>AlexMckey/Coursera_R</th>\n",
        "      <td>   0</td>\n",
        "      <td>    4</td>\n",
        "      <td>  475</td>\n",
        "    </tr>\n",
        "    <tr>\n",
        "      <th>AlexisEidelman/Til</th>\n",
        "      <td>   0</td>\n",
        "      <td>   45</td>\n",
        "      <td>  216</td>\n",
        "    </tr>\n",
        "    <tr>\n",
        "      <th>AmeliaMN/1000tweets</th>\n",
        "      <td>   0</td>\n",
        "      <td>   10</td>\n",
        "      <td>   62</td>\n",
        "    </tr>\n",
        "    <tr>\n",
        "      <th>AndreyAkinshin/DynamicalSystemsPortraits</th>\n",
        "      <td>  34</td>\n",
        "      <td>    2</td>\n",
        "      <td>   41</td>\n",
        "    </tr>\n",
        "    <tr>\n",
        "      <th>ArtS/Statistics-1</th>\n",
        "      <td>   0</td>\n",
        "      <td>    6</td>\n",
        "      <td>  426</td>\n",
        "    </tr>\n",
        "    <tr>\n",
        "      <th>B1aine/kaggle-allstate</th>\n",
        "      <td>  11</td>\n",
        "      <td>    0</td>\n",
        "      <td>  NaN</td>\n",
        "    </tr>\n",
        "    <tr>\n",
        "      <th>BartBruininks/Centrotyping</th>\n",
        "      <td>   0</td>\n",
        "      <td>   28</td>\n",
        "      <td>  685</td>\n",
        "    </tr>\n",
        "    <tr>\n",
        "      <th>BioStatMatt/sas7bdat</th>\n",
        "      <td>   1</td>\n",
        "      <td>   86</td>\n",
        "      <td>  293</td>\n",
        "    </tr>\n",
        "    <tr>\n",
        "      <th>Bioconductor/BiocCheck</th>\n",
        "      <td>  89</td>\n",
        "      <td>   92</td>\n",
        "      <td>    6</td>\n",
        "    </tr>\n",
        "    <tr>\n",
        "      <th>Bioconductor/BiocParallel</th>\n",
        "      <td>  18</td>\n",
        "      <td>  182</td>\n",
        "      <td>   13</td>\n",
        "    </tr>\n",
        "    <tr>\n",
        "      <th>Bioconductor/VCF_projects</th>\n",
        "      <td>   0</td>\n",
        "      <td>    9</td>\n",
        "      <td>  412</td>\n",
        "    </tr>\n",
        "    <tr>\n",
        "      <th>BlindApe/SeeClickPredictFix</th>\n",
        "      <td>   0</td>\n",
        "      <td>    6</td>\n",
        "      <td>   34</td>\n",
        "    </tr>\n",
        "    <tr>\n",
        "      <th>Booblick/eko2011</th>\n",
        "      <td>   0</td>\n",
        "      <td>   16</td>\n",
        "      <td>  832</td>\n",
        "    </tr>\n",
        "    <tr>\n",
        "      <th>BruceJillis/Titanic</th>\n",
        "      <td>   0</td>\n",
        "      <td>   28</td>\n",
        "      <td>  195</td>\n",
        "    </tr>\n",
        "    <tr>\n",
        "      <th>BrunoVilela/letsR</th>\n",
        "      <td>  58</td>\n",
        "      <td>    0</td>\n",
        "      <td>  NaN</td>\n",
        "    </tr>\n",
        "    <tr>\n",
        "      <th>Btibert3/nhl-pbp</th>\n",
        "      <td>   7</td>\n",
        "      <td>    0</td>\n",
        "      <td>  NaN</td>\n",
        "    </tr>\n",
        "    <tr>\n",
        "      <th>Btibert3/nhl-shiny</th>\n",
        "      <td>  32</td>\n",
        "      <td>    0</td>\n",
        "      <td>  NaN</td>\n",
        "    </tr>\n",
        "    <tr>\n",
        "      <th>Btibert3/tableau-r</th>\n",
        "      <td>   0</td>\n",
        "      <td>   15</td>\n",
        "      <td>  195</td>\n",
        "    </tr>\n",
        "    <tr>\n",
        "      <th>Burke-Lauenroth-Lab/SoilWat_R_Wrapper</th>\n",
        "      <td>  90</td>\n",
        "      <td>  276</td>\n",
        "      <td>    6</td>\n",
        "    </tr>\n",
        "    <tr>\n",
        "      <th>CBMi-BiG/bamchop</th>\n",
        "      <td>   0</td>\n",
        "      <td>    7</td>\n",
        "      <td>  146</td>\n",
        "    </tr>\n",
        "    <tr>\n",
        "      <th>CenterForAssessment/SGP</th>\n",
        "      <td> 334</td>\n",
        "      <td> 1709</td>\n",
        "      <td>    6</td>\n",
        "    </tr>\n",
        "    <tr>\n",
        "      <th>CenterForAssessment/SGPdata</th>\n",
        "      <td>   2</td>\n",
        "      <td>   19</td>\n",
        "      <td>   20</td>\n",
        "    </tr>\n",
        "    <tr>\n",
        "      <th>CenterForAssessment/randomNames</th>\n",
        "      <td>   1</td>\n",
        "      <td>    5</td>\n",
        "      <td>  293</td>\n",
        "    </tr>\n",
        "    <tr>\n",
        "      <th>CenterForOpenScience/osfr</th>\n",
        "      <td> 166</td>\n",
        "      <td>    0</td>\n",
        "      <td>  NaN</td>\n",
        "    </tr>\n",
        "    <tr>\n",
        "      <th>ChappedSky/Misc.-Scripts</th>\n",
        "      <td>   0</td>\n",
        "      <td>    3</td>\n",
        "      <td>  860</td>\n",
        "    </tr>\n",
        "    <tr>\n",
        "      <th>CharlesCara/Datastream2R</th>\n",
        "      <td>   7</td>\n",
        "      <td>   13</td>\n",
        "      <td>   20</td>\n",
        "    </tr>\n",
        "    <tr>\n",
        "      <th>...</th>\n",
        "      <td>...</td>\n",
        "      <td>...</td>\n",
        "      <td>...</td>\n",
        "    </tr>\n",
        "    <tr>\n",
        "      <th>yiransheng/A-R-Script-to-Download-Option-Quotes-from-Yahoo--Finance</th>\n",
        "      <td>   0</td>\n",
        "      <td>    4</td>\n",
        "      <td>  699</td>\n",
        "    </tr>\n",
        "    <tr>\n",
        "      <th>yiransheng/Stack-of-R-scripts</th>\n",
        "      <td>   0</td>\n",
        "      <td>   19</td>\n",
        "      <td>  650</td>\n",
        "    </tr>\n",
        "    <tr>\n",
        "      <th>yiransheng/rTrader</th>\n",
        "      <td>   0</td>\n",
        "      <td>    3</td>\n",
        "      <td>  629</td>\n",
        "    </tr>\n",
        "    <tr>\n",
        "      <th>yl2/pa</th>\n",
        "      <td>   0</td>\n",
        "      <td>   15</td>\n",
        "      <td>   62</td>\n",
        "    </tr>\n",
        "    <tr>\n",
        "      <th>yokkuns/R-YjdnJlp</th>\n",
        "      <td>   0</td>\n",
        "      <td>    3</td>\n",
        "      <td> 1056</td>\n",
        "    </tr>\n",
        "    <tr>\n",
        "      <th>yokkuns/r-AnomalyDetection</th>\n",
        "      <td>   0</td>\n",
        "      <td>    9</td>\n",
        "      <td>  496</td>\n",
        "    </tr>\n",
        "    <tr>\n",
        "      <th>yoni/r_we_the_people</th>\n",
        "      <td>   0</td>\n",
        "      <td>   80</td>\n",
        "      <td>  230</td>\n",
        "    </tr>\n",
        "    <tr>\n",
        "      <th>yosoykit/hello_world_from_R</th>\n",
        "      <td>   0</td>\n",
        "      <td>    8</td>\n",
        "      <td>  853</td>\n",
        "    </tr>\n",
        "    <tr>\n",
        "      <th>yrosseel/lavaan</th>\n",
        "      <td>  58</td>\n",
        "      <td>  624</td>\n",
        "      <td>    6</td>\n",
        "    </tr>\n",
        "    <tr>\n",
        "      <th>yunnie/LargeScaleRegression</th>\n",
        "      <td>   0</td>\n",
        "      <td>    2</td>\n",
        "      <td>  664</td>\n",
        "    </tr>\n",
        "    <tr>\n",
        "      <th>zachmayer/caretEnsemble</th>\n",
        "      <td>  40</td>\n",
        "      <td>   26</td>\n",
        "      <td>  342</td>\n",
        "    </tr>\n",
        "    <tr>\n",
        "      <th>zachmayer/cv.ts</th>\n",
        "      <td>   0</td>\n",
        "      <td>   18</td>\n",
        "      <td>   97</td>\n",
        "    </tr>\n",
        "    <tr>\n",
        "      <th>zachmayer/rbm</th>\n",
        "      <td>   3</td>\n",
        "      <td>   32</td>\n",
        "      <td>   13</td>\n",
        "    </tr>\n",
        "    <tr>\n",
        "      <th>zacstewart/kaggle_sas</th>\n",
        "      <td>   0</td>\n",
        "      <td>   57</td>\n",
        "      <td>  538</td>\n",
        "    </tr>\n",
        "    <tr>\n",
        "      <th>zatonovo/futile.logger</th>\n",
        "      <td>   3</td>\n",
        "      <td>   90</td>\n",
        "      <td>   69</td>\n",
        "    </tr>\n",
        "    <tr>\n",
        "      <th>zatonovo/lambda.r</th>\n",
        "      <td>   0</td>\n",
        "      <td>   63</td>\n",
        "      <td>   20</td>\n",
        "    </tr>\n",
        "    <tr>\n",
        "      <th>zatonovo/odessa</th>\n",
        "      <td>   4</td>\n",
        "      <td>   27</td>\n",
        "      <td>   27</td>\n",
        "    </tr>\n",
        "    <tr>\n",
        "      <th>zeitlingerlab/chen_elife_2013</th>\n",
        "      <td>   0</td>\n",
        "      <td>    3</td>\n",
        "      <td>  181</td>\n",
        "    </tr>\n",
        "    <tr>\n",
        "      <th>zeligdev/ZeligDVN</th>\n",
        "      <td>   0</td>\n",
        "      <td>   17</td>\n",
        "      <td>  790</td>\n",
        "    </tr>\n",
        "    <tr>\n",
        "      <th>zeligdev/ZeligGEE</th>\n",
        "      <td>   0</td>\n",
        "      <td>   11</td>\n",
        "      <td>  496</td>\n",
        "    </tr>\n",
        "    <tr>\n",
        "      <th>zeligdev/ZeligMultinomial</th>\n",
        "      <td>   0</td>\n",
        "      <td>   15</td>\n",
        "      <td>  762</td>\n",
        "    </tr>\n",
        "    <tr>\n",
        "      <th>zeligdev/ZeligOrdinal</th>\n",
        "      <td>   0</td>\n",
        "      <td>   25</td>\n",
        "      <td>  790</td>\n",
        "    </tr>\n",
        "    <tr>\n",
        "      <th>zeligdev/ZeligSurvey</th>\n",
        "      <td>   0</td>\n",
        "      <td>   19</td>\n",
        "      <td>  790</td>\n",
        "    </tr>\n",
        "    <tr>\n",
        "      <th>zeligdev/zeligdev.github.com</th>\n",
        "      <td>   0</td>\n",
        "      <td>   76</td>\n",
        "      <td>  482</td>\n",
        "    </tr>\n",
        "    <tr>\n",
        "      <th>zero323/developing-data-products-shiny</th>\n",
        "      <td>   3</td>\n",
        "      <td>    0</td>\n",
        "      <td>  NaN</td>\n",
        "    </tr>\n",
        "    <tr>\n",
        "      <th>zhengxwen/HIBAG</th>\n",
        "      <td>  23</td>\n",
        "      <td>    0</td>\n",
        "      <td>  NaN</td>\n",
        "    </tr>\n",
        "    <tr>\n",
        "      <th>zygmuntz/feature-selection</th>\n",
        "      <td>   1</td>\n",
        "      <td>    1</td>\n",
        "      <td>  391</td>\n",
        "    </tr>\n",
        "    <tr>\n",
        "      <th>zygmuntz/r-libsvm-format-read-write</th>\n",
        "      <td>   1</td>\n",
        "      <td>    3</td>\n",
        "      <td>  356</td>\n",
        "    </tr>\n",
        "    <tr>\n",
        "      <th>zygmuntz/spearmint</th>\n",
        "      <td>   1</td>\n",
        "      <td>   18</td>\n",
        "      <td>  398</td>\n",
        "    </tr>\n",
        "    <tr>\n",
        "      <th>zygmuntz/wine-quality</th>\n",
        "      <td>   1</td>\n",
        "      <td>    5</td>\n",
        "      <td>  419</td>\n",
        "    </tr>\n",
        "  </tbody>\n",
        "</table>\n",
        "<p>2118 rows \u00d7 3 columns</p>\n",
        "</div>"
       ],
       "metadata": {},
       "output_type": "pyout",
       "prompt_number": 229,
       "text": [
        "                                                                     futureCommits_num  \\\n",
        "repo_full_name                                                                           \n",
        "52yyy/Rsweibo                                                                        0   \n",
        "AdriMarteau/RTradingStation                                                          0   \n",
        "AjarKeen/netreader                                                                  22   \n",
        "AlexBerlin/BerlinOpenData                                                            7   \n",
        "AlexMckey/Coursera_R                                                                 0   \n",
        "AlexisEidelman/Til                                                                   0   \n",
        "AmeliaMN/1000tweets                                                                  0   \n",
        "AndreyAkinshin/DynamicalSystemsPortraits                                            34   \n",
        "ArtS/Statistics-1                                                                    0   \n",
        "B1aine/kaggle-allstate                                                              11   \n",
        "BartBruininks/Centrotyping                                                           0   \n",
        "BioStatMatt/sas7bdat                                                                 1   \n",
        "Bioconductor/BiocCheck                                                              89   \n",
        "Bioconductor/BiocParallel                                                           18   \n",
        "Bioconductor/VCF_projects                                                            0   \n",
        "BlindApe/SeeClickPredictFix                                                          0   \n",
        "Booblick/eko2011                                                                     0   \n",
        "BruceJillis/Titanic                                                                  0   \n",
        "BrunoVilela/letsR                                                                   58   \n",
        "Btibert3/nhl-pbp                                                                     7   \n",
        "Btibert3/nhl-shiny                                                                  32   \n",
        "Btibert3/tableau-r                                                                   0   \n",
        "Burke-Lauenroth-Lab/SoilWat_R_Wrapper                                               90   \n",
        "CBMi-BiG/bamchop                                                                     0   \n",
        "CenterForAssessment/SGP                                                            334   \n",
        "CenterForAssessment/SGPdata                                                          2   \n",
        "CenterForAssessment/randomNames                                                      1   \n",
        "CenterForOpenScience/osfr                                                          166   \n",
        "ChappedSky/Misc.-Scripts                                                             0   \n",
        "CharlesCara/Datastream2R                                                             7   \n",
        "...                                                                                ...   \n",
        "yiransheng/A-R-Script-to-Download-Option-Quotes-from-Yahoo--Finance                  0   \n",
        "yiransheng/Stack-of-R-scripts                                                        0   \n",
        "yiransheng/rTrader                                                                   0   \n",
        "yl2/pa                                                                               0   \n",
        "yokkuns/R-YjdnJlp                                                                    0   \n",
        "yokkuns/r-AnomalyDetection                                                           0   \n",
        "yoni/r_we_the_people                                                                 0   \n",
        "yosoykit/hello_world_from_R                                                          0   \n",
        "yrosseel/lavaan                                                                     58   \n",
        "yunnie/LargeScaleRegression                                                          0   \n",
        "zachmayer/caretEnsemble                                                             40   \n",
        "zachmayer/cv.ts                                                                      0   \n",
        "zachmayer/rbm                                                                        3   \n",
        "zacstewart/kaggle_sas                                                                0   \n",
        "zatonovo/futile.logger                                                               3   \n",
        "zatonovo/lambda.r                                                                    0   \n",
        "zatonovo/odessa                                                                      4   \n",
        "zeitlingerlab/chen_elife_2013                                                        0   \n",
        "zeligdev/ZeligDVN                                                                    0   \n",
        "zeligdev/ZeligGEE                                                                    0   \n",
        "zeligdev/ZeligMultinomial                                                            0   \n",
        "zeligdev/ZeligOrdinal                                                                0   \n",
        "zeligdev/ZeligSurvey                                                                 0   \n",
        "zeligdev/zeligdev.github.com                                                         0   \n",
        "zero323/developing-data-products-shiny                                               3   \n",
        "zhengxwen/HIBAG                                                                     23   \n",
        "zygmuntz/feature-selection                                                           1   \n",
        "zygmuntz/r-libsvm-format-read-write                                                  1   \n",
        "zygmuntz/spearmint                                                                   1   \n",
        "zygmuntz/wine-quality                                                                1   \n",
        "\n",
        "                                                                     pastCommits_num  \\\n",
        "repo_full_name                                                                         \n",
        "52yyy/Rsweibo                                                                     11   \n",
        "AdriMarteau/RTradingStation                                                       14   \n",
        "AjarKeen/netreader                                                                 0   \n",
        "AlexBerlin/BerlinOpenData                                                          0   \n",
        "AlexMckey/Coursera_R                                                               4   \n",
        "AlexisEidelman/Til                                                                45   \n",
        "AmeliaMN/1000tweets                                                               10   \n",
        "AndreyAkinshin/DynamicalSystemsPortraits                                           2   \n",
        "ArtS/Statistics-1                                                                  6   \n",
        "B1aine/kaggle-allstate                                                             0   \n",
        "BartBruininks/Centrotyping                                                        28   \n",
        "BioStatMatt/sas7bdat                                                              86   \n",
        "Bioconductor/BiocCheck                                                            92   \n",
        "Bioconductor/BiocParallel                                                        182   \n",
        "Bioconductor/VCF_projects                                                          9   \n",
        "BlindApe/SeeClickPredictFix                                                        6   \n",
        "Booblick/eko2011                                                                  16   \n",
        "BruceJillis/Titanic                                                               28   \n",
        "BrunoVilela/letsR                                                                  0   \n",
        "Btibert3/nhl-pbp                                                                   0   \n",
        "Btibert3/nhl-shiny                                                                 0   \n",
        "Btibert3/tableau-r                                                                15   \n",
        "Burke-Lauenroth-Lab/SoilWat_R_Wrapper                                            276   \n",
        "CBMi-BiG/bamchop                                                                   7   \n",
        "CenterForAssessment/SGP                                                         1709   \n",
        "CenterForAssessment/SGPdata                                                       19   \n",
        "CenterForAssessment/randomNames                                                    5   \n",
        "CenterForOpenScience/osfr                                                          0   \n",
        "ChappedSky/Misc.-Scripts                                                           3   \n",
        "CharlesCara/Datastream2R                                                          13   \n",
        "...                                                                              ...   \n",
        "yiransheng/A-R-Script-to-Download-Option-Quotes-from-Yahoo--Finance                4   \n",
        "yiransheng/Stack-of-R-scripts                                                     19   \n",
        "yiransheng/rTrader                                                                 3   \n",
        "yl2/pa                                                                            15   \n",
        "yokkuns/R-YjdnJlp                                                                  3   \n",
        "yokkuns/r-AnomalyDetection                                                         9   \n",
        "yoni/r_we_the_people                                                              80   \n",
        "yosoykit/hello_world_from_R                                                        8   \n",
        "yrosseel/lavaan                                                                  624   \n",
        "yunnie/LargeScaleRegression                                                        2   \n",
        "zachmayer/caretEnsemble                                                           26   \n",
        "zachmayer/cv.ts                                                                   18   \n",
        "zachmayer/rbm                                                                     32   \n",
        "zacstewart/kaggle_sas                                                             57   \n",
        "zatonovo/futile.logger                                                            90   \n",
        "zatonovo/lambda.r                                                                 63   \n",
        "zatonovo/odessa                                                                   27   \n",
        "zeitlingerlab/chen_elife_2013                                                      3   \n",
        "zeligdev/ZeligDVN                                                                 17   \n",
        "zeligdev/ZeligGEE                                                                 11   \n",
        "zeligdev/ZeligMultinomial                                                         15   \n",
        "zeligdev/ZeligOrdinal                                                             25   \n",
        "zeligdev/ZeligSurvey                                                              19   \n",
        "zeligdev/zeligdev.github.com                                                      76   \n",
        "zero323/developing-data-products-shiny                                             0   \n",
        "zhengxwen/HIBAG                                                                    0   \n",
        "zygmuntz/feature-selection                                                         1   \n",
        "zygmuntz/r-libsvm-format-read-write                                                3   \n",
        "zygmuntz/spearmint                                                                18   \n",
        "zygmuntz/wine-quality                                                              5   \n",
        "\n",
        "                                                                     daysSinceLastCommit  \n",
        "repo_full_name                                                                            \n",
        "52yyy/Rsweibo                                                                        111  \n",
        "AdriMarteau/RTradingStation                                                          741  \n",
        "AjarKeen/netreader                                                                   NaN  \n",
        "AlexBerlin/BerlinOpenData                                                            NaN  \n",
        "AlexMckey/Coursera_R                                                                 475  \n",
        "AlexisEidelman/Til                                                                   216  \n",
        "AmeliaMN/1000tweets                                                                   62  \n",
        "AndreyAkinshin/DynamicalSystemsPortraits                                              41  \n",
        "ArtS/Statistics-1                                                                    426  \n",
        "B1aine/kaggle-allstate                                                               NaN  \n",
        "BartBruininks/Centrotyping                                                           685  \n",
        "BioStatMatt/sas7bdat                                                                 293  \n",
        "Bioconductor/BiocCheck                                                                 6  \n",
        "Bioconductor/BiocParallel                                                             13  \n",
        "Bioconductor/VCF_projects                                                            412  \n",
        "BlindApe/SeeClickPredictFix                                                           34  \n",
        "Booblick/eko2011                                                                     832  \n",
        "BruceJillis/Titanic                                                                  195  \n",
        "BrunoVilela/letsR                                                                    NaN  \n",
        "Btibert3/nhl-pbp                                                                     NaN  \n",
        "Btibert3/nhl-shiny                                                                   NaN  \n",
        "Btibert3/tableau-r                                                                   195  \n",
        "Burke-Lauenroth-Lab/SoilWat_R_Wrapper                                                  6  \n",
        "CBMi-BiG/bamchop                                                                     146  \n",
        "CenterForAssessment/SGP                                                                6  \n",
        "CenterForAssessment/SGPdata                                                           20  \n",
        "CenterForAssessment/randomNames                                                      293  \n",
        "CenterForOpenScience/osfr                                                            NaN  \n",
        "ChappedSky/Misc.-Scripts                                                             860  \n",
        "CharlesCara/Datastream2R                                                              20  \n",
        "...                                                                                  ...  \n",
        "yiransheng/A-R-Script-to-Download-Option-Quotes-from-Yahoo--Finance                  699  \n",
        "yiransheng/Stack-of-R-scripts                                                        650  \n",
        "yiransheng/rTrader                                                                   629  \n",
        "yl2/pa                                                                                62  \n",
        "yokkuns/R-YjdnJlp                                                                   1056  \n",
        "yokkuns/r-AnomalyDetection                                                           496  \n",
        "yoni/r_we_the_people                                                                 230  \n",
        "yosoykit/hello_world_from_R                                                          853  \n",
        "yrosseel/lavaan                                                                        6  \n",
        "yunnie/LargeScaleRegression                                                          664  \n",
        "zachmayer/caretEnsemble                                                              342  \n",
        "zachmayer/cv.ts                                                                       97  \n",
        "zachmayer/rbm                                                                         13  \n",
        "zacstewart/kaggle_sas                                                                538  \n",
        "zatonovo/futile.logger                                                                69  \n",
        "zatonovo/lambda.r                                                                     20  \n",
        "zatonovo/odessa                                                                       27  \n",
        "zeitlingerlab/chen_elife_2013                                                        181  \n",
        "zeligdev/ZeligDVN                                                                    790  \n",
        "zeligdev/ZeligGEE                                                                    496  \n",
        "zeligdev/ZeligMultinomial                                                            762  \n",
        "zeligdev/ZeligOrdinal                                                                790  \n",
        "zeligdev/ZeligSurvey                                                                 790  \n",
        "zeligdev/zeligdev.github.com                                                         482  \n",
        "zero323/developing-data-products-shiny                                               NaN  \n",
        "zhengxwen/HIBAG                                                                      NaN  \n",
        "zygmuntz/feature-selection                                                           391  \n",
        "zygmuntz/r-libsvm-format-read-write                                                  356  \n",
        "zygmuntz/spearmint                                                                   398  \n",
        "zygmuntz/wine-quality                                                                419  \n",
        "\n",
        "[2118 rows x 3 columns]"
       ]
      }
     ],
     "prompt_number": 229
    },
    {
     "cell_type": "code",
     "collapsed": false,
     "input": [
      "createdInPast = byRepo[~ byRepo['daysSinceLastCommit'].isnull()]"
     ],
     "language": "python",
     "metadata": {},
     "outputs": [],
     "prompt_number": 238
    },
    {
     "cell_type": "code",
     "collapsed": false,
     "input": [
      "createdInPast.shape"
     ],
     "language": "python",
     "metadata": {},
     "outputs": [
      {
       "metadata": {},
       "output_type": "pyout",
       "prompt_number": 240,
       "text": [
        "(1812, 3)"
       ]
      }
     ],
     "prompt_number": 240
    },
    {
     "cell_type": "code",
     "collapsed": false,
     "input": [
      "z = pd.Series(data=[3,np.nan,5])"
     ],
     "language": "python",
     "metadata": {},
     "outputs": [],
     "prompt_number": 233
    },
    {
     "cell_type": "code",
     "collapsed": false,
     "input": [
      "~ z.isnull()"
     ],
     "language": "python",
     "metadata": {},
     "outputs": [
      {
       "metadata": {},
       "output_type": "pyout",
       "prompt_number": 237,
       "text": [
        "0     True\n",
        "1    False\n",
        "2     True\n",
        "dtype: bool"
       ]
      }
     ],
     "prompt_number": 237
    },
    {
     "cell_type": "code",
     "collapsed": false,
     "input": [],
     "language": "python",
     "metadata": {},
     "outputs": []
    }
   ],
   "metadata": {}
  }
 ]
}