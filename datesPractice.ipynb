{
 "metadata": {
  "name": "",
  "signature": "sha256:19a17e97868eb931d9b2a05eff179e4001545d5738542c33427b33f07f7b7ecf"
 },
 "nbformat": 3,
 "nbformat_minor": 0,
 "worksheets": [
  {
   "cells": [
    {
     "cell_type": "code",
     "collapsed": false,
     "input": [
      "import pandas as pd\n",
      "import numpy as np\n",
      "import datetime"
     ],
     "language": "python",
     "metadata": {},
     "outputs": [],
     "prompt_number": 72
    },
    {
     "cell_type": "code",
     "collapsed": false,
     "input": [
      "x = pd.read_csv('data/inputdata/results-20140731-174542.csv')\n",
      "x['commits'] = 1"
     ],
     "language": "python",
     "metadata": {},
     "outputs": [],
     "prompt_number": 73
    },
    {
     "cell_type": "code",
     "collapsed": false,
     "input": [
      "pd.set_option( 'display.notebook_repr_html', True )\n",
      "pd.set_option('max_rows', 5)"
     ],
     "language": "python",
     "metadata": {},
     "outputs": [],
     "prompt_number": 74
    },
    {
     "cell_type": "code",
     "collapsed": false,
     "input": [
      "x.head()"
     ],
     "language": "python",
     "metadata": {},
     "outputs": [
      {
       "html": [
        "<div style=\"max-height:1000px;max-width:1500px;overflow:auto;\">\n",
        "<table border=\"1\" class=\"dataframe\">\n",
        "  <thead>\n",
        "    <tr style=\"text-align: right;\">\n",
        "      <th></th>\n",
        "      <th>repository_url</th>\n",
        "      <th>actor_attributes_login</th>\n",
        "      <th>created_at</th>\n",
        "      <th>payload_commit_msg</th>\n",
        "      <th>commits</th>\n",
        "    </tr>\n",
        "  </thead>\n",
        "  <tbody>\n",
        "    <tr>\n",
        "      <th>0</th>\n",
        "      <td> https://github.com/dlanger/inlinestyler</td>\n",
        "      <td> dlanger</td>\n",
        "      <td> 2014-07-31 17:45:13</td>\n",
        "      <td>                               Version bump, et al</td>\n",
        "      <td> 1</td>\n",
        "    </tr>\n",
        "    <tr>\n",
        "      <th>1</th>\n",
        "      <td> https://github.com/dlanger/inlinestyler</td>\n",
        "      <td> dlanger</td>\n",
        "      <td> 2014-07-31 17:39:47</td>\n",
        "      <td> Merge pull request #5 from riklaunim/master Py...</td>\n",
        "      <td> 1</td>\n",
        "    </tr>\n",
        "    <tr>\n",
        "      <th>2</th>\n",
        "      <td>     https://github.com/eae/discoversong</td>\n",
        "      <td>     eae</td>\n",
        "      <td> 2014-07-28 00:38:20</td>\n",
        "      <td>                                        cache more</td>\n",
        "      <td> 1</td>\n",
        "    </tr>\n",
        "    <tr>\n",
        "      <th>3</th>\n",
        "      <td>     https://github.com/eae/discoversong</td>\n",
        "      <td>     eae</td>\n",
        "      <td> 2014-07-28 00:26:36</td>\n",
        "      <td>                                      sleep longer</td>\n",
        "      <td> 1</td>\n",
        "    </tr>\n",
        "    <tr>\n",
        "      <th>4</th>\n",
        "      <td>     https://github.com/eae/discoversong</td>\n",
        "      <td>     eae</td>\n",
        "      <td> 2014-07-28 00:21:00</td>\n",
        "      <td>                                               duh</td>\n",
        "      <td> 1</td>\n",
        "    </tr>\n",
        "  </tbody>\n",
        "</table>\n",
        "</div>"
       ],
       "metadata": {},
       "output_type": "pyout",
       "prompt_number": 75,
       "text": [
        "                            repository_url actor_attributes_login  \\\n",
        "0  https://github.com/dlanger/inlinestyler                dlanger   \n",
        "1  https://github.com/dlanger/inlinestyler                dlanger   \n",
        "2      https://github.com/eae/discoversong                    eae   \n",
        "3      https://github.com/eae/discoversong                    eae   \n",
        "4      https://github.com/eae/discoversong                    eae   \n",
        "\n",
        "            created_at                                 payload_commit_msg  \\\n",
        "0  2014-07-31 17:45:13                                Version bump, et al   \n",
        "1  2014-07-31 17:39:47  Merge pull request #5 from riklaunim/master Py...   \n",
        "2  2014-07-28 00:38:20                                         cache more   \n",
        "3  2014-07-28 00:26:36                                       sleep longer   \n",
        "4  2014-07-28 00:21:00                                                duh   \n",
        "\n",
        "   commits  \n",
        "0        1  \n",
        "1        1  \n",
        "2        1  \n",
        "3        1  \n",
        "4        1  "
       ]
      }
     ],
     "prompt_number": 75
    },
    {
     "cell_type": "code",
     "collapsed": false,
     "input": [
      "x['created_at']"
     ],
     "language": "python",
     "metadata": {},
     "outputs": [
      {
       "metadata": {},
       "output_type": "pyout",
       "prompt_number": 76,
       "text": [
        "0    2014-07-31 17:45:13\n",
        "...\n",
        "7871    2012-04-01 00:03:25\n",
        "Name: created_at, Length: 7872, dtype: object"
       ]
      }
     ],
     "prompt_number": 76
    },
    {
     "cell_type": "code",
     "collapsed": false,
     "input": [
      "cdate = pd.to_datetime(x['created_at'])"
     ],
     "language": "python",
     "metadata": {},
     "outputs": [],
     "prompt_number": 77
    },
    {
     "cell_type": "code",
     "collapsed": false,
     "input": [
      "type(cdate)"
     ],
     "language": "python",
     "metadata": {},
     "outputs": [
      {
       "metadata": {},
       "output_type": "pyout",
       "prompt_number": 78,
       "text": [
        "pandas.core.series.Series"
       ]
      }
     ],
     "prompt_number": 78
    },
    {
     "cell_type": "code",
     "collapsed": false,
     "input": [
      "cdate[0]"
     ],
     "language": "python",
     "metadata": {},
     "outputs": [
      {
       "metadata": {},
       "output_type": "pyout",
       "prompt_number": 79,
       "text": [
        "Timestamp('2014-07-31 17:45:13')"
       ]
      }
     ],
     "prompt_number": 79
    },
    {
     "cell_type": "code",
     "collapsed": false,
     "input": [
      "now = datetime.datetime.now()"
     ],
     "language": "python",
     "metadata": {},
     "outputs": [],
     "prompt_number": 80
    },
    {
     "cell_type": "code",
     "collapsed": false,
     "input": [
      "now"
     ],
     "language": "python",
     "metadata": {},
     "outputs": [
      {
       "metadata": {},
       "output_type": "pyout",
       "prompt_number": 81,
       "text": [
        "datetime.datetime(2014, 7, 31, 19, 28, 47, 510424)"
       ]
      }
     ],
     "prompt_number": 81
    },
    {
     "cell_type": "code",
     "collapsed": false,
     "input": [
      "now.month"
     ],
     "language": "python",
     "metadata": {},
     "outputs": [
      {
       "metadata": {},
       "output_type": "pyout",
       "prompt_number": 82,
       "text": [
        "7"
       ]
      }
     ],
     "prompt_number": 82
    },
    {
     "cell_type": "code",
     "collapsed": false,
     "input": [
      "cdate[0].month"
     ],
     "language": "python",
     "metadata": {},
     "outputs": [
      {
       "metadata": {},
       "output_type": "pyout",
       "prompt_number": 83,
       "text": [
        "7"
       ]
      }
     ],
     "prompt_number": 83
    },
    {
     "cell_type": "code",
     "collapsed": false,
     "input": [
      "try:\n",
      "    cdate.month\n",
      "except Exception as err:\n",
      "    print 'FAILS!'\n",
      "    print err.message"
     ],
     "language": "python",
     "metadata": {},
     "outputs": [
      {
       "output_type": "stream",
       "stream": "stdout",
       "text": [
        "FAILS!\n",
        "'Series' object has no attribute 'month'\n"
       ]
      }
     ],
     "prompt_number": 84
    },
    {
     "cell_type": "code",
     "collapsed": false,
     "input": [
      "x.index"
     ],
     "language": "python",
     "metadata": {},
     "outputs": [
      {
       "metadata": {},
       "output_type": "pyout",
       "prompt_number": 85,
       "text": [
        "Int64Index([0, 1, 2, 3, 4, 5, 6, 7, 8, 9, 10, 11, 12, 13, 14, 15, 16, 17, 18, 19, 20, 21, 22, 23, 24, 25, 26, 27, 28, 29, 30, 31, 32, 33, 34, 35, 36, 37, 38, 39, 40, 41, 42, 43, 44, 45, 46, 47, 48, 49, 50, 51, 52, 53, 54, 55, 56, 57, 58, 59, 60, 61, 62, 63, 64, 65, 66, 67, 68, 69, 70, 71, 72, 73, 74, 75, 76, 77, 78, 79, 80, 81, 82, 83, 84, 85, 86, 87, 88, 89, 90, 91, 92, 93, 94, 95, 96, 97, 98, 99, ...], dtype='int64')"
       ]
      }
     ],
     "prompt_number": 85
    },
    {
     "cell_type": "code",
     "collapsed": false,
     "input": [
      "withTs = x\n",
      "withTs.index = pd.to_datetime(x.created_at)"
     ],
     "language": "python",
     "metadata": {},
     "outputs": [],
     "prompt_number": 86
    },
    {
     "cell_type": "code",
     "collapsed": false,
     "input": [
      "withTs"
     ],
     "language": "python",
     "metadata": {},
     "outputs": [
      {
       "html": [
        "<div style=\"max-height:1000px;max-width:1500px;overflow:auto;\">\n",
        "<table border=\"1\" class=\"dataframe\">\n",
        "  <thead>\n",
        "    <tr style=\"text-align: right;\">\n",
        "      <th></th>\n",
        "      <th>repository_url</th>\n",
        "      <th>actor_attributes_login</th>\n",
        "      <th>created_at</th>\n",
        "      <th>payload_commit_msg</th>\n",
        "      <th>commits</th>\n",
        "    </tr>\n",
        "    <tr>\n",
        "      <th>created_at</th>\n",
        "      <th></th>\n",
        "      <th></th>\n",
        "      <th></th>\n",
        "      <th></th>\n",
        "      <th></th>\n",
        "    </tr>\n",
        "  </thead>\n",
        "  <tbody>\n",
        "    <tr>\n",
        "      <th>2014-07-31 17:45:13</th>\n",
        "      <td> https://github.com/dlanger/inlinestyler</td>\n",
        "      <td> dlanger</td>\n",
        "      <td> 2014-07-31 17:45:13</td>\n",
        "      <td>                               Version bump, et al</td>\n",
        "      <td> 1</td>\n",
        "    </tr>\n",
        "    <tr>\n",
        "      <th>2014-07-31 17:39:47</th>\n",
        "      <td> https://github.com/dlanger/inlinestyler</td>\n",
        "      <td> dlanger</td>\n",
        "      <td> 2014-07-31 17:39:47</td>\n",
        "      <td> Merge pull request #5 from riklaunim/master Py...</td>\n",
        "      <td> 1</td>\n",
        "    </tr>\n",
        "    <tr>\n",
        "      <th>...</th>\n",
        "      <td>...</td>\n",
        "      <td>...</td>\n",
        "      <td>...</td>\n",
        "      <td>...</td>\n",
        "      <td>...</td>\n",
        "    </tr>\n",
        "    <tr>\n",
        "      <th>2012-04-01 00:03:25</th>\n",
        "      <td>     https://github.com/eae/discoversong</td>\n",
        "      <td>     eae</td>\n",
        "      <td> 2012-04-01 00:03:25</td>\n",
        "      <td>                                  rm this nonsense</td>\n",
        "      <td> 1</td>\n",
        "    </tr>\n",
        "    <tr>\n",
        "      <th>2012-04-01 00:03:25</th>\n",
        "      <td>     https://github.com/eae/discoversong</td>\n",
        "      <td>     eae</td>\n",
        "      <td> 2012-04-01 00:03:25</td>\n",
        "      <td>                                  rm this nonsense</td>\n",
        "      <td> 1</td>\n",
        "    </tr>\n",
        "  </tbody>\n",
        "</table>\n",
        "<p>7872 rows \u00d7 5 columns</p>\n",
        "</div>"
       ],
       "metadata": {},
       "output_type": "pyout",
       "prompt_number": 87,
       "text": [
        "                                              repository_url  \\\n",
        "created_at                                                     \n",
        "2014-07-31 17:45:13  https://github.com/dlanger/inlinestyler   \n",
        "2014-07-31 17:39:47  https://github.com/dlanger/inlinestyler   \n",
        "...                                                      ...   \n",
        "2012-04-01 00:03:25      https://github.com/eae/discoversong   \n",
        "2012-04-01 00:03:25      https://github.com/eae/discoversong   \n",
        "\n",
        "                    actor_attributes_login           created_at  \\\n",
        "created_at                                                        \n",
        "2014-07-31 17:45:13                dlanger  2014-07-31 17:45:13   \n",
        "2014-07-31 17:39:47                dlanger  2014-07-31 17:39:47   \n",
        "...                                    ...                  ...   \n",
        "2012-04-01 00:03:25                    eae  2012-04-01 00:03:25   \n",
        "2012-04-01 00:03:25                    eae  2012-04-01 00:03:25   \n",
        "\n",
        "                                                    payload_commit_msg  \\\n",
        "created_at                                                               \n",
        "2014-07-31 17:45:13                                Version bump, et al   \n",
        "2014-07-31 17:39:47  Merge pull request #5 from riklaunim/master Py...   \n",
        "...                                                                ...   \n",
        "2012-04-01 00:03:25                                   rm this nonsense   \n",
        "2012-04-01 00:03:25                                   rm this nonsense   \n",
        "\n",
        "                     commits  \n",
        "created_at                    \n",
        "2014-07-31 17:45:13        1  \n",
        "2014-07-31 17:39:47        1  \n",
        "...                      ...  \n",
        "2012-04-01 00:03:25        1  \n",
        "2012-04-01 00:03:25        1  \n",
        "\n",
        "[7872 rows x 5 columns]"
       ]
      }
     ],
     "prompt_number": 87
    },
    {
     "cell_type": "markdown",
     "metadata": {},
     "source": [
      "\n",
      "\n",
      "Using a dateTimeIndex, you can easily grab data from a particular month"
     ]
    },
    {
     "cell_type": "code",
     "collapsed": false,
     "input": [
      "withTs.ix['2014-04']['payload_commit_msg']"
     ],
     "language": "python",
     "metadata": {},
     "outputs": [
      {
       "metadata": {},
       "output_type": "pyout",
       "prompt_number": 88,
       "text": [
        "created_at\n",
        "2014-04-30 06:46:26    Merge pull request #11 from marchon/master Min...\n",
        "2014-04-19 20:02:44              add test for missing p lines in routers\n",
        "2014-04-18 12:10:11                        Added thanks to Vidar Waagb\ufffd\ufffd\n",
        "2014-04-18 11:37:07    Merge pull request #8 from vidarw/master Fixed...\n",
        "2014-04-10 19:17:07    Merge branch 'master' of github.com:fish2000/v...\n",
        "Name: payload_commit_msg, dtype: object"
       ]
      }
     ],
     "prompt_number": 88
    },
    {
     "cell_type": "code",
     "collapsed": false,
     "input": [
      "withTs.ix['2013']['payload_commit_msg']"
     ],
     "language": "python",
     "metadata": {},
     "outputs": [
      {
       "metadata": {},
       "output_type": "pyout",
       "prompt_number": 89,
       "text": [
        "created_at\n",
        "2013-12-31 07:54:59    Merge pull request #2 from tonyseek/default-ar...\n",
        "...\n",
        "2013-01-03 18:16:46    Merge git://github.com/steffann/python-ipy Add...\n",
        "Name: payload_commit_msg, Length: 389"
       ]
      }
     ],
     "prompt_number": 89
    },
    {
     "cell_type": "code",
     "collapsed": false,
     "input": [
      "commits = withTs['commits'].resample('M', how='sum')"
     ],
     "language": "python",
     "metadata": {},
     "outputs": [],
     "prompt_number": 93
    },
    {
     "cell_type": "code",
     "collapsed": false,
     "input": [
      "commits.plot(kind='bar')"
     ],
     "language": "python",
     "metadata": {},
     "outputs": [
      {
       "metadata": {},
       "output_type": "pyout",
       "prompt_number": 95,
       "text": [
        "<matplotlib.axes.AxesSubplot at 0x1081df1d0>"
       ]
      },
      {
       "metadata": {},
       "output_type": "display_data",
       "png": "[encoded data removed]",
       "text": [
        "<matplotlib.figure.Figure at 0x1081628d0>"
       ]
      }
     ],
     "prompt_number": 95
    },
    {
     "cell_type": "code",
     "collapsed": false,
     "input": [],
     "language": "python",
     "metadata": {},
     "outputs": [],
     "prompt_number": 91
    }
   ],
   "metadata": {}
  }
 ]
}