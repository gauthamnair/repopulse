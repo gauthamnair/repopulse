{
 "metadata": {
  "name": "",
  "signature": "sha256:0174d76dbdcb6dbbd51605416600c36dafca085663a518a0c2d5d1db7f420b6b"
 },
 "nbformat": 3,
 "nbformat_minor": 0,
 "worksheets": [
  {
   "cells": [
    {
     "cell_type": "code",
     "collapsed": false,
     "input": [
      "import pandas as pd\n",
      "import numpy as np"
     ],
     "language": "python",
     "metadata": {},
     "outputs": [],
     "prompt_number": 27
    },
    {
     "cell_type": "code",
     "collapsed": false,
     "input": [
      "x = pd.read_csv('data/inputdata/results-20140731-174542.csv')"
     ],
     "language": "python",
     "metadata": {},
     "outputs": [],
     "prompt_number": 28
    },
    {
     "cell_type": "code",
     "collapsed": false,
     "input": [
      "pd.set_option( 'display.notebook_repr_html', False )"
     ],
     "language": "python",
     "metadata": {},
     "outputs": [],
     "prompt_number": 29
    },
    {
     "cell_type": "code",
     "collapsed": false,
     "input": [
      "x.head()"
     ],
     "language": "python",
     "metadata": {},
     "outputs": [
      {
       "metadata": {},
       "output_type": "pyout",
       "prompt_number": 30,
       "text": [
        "                            repository_url actor_attributes_login  \\\n",
        "0  https://github.com/dlanger/inlinestyler                dlanger   \n",
        "1  https://github.com/dlanger/inlinestyler                dlanger   \n",
        "2      https://github.com/eae/discoversong                    eae   \n",
        "3      https://github.com/eae/discoversong                    eae   \n",
        "4      https://github.com/eae/discoversong                    eae   \n",
        "\n",
        "            created_at                                 payload_commit_msg  \n",
        "0  2014-07-31 17:45:13                                Version bump, et al  \n",
        "1  2014-07-31 17:39:47  Merge pull request #5 from riklaunim/master Py...  \n",
        "2  2014-07-28 00:38:20                                         cache more  \n",
        "3  2014-07-28 00:26:36                                       sleep longer  \n",
        "4  2014-07-28 00:21:00                                                duh  "
       ]
      }
     ],
     "prompt_number": 30
    },
    {
     "cell_type": "code",
     "collapsed": false,
     "input": [
      "type(x)"
     ],
     "language": "python",
     "metadata": {},
     "outputs": [
      {
       "metadata": {},
       "output_type": "pyout",
       "prompt_number": 31,
       "text": [
        "pandas.core.frame.DataFrame"
       ]
      }
     ],
     "prompt_number": 31
    },
    {
     "cell_type": "code",
     "collapsed": false,
     "input": [
      "x['created_at'].values"
     ],
     "language": "python",
     "metadata": {},
     "outputs": [
      {
       "metadata": {},
       "output_type": "pyout",
       "prompt_number": 32,
       "text": [
        "array(['2014-07-31 17:45:13', '2014-07-31 17:39:47', '2014-07-28 00:38:20',\n",
        "       ..., '2012-04-01 00:03:25', '2012-04-01 00:03:25',\n",
        "       '2012-04-01 00:03:25'], dtype=object)"
       ]
      }
     ],
     "prompt_number": 32
    },
    {
     "cell_type": "code",
     "collapsed": false,
     "input": [
      "x['created_at'] = x['created_at'].astype('datetime64[ns]')"
     ],
     "language": "python",
     "metadata": {},
     "outputs": [],
     "prompt_number": 33
    },
    {
     "cell_type": "code",
     "collapsed": false,
     "input": [
      "x['created_at'].values"
     ],
     "language": "python",
     "metadata": {},
     "outputs": [
      {
       "metadata": {},
       "output_type": "pyout",
       "prompt_number": 34,
       "text": [
        "array(['2014-07-31T17:45:13.000000000-0400',\n",
        "       '2014-07-31T17:39:47.000000000-0400',\n",
        "       '2014-07-28T00:38:20.000000000-0400', ...,\n",
        "       '2012-04-01T00:03:25.000000000-0400',\n",
        "       '2012-04-01T00:03:25.000000000-0400',\n",
        "       '2012-04-01T00:03:25.000000000-0400'], dtype='datetime64[ns]')"
       ]
      }
     ],
     "prompt_number": 34
    },
    {
     "cell_type": "code",
     "collapsed": false,
     "input": [
      "x.sort_index(by='created_at', inplace=True)"
     ],
     "language": "python",
     "metadata": {},
     "outputs": [],
     "prompt_number": 35
    },
    {
     "cell_type": "code",
     "collapsed": false,
     "input": [
      "x.head()"
     ],
     "language": "python",
     "metadata": {},
     "outputs": [
      {
       "metadata": {},
       "output_type": "pyout",
       "prompt_number": 36,
       "text": [
        "                           repository_url actor_attributes_login  \\\n",
        "7871  https://github.com/eae/discoversong                    eae   \n",
        "7870  https://github.com/eae/discoversong                    eae   \n",
        "7869  https://github.com/eae/discoversong                    eae   \n",
        "7866  https://github.com/eae/discoversong                    eae   \n",
        "7868  https://github.com/eae/discoversong                    eae   \n",
        "\n",
        "              created_at payload_commit_msg  \n",
        "7871 2012-04-01 04:03:25   rm this nonsense  \n",
        "7870 2012-04-01 04:03:25   rm this nonsense  \n",
        "7869 2012-04-01 04:03:25   rm this nonsense  \n",
        "7866 2012-04-01 04:05:32      better readme  \n",
        "7868 2012-04-01 04:05:32      better readme  "
       ]
      }
     ],
     "prompt_number": 36
    },
    {
     "cell_type": "code",
     "collapsed": false,
     "input": [
      "x['commitNumber'] = np.arange(len(x['created_at']))"
     ],
     "language": "python",
     "metadata": {},
     "outputs": [],
     "prompt_number": 37
    },
    {
     "cell_type": "code",
     "collapsed": false,
     "input": [
      "x.head()"
     ],
     "language": "python",
     "metadata": {},
     "outputs": [
      {
       "metadata": {},
       "output_type": "pyout",
       "prompt_number": 38,
       "text": [
        "                           repository_url actor_attributes_login  \\\n",
        "7871  https://github.com/eae/discoversong                    eae   \n",
        "7870  https://github.com/eae/discoversong                    eae   \n",
        "7869  https://github.com/eae/discoversong                    eae   \n",
        "7866  https://github.com/eae/discoversong                    eae   \n",
        "7868  https://github.com/eae/discoversong                    eae   \n",
        "\n",
        "              created_at payload_commit_msg  number  \n",
        "7871 2012-04-01 04:03:25   rm this nonsense       0  \n",
        "7870 2012-04-01 04:03:25   rm this nonsense       1  \n",
        "7869 2012-04-01 04:03:25   rm this nonsense       2  \n",
        "7866 2012-04-01 04:05:32      better readme       3  \n",
        "7868 2012-04-01 04:05:32      better readme       4  "
       ]
      }
     ],
     "prompt_number": 38
    },
    {
     "cell_type": "code",
     "collapsed": false,
     "input": [
      "x.plot(x='created_at', y='commitNumber', title='cumulative commits')"
     ],
     "language": "python",
     "metadata": {},
     "outputs": [
      {
       "metadata": {},
       "output_type": "pyout",
       "prompt_number": 39,
       "text": [
        "<matplotlib.axes.AxesSubplot at 0x108ac15d0>"
       ]
      },
      {
       "metadata": {},
       "output_type": "display_data",
       "png": "[encoded data removed]",
       "text": [
        "<matplotlib.figure.Figure at 0x1077fa450>"
       ]
      }
     ],
     "prompt_number": 39
    },
    {
     "cell_type": "code",
     "collapsed": false,
     "input": [
      "x.repository_url.value_counts()"
     ],
     "language": "python",
     "metadata": {},
     "outputs": [
      {
       "metadata": {},
       "output_type": "pyout",
       "prompt_number": 41,
       "text": [
        "https://github.com/jbergantine/django-newproj    648\n",
        "https://github.com/eae/discoversong              379\n",
        "https://github.com/igoreus/catalog               251\n",
        "https://github.com/joshayers/PyTables            230\n",
        "https://github.com/palango/pitivi                230\n",
        "https://github.com/jeffcole/dotfiles             217\n",
        "https://github.com/itdaniher/itdaniher           175\n",
        "https://github.com/rhmenegasso/Labandas          174\n",
        "https://github.com/coordt/pkgbin                 164\n",
        "https://github.com/levigross/Project-Voodo       153\n",
        "https://github.com/snarfed/salmon-unofficial     147\n",
        "https://github.com/youngsterxyf/PyCodersCN       144\n",
        "https://github.com/tomusher/tomusher-blog        122\n",
        "https://github.com/nlintz/Room-Arranger          114\n",
        "https://github.com/pmertens/LandMarc             108\n",
        "...\n",
        "https://github.com/ymage/cornice                                3\n",
        "https://github.com/boguscoder/Scripts                           3\n",
        "https://github.com/kiniou/qtile                                 2\n",
        "https://github.com/Vsh3r/tickle                                 2\n",
        "https://github.com/gilgamezh/Learning_Python                    2\n",
        "https://github.com/phisto/nlp                                   2\n",
        "https://github.com/brando4526/programming-language-dragonfly-macros    2\n",
        "https://github.com/jonten/bcfg2                                 2\n",
        "https://github.com/Aarushi-Ign/hello-world                      2\n",
        "https://github.com/mikery/django-social-auth                    2\n",
        "https://github.com//arango-python                               1\n",
        "https://github.com/daeken/QuestCompanions                       1\n",
        "https://github.com/stephaneAG/emokit                            1\n",
        "https://github.com/tusharchandra1992/ChatGAE                    1\n",
        "https://github.com/DamnWidget/corepost                          1\n",
        "Length: 280, dtype: int64"
       ]
      }
     ],
     "prompt_number": 41
    },
    {
     "cell_type": "code",
     "collapsed": false,
     "input": [
      "byrepo = x.groupby('repository_url') "
     ],
     "language": "python",
     "metadata": {},
     "outputs": [],
     "prompt_number": 43
    },
    {
     "cell_type": "code",
     "collapsed": false,
     "input": [
      "arepo = x[x['repository_url']=='https://github.com/eae/discoversong']"
     ],
     "language": "python",
     "metadata": {},
     "outputs": [],
     "prompt_number": 48
    },
    {
     "cell_type": "code",
     "collapsed": false,
     "input": [
      "arepo.head()"
     ],
     "language": "python",
     "metadata": {},
     "outputs": [
      {
       "metadata": {},
       "output_type": "pyout",
       "prompt_number": 49,
       "text": [
        "                           repository_url actor_attributes_login  \\\n",
        "7871  https://github.com/eae/discoversong                    eae   \n",
        "7870  https://github.com/eae/discoversong                    eae   \n",
        "7869  https://github.com/eae/discoversong                    eae   \n",
        "7866  https://github.com/eae/discoversong                    eae   \n",
        "7868  https://github.com/eae/discoversong                    eae   \n",
        "\n",
        "              created_at payload_commit_msg  number  \n",
        "7871 2012-04-01 04:03:25   rm this nonsense       0  \n",
        "7870 2012-04-01 04:03:25   rm this nonsense       1  \n",
        "7869 2012-04-01 04:03:25   rm this nonsense       2  \n",
        "7866 2012-04-01 04:05:32      better readme       3  \n",
        "7868 2012-04-01 04:05:32      better readme       4  "
       ]
      }
     ],
     "prompt_number": 49
    },
    {
     "cell_type": "code",
     "collapsed": false,
     "input": [
      "arepo.tail()"
     ],
     "language": "python",
     "metadata": {},
     "outputs": [
      {
       "metadata": {},
       "output_type": "pyout",
       "prompt_number": 50,
       "text": [
        "                        repository_url actor_attributes_login  \\\n",
        "6  https://github.com/eae/discoversong                    eae   \n",
        "5  https://github.com/eae/discoversong                    eae   \n",
        "4  https://github.com/eae/discoversong                    eae   \n",
        "3  https://github.com/eae/discoversong                    eae   \n",
        "2  https://github.com/eae/discoversong                    eae   \n",
        "\n",
        "           created_at               payload_commit_msg  number  \n",
        "6 2014-07-28 04:17:58                             fix?    7865  \n",
        "5 2014-07-28 04:18:56  sleep between each mention read    7866  \n",
        "4 2014-07-28 04:21:00                              duh    7867  \n",
        "3 2014-07-28 04:26:36                     sleep longer    7868  \n",
        "2 2014-07-28 04:38:20                       cache more    7869  "
       ]
      }
     ],
     "prompt_number": 50
    },
    {
     "cell_type": "code",
     "collapsed": false,
     "input": [
      "len(arepo['actor_attributes_login'])"
     ],
     "language": "python",
     "metadata": {},
     "outputs": [
      {
       "metadata": {},
       "output_type": "pyout",
       "prompt_number": 53,
       "text": [
        "379"
       ]
      }
     ],
     "prompt_number": 53
    },
    {
     "cell_type": "code",
     "collapsed": false,
     "input": [
      "def plotCumulativeCommits(df):\n",
      "    workingDf = df.sort_index(by='created_at')\n",
      "    workingDf['commitNumber'] = np.arange(len(workingDf))\n",
      "    workingDf.plot(x='created_at', y='commitNumber', \n",
      "           title='cumulative Commits')"
     ],
     "language": "python",
     "metadata": {},
     "outputs": [],
     "prompt_number": 61
    },
    {
     "cell_type": "code",
     "collapsed": false,
     "input": [
      "plotCumulativeCommits(arepo)"
     ],
     "language": "python",
     "metadata": {},
     "outputs": [
      {
       "metadata": {},
       "output_type": "display_data",
       "png": "[encoded data removed]",
       "text": [
        "<matplotlib.figure.Figure at 0x109354990>"
       ]
      }
     ],
     "prompt_number": 62
    },
    {
     "cell_type": "code",
     "collapsed": false,
     "input": [
      "import datetime"
     ],
     "language": "python",
     "metadata": {},
     "outputs": [],
     "prompt_number": 71
    },
    {
     "cell_type": "code",
     "collapsed": false,
     "input": [
      "datetime.date(2011, 12,1)"
     ],
     "language": "python",
     "metadata": {},
     "outputs": [
      {
       "metadata": {},
       "output_type": "pyout",
       "prompt_number": 73,
       "text": [
        "datetime.date(2011, 12, 1)"
       ]
      }
     ],
     "prompt_number": 73
    },
    {
     "cell_type": "code",
     "collapsed": false,
     "input": [
      "arepo.created_at.apply(lambda x : datetime.x.month)"
     ],
     "language": "python",
     "metadata": {},
     "outputs": [
      {
       "metadata": {},
       "output_type": "pyout",
       "prompt_number": 70,
       "text": [
        "7871    4\n",
        "7870    4\n",
        "7869    4\n",
        "7866    4\n",
        "7868    4\n",
        "7867    4\n",
        "7864    4\n",
        "7865    4\n",
        "7863    4\n",
        "7861    4\n",
        "7862    4\n",
        "7860    4\n",
        "7858    4\n",
        "7859    4\n",
        "7857    4\n",
        "...\n",
        "16    7\n",
        "15    7\n",
        "14    7\n",
        "13    7\n",
        "12    7\n",
        "11    7\n",
        "10    7\n",
        "9     7\n",
        "8     7\n",
        "7     7\n",
        "6     7\n",
        "5     7\n",
        "4     7\n",
        "3     7\n",
        "2     7\n",
        "Name: created_at, Length: 379, dtype: int64"
       ]
      }
     ],
     "prompt_number": 70
    },
    {
     "cell_type": "code",
     "collapsed": false,
     "input": [
      "arepo.head()"
     ],
     "language": "python",
     "metadata": {},
     "outputs": [
      {
       "metadata": {},
       "output_type": "pyout",
       "prompt_number": 75,
       "text": [
        "                           repository_url actor_attributes_login  \\\n",
        "7871  https://github.com/eae/discoversong                    eae   \n",
        "7870  https://github.com/eae/discoversong                    eae   \n",
        "7869  https://github.com/eae/discoversong                    eae   \n",
        "7866  https://github.com/eae/discoversong                    eae   \n",
        "7868  https://github.com/eae/discoversong                    eae   \n",
        "\n",
        "              created_at payload_commit_msg  number  \n",
        "7871 2012-04-01 04:03:25   rm this nonsense       0  \n",
        "7870 2012-04-01 04:03:25   rm this nonsense       1  \n",
        "7869 2012-04-01 04:03:25   rm this nonsense       2  \n",
        "7866 2012-04-01 04:05:32      better readme       3  \n",
        "7868 2012-04-01 04:05:32      better readme       4  "
       ]
      }
     ],
     "prompt_number": 75
    },
    {
     "cell_type": "code",
     "collapsed": false,
     "input": [
      "type(arepo)"
     ],
     "language": "python",
     "metadata": {},
     "outputs": [
      {
       "metadata": {},
       "output_type": "pyout",
       "prompt_number": 76,
       "text": [
        "pandas.core.frame.DataFrame"
       ]
      }
     ],
     "prompt_number": 76
    },
    {
     "cell_type": "code",
     "collapsed": false,
     "input": [
      "arepo.created_at.values[0]"
     ],
     "language": "python",
     "metadata": {},
     "outputs": [
      {
       "metadata": {},
       "output_type": "pyout",
       "prompt_number": 87,
       "text": [
        "numpy.datetime64('2012-04-01T00:03:25.000000000-0400')"
       ]
      }
     ],
     "prompt_number": 87
    },
    {
     "cell_type": "code",
     "collapsed": false,
     "input": [],
     "language": "python",
     "metadata": {},
     "outputs": []
    }
   ],
   "metadata": {}
  }
 ]
}