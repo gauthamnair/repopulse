{
 "metadata": {
  "name": "",
  "signature": "sha256:42385710ab57534e88b5cd452f9f2a086b03c98391fb6476ac5e24bae835f8d2"
 },
 "nbformat": 3,
 "nbformat_minor": 0,
 "worksheets": [
  {
   "cells": [
    {
     "cell_type": "code",
     "collapsed": false,
     "input": [
      "import pandas as pd\n",
      "import numpy as np"
     ],
     "language": "python",
     "metadata": {},
     "outputs": [],
     "prompt_number": 102
    },
    {
     "cell_type": "code",
     "collapsed": false,
     "input": [
      "queryId = '20140731-174542'\n",
      "csvFile = 'results-' + queryId + '\n",
      "x = pd.read_csv('data/inputdata/results-20140731-174542.csv')\n",
      "x['commits'] = 1"
     ],
     "language": "python",
     "metadata": {},
     "outputs": [],
     "prompt_number": 103
    },
    {
     "cell_type": "code",
     "collapsed": false,
     "input": [
      "pd.set_option( 'display.notebook_repr_html', True )\n",
      "pd.set_option('max_rows', 5)"
     ],
     "language": "python",
     "metadata": {},
     "outputs": [],
     "prompt_number": 104
    },
    {
     "cell_type": "code",
     "collapsed": false,
     "input": [
      "x.head()"
     ],
     "language": "python",
     "metadata": {},
     "outputs": [
      {
       "html": [
        "<div style=\"max-height:1000px;max-width:1500px;overflow:auto;\">\n",
        "<table border=\"1\" class=\"dataframe\">\n",
        "  <thead>\n",
        "    <tr style=\"text-align: right;\">\n",
        "      <th></th>\n",
        "      <th>repository_url</th>\n",
        "      <th>actor_attributes_login</th>\n",
        "      <th>created_at</th>\n",
        "      <th>payload_commit_msg</th>\n",
        "      <th>commits</th>\n",
        "    </tr>\n",
        "  </thead>\n",
        "  <tbody>\n",
        "    <tr>\n",
        "      <th>0</th>\n",
        "      <td> https://github.com/dlanger/inlinestyler</td>\n",
        "      <td> dlanger</td>\n",
        "      <td> 2014-07-31 17:45:13</td>\n",
        "      <td>                               Version bump, et al</td>\n",
        "      <td> 1</td>\n",
        "    </tr>\n",
        "    <tr>\n",
        "      <th>1</th>\n",
        "      <td> https://github.com/dlanger/inlinestyler</td>\n",
        "      <td> dlanger</td>\n",
        "      <td> 2014-07-31 17:39:47</td>\n",
        "      <td> Merge pull request #5 from riklaunim/master Py...</td>\n",
        "      <td> 1</td>\n",
        "    </tr>\n",
        "    <tr>\n",
        "      <th>2</th>\n",
        "      <td>     https://github.com/eae/discoversong</td>\n",
        "      <td>     eae</td>\n",
        "      <td> 2014-07-28 00:38:20</td>\n",
        "      <td>                                        cache more</td>\n",
        "      <td> 1</td>\n",
        "    </tr>\n",
        "    <tr>\n",
        "      <th>3</th>\n",
        "      <td>     https://github.com/eae/discoversong</td>\n",
        "      <td>     eae</td>\n",
        "      <td> 2014-07-28 00:26:36</td>\n",
        "      <td>                                      sleep longer</td>\n",
        "      <td> 1</td>\n",
        "    </tr>\n",
        "    <tr>\n",
        "      <th>4</th>\n",
        "      <td>     https://github.com/eae/discoversong</td>\n",
        "      <td>     eae</td>\n",
        "      <td> 2014-07-28 00:21:00</td>\n",
        "      <td>                                               duh</td>\n",
        "      <td> 1</td>\n",
        "    </tr>\n",
        "  </tbody>\n",
        "</table>\n",
        "</div>"
       ],
       "metadata": {},
       "output_type": "pyout",
       "prompt_number": 105,
       "text": [
        "                            repository_url actor_attributes_login  \\\n",
        "0  https://github.com/dlanger/inlinestyler                dlanger   \n",
        "1  https://github.com/dlanger/inlinestyler                dlanger   \n",
        "2      https://github.com/eae/discoversong                    eae   \n",
        "3      https://github.com/eae/discoversong                    eae   \n",
        "4      https://github.com/eae/discoversong                    eae   \n",
        "\n",
        "            created_at                                 payload_commit_msg  \\\n",
        "0  2014-07-31 17:45:13                                Version bump, et al   \n",
        "1  2014-07-31 17:39:47  Merge pull request #5 from riklaunim/master Py...   \n",
        "2  2014-07-28 00:38:20                                         cache more   \n",
        "3  2014-07-28 00:26:36                                       sleep longer   \n",
        "4  2014-07-28 00:21:00                                                duh   \n",
        "\n",
        "   commits  \n",
        "0        1  \n",
        "1        1  \n",
        "2        1  \n",
        "3        1  \n",
        "4        1  "
       ]
      }
     ],
     "prompt_number": 105
    },
    {
     "cell_type": "code",
     "collapsed": false,
     "input": [
      "type(x)"
     ],
     "language": "python",
     "metadata": {},
     "outputs": [
      {
       "metadata": {},
       "output_type": "pyout",
       "prompt_number": 106,
       "text": [
        "pandas.core.frame.DataFrame"
       ]
      }
     ],
     "prompt_number": 106
    },
    {
     "cell_type": "code",
     "collapsed": false,
     "input": [
      "x['created_at'].values"
     ],
     "language": "python",
     "metadata": {},
     "outputs": [
      {
       "metadata": {},
       "output_type": "pyout",
       "prompt_number": 107,
       "text": [
        "array(['2014-07-31 17:45:13', '2014-07-31 17:39:47', '2014-07-28 00:38:20',\n",
        "       ..., '2012-04-01 00:03:25', '2012-04-01 00:03:25',\n",
        "       '2012-04-01 00:03:25'], dtype=object)"
       ]
      }
     ],
     "prompt_number": 107
    },
    {
     "cell_type": "code",
     "collapsed": false,
     "input": [
      "x['created_at'] = x['created_at'].astype('datetime64[ns]')"
     ],
     "language": "python",
     "metadata": {},
     "outputs": [],
     "prompt_number": 108
    },
    {
     "cell_type": "code",
     "collapsed": false,
     "input": [
      "x.index = x.created_at\n",
      "del x['created_at']"
     ],
     "language": "python",
     "metadata": {},
     "outputs": [],
     "prompt_number": 109
    },
    {
     "cell_type": "code",
     "collapsed": false,
     "input": [
      "x.head()"
     ],
     "language": "python",
     "metadata": {},
     "outputs": [
      {
       "html": [
        "<div style=\"max-height:1000px;max-width:1500px;overflow:auto;\">\n",
        "<table border=\"1\" class=\"dataframe\">\n",
        "  <thead>\n",
        "    <tr style=\"text-align: right;\">\n",
        "      <th></th>\n",
        "      <th>repository_url</th>\n",
        "      <th>actor_attributes_login</th>\n",
        "      <th>payload_commit_msg</th>\n",
        "      <th>commits</th>\n",
        "    </tr>\n",
        "    <tr>\n",
        "      <th>created_at</th>\n",
        "      <th></th>\n",
        "      <th></th>\n",
        "      <th></th>\n",
        "      <th></th>\n",
        "    </tr>\n",
        "  </thead>\n",
        "  <tbody>\n",
        "    <tr>\n",
        "      <th>2014-07-31 21:45:13</th>\n",
        "      <td> https://github.com/dlanger/inlinestyler</td>\n",
        "      <td> dlanger</td>\n",
        "      <td>                               Version bump, et al</td>\n",
        "      <td> 1</td>\n",
        "    </tr>\n",
        "    <tr>\n",
        "      <th>2014-07-31 21:39:47</th>\n",
        "      <td> https://github.com/dlanger/inlinestyler</td>\n",
        "      <td> dlanger</td>\n",
        "      <td> Merge pull request #5 from riklaunim/master Py...</td>\n",
        "      <td> 1</td>\n",
        "    </tr>\n",
        "    <tr>\n",
        "      <th>2014-07-28 04:38:20</th>\n",
        "      <td>     https://github.com/eae/discoversong</td>\n",
        "      <td>     eae</td>\n",
        "      <td>                                        cache more</td>\n",
        "      <td> 1</td>\n",
        "    </tr>\n",
        "    <tr>\n",
        "      <th>2014-07-28 04:26:36</th>\n",
        "      <td>     https://github.com/eae/discoversong</td>\n",
        "      <td>     eae</td>\n",
        "      <td>                                      sleep longer</td>\n",
        "      <td> 1</td>\n",
        "    </tr>\n",
        "    <tr>\n",
        "      <th>2014-07-28 04:21:00</th>\n",
        "      <td>     https://github.com/eae/discoversong</td>\n",
        "      <td>     eae</td>\n",
        "      <td>                                               duh</td>\n",
        "      <td> 1</td>\n",
        "    </tr>\n",
        "  </tbody>\n",
        "</table>\n",
        "</div>"
       ],
       "metadata": {},
       "output_type": "pyout",
       "prompt_number": 112,
       "text": [
        "                                              repository_url  \\\n",
        "created_at                                                     \n",
        "2014-07-31 21:45:13  https://github.com/dlanger/inlinestyler   \n",
        "2014-07-31 21:39:47  https://github.com/dlanger/inlinestyler   \n",
        "2014-07-28 04:38:20      https://github.com/eae/discoversong   \n",
        "2014-07-28 04:26:36      https://github.com/eae/discoversong   \n",
        "2014-07-28 04:21:00      https://github.com/eae/discoversong   \n",
        "\n",
        "                    actor_attributes_login  \\\n",
        "created_at                                   \n",
        "2014-07-31 21:45:13                dlanger   \n",
        "2014-07-31 21:39:47                dlanger   \n",
        "2014-07-28 04:38:20                    eae   \n",
        "2014-07-28 04:26:36                    eae   \n",
        "2014-07-28 04:21:00                    eae   \n",
        "\n",
        "                                                    payload_commit_msg  \\\n",
        "created_at                                                               \n",
        "2014-07-31 21:45:13                                Version bump, et al   \n",
        "2014-07-31 21:39:47  Merge pull request #5 from riklaunim/master Py...   \n",
        "2014-07-28 04:38:20                                         cache more   \n",
        "2014-07-28 04:26:36                                       sleep longer   \n",
        "2014-07-28 04:21:00                                                duh   \n",
        "\n",
        "                     commits  \n",
        "created_at                    \n",
        "2014-07-31 21:45:13        1  \n",
        "2014-07-31 21:39:47        1  \n",
        "2014-07-28 04:38:20        1  \n",
        "2014-07-28 04:26:36        1  \n",
        "2014-07-28 04:21:00        1  "
       ]
      }
     ],
     "prompt_number": 112
    },
    {
     "cell_type": "markdown",
     "metadata": {},
     "source": [
      "# All Commits"
     ]
    },
    {
     "cell_type": "code",
     "collapsed": false,
     "input": [
      "byMonth = x.resample('M', how='sum')\n",
      "byMonth.head()"
     ],
     "language": "python",
     "metadata": {},
     "outputs": [
      {
       "html": [
        "<div style=\"max-height:1000px;max-width:1500px;overflow:auto;\">\n",
        "<table border=\"1\" class=\"dataframe\">\n",
        "  <thead>\n",
        "    <tr style=\"text-align: right;\">\n",
        "      <th></th>\n",
        "      <th>commits</th>\n",
        "    </tr>\n",
        "    <tr>\n",
        "      <th>created_at</th>\n",
        "      <th></th>\n",
        "    </tr>\n",
        "  </thead>\n",
        "  <tbody>\n",
        "    <tr>\n",
        "      <th>2012-04-30</th>\n",
        "      <td> 3966</td>\n",
        "    </tr>\n",
        "    <tr>\n",
        "      <th>2012-05-31</th>\n",
        "      <td> 1302</td>\n",
        "    </tr>\n",
        "    <tr>\n",
        "      <th>2012-06-30</th>\n",
        "      <td>  506</td>\n",
        "    </tr>\n",
        "    <tr>\n",
        "      <th>2012-07-31</th>\n",
        "      <td>  440</td>\n",
        "    </tr>\n",
        "    <tr>\n",
        "      <th>2012-08-31</th>\n",
        "      <td>  552</td>\n",
        "    </tr>\n",
        "  </tbody>\n",
        "</table>\n",
        "</div>"
       ],
       "metadata": {},
       "output_type": "pyout",
       "prompt_number": 114,
       "text": [
        "            commits\n",
        "created_at         \n",
        "2012-04-30     3966\n",
        "2012-05-31     1302\n",
        "2012-06-30      506\n",
        "2012-07-31      440\n",
        "2012-08-31      552"
       ]
      }
     ],
     "prompt_number": 114
    },
    {
     "cell_type": "code",
     "collapsed": false,
     "input": [
      "byMonth['commits'].plot(kind='bar', title='all repos')"
     ],
     "language": "python",
     "metadata": {},
     "outputs": [
      {
       "metadata": {},
       "output_type": "pyout",
       "prompt_number": 117,
       "text": [
        "<matplotlib.axes.AxesSubplot at 0x1087c6d10>"
       ]
      },
      {
       "metadata": {},
       "output_type": "display_data",
       "png": "[encoded data removed]",
       "text": [
        "<matplotlib.figure.Figure at 0x10965a6d0>"
       ]
      }
     ],
     "prompt_number": 117
    },
    {
     "cell_type": "code",
     "collapsed": false,
     "input": [
      "x.repository_url.value_counts().head()\n",
      "# np.log10(x.repository_url.value_counts()).plot(x=kind='bar')"
     ],
     "language": "python",
     "metadata": {},
     "outputs": [
      {
       "metadata": {},
       "output_type": "pyout",
       "prompt_number": 125,
       "text": [
        "https://github.com/jbergantine/django-newproj    648\n",
        "https://github.com/eae/discoversong              379\n",
        "https://github.com/igoreus/catalog               251\n",
        "https://github.com/palango/pitivi                230\n",
        "https://github.com/joshayers/PyTables            230\n",
        "dtype: int64"
       ]
      }
     ],
     "prompt_number": 125
    },
    {
     "cell_type": "code",
     "collapsed": false,
     "input": [
      "x.repository_url.value_counts().tail()"
     ],
     "language": "python",
     "metadata": {},
     "outputs": [
      {
       "metadata": {},
       "output_type": "pyout",
       "prompt_number": 126,
       "text": [
        "https://github.com//arango-python               1\n",
        "https://github.com/tusharchandra1992/ChatGAE    1\n",
        "https://github.com/daeken/QuestCompanions       1\n",
        "https://github.com/DamnWidget/corepost          1\n",
        "https://github.com/stephaneAG/emokit            1\n",
        "dtype: int64"
       ]
      }
     ],
     "prompt_number": 126
    },
    {
     "cell_type": "code",
     "collapsed": false,
     "input": [],
     "language": "python",
     "metadata": {},
     "outputs": []
    },
    {
     "cell_type": "code",
     "collapsed": false,
     "input": [
      "byrepo = x.groupby('repository_url') "
     ],
     "language": "python",
     "metadata": {},
     "outputs": [],
     "prompt_number": 43
    },
    {
     "cell_type": "code",
     "collapsed": false,
     "input": [
      "arepo = x[x['repository_url']=='https://github.com/eae/discoversong']"
     ],
     "language": "python",
     "metadata": {},
     "outputs": [],
     "prompt_number": 48
    },
    {
     "cell_type": "code",
     "collapsed": false,
     "input": [
      "arepo.head()"
     ],
     "language": "python",
     "metadata": {},
     "outputs": [
      {
       "metadata": {},
       "output_type": "pyout",
       "prompt_number": 49,
       "text": [
        "                           repository_url actor_attributes_login  \\\n",
        "7871  https://github.com/eae/discoversong                    eae   \n",
        "7870  https://github.com/eae/discoversong                    eae   \n",
        "7869  https://github.com/eae/discoversong                    eae   \n",
        "7866  https://github.com/eae/discoversong                    eae   \n",
        "7868  https://github.com/eae/discoversong                    eae   \n",
        "\n",
        "              created_at payload_commit_msg  number  \n",
        "7871 2012-04-01 04:03:25   rm this nonsense       0  \n",
        "7870 2012-04-01 04:03:25   rm this nonsense       1  \n",
        "7869 2012-04-01 04:03:25   rm this nonsense       2  \n",
        "7866 2012-04-01 04:05:32      better readme       3  \n",
        "7868 2012-04-01 04:05:32      better readme       4  "
       ]
      }
     ],
     "prompt_number": 49
    },
    {
     "cell_type": "code",
     "collapsed": false,
     "input": [
      "arepo.tail()"
     ],
     "language": "python",
     "metadata": {},
     "outputs": [
      {
       "metadata": {},
       "output_type": "pyout",
       "prompt_number": 50,
       "text": [
        "                        repository_url actor_attributes_login  \\\n",
        "6  https://github.com/eae/discoversong                    eae   \n",
        "5  https://github.com/eae/discoversong                    eae   \n",
        "4  https://github.com/eae/discoversong                    eae   \n",
        "3  https://github.com/eae/discoversong                    eae   \n",
        "2  https://github.com/eae/discoversong                    eae   \n",
        "\n",
        "           created_at               payload_commit_msg  number  \n",
        "6 2014-07-28 04:17:58                             fix?    7865  \n",
        "5 2014-07-28 04:18:56  sleep between each mention read    7866  \n",
        "4 2014-07-28 04:21:00                              duh    7867  \n",
        "3 2014-07-28 04:26:36                     sleep longer    7868  \n",
        "2 2014-07-28 04:38:20                       cache more    7869  "
       ]
      }
     ],
     "prompt_number": 50
    },
    {
     "cell_type": "code",
     "collapsed": false,
     "input": [
      "len(arepo['actor_attributes_login'])"
     ],
     "language": "python",
     "metadata": {},
     "outputs": [
      {
       "metadata": {},
       "output_type": "pyout",
       "prompt_number": 53,
       "text": [
        "379"
       ]
      }
     ],
     "prompt_number": 53
    },
    {
     "cell_type": "code",
     "collapsed": false,
     "input": [
      "def plotCumulativeCommits(df):\n",
      "    workingDf = df.sort_index(by='created_at')\n",
      "    workingDf['commitNumber'] = np.arange(len(workingDf))\n",
      "    workingDf.plot(x='created_at', y='commitNumber', \n",
      "           title='cumulative Commits')"
     ],
     "language": "python",
     "metadata": {},
     "outputs": [],
     "prompt_number": 61
    },
    {
     "cell_type": "code",
     "collapsed": false,
     "input": [
      "plotCumulativeCommits(arepo)"
     ],
     "language": "python",
     "metadata": {},
     "outputs": [
      {
       "metadata": {},
       "output_type": "display_data",
       "png": "[encoded data removed]",
       "text": [
        "<matplotlib.figure.Figure at 0x109354990>"
       ]
      }
     ],
     "prompt_number": 62
    },
    {
     "cell_type": "code",
     "collapsed": false,
     "input": [
      "import datetime"
     ],
     "language": "python",
     "metadata": {},
     "outputs": [],
     "prompt_number": 71
    },
    {
     "cell_type": "code",
     "collapsed": false,
     "input": [
      "datetime.date(2011, 12,1)"
     ],
     "language": "python",
     "metadata": {},
     "outputs": [
      {
       "metadata": {},
       "output_type": "pyout",
       "prompt_number": 73,
       "text": [
        "datetime.date(2011, 12, 1)"
       ]
      }
     ],
     "prompt_number": 73
    },
    {
     "cell_type": "code",
     "collapsed": false,
     "input": [
      "arepo.created_at.apply(lambda x : datetime.x.month)"
     ],
     "language": "python",
     "metadata": {},
     "outputs": [
      {
       "metadata": {},
       "output_type": "pyout",
       "prompt_number": 70,
       "text": [
        "7871    4\n",
        "7870    4\n",
        "7869    4\n",
        "7866    4\n",
        "7868    4\n",
        "7867    4\n",
        "7864    4\n",
        "7865    4\n",
        "7863    4\n",
        "7861    4\n",
        "7862    4\n",
        "7860    4\n",
        "7858    4\n",
        "7859    4\n",
        "7857    4\n",
        "...\n",
        "16    7\n",
        "15    7\n",
        "14    7\n",
        "13    7\n",
        "12    7\n",
        "11    7\n",
        "10    7\n",
        "9     7\n",
        "8     7\n",
        "7     7\n",
        "6     7\n",
        "5     7\n",
        "4     7\n",
        "3     7\n",
        "2     7\n",
        "Name: created_at, Length: 379, dtype: int64"
       ]
      }
     ],
     "prompt_number": 70
    },
    {
     "cell_type": "code",
     "collapsed": false,
     "input": [
      "arepo.head()"
     ],
     "language": "python",
     "metadata": {},
     "outputs": [
      {
       "metadata": {},
       "output_type": "pyout",
       "prompt_number": 75,
       "text": [
        "                           repository_url actor_attributes_login  \\\n",
        "7871  https://github.com/eae/discoversong                    eae   \n",
        "7870  https://github.com/eae/discoversong                    eae   \n",
        "7869  https://github.com/eae/discoversong                    eae   \n",
        "7866  https://github.com/eae/discoversong                    eae   \n",
        "7868  https://github.com/eae/discoversong                    eae   \n",
        "\n",
        "              created_at payload_commit_msg  number  \n",
        "7871 2012-04-01 04:03:25   rm this nonsense       0  \n",
        "7870 2012-04-01 04:03:25   rm this nonsense       1  \n",
        "7869 2012-04-01 04:03:25   rm this nonsense       2  \n",
        "7866 2012-04-01 04:05:32      better readme       3  \n",
        "7868 2012-04-01 04:05:32      better readme       4  "
       ]
      }
     ],
     "prompt_number": 75
    },
    {
     "cell_type": "code",
     "collapsed": false,
     "input": [
      "type(arepo)"
     ],
     "language": "python",
     "metadata": {},
     "outputs": [
      {
       "metadata": {},
       "output_type": "pyout",
       "prompt_number": 76,
       "text": [
        "pandas.core.frame.DataFrame"
       ]
      }
     ],
     "prompt_number": 76
    },
    {
     "cell_type": "code",
     "collapsed": false,
     "input": [
      "arepo.created_at.values[0]"
     ],
     "language": "python",
     "metadata": {},
     "outputs": [
      {
       "metadata": {},
       "output_type": "pyout",
       "prompt_number": 87,
       "text": [
        "numpy.datetime64('2012-04-01T00:03:25.000000000-0400')"
       ]
      }
     ],
     "prompt_number": 87
    },
    {
     "cell_type": "code",
     "collapsed": false,
     "input": [],
     "language": "python",
     "metadata": {},
     "outputs": []
    }
   ],
   "metadata": {}
  }
 ]
}