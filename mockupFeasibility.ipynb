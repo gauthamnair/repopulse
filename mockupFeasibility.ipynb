{
 "metadata": {
  "name": "",
  "signature": "sha256:4c9671a4680b683aedf19a858a911dbe607b9462fa510a28e60f8805609651b0"
 },
 "nbformat": 3,
 "nbformat_minor": 0,
 "worksheets": [
  {
   "cells": [
    {
     "cell_type": "code",
     "collapsed": false,
     "input": [
      "import pandas as pd\n",
      "import numpy as np"
     ],
     "language": "python",
     "metadata": {},
     "outputs": [],
     "prompt_number": 131
    },
    {
     "cell_type": "code",
     "collapsed": false,
     "input": [
      "queryId = '20140731-174542'\n",
      "csvFile = 'results-' + queryId + '.csv'\n",
      "queryFile = 'query-' + queryId + '.sql'\n",
      "print open('data/inputdata/' + queryFile).read()\n",
      "x = pd.read_csv('data/inputdata/' + csvFile)\n",
      "x['commits'] = 1"
     ],
     "language": "python",
     "metadata": {},
     "outputs": [
      {
       "output_type": "stream",
       "stream": "stdout",
       "text": [
        "SELECT \n",
        "  repository_url,\n",
        "  actor_attributes_login,\n",
        "  created_at,\n",
        "  payload_commit_msg\n",
        "FROM [githubarchive:github.timeline]\n",
        "WHERE type=\"PushEvent\"\n",
        "    AND repository_language=\"Python\"\n",
        "    AND PARSE_UTC_USEC(repository_created_at) >= PARSE_UTC_USEC('2012-04-01 00:00:00')\n",
        "    AND PARSE_UTC_USEC(repository_created_at) <= PARSE_UTC_USEC('2012-04-02 00:00:00')\n",
        "ORDER BY created_at DESC\n",
        ";\n",
        "\n"
       ]
      }
     ],
     "prompt_number": 132
    },
    {
     "cell_type": "code",
     "collapsed": false,
     "input": [
      "pd.set_option( 'display.notebook_repr_html', True )\n",
      "pd.set_option('max_rows', 5)"
     ],
     "language": "python",
     "metadata": {},
     "outputs": [],
     "prompt_number": 133
    },
    {
     "cell_type": "code",
     "collapsed": false,
     "input": [
      "x.head()"
     ],
     "language": "python",
     "metadata": {},
     "outputs": [
      {
       "html": [
        "<div style=\"max-height:1000px;max-width:1500px;overflow:auto;\">\n",
        "<table border=\"1\" class=\"dataframe\">\n",
        "  <thead>\n",
        "    <tr style=\"text-align: right;\">\n",
        "      <th></th>\n",
        "      <th>repository_url</th>\n",
        "      <th>actor_attributes_login</th>\n",
        "      <th>created_at</th>\n",
        "      <th>payload_commit_msg</th>\n",
        "      <th>commits</th>\n",
        "    </tr>\n",
        "  </thead>\n",
        "  <tbody>\n",
        "    <tr>\n",
        "      <th>0</th>\n",
        "      <td> https://github.com/dlanger/inlinestyler</td>\n",
        "      <td> dlanger</td>\n",
        "      <td> 2014-07-31 17:45:13</td>\n",
        "      <td>                               Version bump, et al</td>\n",
        "      <td> 1</td>\n",
        "    </tr>\n",
        "    <tr>\n",
        "      <th>1</th>\n",
        "      <td> https://github.com/dlanger/inlinestyler</td>\n",
        "      <td> dlanger</td>\n",
        "      <td> 2014-07-31 17:39:47</td>\n",
        "      <td> Merge pull request #5 from riklaunim/master Py...</td>\n",
        "      <td> 1</td>\n",
        "    </tr>\n",
        "    <tr>\n",
        "      <th>2</th>\n",
        "      <td>     https://github.com/eae/discoversong</td>\n",
        "      <td>     eae</td>\n",
        "      <td> 2014-07-28 00:38:20</td>\n",
        "      <td>                                        cache more</td>\n",
        "      <td> 1</td>\n",
        "    </tr>\n",
        "    <tr>\n",
        "      <th>3</th>\n",
        "      <td>     https://github.com/eae/discoversong</td>\n",
        "      <td>     eae</td>\n",
        "      <td> 2014-07-28 00:26:36</td>\n",
        "      <td>                                      sleep longer</td>\n",
        "      <td> 1</td>\n",
        "    </tr>\n",
        "    <tr>\n",
        "      <th>4</th>\n",
        "      <td>     https://github.com/eae/discoversong</td>\n",
        "      <td>     eae</td>\n",
        "      <td> 2014-07-28 00:21:00</td>\n",
        "      <td>                                               duh</td>\n",
        "      <td> 1</td>\n",
        "    </tr>\n",
        "  </tbody>\n",
        "</table>\n",
        "</div>"
       ],
       "metadata": {},
       "output_type": "pyout",
       "prompt_number": 134,
       "text": [
        "                            repository_url actor_attributes_login  \\\n",
        "0  https://github.com/dlanger/inlinestyler                dlanger   \n",
        "1  https://github.com/dlanger/inlinestyler                dlanger   \n",
        "2      https://github.com/eae/discoversong                    eae   \n",
        "3      https://github.com/eae/discoversong                    eae   \n",
        "4      https://github.com/eae/discoversong                    eae   \n",
        "\n",
        "            created_at                                 payload_commit_msg  \\\n",
        "0  2014-07-31 17:45:13                                Version bump, et al   \n",
        "1  2014-07-31 17:39:47  Merge pull request #5 from riklaunim/master Py...   \n",
        "2  2014-07-28 00:38:20                                         cache more   \n",
        "3  2014-07-28 00:26:36                                       sleep longer   \n",
        "4  2014-07-28 00:21:00                                                duh   \n",
        "\n",
        "   commits  \n",
        "0        1  \n",
        "1        1  \n",
        "2        1  \n",
        "3        1  \n",
        "4        1  "
       ]
      }
     ],
     "prompt_number": 134
    },
    {
     "cell_type": "code",
     "collapsed": false,
     "input": [
      "type(x)"
     ],
     "language": "python",
     "metadata": {},
     "outputs": [
      {
       "metadata": {},
       "output_type": "pyout",
       "prompt_number": 135,
       "text": [
        "pandas.core.frame.DataFrame"
       ]
      }
     ],
     "prompt_number": 135
    },
    {
     "cell_type": "code",
     "collapsed": false,
     "input": [
      "x['created_at'].values"
     ],
     "language": "python",
     "metadata": {},
     "outputs": [
      {
       "metadata": {},
       "output_type": "pyout",
       "prompt_number": 136,
       "text": [
        "array(['2014-07-31 17:45:13', '2014-07-31 17:39:47', '2014-07-28 00:38:20',\n",
        "       ..., '2012-04-01 00:03:25', '2012-04-01 00:03:25',\n",
        "       '2012-04-01 00:03:25'], dtype=object)"
       ]
      }
     ],
     "prompt_number": 136
    },
    {
     "cell_type": "code",
     "collapsed": false,
     "input": [
      "x['created_at'] = x['created_at'].astype('datetime64[ns]')"
     ],
     "language": "python",
     "metadata": {},
     "outputs": [],
     "prompt_number": 137
    },
    {
     "cell_type": "code",
     "collapsed": false,
     "input": [
      "x.index = x.created_at\n",
      "del x['created_at']"
     ],
     "language": "python",
     "metadata": {},
     "outputs": [],
     "prompt_number": 138
    },
    {
     "cell_type": "code",
     "collapsed": false,
     "input": [
      "x.head()"
     ],
     "language": "python",
     "metadata": {},
     "outputs": [
      {
       "html": [
        "<div style=\"max-height:1000px;max-width:1500px;overflow:auto;\">\n",
        "<table border=\"1\" class=\"dataframe\">\n",
        "  <thead>\n",
        "    <tr style=\"text-align: right;\">\n",
        "      <th></th>\n",
        "      <th>repository_url</th>\n",
        "      <th>actor_attributes_login</th>\n",
        "      <th>payload_commit_msg</th>\n",
        "      <th>commits</th>\n",
        "    </tr>\n",
        "    <tr>\n",
        "      <th>created_at</th>\n",
        "      <th></th>\n",
        "      <th></th>\n",
        "      <th></th>\n",
        "      <th></th>\n",
        "    </tr>\n",
        "  </thead>\n",
        "  <tbody>\n",
        "    <tr>\n",
        "      <th>2014-07-31 21:45:13</th>\n",
        "      <td> https://github.com/dlanger/inlinestyler</td>\n",
        "      <td> dlanger</td>\n",
        "      <td>                               Version bump, et al</td>\n",
        "      <td> 1</td>\n",
        "    </tr>\n",
        "    <tr>\n",
        "      <th>2014-07-31 21:39:47</th>\n",
        "      <td> https://github.com/dlanger/inlinestyler</td>\n",
        "      <td> dlanger</td>\n",
        "      <td> Merge pull request #5 from riklaunim/master Py...</td>\n",
        "      <td> 1</td>\n",
        "    </tr>\n",
        "    <tr>\n",
        "      <th>2014-07-28 04:38:20</th>\n",
        "      <td>     https://github.com/eae/discoversong</td>\n",
        "      <td>     eae</td>\n",
        "      <td>                                        cache more</td>\n",
        "      <td> 1</td>\n",
        "    </tr>\n",
        "    <tr>\n",
        "      <th>2014-07-28 04:26:36</th>\n",
        "      <td>     https://github.com/eae/discoversong</td>\n",
        "      <td>     eae</td>\n",
        "      <td>                                      sleep longer</td>\n",
        "      <td> 1</td>\n",
        "    </tr>\n",
        "    <tr>\n",
        "      <th>2014-07-28 04:21:00</th>\n",
        "      <td>     https://github.com/eae/discoversong</td>\n",
        "      <td>     eae</td>\n",
        "      <td>                                               duh</td>\n",
        "      <td> 1</td>\n",
        "    </tr>\n",
        "  </tbody>\n",
        "</table>\n",
        "</div>"
       ],
       "metadata": {},
       "output_type": "pyout",
       "prompt_number": 139,
       "text": [
        "                                              repository_url  \\\n",
        "created_at                                                     \n",
        "2014-07-31 21:45:13  https://github.com/dlanger/inlinestyler   \n",
        "2014-07-31 21:39:47  https://github.com/dlanger/inlinestyler   \n",
        "2014-07-28 04:38:20      https://github.com/eae/discoversong   \n",
        "2014-07-28 04:26:36      https://github.com/eae/discoversong   \n",
        "2014-07-28 04:21:00      https://github.com/eae/discoversong   \n",
        "\n",
        "                    actor_attributes_login  \\\n",
        "created_at                                   \n",
        "2014-07-31 21:45:13                dlanger   \n",
        "2014-07-31 21:39:47                dlanger   \n",
        "2014-07-28 04:38:20                    eae   \n",
        "2014-07-28 04:26:36                    eae   \n",
        "2014-07-28 04:21:00                    eae   \n",
        "\n",
        "                                                    payload_commit_msg  \\\n",
        "created_at                                                               \n",
        "2014-07-31 21:45:13                                Version bump, et al   \n",
        "2014-07-31 21:39:47  Merge pull request #5 from riklaunim/master Py...   \n",
        "2014-07-28 04:38:20                                         cache more   \n",
        "2014-07-28 04:26:36                                       sleep longer   \n",
        "2014-07-28 04:21:00                                                duh   \n",
        "\n",
        "                     commits  \n",
        "created_at                    \n",
        "2014-07-31 21:45:13        1  \n",
        "2014-07-31 21:39:47        1  \n",
        "2014-07-28 04:38:20        1  \n",
        "2014-07-28 04:26:36        1  \n",
        "2014-07-28 04:21:00        1  "
       ]
      }
     ],
     "prompt_number": 139
    },
    {
     "cell_type": "markdown",
     "metadata": {},
     "source": [
      "# All Commits"
     ]
    },
    {
     "cell_type": "code",
     "collapsed": false,
     "input": [
      "byMonth = x.resample('M', how='sum')\n",
      "byMonth.head()"
     ],
     "language": "python",
     "metadata": {},
     "outputs": [
      {
       "html": [
        "<div style=\"max-height:1000px;max-width:1500px;overflow:auto;\">\n",
        "<table border=\"1\" class=\"dataframe\">\n",
        "  <thead>\n",
        "    <tr style=\"text-align: right;\">\n",
        "      <th></th>\n",
        "      <th>commits</th>\n",
        "    </tr>\n",
        "    <tr>\n",
        "      <th>created_at</th>\n",
        "      <th></th>\n",
        "    </tr>\n",
        "  </thead>\n",
        "  <tbody>\n",
        "    <tr>\n",
        "      <th>2012-04-30</th>\n",
        "      <td> 3966</td>\n",
        "    </tr>\n",
        "    <tr>\n",
        "      <th>2012-05-31</th>\n",
        "      <td> 1302</td>\n",
        "    </tr>\n",
        "    <tr>\n",
        "      <th>2012-06-30</th>\n",
        "      <td>  506</td>\n",
        "    </tr>\n",
        "    <tr>\n",
        "      <th>2012-07-31</th>\n",
        "      <td>  440</td>\n",
        "    </tr>\n",
        "    <tr>\n",
        "      <th>2012-08-31</th>\n",
        "      <td>  552</td>\n",
        "    </tr>\n",
        "  </tbody>\n",
        "</table>\n",
        "</div>"
       ],
       "metadata": {},
       "output_type": "pyout",
       "prompt_number": 140,
       "text": [
        "            commits\n",
        "created_at         \n",
        "2012-04-30     3966\n",
        "2012-05-31     1302\n",
        "2012-06-30      506\n",
        "2012-07-31      440\n",
        "2012-08-31      552"
       ]
      }
     ],
     "prompt_number": 140
    },
    {
     "cell_type": "code",
     "collapsed": false,
     "input": [
      "byMonth['commits'].plot(kind='bar', title='all repos')"
     ],
     "language": "python",
     "metadata": {},
     "outputs": [
      {
       "metadata": {},
       "output_type": "pyout",
       "prompt_number": 141,
       "text": [
        "<matplotlib.axes.AxesSubplot at 0x10a552cd0>"
       ]
      },
      {
       "metadata": {},
       "output_type": "display_data",
       "png": "[encoded data removed]",
       "text": [
        "<matplotlib.figure.Figure at 0x10ab49e90>"
       ]
      }
     ],
     "prompt_number": 141
    },
    {
     "cell_type": "code",
     "collapsed": false,
     "input": [
      "x.repository_url.value_counts().head()\n",
      "# np.log10(x.repository_url.value_counts()).plot(x=kind='bar')"
     ],
     "language": "python",
     "metadata": {},
     "outputs": [
      {
       "metadata": {},
       "output_type": "pyout",
       "prompt_number": 142,
       "text": [
        "https://github.com/jbergantine/django-newproj    648\n",
        "https://github.com/eae/discoversong              379\n",
        "https://github.com/igoreus/catalog               251\n",
        "https://github.com/palango/pitivi                230\n",
        "https://github.com/joshayers/PyTables            230\n",
        "dtype: int64"
       ]
      }
     ],
     "prompt_number": 142
    },
    {
     "cell_type": "code",
     "collapsed": false,
     "input": [
      "x.repository_url.value_counts().tail()"
     ],
     "language": "python",
     "metadata": {},
     "outputs": [
      {
       "metadata": {},
       "output_type": "pyout",
       "prompt_number": 143,
       "text": [
        "https://github.com//arango-python               1\n",
        "https://github.com/tusharchandra1992/ChatGAE    1\n",
        "https://github.com/daeken/QuestCompanions       1\n",
        "https://github.com/DamnWidget/corepost          1\n",
        "https://github.com/stephaneAG/emokit            1\n",
        "dtype: int64"
       ]
      }
     ],
     "prompt_number": 143
    },
    {
     "cell_type": "markdown",
     "metadata": {},
     "source": [
      "# A particular repo"
     ]
    },
    {
     "cell_type": "code",
     "collapsed": false,
     "input": [
      "arepo = x[x['repository_url']=='https://github.com/eae/discoversong']"
     ],
     "language": "python",
     "metadata": {},
     "outputs": [],
     "prompt_number": 144
    },
    {
     "cell_type": "code",
     "collapsed": false,
     "input": [
      "arepo"
     ],
     "language": "python",
     "metadata": {},
     "outputs": [
      {
       "html": [
        "<div style=\"max-height:1000px;max-width:1500px;overflow:auto;\">\n",
        "<table border=\"1\" class=\"dataframe\">\n",
        "  <thead>\n",
        "    <tr style=\"text-align: right;\">\n",
        "      <th></th>\n",
        "      <th>repository_url</th>\n",
        "      <th>actor_attributes_login</th>\n",
        "      <th>payload_commit_msg</th>\n",
        "      <th>commits</th>\n",
        "    </tr>\n",
        "    <tr>\n",
        "      <th>created_at</th>\n",
        "      <th></th>\n",
        "      <th></th>\n",
        "      <th></th>\n",
        "      <th></th>\n",
        "    </tr>\n",
        "  </thead>\n",
        "  <tbody>\n",
        "    <tr>\n",
        "      <th>2014-07-28 04:38:20</th>\n",
        "      <td> https://github.com/eae/discoversong</td>\n",
        "      <td> eae</td>\n",
        "      <td>       cache more</td>\n",
        "      <td> 1</td>\n",
        "    </tr>\n",
        "    <tr>\n",
        "      <th>2014-07-28 04:26:36</th>\n",
        "      <td> https://github.com/eae/discoversong</td>\n",
        "      <td> eae</td>\n",
        "      <td>     sleep longer</td>\n",
        "      <td> 1</td>\n",
        "    </tr>\n",
        "    <tr>\n",
        "      <th>...</th>\n",
        "      <td>...</td>\n",
        "      <td>...</td>\n",
        "      <td>...</td>\n",
        "      <td>...</td>\n",
        "    </tr>\n",
        "    <tr>\n",
        "      <th>2012-04-01 04:03:25</th>\n",
        "      <td> https://github.com/eae/discoversong</td>\n",
        "      <td> eae</td>\n",
        "      <td> rm this nonsense</td>\n",
        "      <td> 1</td>\n",
        "    </tr>\n",
        "    <tr>\n",
        "      <th>2012-04-01 04:03:25</th>\n",
        "      <td> https://github.com/eae/discoversong</td>\n",
        "      <td> eae</td>\n",
        "      <td> rm this nonsense</td>\n",
        "      <td> 1</td>\n",
        "    </tr>\n",
        "  </tbody>\n",
        "</table>\n",
        "<p>379 rows \u00d7 4 columns</p>\n",
        "</div>"
       ],
       "metadata": {},
       "output_type": "pyout",
       "prompt_number": 147,
       "text": [
        "                                          repository_url  \\\n",
        "created_at                                                 \n",
        "2014-07-28 04:38:20  https://github.com/eae/discoversong   \n",
        "2014-07-28 04:26:36  https://github.com/eae/discoversong   \n",
        "...                                                  ...   \n",
        "2012-04-01 04:03:25  https://github.com/eae/discoversong   \n",
        "2012-04-01 04:03:25  https://github.com/eae/discoversong   \n",
        "\n",
        "                    actor_attributes_login payload_commit_msg  commits  \n",
        "created_at                                                              \n",
        "2014-07-28 04:38:20                    eae         cache more        1  \n",
        "2014-07-28 04:26:36                    eae       sleep longer        1  \n",
        "...                                    ...                ...      ...  \n",
        "2012-04-01 04:03:25                    eae   rm this nonsense        1  \n",
        "2012-04-01 04:03:25                    eae   rm this nonsense        1  \n",
        "\n",
        "[379 rows x 4 columns]"
       ]
      }
     ],
     "prompt_number": 147
    },
    {
     "cell_type": "code",
     "collapsed": false,
     "input": [
      "def plotCommits(df, repository_url):\n",
      "    workingDf = df[df['repository_url']==repository_url]\n",
      "    workingDf = workingDf.resample('M', how='sum')\n",
      "    workingDf['commits'].plot(kind='bar', title=repository_url)"
     ],
     "language": "python",
     "metadata": {},
     "outputs": [],
     "prompt_number": 153
    },
    {
     "cell_type": "code",
     "collapsed": false,
     "input": [
      "plotCommits(x, 'https://github.com/eae/discoversong')"
     ],
     "language": "python",
     "metadata": {},
     "outputs": [
      {
       "metadata": {},
       "output_type": "display_data",
       "png": "[encoded data removed]",
       "text": [
        "<matplotlib.figure.Figure at 0x107879750>"
       ]
      }
     ],
     "prompt_number": 154
    },
    {
     "cell_type": "code",
     "collapsed": false,
     "input": [],
     "language": "python",
     "metadata": {},
     "outputs": []
    }
   ],
   "metadata": {}
  }
 ]
}