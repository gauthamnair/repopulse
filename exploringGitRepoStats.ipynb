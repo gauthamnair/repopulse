{
 "metadata": {
  "name": "",
  "signature": "sha256:ebc7740ed6f9a46e20f86f8cfd6645781720d914fd75f27aad44098edef2b5e8"
 },
 "nbformat": 3,
 "nbformat_minor": 0,
 "worksheets": [
  {
   "cells": [
    {
     "cell_type": "code",
     "collapsed": false,
     "input": [
      "import pandas as pd\n",
      "import datetime"
     ],
     "language": "python",
     "metadata": {},
     "outputs": [],
     "prompt_number": 76
    },
    {
     "cell_type": "code",
     "collapsed": false,
     "input": [
      "from gitImporter import importer"
     ],
     "language": "python",
     "metadata": {},
     "outputs": [],
     "prompt_number": 17
    },
    {
     "cell_type": "code",
     "collapsed": false,
     "input": [
      "plyr = importer.getRepo('hadley/plyr')"
     ],
     "language": "python",
     "metadata": {},
     "outputs": [],
     "prompt_number": 18
    },
    {
     "cell_type": "code",
     "collapsed": false,
     "input": [
      "plyr"
     ],
     "language": "python",
     "metadata": {},
     "outputs": [
      {
       "metadata": {},
       "output_type": "pyout",
       "prompt_number": 19,
       "text": [
        "<github.Repository.Repository at 0x106e7d610>"
       ]
      }
     ],
     "prompt_number": 19
    },
    {
     "cell_type": "markdown",
     "metadata": {},
     "source": [
      "# getting the number of stars"
     ]
    },
    {
     "cell_type": "code",
     "collapsed": false,
     "input": [
      "sgPaginator = plyr.get_stargazers()\n",
      "sgs = list(sgPaginator)"
     ],
     "language": "python",
     "metadata": {},
     "outputs": [],
     "prompt_number": 20
    },
    {
     "cell_type": "code",
     "collapsed": false,
     "input": [
      "importer.getLimitRemaining()"
     ],
     "language": "python",
     "metadata": {},
     "outputs": [
      {
       "metadata": {},
       "output_type": "pyout",
       "prompt_number": 21,
       "text": [
        "4986"
       ]
      }
     ],
     "prompt_number": 21
    },
    {
     "cell_type": "code",
     "collapsed": false,
     "input": [
      "len(sgs)"
     ],
     "language": "python",
     "metadata": {},
     "outputs": [
      {
       "metadata": {},
       "output_type": "pyout",
       "prompt_number": 22,
       "text": [
        "317"
       ]
      }
     ],
     "prompt_number": 22
    },
    {
     "cell_type": "markdown",
     "metadata": {},
     "source": [
      "But can get more easily from the request directly:"
     ]
    },
    {
     "cell_type": "code",
     "collapsed": false,
     "input": [
      "plyr.stargazers_count"
     ],
     "language": "python",
     "metadata": {},
     "outputs": [
      {
       "metadata": {},
       "output_type": "pyout",
       "prompt_number": 23,
       "text": [
        "317"
       ]
      }
     ],
     "prompt_number": 23
    },
    {
     "cell_type": "code",
     "collapsed": false,
     "input": [
      "plyr.forks_count"
     ],
     "language": "python",
     "metadata": {},
     "outputs": [
      {
       "metadata": {},
       "output_type": "pyout",
       "prompt_number": 24,
       "text": [
        "62"
       ]
      }
     ],
     "prompt_number": 24
    },
    {
     "cell_type": "code",
     "collapsed": false,
     "input": [
      "readme = plyr.get_readme()"
     ],
     "language": "python",
     "metadata": {},
     "outputs": [],
     "prompt_number": 31
    },
    {
     "cell_type": "code",
     "collapsed": false,
     "input": [
      "readme.decoded_content"
     ],
     "language": "python",
     "metadata": {},
     "outputs": [
      {
       "metadata": {},
       "output_type": "pyout",
       "prompt_number": 27,
       "text": [
        "'[![Build Status](https://travis-ci.org/hadley/plyr.png?branch=master)](https://travis-ci.org/hadley/plyr)\\n\\n# plyr\\n\\nplyr is a set of tools for a common set of problems: you need to __split__ up a big data structure into homogeneous pieces, __apply__ a function to each piece and then __combine__ all the results back together. For example, you might want to:\\n\\n  * fit the same model each patient subsets of a data frame\\n  * quickly calculate summary statistics for each group\\n  * perform group-wise transformations like scaling or standardising\\n\\nIt\\'s already possible to do this with base R functions (like split and the apply family of functions), but plyr makes it all a bit easier with:\\n\\n  * totally consistent names, arguments and outputs\\n  * convenient parallelisation through the foreach package\\n  * input from and output to data.frames, matrices and lists\\n  * progress bars to keep track of long running operations\\n  * built-in error recovery, and informative error messages\\n  * labels that are maintained across all transformations\\n\\nConsiderable effort has been put into making plyr fast and memory efficient, and in many cases plyr is as fast as, or faster than, the built-in equivalents.\\n\\nA detailed introduction to plyr has been published in JSS: \"The Split-Apply-Combine Strategy for Data Analysis\", http://www.jstatsoft.org/v40/i01/. You can find out more at http://had.co.nz/plyr/, or track development at http://github.com/hadley/plyr. You can ask questions about plyr (and data manipulation in general) on the plyr mailing list. Sign up at http://groups.google.com/group/manipulatr.\\n'"
       ]
      }
     ],
     "prompt_number": 27
    },
    {
     "cell_type": "code",
     "collapsed": false,
     "input": [
      "plyr.raw_data"
     ],
     "language": "python",
     "metadata": {},
     "outputs": [
      {
       "metadata": {},
       "output_type": "pyout",
       "prompt_number": 28,
       "text": [
        "{u'archive_url': u'https://api.github.com/repos/hadley/plyr/{archive_format}{/ref}',\n",
        " u'assignees_url': u'https://api.github.com/repos/hadley/plyr/assignees{/user}',\n",
        " u'blobs_url': u'https://api.github.com/repos/hadley/plyr/git/blobs{/sha}',\n",
        " u'branches_url': u'https://api.github.com/repos/hadley/plyr/branches{/branch}',\n",
        " u'clone_url': u'https://github.com/hadley/plyr.git',\n",
        " u'collaborators_url': u'https://api.github.com/repos/hadley/plyr/collaborators{/collaborator}',\n",
        " u'comments_url': u'https://api.github.com/repos/hadley/plyr/comments{/number}',\n",
        " u'commits_url': u'https://api.github.com/repos/hadley/plyr/commits{/sha}',\n",
        " u'compare_url': u'https://api.github.com/repos/hadley/plyr/compare/{base}...{head}',\n",
        " u'contents_url': u'https://api.github.com/repos/hadley/plyr/contents/{+path}',\n",
        " u'contributors_url': u'https://api.github.com/repos/hadley/plyr/contributors',\n",
        " u'created_at': u'2008-11-19T15:08:14Z',\n",
        " u'default_branch': u'master',\n",
        " u'description': u'A R package for splitting, applying and combining large problems into simpler problems',\n",
        " u'downloads_url': u'https://api.github.com/repos/hadley/plyr/downloads',\n",
        " u'events_url': u'https://api.github.com/repos/hadley/plyr/events',\n",
        " u'fork': False,\n",
        " u'forks': 62,\n",
        " u'forks_count': 62,\n",
        " u'forks_url': u'https://api.github.com/repos/hadley/plyr/forks',\n",
        " u'full_name': u'hadley/plyr',\n",
        " u'git_commits_url': u'https://api.github.com/repos/hadley/plyr/git/commits{/sha}',\n",
        " u'git_refs_url': u'https://api.github.com/repos/hadley/plyr/git/refs{/sha}',\n",
        " u'git_tags_url': u'https://api.github.com/repos/hadley/plyr/git/tags{/sha}',\n",
        " u'git_url': u'git://github.com/hadley/plyr.git',\n",
        " u'has_downloads': True,\n",
        " u'has_issues': True,\n",
        " u'has_wiki': False,\n",
        " u'homepage': u'plyr.had.co.nz',\n",
        " u'hooks_url': u'https://api.github.com/repos/hadley/plyr/hooks',\n",
        " u'html_url': u'https://github.com/hadley/plyr',\n",
        " u'id': 78162,\n",
        " u'issue_comment_url': u'https://api.github.com/repos/hadley/plyr/issues/comments/{number}',\n",
        " u'issue_events_url': u'https://api.github.com/repos/hadley/plyr/issues/events{/number}',\n",
        " u'issues_url': u'https://api.github.com/repos/hadley/plyr/issues{/number}',\n",
        " u'keys_url': u'https://api.github.com/repos/hadley/plyr/keys{/key_id}',\n",
        " u'labels_url': u'https://api.github.com/repos/hadley/plyr/labels{/name}',\n",
        " u'language': u'R',\n",
        " u'languages_url': u'https://api.github.com/repos/hadley/plyr/languages',\n",
        " u'merges_url': u'https://api.github.com/repos/hadley/plyr/merges',\n",
        " u'milestones_url': u'https://api.github.com/repos/hadley/plyr/milestones{/number}',\n",
        " u'mirror_url': None,\n",
        " u'name': u'plyr',\n",
        " u'network_count': 62,\n",
        " u'notifications_url': u'https://api.github.com/repos/hadley/plyr/notifications{?since,all,participating}',\n",
        " u'open_issues': 21,\n",
        " u'open_issues_count': 21,\n",
        " u'owner': {u'avatar_url': u'https://avatars.githubusercontent.com/u/4196?v=2',\n",
        "  u'events_url': u'https://api.github.com/users/hadley/events{/privacy}',\n",
        "  u'followers_url': u'https://api.github.com/users/hadley/followers',\n",
        "  u'following_url': u'https://api.github.com/users/hadley/following{/other_user}',\n",
        "  u'gists_url': u'https://api.github.com/users/hadley/gists{/gist_id}',\n",
        "  u'gravatar_id': u'7ba164f40a50bc23dbb2aa825fb7bc16',\n",
        "  u'html_url': u'https://github.com/hadley',\n",
        "  u'id': 4196,\n",
        "  u'login': u'hadley',\n",
        "  u'organizations_url': u'https://api.github.com/users/hadley/orgs',\n",
        "  u'received_events_url': u'https://api.github.com/users/hadley/received_events',\n",
        "  u'repos_url': u'https://api.github.com/users/hadley/repos',\n",
        "  u'site_admin': False,\n",
        "  u'starred_url': u'https://api.github.com/users/hadley/starred{/owner}{/repo}',\n",
        "  u'subscriptions_url': u'https://api.github.com/users/hadley/subscriptions',\n",
        "  u'type': u'User',\n",
        "  u'url': u'https://api.github.com/users/hadley'},\n",
        " u'permissions': {u'admin': False, u'pull': True, u'push': False},\n",
        " u'private': False,\n",
        " u'pulls_url': u'https://api.github.com/repos/hadley/plyr/pulls{/number}',\n",
        " u'pushed_at': u'2014-02-27T00:38:28Z',\n",
        " u'releases_url': u'https://api.github.com/repos/hadley/plyr/releases{/id}',\n",
        " u'size': 15541,\n",
        " u'ssh_url': u'git@github.com:hadley/plyr.git',\n",
        " u'stargazers_count': 317,\n",
        " u'stargazers_url': u'https://api.github.com/repos/hadley/plyr/stargazers',\n",
        " u'statuses_url': u'https://api.github.com/repos/hadley/plyr/statuses/{sha}',\n",
        " u'subscribers_count': 39,\n",
        " u'subscribers_url': u'https://api.github.com/repos/hadley/plyr/subscribers',\n",
        " u'subscription_url': u'https://api.github.com/repos/hadley/plyr/subscription',\n",
        " u'svn_url': u'https://github.com/hadley/plyr',\n",
        " u'tags_url': u'https://api.github.com/repos/hadley/plyr/tags',\n",
        " u'teams_url': u'https://api.github.com/repos/hadley/plyr/teams',\n",
        " u'trees_url': u'https://api.github.com/repos/hadley/plyr/git/trees{/sha}',\n",
        " u'updated_at': u'2014-08-03T13:54:28Z',\n",
        " u'url': u'https://api.github.com/repos/hadley/plyr',\n",
        " u'watchers': 317,\n",
        " u'watchers_count': 317}"
       ]
      }
     ],
     "prompt_number": 28
    },
    {
     "cell_type": "code",
     "collapsed": false,
     "input": [
      "plyr.stargazers_count"
     ],
     "language": "python",
     "metadata": {},
     "outputs": [
      {
       "metadata": {},
       "output_type": "pyout",
       "prompt_number": 29,
       "text": [
        "317"
       ]
      }
     ],
     "prompt_number": 29
    },
    {
     "cell_type": "code",
     "collapsed": false,
     "input": [
      "importer.getLimitRemaining()"
     ],
     "language": "python",
     "metadata": {},
     "outputs": [
      {
       "metadata": {},
       "output_type": "pyout",
       "prompt_number": 34,
       "text": [
        "4980"
       ]
      }
     ],
     "prompt_number": 34
    },
    {
     "cell_type": "code",
     "collapsed": false,
     "input": [
      "plyr.get_languages()"
     ],
     "language": "python",
     "metadata": {},
     "outputs": [
      {
       "metadata": {},
       "output_type": "pyout",
       "prompt_number": 33,
       "text": [
        "{u'C++': 2608, u'R': 183964}"
       ]
      }
     ],
     "prompt_number": 33
    },
    {
     "cell_type": "code",
     "collapsed": false,
     "input": [
      "plyr.watchers_count"
     ],
     "language": "python",
     "metadata": {},
     "outputs": [
      {
       "metadata": {},
       "output_type": "pyout",
       "prompt_number": 35,
       "text": [
        "317"
       ]
      }
     ],
     "prompt_number": 35
    },
    {
     "cell_type": "code",
     "collapsed": false,
     "input": [
      "plyr.stargazers_count"
     ],
     "language": "python",
     "metadata": {},
     "outputs": [
      {
       "metadata": {},
       "output_type": "pyout",
       "prompt_number": 36,
       "text": [
        "317"
       ]
      }
     ],
     "prompt_number": 36
    },
    {
     "cell_type": "code",
     "collapsed": false,
     "input": [
      "plyr.subscribers_count"
     ],
     "language": "python",
     "metadata": {},
     "outputs": [
      {
       "ename": "AttributeError",
       "evalue": "'Repository' object has no attribute 'subscribers_count'",
       "output_type": "pyerr",
       "traceback": [
        "\u001b[0;31m---------------------------------------------------------------------------\u001b[0m\n\u001b[0;31mAttributeError\u001b[0m                            Traceback (most recent call last)",
        "\u001b[0;32m<ipython-input-37-8eab78a2fa42>\u001b[0m in \u001b[0;36m<module>\u001b[0;34m()\u001b[0m\n\u001b[0;32m----> 1\u001b[0;31m \u001b[0mplyr\u001b[0m\u001b[0;34m.\u001b[0m\u001b[0msubscribers_count\u001b[0m\u001b[0;34m\u001b[0m\u001b[0m\n\u001b[0m",
        "\u001b[0;31mAttributeError\u001b[0m: 'Repository' object has no attribute 'subscribers_count'"
       ]
      }
     ],
     "prompt_number": 37
    },
    {
     "cell_type": "code",
     "collapsed": false,
     "input": [
      "plyr.raw_data['subscribers_count']"
     ],
     "language": "python",
     "metadata": {},
     "outputs": [
      {
       "metadata": {},
       "output_type": "pyout",
       "prompt_number": 38,
       "text": [
        "39"
       ]
      }
     ],
     "prompt_number": 38
    },
    {
     "cell_type": "code",
     "collapsed": false,
     "input": [
      "plyr.network_count"
     ],
     "language": "python",
     "metadata": {},
     "outputs": [
      {
       "metadata": {},
       "output_type": "pyout",
       "prompt_number": 39,
       "text": [
        "62"
       ]
      }
     ],
     "prompt_number": 39
    },
    {
     "cell_type": "markdown",
     "metadata": {},
     "source": [
      "# getting contributor stats"
     ]
    },
    {
     "cell_type": "code",
     "collapsed": false,
     "input": [
      "plyr.get_stats_code_frequency\n",
      "plyr.get_stats_commit_activity\n",
      "plyr.get_stats_contributors()\n",
      "plyr.get_stats_participation()\n",
      "plyr.get_languages()"
     ],
     "language": "python",
     "metadata": {},
     "outputs": [
      {
       "metadata": {},
       "output_type": "pyout",
       "prompt_number": 25,
       "text": [
        "{u'C++': 2608, u'R': 183964}"
       ]
      }
     ],
     "prompt_number": 25
    },
    {
     "cell_type": "markdown",
     "metadata": {},
     "source": [
      "## get_stats_commit_activity"
     ]
    },
    {
     "cell_type": "code",
     "collapsed": true,
     "input": [
      "activity = plyr.get_stats_commit_activity()"
     ],
     "language": "python",
     "metadata": {},
     "outputs": [],
     "prompt_number": 41
    },
    {
     "cell_type": "code",
     "collapsed": false,
     "input": [
      "lastActivity = activity[-1]"
     ],
     "language": "python",
     "metadata": {},
     "outputs": [],
     "prompt_number": 44
    },
    {
     "cell_type": "code",
     "collapsed": false,
     "input": [
      "lastActivity.last_modified"
     ],
     "language": "python",
     "metadata": {},
     "outputs": [],
     "prompt_number": 48
    },
    {
     "cell_type": "code",
     "collapsed": false,
     "input": [
      "lastActivity.raw_data"
     ],
     "language": "python",
     "metadata": {},
     "outputs": [
      {
       "metadata": {},
       "output_type": "pyout",
       "prompt_number": 49,
       "text": [
        "{u'days': [0, 0, 0, 0, 0, 0, 0], u'total': 0, u'week': 1407024000}"
       ]
      }
     ],
     "prompt_number": 49
    },
    {
     "cell_type": "code",
     "collapsed": false,
     "input": [
      "firstActivity = activity[0]"
     ],
     "language": "python",
     "metadata": {},
     "outputs": [],
     "prompt_number": 50
    },
    {
     "cell_type": "code",
     "collapsed": false,
     "input": [
      "firstActivity.raw_data"
     ],
     "language": "python",
     "metadata": {},
     "outputs": [
      {
       "metadata": {},
       "output_type": "pyout",
       "prompt_number": 51,
       "text": [
        "{u'days': [0, 0, 0, 0, 0, 0, 0], u'total': 0, u'week': 1376179200}"
       ]
      }
     ],
     "prompt_number": 51
    },
    {
     "cell_type": "markdown",
     "metadata": {},
     "source": [
      "## get_stats_contributors\n",
      "\n",
      "\"The Contributors graph shows commits made by the top 100 contributors over the lifetime of your project.\"\n",
      "https://help.github.com/articles/using-graphs"
     ]
    },
    {
     "cell_type": "code",
     "collapsed": false,
     "input": [
      "contributors = plyr.get_stats_contributors()"
     ],
     "language": "python",
     "metadata": {},
     "outputs": [],
     "prompt_number": 53
    },
    {
     "cell_type": "code",
     "collapsed": false,
     "input": [
      "lastContributor = contributors[-1]"
     ],
     "language": "python",
     "metadata": {},
     "outputs": [],
     "prompt_number": 55
    },
    {
     "cell_type": "code",
     "collapsed": false,
     "input": [
      "len(contributors)"
     ],
     "language": "python",
     "metadata": {},
     "outputs": [
      {
       "metadata": {},
       "output_type": "pyout",
       "prompt_number": 56,
       "text": [
        "14"
       ]
      }
     ],
     "prompt_number": 56
    },
    {
     "cell_type": "code",
     "collapsed": false,
     "input": [
      "lastContributor.raw_data"
     ],
     "language": "python",
     "metadata": {},
     "outputs": [
      {
       "metadata": {},
       "output_type": "pyout",
       "prompt_number": 57,
       "text": [
        "{u'author': {u'avatar_url': u'https://avatars.githubusercontent.com/u/4196?v=2',\n",
        "  u'events_url': u'https://api.github.com/users/hadley/events{/privacy}',\n",
        "  u'followers_url': u'https://api.github.com/users/hadley/followers',\n",
        "  u'following_url': u'https://api.github.com/users/hadley/following{/other_user}',\n",
        "  u'gists_url': u'https://api.github.com/users/hadley/gists{/gist_id}',\n",
        "  u'gravatar_id': u'7ba164f40a50bc23dbb2aa825fb7bc16',\n",
        "  u'html_url': u'https://github.com/hadley',\n",
        "  u'id': 4196,\n",
        "  u'login': u'hadley',\n",
        "  u'organizations_url': u'https://api.github.com/users/hadley/orgs',\n",
        "  u'received_events_url': u'https://api.github.com/users/hadley/received_events',\n",
        "  u'repos_url': u'https://api.github.com/users/hadley/repos',\n",
        "  u'site_admin': False,\n",
        "  u'starred_url': u'https://api.github.com/users/hadley/starred{/owner}{/repo}',\n",
        "  u'subscriptions_url': u'https://api.github.com/users/hadley/subscriptions',\n",
        "  u'type': u'User',\n",
        "  u'url': u'https://api.github.com/users/hadley'},\n",
        " u'total': 560,\n",
        " u'weeks': [{u'a': 0, u'c': 0, u'd': 0, u'w': 1204416000},\n",
        "  {u'a': 0, u'c': 0, u'd': 0, u'w': 1205020800},\n",
        "  {u'a': 0, u'c': 0, u'd': 0, u'w': 1205625600},\n",
        "  {u'a': 0, u'c': 0, u'd': 0, u'w': 1206230400},\n",
        "  {u'a': 0, u'c': 0, u'd': 0, u'w': 1206835200},\n",
        "  {u'a': 0, u'c': 0, u'd': 0, u'w': 1207440000},\n",
        "  {u'a': 0, u'c': 0, u'd': 0, u'w': 1208044800},\n",
        "  {u'a': 0, u'c': 0, u'd': 0, u'w': 1208649600},\n",
        "  {u'a': 460, u'c': 15, u'd': 221, u'w': 1209254400},\n",
        "  {u'a': 48765, u'c': 21, u'd': 355, u'w': 1209859200},\n",
        "  {u'a': 1, u'c': 1, u'd': 1, u'w': 1210464000},\n",
        "  {u'a': 391, u'c': 2, u'd': 3, u'w': 1211068800},\n",
        "  {u'a': 0, u'c': 0, u'd': 0, u'w': 1211673600},\n",
        "  {u'a': 0, u'c': 0, u'd': 0, u'w': 1212278400},\n",
        "  {u'a': 237, u'c': 9, u'd': 213, u'w': 1212883200},\n",
        "  {u'a': 31, u'c': 2, u'd': 6, u'w': 1213488000},\n",
        "  {u'a': 0, u'c': 0, u'd': 0, u'w': 1214092800},\n",
        "  {u'a': 18, u'c': 3, u'd': 7, u'w': 1214697600},\n",
        "  {u'a': 0, u'c': 0, u'd': 0, u'w': 1215302400},\n",
        "  {u'a': 0, u'c': 0, u'd': 0, u'w': 1215907200},\n",
        "  {u'a': 0, u'c': 0, u'd': 0, u'w': 1216512000},\n",
        "  {u'a': 0, u'c': 0, u'd': 0, u'w': 1217116800},\n",
        "  {u'a': 0, u'c': 0, u'd': 0, u'w': 1217721600},\n",
        "  {u'a': 0, u'c': 0, u'd': 0, u'w': 1218326400},\n",
        "  {u'a': 428, u'c': 15, u'd': 170, u'w': 1218931200},\n",
        "  {u'a': 0, u'c': 0, u'd': 0, u'w': 1219536000},\n",
        "  {u'a': 0, u'c': 0, u'd': 0, u'w': 1220140800},\n",
        "  {u'a': 0, u'c': 0, u'd': 0, u'w': 1220745600},\n",
        "  {u'a': 3042, u'c': 15, u'd': 4543, u'w': 1221350400},\n",
        "  {u'a': 54, u'c': 1, u'd': 45312, u'w': 1221955200},\n",
        "  {u'a': 0, u'c': 0, u'd': 0, u'w': 1222560000},\n",
        "  {u'a': 435, u'c': 9, u'd': 416, u'w': 1223164800},\n",
        "  {u'a': 113, u'c': 4, u'd': 51, u'w': 1223769600},\n",
        "  {u'a': 4, u'c': 1, u'd': 4, u'w': 1224374400},\n",
        "  {u'a': 0, u'c': 0, u'd': 0, u'w': 1224979200},\n",
        "  {u'a': 7, u'c': 2, u'd': 4, u'w': 1225584000},\n",
        "  {u'a': 0, u'c': 0, u'd': 0, u'w': 1226188800},\n",
        "  {u'a': 149, u'c': 5, u'd': 98, u'w': 1226793600},\n",
        "  {u'a': 0, u'c': 0, u'd': 0, u'w': 1227398400},\n",
        "  {u'a': 0, u'c': 0, u'd': 0, u'w': 1228003200},\n",
        "  {u'a': 115, u'c': 3, u'd': 30, u'w': 1228608000},\n",
        "  {u'a': 0, u'c': 0, u'd': 0, u'w': 1229212800},\n",
        "  {u'a': 0, u'c': 0, u'd': 0, u'w': 1229817600},\n",
        "  {u'a': 0, u'c': 0, u'd': 0, u'w': 1230422400},\n",
        "  {u'a': 3, u'c': 1, u'd': 2, u'w': 1231027200},\n",
        "  {u'a': 0, u'c': 0, u'd': 0, u'w': 1231632000},\n",
        "  {u'a': 0, u'c': 0, u'd': 0, u'w': 1232236800},\n",
        "  {u'a': 0, u'c': 0, u'd': 0, u'w': 1232841600},\n",
        "  {u'a': 55, u'c': 2, u'd': 102, u'w': 1233446400},\n",
        "  {u'a': 0, u'c': 0, u'd': 0, u'w': 1234051200},\n",
        "  {u'a': 0, u'c': 0, u'd': 0, u'w': 1234656000},\n",
        "  {u'a': 36, u'c': 2, u'd': 5, u'w': 1235260800},\n",
        "  {u'a': 0, u'c': 0, u'd': 0, u'w': 1235865600},\n",
        "  {u'a': 61, u'c': 3, u'd': 21, u'w': 1236470400},\n",
        "  {u'a': 8, u'c': 3, u'd': 7, u'w': 1237075200},\n",
        "  {u'a': 0, u'c': 0, u'd': 0, u'w': 1237680000},\n",
        "  {u'a': 9, u'c': 2, u'd': 6, u'w': 1238284800},\n",
        "  {u'a': 705, u'c': 19, u'd': 495, u'w': 1238889600},\n",
        "  {u'a': 98, u'c': 9, u'd': 40, u'w': 1239494400},\n",
        "  {u'a': 1, u'c': 1, u'd': 1, u'w': 1240099200},\n",
        "  {u'a': 0, u'c': 0, u'd': 0, u'w': 1240704000},\n",
        "  {u'a': 14, u'c': 4, u'd': 6, u'w': 1241308800},\n",
        "  {u'a': 0, u'c': 0, u'd': 0, u'w': 1241913600},\n",
        "  {u'a': 0, u'c': 0, u'd': 0, u'w': 1242518400},\n",
        "  {u'a': 22, u'c': 3, u'd': 6, u'w': 1243123200},\n",
        "  {u'a': 0, u'c': 0, u'd': 0, u'w': 1243728000},\n",
        "  {u'a': 0, u'c': 0, u'd': 0, u'w': 1244332800},\n",
        "  {u'a': 4, u'c': 1, u'd': 0, u'w': 1244937600},\n",
        "  {u'a': 82, u'c': 6, u'd': 17, u'w': 1245542400},\n",
        "  {u'a': 74, u'c': 3, u'd': 1, u'w': 1246147200},\n",
        "  {u'a': 0, u'c': 0, u'd': 0, u'w': 1246752000},\n",
        "  {u'a': 0, u'c': 0, u'd': 0, u'w': 1247356800},\n",
        "  {u'a': 0, u'c': 0, u'd': 0, u'w': 1247961600},\n",
        "  {u'a': 0, u'c': 0, u'd': 0, u'w': 1248566400},\n",
        "  {u'a': 0, u'c': 0, u'd': 0, u'w': 1249171200},\n",
        "  {u'a': 0, u'c': 0, u'd': 0, u'w': 1249776000},\n",
        "  {u'a': 0, u'c': 0, u'd': 0, u'w': 1250380800},\n",
        "  {u'a': 0, u'c': 0, u'd': 0, u'w': 1250985600},\n",
        "  {u'a': 0, u'c': 0, u'd': 0, u'w': 1251590400},\n",
        "  {u'a': 164, u'c': 8, u'd': 141, u'w': 1252195200},\n",
        "  {u'a': 3658, u'c': 18, u'd': 3400, u'w': 1252800000},\n",
        "  {u'a': 0, u'c': 0, u'd': 0, u'w': 1253404800},\n",
        "  {u'a': 0, u'c': 0, u'd': 0, u'w': 1254009600},\n",
        "  {u'a': 0, u'c': 0, u'd': 0, u'w': 1254614400},\n",
        "  {u'a': 0, u'c': 0, u'd': 0, u'w': 1255219200},\n",
        "  {u'a': 0, u'c': 0, u'd': 0, u'w': 1255824000},\n",
        "  {u'a': 2, u'c': 1, u'd': 0, u'w': 1256428800},\n",
        "  {u'a': 0, u'c': 0, u'd': 0, u'w': 1257033600},\n",
        "  {u'a': 0, u'c': 0, u'd': 0, u'w': 1257638400},\n",
        "  {u'a': 0, u'c': 0, u'd': 0, u'w': 1258243200},\n",
        "  {u'a': 0, u'c': 0, u'd': 0, u'w': 1258848000},\n",
        "  {u'a': 0, u'c': 0, u'd': 0, u'w': 1259452800},\n",
        "  {u'a': 0, u'c': 0, u'd': 0, u'w': 1260057600},\n",
        "  {u'a': 0, u'c': 0, u'd': 0, u'w': 1260662400},\n",
        "  {u'a': 110, u'c': 8, u'd': 11, u'w': 1261267200},\n",
        "  {u'a': 0, u'c': 0, u'd': 0, u'w': 1261872000},\n",
        "  {u'a': 21, u'c': 2, u'd': 4, u'w': 1262476800},\n",
        "  {u'a': 195, u'c': 6, u'd': 138, u'w': 1263081600},\n",
        "  {u'a': 0, u'c': 0, u'd': 0, u'w': 1263686400},\n",
        "  {u'a': 0, u'c': 0, u'd': 0, u'w': 1264291200},\n",
        "  {u'a': 15, u'c': 1, u'd': 1, u'w': 1264896000},\n",
        "  {u'a': 22, u'c': 2, u'd': 18, u'w': 1265500800},\n",
        "  {u'a': 0, u'c': 0, u'd': 0, u'w': 1266105600},\n",
        "  {u'a': 11, u'c': 2, u'd': 2, u'w': 1266710400},\n",
        "  {u'a': 0, u'c': 0, u'd': 0, u'w': 1267315200},\n",
        "  {u'a': 0, u'c': 0, u'd': 0, u'w': 1267920000},\n",
        "  {u'a': 42, u'c': 1, u'd': 17, u'w': 1268524800},\n",
        "  {u'a': 7, u'c': 1, u'd': 5, u'w': 1269129600},\n",
        "  {u'a': 7, u'c': 2, u'd': 7, u'w': 1269734400},\n",
        "  {u'a': 0, u'c': 0, u'd': 0, u'w': 1270339200},\n",
        "  {u'a': 0, u'c': 0, u'd': 0, u'w': 1270944000},\n",
        "  {u'a': 245, u'c': 7, u'd': 353, u'w': 1271548800},\n",
        "  {u'a': 278, u'c': 16, u'd': 62, u'w': 1272153600},\n",
        "  {u'a': 746, u'c': 19, u'd': 186, u'w': 1272758400},\n",
        "  {u'a': 147, u'c': 7, u'd': 32, u'w': 1273363200},\n",
        "  {u'a': 80, u'c': 2, u'd': 0, u'w': 1273968000},\n",
        "  {u'a': 0, u'c': 0, u'd': 0, u'w': 1274572800},\n",
        "  {u'a': 0, u'c': 0, u'd': 0, u'w': 1275177600},\n",
        "  {u'a': 0, u'c': 0, u'd': 0, u'w': 1275782400},\n",
        "  {u'a': 0, u'c': 0, u'd': 0, u'w': 1276387200},\n",
        "  {u'a': 4, u'c': 3, u'd': 2, u'w': 1276992000},\n",
        "  {u'a': 555, u'c': 22, u'd': 412, u'w': 1277596800},\n",
        "  {u'a': 4, u'c': 1, u'd': 1, u'w': 1278201600},\n",
        "  {u'a': 0, u'c': 0, u'd': 0, u'w': 1278806400},\n",
        "  {u'a': 414, u'c': 14, u'd': 101, u'w': 1279411200},\n",
        "  {u'a': 470, u'c': 6, u'd': 101, u'w': 1280016000},\n",
        "  {u'a': 0, u'c': 0, u'd': 0, u'w': 1280620800},\n",
        "  {u'a': 30, u'c': 3, u'd': 14, u'w': 1281225600},\n",
        "  {u'a': 0, u'c': 0, u'd': 0, u'w': 1281830400},\n",
        "  {u'a': 0, u'c': 0, u'd': 0, u'w': 1282435200},\n",
        "  {u'a': 0, u'c': 0, u'd': 0, u'w': 1283040000},\n",
        "  {u'a': 442, u'c': 23, u'd': 652, u'w': 1283644800},\n",
        "  {u'a': 12, u'c': 3, u'd': 4, u'w': 1284249600},\n",
        "  {u'a': 27, u'c': 7, u'd': 17, u'w': 1284854400},\n",
        "  {u'a': 0, u'c': 0, u'd': 0, u'w': 1285459200},\n",
        "  {u'a': 2, u'c': 1, u'd': 0, u'w': 1286064000},\n",
        "  {u'a': 0, u'c': 0, u'd': 0, u'w': 1286668800},\n",
        "  {u'a': 0, u'c': 0, u'd': 0, u'w': 1287273600},\n",
        "  {u'a': 0, u'c': 0, u'd': 0, u'w': 1287878400},\n",
        "  {u'a': 0, u'c': 0, u'd': 0, u'w': 1288483200},\n",
        "  {u'a': 0, u'c': 0, u'd': 0, u'w': 1289088000},\n",
        "  {u'a': 17, u'c': 1, u'd': 2, u'w': 1289692800},\n",
        "  {u'a': 0, u'c': 0, u'd': 0, u'w': 1290297600},\n",
        "  {u'a': 0, u'c': 0, u'd': 0, u'w': 1290902400},\n",
        "  {u'a': 0, u'c': 0, u'd': 0, u'w': 1291507200},\n",
        "  {u'a': 0, u'c': 0, u'd': 0, u'w': 1292112000},\n",
        "  {u'a': 0, u'c': 0, u'd': 0, u'w': 1292716800},\n",
        "  {u'a': 874, u'c': 16, u'd': 527, u'w': 1293321600},\n",
        "  {u'a': 28, u'c': 3, u'd': 7, u'w': 1293926400},\n",
        "  {u'a': 94, u'c': 4, u'd': 7, u'w': 1294531200},\n",
        "  {u'a': 2, u'c': 2, u'd': 2, u'w': 1295136000},\n",
        "  {u'a': 0, u'c': 0, u'd': 0, u'w': 1295740800},\n",
        "  {u'a': 9, u'c': 2, u'd': 5, u'w': 1296345600},\n",
        "  {u'a': 0, u'c': 0, u'd': 0, u'w': 1296950400},\n",
        "  {u'a': 0, u'c': 0, u'd': 0, u'w': 1297555200},\n",
        "  {u'a': 0, u'c': 0, u'd': 0, u'w': 1298160000},\n",
        "  {u'a': 386, u'c': 14, u'd': 216, u'w': 1298764800},\n",
        "  {u'a': 0, u'c': 0, u'd': 0, u'w': 1299369600},\n",
        "  {u'a': 0, u'c': 0, u'd': 0, u'w': 1299974400},\n",
        "  {u'a': 61, u'c': 5, u'd': 12, u'w': 1300579200},\n",
        "  {u'a': 0, u'c': 0, u'd': 0, u'w': 1301184000},\n",
        "  {u'a': 406, u'c': 14, u'd': 209, u'w': 1301788800},\n",
        "  {u'a': 56, u'c': 5, u'd': 9, u'w': 1302393600},\n",
        "  {u'a': 36, u'c': 4, u'd': 2, u'w': 1302998400},\n",
        "  {u'a': 13, u'c': 1, u'd': 6, u'w': 1303603200},\n",
        "  {u'a': 0, u'c': 0, u'd': 0, u'w': 1304208000},\n",
        "  {u'a': 0, u'c': 0, u'd': 0, u'w': 1304812800},\n",
        "  {u'a': 0, u'c': 0, u'd': 0, u'w': 1305417600},\n",
        "  {u'a': 0, u'c': 0, u'd': 0, u'w': 1306022400},\n",
        "  {u'a': 0, u'c': 0, u'd': 0, u'w': 1306627200},\n",
        "  {u'a': 0, u'c': 0, u'd': 0, u'w': 1307232000},\n",
        "  {u'a': 0, u'c': 0, u'd': 0, u'w': 1307836800},\n",
        "  {u'a': 0, u'c': 0, u'd': 0, u'w': 1308441600},\n",
        "  {u'a': 1631, u'c': 3, u'd': 1008, u'w': 1309046400},\n",
        "  {u'a': 13, u'c': 1, u'd': 1, u'w': 1309651200},\n",
        "  {u'a': 912, u'c': 12, u'd': 821, u'w': 1310256000},\n",
        "  {u'a': 0, u'c': 0, u'd': 0, u'w': 1310860800},\n",
        "  {u'a': 48, u'c': 3, u'd': 31, u'w': 1311465600},\n",
        "  {u'a': 0, u'c': 0, u'd': 0, u'w': 1312070400},\n",
        "  {u'a': 0, u'c': 0, u'd': 0, u'w': 1312675200},\n",
        "  {u'a': 0, u'c': 0, u'd': 0, u'w': 1313280000},\n",
        "  {u'a': 0, u'c': 0, u'd': 0, u'w': 1313884800},\n",
        "  {u'a': 0, u'c': 0, u'd': 0, u'w': 1314489600},\n",
        "  {u'a': 0, u'c': 0, u'd': 0, u'w': 1315094400},\n",
        "  {u'a': 0, u'c': 0, u'd': 0, u'w': 1315699200},\n",
        "  {u'a': 0, u'c': 0, u'd': 0, u'w': 1316304000},\n",
        "  {u'a': 0, u'c': 0, u'd': 0, u'w': 1316908800},\n",
        "  {u'a': 0, u'c': 0, u'd': 0, u'w': 1317513600},\n",
        "  {u'a': 12, u'c': 1, u'd': 1, u'w': 1318118400},\n",
        "  {u'a': 0, u'c': 0, u'd': 0, u'w': 1318723200},\n",
        "  {u'a': 0, u'c': 0, u'd': 0, u'w': 1319328000},\n",
        "  {u'a': 36, u'c': 4, u'd': 1, u'w': 1319932800},\n",
        "  {u'a': 90, u'c': 1, u'd': 88, u'w': 1320537600},\n",
        "  {u'a': 0, u'c': 0, u'd': 0, u'w': 1321142400},\n",
        "  {u'a': 0, u'c': 0, u'd': 0, u'w': 1321747200},\n",
        "  {u'a': 0, u'c': 0, u'd': 0, u'w': 1322352000},\n",
        "  {u'a': 60, u'c': 5, u'd': 75, u'w': 1322956800},\n",
        "  {u'a': 0, u'c': 0, u'd': 0, u'w': 1323561600},\n",
        "  {u'a': 370, u'c': 1, u'd': 343, u'w': 1324166400},\n",
        "  {u'a': 13, u'c': 4, u'd': 8, u'w': 1324771200},\n",
        "  {u'a': 81, u'c': 3, u'd': 3, u'w': 1325376000},\n",
        "  {u'a': 0, u'c': 0, u'd': 0, u'w': 1325980800},\n",
        "  {u'a': 0, u'c': 0, u'd': 0, u'w': 1326585600},\n",
        "  {u'a': 0, u'c': 0, u'd': 0, u'w': 1327190400},\n",
        "  {u'a': 0, u'c': 0, u'd': 0, u'w': 1327795200},\n",
        "  {u'a': 0, u'c': 0, u'd': 0, u'w': 1328400000},\n",
        "  {u'a': 0, u'c': 0, u'd': 0, u'w': 1329004800},\n",
        "  {u'a': 0, u'c': 0, u'd': 0, u'w': 1329609600},\n",
        "  {u'a': 0, u'c': 0, u'd': 0, u'w': 1330214400},\n",
        "  {u'a': 0, u'c': 0, u'd': 0, u'w': 1330819200},\n",
        "  {u'a': 0, u'c': 0, u'd': 0, u'w': 1331424000},\n",
        "  {u'a': 0, u'c': 0, u'd': 0, u'w': 1332028800},\n",
        "  {u'a': 0, u'c': 0, u'd': 0, u'w': 1332633600},\n",
        "  {u'a': 0, u'c': 0, u'd': 0, u'w': 1333238400},\n",
        "  {u'a': 0, u'c': 0, u'd': 0, u'w': 1333843200},\n",
        "  {u'a': 0, u'c': 0, u'd': 0, u'w': 1334448000},\n",
        "  {u'a': 0, u'c': 0, u'd': 0, u'w': 1335052800},\n",
        "  {u'a': 0, u'c': 0, u'd': 0, u'w': 1335657600},\n",
        "  {u'a': 0, u'c': 0, u'd': 0, u'w': 1336262400},\n",
        "  {u'a': 0, u'c': 0, u'd': 0, u'w': 1336867200},\n",
        "  {u'a': 0, u'c': 0, u'd': 0, u'w': 1337472000},\n",
        "  {u'a': 0, u'c': 0, u'd': 0, u'w': 1338076800},\n",
        "  {u'a': 0, u'c': 0, u'd': 0, u'w': 1338681600},\n",
        "  {u'a': 0, u'c': 0, u'd': 0, u'w': 1339286400},\n",
        "  {u'a': 0, u'c': 0, u'd': 0, u'w': 1339891200},\n",
        "  {u'a': 0, u'c': 0, u'd': 0, u'w': 1340496000},\n",
        "  {u'a': 0, u'c': 0, u'd': 0, u'w': 1341100800},\n",
        "  {u'a': 0, u'c': 0, u'd': 0, u'w': 1341705600},\n",
        "  {u'a': 0, u'c': 0, u'd': 0, u'w': 1342310400},\n",
        "  {u'a': 0, u'c': 0, u'd': 0, u'w': 1342915200},\n",
        "  {u'a': 0, u'c': 0, u'd': 0, u'w': 1343520000},\n",
        "  {u'a': 0, u'c': 0, u'd': 0, u'w': 1344124800},\n",
        "  {u'a': 0, u'c': 0, u'd': 0, u'w': 1344729600},\n",
        "  {u'a': 0, u'c': 0, u'd': 0, u'w': 1345334400},\n",
        "  {u'a': 0, u'c': 0, u'd': 0, u'w': 1345939200},\n",
        "  {u'a': 0, u'c': 0, u'd': 0, u'w': 1346544000},\n",
        "  {u'a': 0, u'c': 0, u'd': 0, u'w': 1347148800},\n",
        "  {u'a': 0, u'c': 0, u'd': 0, u'w': 1347753600},\n",
        "  {u'a': 0, u'c': 0, u'd': 0, u'w': 1348358400},\n",
        "  {u'a': 849, u'c': 11, u'd': 645, u'w': 1348963200},\n",
        "  {u'a': 4221, u'c': 40, u'd': 3058, u'w': 1349568000},\n",
        "  {u'a': 11, u'c': 1, u'd': 2, u'w': 1350172800},\n",
        "  {u'a': 0, u'c': 0, u'd': 0, u'w': 1350777600},\n",
        "  {u'a': 14, u'c': 4, u'd': 7, u'w': 1351382400},\n",
        "  {u'a': 15, u'c': 2, u'd': 12, u'w': 1351987200},\n",
        "  {u'a': 0, u'c': 0, u'd': 0, u'w': 1352592000},\n",
        "  {u'a': 0, u'c': 0, u'd': 0, u'w': 1353196800},\n",
        "  {u'a': 40, u'c': 4, u'd': 33, u'w': 1353801600},\n",
        "  {u'a': 11, u'c': 1, u'd': 1, u'w': 1354406400},\n",
        "  {u'a': 10, u'c': 1, u'd': 9, u'w': 1355011200},\n",
        "  {u'a': 0, u'c': 0, u'd': 0, u'w': 1355616000},\n",
        "  {u'a': 0, u'c': 0, u'd': 0, u'w': 1356220800},\n",
        "  {u'a': 0, u'c': 0, u'd': 0, u'w': 1356825600},\n",
        "  {u'a': 0, u'c': 0, u'd': 0, u'w': 1357430400},\n",
        "  {u'a': 0, u'c': 0, u'd': 0, u'w': 1358035200},\n",
        "  {u'a': 0, u'c': 0, u'd': 0, u'w': 1358640000},\n",
        "  {u'a': 22, u'c': 1, u'd': 11, u'w': 1359244800},\n",
        "  {u'a': 0, u'c': 0, u'd': 0, u'w': 1359849600},\n",
        "  {u'a': 0, u'c': 0, u'd': 0, u'w': 1360454400},\n",
        "  {u'a': 0, u'c': 0, u'd': 0, u'w': 1361059200},\n",
        "  {u'a': 0, u'c': 0, u'd': 0, u'w': 1361664000},\n",
        "  {u'a': 0, u'c': 0, u'd': 0, u'w': 1362268800},\n",
        "  {u'a': 0, u'c': 0, u'd': 0, u'w': 1362873600},\n",
        "  {u'a': 0, u'c': 0, u'd': 0, u'w': 1363478400},\n",
        "  {u'a': 0, u'c': 0, u'd': 0, u'w': 1364083200},\n",
        "  {u'a': 0, u'c': 0, u'd': 0, u'w': 1364688000},\n",
        "  {u'a': 0, u'c': 0, u'd': 0, u'w': 1365292800},\n",
        "  {u'a': 0, u'c': 0, u'd': 0, u'w': 1365897600},\n",
        "  {u'a': 0, u'c': 0, u'd': 0, u'w': 1366502400},\n",
        "  {u'a': 0, u'c': 0, u'd': 0, u'w': 1367107200},\n",
        "  {u'a': 0, u'c': 0, u'd': 0, u'w': 1367712000},\n",
        "  {u'a': 0, u'c': 0, u'd': 0, u'w': 1368316800},\n",
        "  {u'a': 0, u'c': 0, u'd': 0, u'w': 1368921600},\n",
        "  {u'a': 0, u'c': 0, u'd': 0, u'w': 1369526400},\n",
        "  {u'a': 0, u'c': 0, u'd': 0, u'w': 1370131200},\n",
        "  {u'a': 0, u'c': 0, u'd': 0, u'w': 1370736000},\n",
        "  {u'a': 0, u'c': 0, u'd': 0, u'w': 1371340800},\n",
        "  {u'a': 0, u'c': 0, u'd': 0, u'w': 1371945600},\n",
        "  {u'a': 0, u'c': 0, u'd': 0, u'w': 1372550400},\n",
        "  {u'a': 0, u'c': 0, u'd': 0, u'w': 1373155200},\n",
        "  {u'a': 0, u'c': 0, u'd': 0, u'w': 1373760000},\n",
        "  {u'a': 0, u'c': 0, u'd': 0, u'w': 1374364800},\n",
        "  {u'a': 0, u'c': 0, u'd': 0, u'w': 1374969600},\n",
        "  {u'a': 0, u'c': 0, u'd': 0, u'w': 1375574400},\n",
        "  {u'a': 0, u'c': 0, u'd': 0, u'w': 1376179200},\n",
        "  {u'a': 0, u'c': 0, u'd': 0, u'w': 1376784000},\n",
        "  {u'a': 0, u'c': 0, u'd': 0, u'w': 1377388800},\n",
        "  {u'a': 0, u'c': 0, u'd': 0, u'w': 1377993600},\n",
        "  {u'a': 0, u'c': 0, u'd': 0, u'w': 1378598400},\n",
        "  {u'a': 0, u'c': 0, u'd': 0, u'w': 1379203200},\n",
        "  {u'a': 0, u'c': 0, u'd': 0, u'w': 1379808000},\n",
        "  {u'a': 0, u'c': 0, u'd': 0, u'w': 1380412800},\n",
        "  {u'a': 0, u'c': 0, u'd': 0, u'w': 1381017600},\n",
        "  {u'a': 0, u'c': 0, u'd': 0, u'w': 1381622400},\n",
        "  {u'a': 0, u'c': 0, u'd': 0, u'w': 1382227200},\n",
        "  {u'a': 0, u'c': 0, u'd': 0, u'w': 1382832000},\n",
        "  {u'a': 0, u'c': 0, u'd': 0, u'w': 1383436800},\n",
        "  {u'a': 0, u'c': 0, u'd': 0, u'w': 1384041600},\n",
        "  {u'a': 0, u'c': 0, u'd': 0, u'w': 1384646400},\n",
        "  {u'a': 230, u'c': 11, u'd': 108, u'w': 1385251200},\n",
        "  {u'a': 0, u'c': 0, u'd': 0, u'w': 1385856000},\n",
        "  {u'a': 0, u'c': 0, u'd': 0, u'w': 1386460800},\n",
        "  {u'a': 0, u'c': 0, u'd': 0, u'w': 1387065600},\n",
        "  {u'a': 0, u'c': 0, u'd': 0, u'w': 1387670400},\n",
        "  {u'a': 522, u'c': 8, u'd': 536, u'w': 1388275200},\n",
        "  {u'a': 453, u'c': 2, u'd': 2, u'w': 1388880000},\n",
        "  {u'a': 0, u'c': 0, u'd': 0, u'w': 1389484800},\n",
        "  {u'a': 0, u'c': 0, u'd': 0, u'w': 1390089600},\n",
        "  {u'a': 0, u'c': 0, u'd': 0, u'w': 1390694400},\n",
        "  {u'a': 0, u'c': 0, u'd': 0, u'w': 1391299200},\n",
        "  {u'a': 0, u'c': 0, u'd': 0, u'w': 1391904000},\n",
        "  {u'a': 659, u'c': 9, u'd': 623, u'w': 1392508800},\n",
        "  {u'a': 53, u'c': 3, u'd': 506, u'w': 1393113600},\n",
        "  {u'a': 0, u'c': 0, u'd': 0, u'w': 1393718400},\n",
        "  {u'a': 0, u'c': 0, u'd': 0, u'w': 1394323200},\n",
        "  {u'a': 0, u'c': 0, u'd': 0, u'w': 1394928000},\n",
        "  {u'a': 0, u'c': 0, u'd': 0, u'w': 1395532800},\n",
        "  {u'a': 0, u'c': 0, u'd': 0, u'w': 1396137600},\n",
        "  {u'a': 0, u'c': 0, u'd': 0, u'w': 1396742400},\n",
        "  {u'a': 0, u'c': 0, u'd': 0, u'w': 1397347200},\n",
        "  {u'a': 0, u'c': 0, u'd': 0, u'w': 1397952000},\n",
        "  {u'a': 0, u'c': 0, u'd': 0, u'w': 1398556800},\n",
        "  {u'a': 0, u'c': 0, u'd': 0, u'w': 1399161600},\n",
        "  {u'a': 0, u'c': 0, u'd': 0, u'w': 1399766400},\n",
        "  {u'a': 0, u'c': 0, u'd': 0, u'w': 1400371200},\n",
        "  {u'a': 0, u'c': 0, u'd': 0, u'w': 1400976000},\n",
        "  {u'a': 0, u'c': 0, u'd': 0, u'w': 1401580800},\n",
        "  {u'a': 0, u'c': 0, u'd': 0, u'w': 1402185600},\n",
        "  {u'a': 0, u'c': 0, u'd': 0, u'w': 1402790400},\n",
        "  {u'a': 0, u'c': 0, u'd': 0, u'w': 1403395200},\n",
        "  {u'a': 0, u'c': 0, u'd': 0, u'w': 1404000000},\n",
        "  {u'a': 0, u'c': 0, u'd': 0, u'w': 1404604800},\n",
        "  {u'a': 0, u'c': 0, u'd': 0, u'w': 1405209600},\n",
        "  {u'a': 0, u'c': 0, u'd': 0, u'w': 1405814400},\n",
        "  {u'a': 0, u'c': 0, u'd': 0, u'w': 1406419200},\n",
        "  {u'a': 0, u'c': 0, u'd': 0, u'w': 1407024000}]}"
       ]
      }
     ],
     "prompt_number": 57
    },
    {
     "cell_type": "code",
     "collapsed": false,
     "input": [
      "lastContributor.total"
     ],
     "language": "python",
     "metadata": {},
     "outputs": [
      {
       "metadata": {},
       "output_type": "pyout",
       "prompt_number": 58,
       "text": [
        "560"
       ]
      }
     ],
     "prompt_number": 58
    },
    {
     "cell_type": "code",
     "collapsed": false,
     "input": [
      "lastContributor.author.login"
     ],
     "language": "python",
     "metadata": {},
     "outputs": [
      {
       "metadata": {},
       "output_type": "pyout",
       "prompt_number": 60,
       "text": [
        "u'hadley'"
       ]
      }
     ],
     "prompt_number": 60
    },
    {
     "cell_type": "markdown",
     "metadata": {},
     "source": [
      "The contributors are sorted in ascending order"
     ]
    },
    {
     "cell_type": "code",
     "collapsed": false,
     "input": [
      "for contributor in contributors:\n",
      "    print \"%s : %d commits\" % (contributor.author.login, contributor.total)"
     ],
     "language": "python",
     "metadata": {},
     "outputs": [
      {
       "output_type": "stream",
       "stream": "stdout",
       "text": [
        "wibeasley : 1 commits\n",
        "tjmahr : 1 commits\n",
        "scottko : 1 commits\n",
        "jiho : 2 commits\n",
        "baptiste : 2 commits\n",
        "jimhester : 2 commits\n",
        "froh : 2 commits\n",
        "richierocks : 3 commits\n",
        "strongh : 6 commits\n",
        "tbates : 14 commits\n",
        "krlmlr : 17 commits\n",
        "wch : 19 commits\n",
        "crowding : 38 commits\n",
        "hadley : 560 commits\n"
       ]
      }
     ],
     "prompt_number": 61
    },
    {
     "cell_type": "code",
     "collapsed": false,
     "input": [
      "week0 = lastContributor.weeks[0]"
     ],
     "language": "python",
     "metadata": {},
     "outputs": [],
     "prompt_number": 65
    },
    {
     "cell_type": "code",
     "collapsed": false,
     "input": [
      "week0.raw_data"
     ],
     "language": "python",
     "metadata": {},
     "outputs": [
      {
       "metadata": {},
       "output_type": "pyout",
       "prompt_number": 67,
       "text": [
        "{u'a': 0, u'c': 0, u'd': 0, u'w': 1204416000}"
       ]
      }
     ],
     "prompt_number": 67
    },
    {
     "cell_type": "code",
     "collapsed": false,
     "input": [
      "dfweeks = pd.DataFrame(lastContributor.raw_data['weeks'])"
     ],
     "language": "python",
     "metadata": {},
     "outputs": [],
     "prompt_number": 70
    },
    {
     "cell_type": "code",
     "collapsed": false,
     "input": [
      "dfweeks.head()"
     ],
     "language": "python",
     "metadata": {},
     "outputs": [
      {
       "html": [
        "<div style=\"max-height:1000px;max-width:1500px;overflow:auto;\">\n",
        "<table border=\"1\" class=\"dataframe\">\n",
        "  <thead>\n",
        "    <tr style=\"text-align: right;\">\n",
        "      <th></th>\n",
        "      <th>a</th>\n",
        "      <th>c</th>\n",
        "      <th>d</th>\n",
        "      <th>w</th>\n",
        "    </tr>\n",
        "  </thead>\n",
        "  <tbody>\n",
        "    <tr>\n",
        "      <th>0</th>\n",
        "      <td> 0</td>\n",
        "      <td> 0</td>\n",
        "      <td> 0</td>\n",
        "      <td> 1204416000</td>\n",
        "    </tr>\n",
        "    <tr>\n",
        "      <th>1</th>\n",
        "      <td> 0</td>\n",
        "      <td> 0</td>\n",
        "      <td> 0</td>\n",
        "      <td> 1205020800</td>\n",
        "    </tr>\n",
        "    <tr>\n",
        "      <th>2</th>\n",
        "      <td> 0</td>\n",
        "      <td> 0</td>\n",
        "      <td> 0</td>\n",
        "      <td> 1205625600</td>\n",
        "    </tr>\n",
        "    <tr>\n",
        "      <th>3</th>\n",
        "      <td> 0</td>\n",
        "      <td> 0</td>\n",
        "      <td> 0</td>\n",
        "      <td> 1206230400</td>\n",
        "    </tr>\n",
        "    <tr>\n",
        "      <th>4</th>\n",
        "      <td> 0</td>\n",
        "      <td> 0</td>\n",
        "      <td> 0</td>\n",
        "      <td> 1206835200</td>\n",
        "    </tr>\n",
        "  </tbody>\n",
        "</table>\n",
        "</div>"
       ],
       "metadata": {},
       "output_type": "pyout",
       "prompt_number": 72,
       "text": [
        "   a  c  d           w\n",
        "0  0  0  0  1204416000\n",
        "1  0  0  0  1205020800\n",
        "2  0  0  0  1205625600\n",
        "3  0  0  0  1206230400\n",
        "4  0  0  0  1206835200"
       ]
      }
     ],
     "prompt_number": 72
    },
    {
     "cell_type": "code",
     "collapsed": false,
     "input": [
      "dfweeks.plot(x=\"w\",y=\"c\")"
     ],
     "language": "python",
     "metadata": {},
     "outputs": [
      {
       "metadata": {},
       "output_type": "pyout",
       "prompt_number": 73,
       "text": [
        "<matplotlib.axes.AxesSubplot at 0x108af8210>"
       ]
      },
      {
       "metadata": {},
       "output_type": "display_data",
       "png": "[encoded data removed]",
       "text": [
        "<matplotlib.figure.Figure at 0x106e40c90>"
       ]
      }
     ],
     "prompt_number": 73
    },
    {
     "cell_type": "code",
     "collapsed": false,
     "input": [
      "dfweeks.index = [datetime.date.fromtimestamp(x) for x in dfweeks['w']]"
     ],
     "language": "python",
     "metadata": {},
     "outputs": [],
     "prompt_number": 78
    },
    {
     "cell_type": "code",
     "collapsed": false,
     "input": [
      "dfweeks"
     ],
     "language": "python",
     "metadata": {},
     "outputs": [
      {
       "html": [
        "<div style=\"max-height:1000px;max-width:1500px;overflow:auto;\">\n",
        "<table border=\"1\" class=\"dataframe\">\n",
        "  <thead>\n",
        "    <tr style=\"text-align: right;\">\n",
        "      <th></th>\n",
        "      <th>a</th>\n",
        "      <th>c</th>\n",
        "      <th>d</th>\n",
        "      <th>w</th>\n",
        "    </tr>\n",
        "  </thead>\n",
        "  <tbody>\n",
        "    <tr>\n",
        "      <th>2008-03-01</th>\n",
        "      <td>     0</td>\n",
        "      <td>  0</td>\n",
        "      <td>     0</td>\n",
        "      <td> 1204416000</td>\n",
        "    </tr>\n",
        "    <tr>\n",
        "      <th>2008-03-08</th>\n",
        "      <td>     0</td>\n",
        "      <td>  0</td>\n",
        "      <td>     0</td>\n",
        "      <td> 1205020800</td>\n",
        "    </tr>\n",
        "    <tr>\n",
        "      <th>2008-03-15</th>\n",
        "      <td>     0</td>\n",
        "      <td>  0</td>\n",
        "      <td>     0</td>\n",
        "      <td> 1205625600</td>\n",
        "    </tr>\n",
        "    <tr>\n",
        "      <th>2008-03-22</th>\n",
        "      <td>     0</td>\n",
        "      <td>  0</td>\n",
        "      <td>     0</td>\n",
        "      <td> 1206230400</td>\n",
        "    </tr>\n",
        "    <tr>\n",
        "      <th>2008-03-29</th>\n",
        "      <td>     0</td>\n",
        "      <td>  0</td>\n",
        "      <td>     0</td>\n",
        "      <td> 1206835200</td>\n",
        "    </tr>\n",
        "    <tr>\n",
        "      <th>2008-04-05</th>\n",
        "      <td>     0</td>\n",
        "      <td>  0</td>\n",
        "      <td>     0</td>\n",
        "      <td> 1207440000</td>\n",
        "    </tr>\n",
        "    <tr>\n",
        "      <th>2008-04-12</th>\n",
        "      <td>     0</td>\n",
        "      <td>  0</td>\n",
        "      <td>     0</td>\n",
        "      <td> 1208044800</td>\n",
        "    </tr>\n",
        "    <tr>\n",
        "      <th>2008-04-19</th>\n",
        "      <td>     0</td>\n",
        "      <td>  0</td>\n",
        "      <td>     0</td>\n",
        "      <td> 1208649600</td>\n",
        "    </tr>\n",
        "    <tr>\n",
        "      <th>2008-04-26</th>\n",
        "      <td>   460</td>\n",
        "      <td> 15</td>\n",
        "      <td>   221</td>\n",
        "      <td> 1209254400</td>\n",
        "    </tr>\n",
        "    <tr>\n",
        "      <th>2008-05-03</th>\n",
        "      <td> 48765</td>\n",
        "      <td> 21</td>\n",
        "      <td>   355</td>\n",
        "      <td> 1209859200</td>\n",
        "    </tr>\n",
        "    <tr>\n",
        "      <th>2008-05-10</th>\n",
        "      <td>     1</td>\n",
        "      <td>  1</td>\n",
        "      <td>     1</td>\n",
        "      <td> 1210464000</td>\n",
        "    </tr>\n",
        "    <tr>\n",
        "      <th>2008-05-17</th>\n",
        "      <td>   391</td>\n",
        "      <td>  2</td>\n",
        "      <td>     3</td>\n",
        "      <td> 1211068800</td>\n",
        "    </tr>\n",
        "    <tr>\n",
        "      <th>2008-05-24</th>\n",
        "      <td>     0</td>\n",
        "      <td>  0</td>\n",
        "      <td>     0</td>\n",
        "      <td> 1211673600</td>\n",
        "    </tr>\n",
        "    <tr>\n",
        "      <th>2008-05-31</th>\n",
        "      <td>     0</td>\n",
        "      <td>  0</td>\n",
        "      <td>     0</td>\n",
        "      <td> 1212278400</td>\n",
        "    </tr>\n",
        "    <tr>\n",
        "      <th>2008-06-07</th>\n",
        "      <td>   237</td>\n",
        "      <td>  9</td>\n",
        "      <td>   213</td>\n",
        "      <td> 1212883200</td>\n",
        "    </tr>\n",
        "    <tr>\n",
        "      <th>2008-06-14</th>\n",
        "      <td>    31</td>\n",
        "      <td>  2</td>\n",
        "      <td>     6</td>\n",
        "      <td> 1213488000</td>\n",
        "    </tr>\n",
        "    <tr>\n",
        "      <th>2008-06-21</th>\n",
        "      <td>     0</td>\n",
        "      <td>  0</td>\n",
        "      <td>     0</td>\n",
        "      <td> 1214092800</td>\n",
        "    </tr>\n",
        "    <tr>\n",
        "      <th>2008-06-28</th>\n",
        "      <td>    18</td>\n",
        "      <td>  3</td>\n",
        "      <td>     7</td>\n",
        "      <td> 1214697600</td>\n",
        "    </tr>\n",
        "    <tr>\n",
        "      <th>2008-07-05</th>\n",
        "      <td>     0</td>\n",
        "      <td>  0</td>\n",
        "      <td>     0</td>\n",
        "      <td> 1215302400</td>\n",
        "    </tr>\n",
        "    <tr>\n",
        "      <th>2008-07-12</th>\n",
        "      <td>     0</td>\n",
        "      <td>  0</td>\n",
        "      <td>     0</td>\n",
        "      <td> 1215907200</td>\n",
        "    </tr>\n",
        "    <tr>\n",
        "      <th>2008-07-19</th>\n",
        "      <td>     0</td>\n",
        "      <td>  0</td>\n",
        "      <td>     0</td>\n",
        "      <td> 1216512000</td>\n",
        "    </tr>\n",
        "    <tr>\n",
        "      <th>2008-07-26</th>\n",
        "      <td>     0</td>\n",
        "      <td>  0</td>\n",
        "      <td>     0</td>\n",
        "      <td> 1217116800</td>\n",
        "    </tr>\n",
        "    <tr>\n",
        "      <th>2008-08-02</th>\n",
        "      <td>     0</td>\n",
        "      <td>  0</td>\n",
        "      <td>     0</td>\n",
        "      <td> 1217721600</td>\n",
        "    </tr>\n",
        "    <tr>\n",
        "      <th>2008-08-09</th>\n",
        "      <td>     0</td>\n",
        "      <td>  0</td>\n",
        "      <td>     0</td>\n",
        "      <td> 1218326400</td>\n",
        "    </tr>\n",
        "    <tr>\n",
        "      <th>2008-08-16</th>\n",
        "      <td>   428</td>\n",
        "      <td> 15</td>\n",
        "      <td>   170</td>\n",
        "      <td> 1218931200</td>\n",
        "    </tr>\n",
        "    <tr>\n",
        "      <th>2008-08-23</th>\n",
        "      <td>     0</td>\n",
        "      <td>  0</td>\n",
        "      <td>     0</td>\n",
        "      <td> 1219536000</td>\n",
        "    </tr>\n",
        "    <tr>\n",
        "      <th>2008-08-30</th>\n",
        "      <td>     0</td>\n",
        "      <td>  0</td>\n",
        "      <td>     0</td>\n",
        "      <td> 1220140800</td>\n",
        "    </tr>\n",
        "    <tr>\n",
        "      <th>2008-09-06</th>\n",
        "      <td>     0</td>\n",
        "      <td>  0</td>\n",
        "      <td>     0</td>\n",
        "      <td> 1220745600</td>\n",
        "    </tr>\n",
        "    <tr>\n",
        "      <th>2008-09-13</th>\n",
        "      <td>  3042</td>\n",
        "      <td> 15</td>\n",
        "      <td>  4543</td>\n",
        "      <td> 1221350400</td>\n",
        "    </tr>\n",
        "    <tr>\n",
        "      <th>2008-09-20</th>\n",
        "      <td>    54</td>\n",
        "      <td>  1</td>\n",
        "      <td> 45312</td>\n",
        "      <td> 1221955200</td>\n",
        "    </tr>\n",
        "    <tr>\n",
        "      <th>...</th>\n",
        "      <td>...</td>\n",
        "      <td>...</td>\n",
        "      <td>...</td>\n",
        "      <td>...</td>\n",
        "    </tr>\n",
        "    <tr>\n",
        "      <th>2014-01-11</th>\n",
        "      <td>     0</td>\n",
        "      <td>  0</td>\n",
        "      <td>     0</td>\n",
        "      <td> 1389484800</td>\n",
        "    </tr>\n",
        "    <tr>\n",
        "      <th>2014-01-18</th>\n",
        "      <td>     0</td>\n",
        "      <td>  0</td>\n",
        "      <td>     0</td>\n",
        "      <td> 1390089600</td>\n",
        "    </tr>\n",
        "    <tr>\n",
        "      <th>2014-01-25</th>\n",
        "      <td>     0</td>\n",
        "      <td>  0</td>\n",
        "      <td>     0</td>\n",
        "      <td> 1390694400</td>\n",
        "    </tr>\n",
        "    <tr>\n",
        "      <th>2014-02-01</th>\n",
        "      <td>     0</td>\n",
        "      <td>  0</td>\n",
        "      <td>     0</td>\n",
        "      <td> 1391299200</td>\n",
        "    </tr>\n",
        "    <tr>\n",
        "      <th>2014-02-08</th>\n",
        "      <td>     0</td>\n",
        "      <td>  0</td>\n",
        "      <td>     0</td>\n",
        "      <td> 1391904000</td>\n",
        "    </tr>\n",
        "    <tr>\n",
        "      <th>2014-02-15</th>\n",
        "      <td>   659</td>\n",
        "      <td>  9</td>\n",
        "      <td>   623</td>\n",
        "      <td> 1392508800</td>\n",
        "    </tr>\n",
        "    <tr>\n",
        "      <th>2014-02-22</th>\n",
        "      <td>    53</td>\n",
        "      <td>  3</td>\n",
        "      <td>   506</td>\n",
        "      <td> 1393113600</td>\n",
        "    </tr>\n",
        "    <tr>\n",
        "      <th>2014-03-01</th>\n",
        "      <td>     0</td>\n",
        "      <td>  0</td>\n",
        "      <td>     0</td>\n",
        "      <td> 1393718400</td>\n",
        "    </tr>\n",
        "    <tr>\n",
        "      <th>2014-03-08</th>\n",
        "      <td>     0</td>\n",
        "      <td>  0</td>\n",
        "      <td>     0</td>\n",
        "      <td> 1394323200</td>\n",
        "    </tr>\n",
        "    <tr>\n",
        "      <th>2014-03-15</th>\n",
        "      <td>     0</td>\n",
        "      <td>  0</td>\n",
        "      <td>     0</td>\n",
        "      <td> 1394928000</td>\n",
        "    </tr>\n",
        "    <tr>\n",
        "      <th>2014-03-22</th>\n",
        "      <td>     0</td>\n",
        "      <td>  0</td>\n",
        "      <td>     0</td>\n",
        "      <td> 1395532800</td>\n",
        "    </tr>\n",
        "    <tr>\n",
        "      <th>2014-03-29</th>\n",
        "      <td>     0</td>\n",
        "      <td>  0</td>\n",
        "      <td>     0</td>\n",
        "      <td> 1396137600</td>\n",
        "    </tr>\n",
        "    <tr>\n",
        "      <th>2014-04-05</th>\n",
        "      <td>     0</td>\n",
        "      <td>  0</td>\n",
        "      <td>     0</td>\n",
        "      <td> 1396742400</td>\n",
        "    </tr>\n",
        "    <tr>\n",
        "      <th>2014-04-12</th>\n",
        "      <td>     0</td>\n",
        "      <td>  0</td>\n",
        "      <td>     0</td>\n",
        "      <td> 1397347200</td>\n",
        "    </tr>\n",
        "    <tr>\n",
        "      <th>2014-04-19</th>\n",
        "      <td>     0</td>\n",
        "      <td>  0</td>\n",
        "      <td>     0</td>\n",
        "      <td> 1397952000</td>\n",
        "    </tr>\n",
        "    <tr>\n",
        "      <th>2014-04-26</th>\n",
        "      <td>     0</td>\n",
        "      <td>  0</td>\n",
        "      <td>     0</td>\n",
        "      <td> 1398556800</td>\n",
        "    </tr>\n",
        "    <tr>\n",
        "      <th>2014-05-03</th>\n",
        "      <td>     0</td>\n",
        "      <td>  0</td>\n",
        "      <td>     0</td>\n",
        "      <td> 1399161600</td>\n",
        "    </tr>\n",
        "    <tr>\n",
        "      <th>2014-05-10</th>\n",
        "      <td>     0</td>\n",
        "      <td>  0</td>\n",
        "      <td>     0</td>\n",
        "      <td> 1399766400</td>\n",
        "    </tr>\n",
        "    <tr>\n",
        "      <th>2014-05-17</th>\n",
        "      <td>     0</td>\n",
        "      <td>  0</td>\n",
        "      <td>     0</td>\n",
        "      <td> 1400371200</td>\n",
        "    </tr>\n",
        "    <tr>\n",
        "      <th>2014-05-24</th>\n",
        "      <td>     0</td>\n",
        "      <td>  0</td>\n",
        "      <td>     0</td>\n",
        "      <td> 1400976000</td>\n",
        "    </tr>\n",
        "    <tr>\n",
        "      <th>2014-05-31</th>\n",
        "      <td>     0</td>\n",
        "      <td>  0</td>\n",
        "      <td>     0</td>\n",
        "      <td> 1401580800</td>\n",
        "    </tr>\n",
        "    <tr>\n",
        "      <th>2014-06-07</th>\n",
        "      <td>     0</td>\n",
        "      <td>  0</td>\n",
        "      <td>     0</td>\n",
        "      <td> 1402185600</td>\n",
        "    </tr>\n",
        "    <tr>\n",
        "      <th>2014-06-14</th>\n",
        "      <td>     0</td>\n",
        "      <td>  0</td>\n",
        "      <td>     0</td>\n",
        "      <td> 1402790400</td>\n",
        "    </tr>\n",
        "    <tr>\n",
        "      <th>2014-06-21</th>\n",
        "      <td>     0</td>\n",
        "      <td>  0</td>\n",
        "      <td>     0</td>\n",
        "      <td> 1403395200</td>\n",
        "    </tr>\n",
        "    <tr>\n",
        "      <th>2014-06-28</th>\n",
        "      <td>     0</td>\n",
        "      <td>  0</td>\n",
        "      <td>     0</td>\n",
        "      <td> 1404000000</td>\n",
        "    </tr>\n",
        "    <tr>\n",
        "      <th>2014-07-05</th>\n",
        "      <td>     0</td>\n",
        "      <td>  0</td>\n",
        "      <td>     0</td>\n",
        "      <td> 1404604800</td>\n",
        "    </tr>\n",
        "    <tr>\n",
        "      <th>2014-07-12</th>\n",
        "      <td>     0</td>\n",
        "      <td>  0</td>\n",
        "      <td>     0</td>\n",
        "      <td> 1405209600</td>\n",
        "    </tr>\n",
        "    <tr>\n",
        "      <th>2014-07-19</th>\n",
        "      <td>     0</td>\n",
        "      <td>  0</td>\n",
        "      <td>     0</td>\n",
        "      <td> 1405814400</td>\n",
        "    </tr>\n",
        "    <tr>\n",
        "      <th>2014-07-26</th>\n",
        "      <td>     0</td>\n",
        "      <td>  0</td>\n",
        "      <td>     0</td>\n",
        "      <td> 1406419200</td>\n",
        "    </tr>\n",
        "    <tr>\n",
        "      <th>2014-08-02</th>\n",
        "      <td>     0</td>\n",
        "      <td>  0</td>\n",
        "      <td>     0</td>\n",
        "      <td> 1407024000</td>\n",
        "    </tr>\n",
        "  </tbody>\n",
        "</table>\n",
        "<p>336 rows \u00d7 4 columns</p>\n",
        "</div>"
       ],
       "metadata": {},
       "output_type": "pyout",
       "prompt_number": 79,
       "text": [
        "                a   c      d           w\n",
        "2008-03-01      0   0      0  1204416000\n",
        "2008-03-08      0   0      0  1205020800\n",
        "2008-03-15      0   0      0  1205625600\n",
        "2008-03-22      0   0      0  1206230400\n",
        "2008-03-29      0   0      0  1206835200\n",
        "2008-04-05      0   0      0  1207440000\n",
        "2008-04-12      0   0      0  1208044800\n",
        "2008-04-19      0   0      0  1208649600\n",
        "2008-04-26    460  15    221  1209254400\n",
        "2008-05-03  48765  21    355  1209859200\n",
        "2008-05-10      1   1      1  1210464000\n",
        "2008-05-17    391   2      3  1211068800\n",
        "2008-05-24      0   0      0  1211673600\n",
        "2008-05-31      0   0      0  1212278400\n",
        "2008-06-07    237   9    213  1212883200\n",
        "2008-06-14     31   2      6  1213488000\n",
        "2008-06-21      0   0      0  1214092800\n",
        "2008-06-28     18   3      7  1214697600\n",
        "2008-07-05      0   0      0  1215302400\n",
        "2008-07-12      0   0      0  1215907200\n",
        "2008-07-19      0   0      0  1216512000\n",
        "2008-07-26      0   0      0  1217116800\n",
        "2008-08-02      0   0      0  1217721600\n",
        "2008-08-09      0   0      0  1218326400\n",
        "2008-08-16    428  15    170  1218931200\n",
        "2008-08-23      0   0      0  1219536000\n",
        "2008-08-30      0   0      0  1220140800\n",
        "2008-09-06      0   0      0  1220745600\n",
        "2008-09-13   3042  15   4543  1221350400\n",
        "2008-09-20     54   1  45312  1221955200\n",
        "...           ...  ..    ...         ...\n",
        "2014-01-11      0   0      0  1389484800\n",
        "2014-01-18      0   0      0  1390089600\n",
        "2014-01-25      0   0      0  1390694400\n",
        "2014-02-01      0   0      0  1391299200\n",
        "2014-02-08      0   0      0  1391904000\n",
        "2014-02-15    659   9    623  1392508800\n",
        "2014-02-22     53   3    506  1393113600\n",
        "2014-03-01      0   0      0  1393718400\n",
        "2014-03-08      0   0      0  1394323200\n",
        "2014-03-15      0   0      0  1394928000\n",
        "2014-03-22      0   0      0  1395532800\n",
        "2014-03-29      0   0      0  1396137600\n",
        "2014-04-05      0   0      0  1396742400\n",
        "2014-04-12      0   0      0  1397347200\n",
        "2014-04-19      0   0      0  1397952000\n",
        "2014-04-26      0   0      0  1398556800\n",
        "2014-05-03      0   0      0  1399161600\n",
        "2014-05-10      0   0      0  1399766400\n",
        "2014-05-17      0   0      0  1400371200\n",
        "2014-05-24      0   0      0  1400976000\n",
        "2014-05-31      0   0      0  1401580800\n",
        "2014-06-07      0   0      0  1402185600\n",
        "2014-06-14      0   0      0  1402790400\n",
        "2014-06-21      0   0      0  1403395200\n",
        "2014-06-28      0   0      0  1404000000\n",
        "2014-07-05      0   0      0  1404604800\n",
        "2014-07-12      0   0      0  1405209600\n",
        "2014-07-19      0   0      0  1405814400\n",
        "2014-07-26      0   0      0  1406419200\n",
        "2014-08-02      0   0      0  1407024000\n",
        "\n",
        "[336 rows x 4 columns]"
       ]
      }
     ],
     "prompt_number": 79
    },
    {
     "cell_type": "code",
     "collapsed": false,
     "input": [
      "dfweeks['c'].plot()"
     ],
     "language": "python",
     "metadata": {},
     "outputs": [
      {
       "metadata": {},
       "output_type": "pyout",
       "prompt_number": 80,
       "text": [
        "<matplotlib.axes.AxesSubplot at 0x108aa74d0>"
       ]
      },
      {
       "metadata": {},
       "output_type": "display_data",
       "png": "[encoded data removed]",
       "text": [
        "<matplotlib.figure.Figure at 0x1027c6bd0>"
       ]
      }
     ],
     "prompt_number": 80
    },
    {
     "cell_type": "code",
     "collapsed": false,
     "input": [
      "lastContributor.author.login"
     ],
     "language": "python",
     "metadata": {},
     "outputs": [
      {
       "metadata": {},
       "output_type": "pyout",
       "prompt_number": 84,
       "text": [
        "u'hadley'"
       ]
      }
     ],
     "prompt_number": 84
    },
    {
     "cell_type": "markdown",
     "metadata": {},
     "source": [
      "# get_stats_participation"
     ]
    },
    {
     "cell_type": "code",
     "collapsed": false,
     "input": [
      "participation = plyr.get_stats_participation()"
     ],
     "language": "python",
     "metadata": {},
     "outputs": [],
     "prompt_number": 81
    },
    {
     "cell_type": "code",
     "collapsed": false,
     "input": [
      "participation"
     ],
     "language": "python",
     "metadata": {},
     "outputs": [
      {
       "metadata": {},
       "output_type": "pyout",
       "prompt_number": 82,
       "text": [
        "<github.StatsParticipation.StatsParticipation at 0x106a30ed0>"
       ]
      }
     ],
     "prompt_number": 82
    },
    {
     "cell_type": "code",
     "collapsed": false,
     "input": [
      "participation.raw_data"
     ],
     "language": "python",
     "metadata": {},
     "outputs": [
      {
       "metadata": {},
       "output_type": "pyout",
       "prompt_number": 83,
       "text": [
        "{u'all': [0,\n",
        "  0,\n",
        "  5,\n",
        "  5,\n",
        "  5,\n",
        "  0,\n",
        "  1,\n",
        "  0,\n",
        "  0,\n",
        "  0,\n",
        "  0,\n",
        "  1,\n",
        "  0,\n",
        "  0,\n",
        "  0,\n",
        "  4,\n",
        "  11,\n",
        "  0,\n",
        "  0,\n",
        "  0,\n",
        "  0,\n",
        "  12,\n",
        "  13,\n",
        "  1,\n",
        "  0,\n",
        "  0,\n",
        "  2,\n",
        "  1,\n",
        "  15,\n",
        "  3,\n",
        "  0,\n",
        "  0,\n",
        "  0,\n",
        "  0,\n",
        "  0,\n",
        "  0,\n",
        "  0,\n",
        "  0,\n",
        "  0,\n",
        "  0,\n",
        "  0,\n",
        "  0,\n",
        "  0,\n",
        "  0,\n",
        "  0,\n",
        "  0,\n",
        "  0,\n",
        "  0,\n",
        "  0,\n",
        "  0,\n",
        "  0,\n",
        "  0],\n",
        " u'owner': [0,\n",
        "  0,\n",
        "  0,\n",
        "  0,\n",
        "  0,\n",
        "  0,\n",
        "  0,\n",
        "  0,\n",
        "  0,\n",
        "  0,\n",
        "  0,\n",
        "  0,\n",
        "  0,\n",
        "  0,\n",
        "  0,\n",
        "  0,\n",
        "  11,\n",
        "  0,\n",
        "  0,\n",
        "  0,\n",
        "  0,\n",
        "  11,\n",
        "  5,\n",
        "  1,\n",
        "  0,\n",
        "  0,\n",
        "  0,\n",
        "  1,\n",
        "  11,\n",
        "  3,\n",
        "  0,\n",
        "  0,\n",
        "  0,\n",
        "  0,\n",
        "  0,\n",
        "  0,\n",
        "  0,\n",
        "  0,\n",
        "  0,\n",
        "  0,\n",
        "  0,\n",
        "  0,\n",
        "  0,\n",
        "  0,\n",
        "  0,\n",
        "  0,\n",
        "  0,\n",
        "  0,\n",
        "  0,\n",
        "  0,\n",
        "  0,\n",
        "  0]}"
       ]
      }
     ],
     "prompt_number": 83
    },
    {
     "cell_type": "markdown",
     "metadata": {},
     "source": [
      "# Something with a lot more commits"
     ]
    },
    {
     "cell_type": "code",
     "collapsed": false,
     "input": [
      "linux = importer.getRepo('torvalds/linux')"
     ],
     "language": "python",
     "metadata": {},
     "outputs": [],
     "prompt_number": 85
    },
    {
     "cell_type": "code",
     "collapsed": false,
     "input": [
      "importer.getLimitRemaining()"
     ],
     "language": "python",
     "metadata": {},
     "outputs": [
      {
       "metadata": {},
       "output_type": "pyout",
       "prompt_number": 86,
       "text": [
        "4999"
       ]
      }
     ],
     "prompt_number": 86
    },
    {
     "cell_type": "code",
     "collapsed": false,
     "input": [
      "linuxContributors = linux.get_stats_contributors()"
     ],
     "language": "python",
     "metadata": {},
     "outputs": [],
     "prompt_number": 87
    },
    {
     "cell_type": "code",
     "collapsed": false,
     "input": [
      "importer.getLimitRemaining()"
     ],
     "language": "python",
     "metadata": {},
     "outputs": [
      {
       "metadata": {},
       "output_type": "pyout",
       "prompt_number": 88,
       "text": [
        "4998"
       ]
      }
     ],
     "prompt_number": 88
    },
    {
     "cell_type": "code",
     "collapsed": false,
     "input": [
      "linuxContributors"
     ],
     "language": "python",
     "metadata": {},
     "outputs": [
      {
       "metadata": {},
       "output_type": "pyout",
       "prompt_number": 89,
       "text": [
        "[<github.StatsContributor.StatsContributor at 0x108ab5fd0>,\n",
        " <github.StatsContributor.StatsContributor at 0x108ab5ed0>,\n",
        " <github.StatsContributor.StatsContributor at 0x108c78ad0>,\n",
        " <github.StatsContributor.StatsContributor at 0x109863190>,\n",
        " <github.StatsContributor.StatsContributor at 0x10989c310>,\n",
        " <github.StatsContributor.StatsContributor at 0x1098d6490>,\n",
        " <github.StatsContributor.StatsContributor at 0x109911610>,\n",
        " <github.StatsContributor.StatsContributor at 0x10994b790>,\n",
        " <github.StatsContributor.StatsContributor at 0x109986910>,\n",
        " <github.StatsContributor.StatsContributor at 0x1099bfa90>,\n",
        " <github.StatsContributor.StatsContributor at 0x1099fac10>,\n",
        " <github.StatsContributor.StatsContributor at 0x109a34d90>,\n",
        " <github.StatsContributor.StatsContributor at 0x109a6ff10>,\n",
        " <github.StatsContributor.StatsContributor at 0x109ac50d0>,\n",
        " <github.StatsContributor.StatsContributor at 0x109aff250>,\n",
        " <github.StatsContributor.StatsContributor at 0x109c3a3d0>,\n",
        " <github.StatsContributor.StatsContributor at 0x109c74550>,\n",
        " <github.StatsContributor.StatsContributor at 0x109cae6d0>,\n",
        " <github.StatsContributor.StatsContributor at 0x109ce8850>,\n",
        " <github.StatsContributor.StatsContributor at 0x109d239d0>,\n",
        " <github.StatsContributor.StatsContributor at 0x109d5eb50>,\n",
        " <github.StatsContributor.StatsContributor at 0x109d97cd0>,\n",
        " <github.StatsContributor.StatsContributor at 0x109dd1e50>,\n",
        " <github.StatsContributor.StatsContributor at 0x109f0bfd0>,\n",
        " <github.StatsContributor.StatsContributor at 0x109f62190>,\n",
        " <github.StatsContributor.StatsContributor at 0x109f9c310>,\n",
        " <github.StatsContributor.StatsContributor at 0x109fd8490>,\n",
        " <github.StatsContributor.StatsContributor at 0x10a012610>,\n",
        " <github.StatsContributor.StatsContributor at 0x10a04b790>,\n",
        " <github.StatsContributor.StatsContributor at 0x10a085910>,\n",
        " <github.StatsContributor.StatsContributor at 0x10a0bfa90>,\n",
        " <github.StatsContributor.StatsContributor at 0x10a0fbc10>,\n",
        " <github.StatsContributor.StatsContributor at 0x10a234d90>,\n",
        " <github.StatsContributor.StatsContributor at 0x10a26ef10>,\n",
        " <github.StatsContributor.StatsContributor at 0x10a2c60d0>,\n",
        " <github.StatsContributor.StatsContributor at 0x10a2ff250>,\n",
        " <github.StatsContributor.StatsContributor at 0x10a3393d0>,\n",
        " <github.StatsContributor.StatsContributor at 0x10a374550>,\n",
        " <github.StatsContributor.StatsContributor at 0x10a3af6d0>,\n",
        " <github.StatsContributor.StatsContributor at 0x10a3e8850>,\n",
        " <github.StatsContributor.StatsContributor at 0x10a4229d0>,\n",
        " <github.StatsContributor.StatsContributor at 0x10a45db50>,\n",
        " <github.StatsContributor.StatsContributor at 0x10a497cd0>,\n",
        " <github.StatsContributor.StatsContributor at 0x10a4d2e50>,\n",
        " <github.StatsContributor.StatsContributor at 0x10a60bfd0>,\n",
        " <github.StatsContributor.StatsContributor at 0x10a663190>,\n",
        " <github.StatsContributor.StatsContributor at 0x10a69c310>,\n",
        " <github.StatsContributor.StatsContributor at 0x10a6d7490>,\n",
        " <github.StatsContributor.StatsContributor at 0x10a711610>,\n",
        " <github.StatsContributor.StatsContributor at 0x10a74b790>,\n",
        " <github.StatsContributor.StatsContributor at 0x10a786910>,\n",
        " <github.StatsContributor.StatsContributor at 0x10a7bfa90>,\n",
        " <github.StatsContributor.StatsContributor at 0x10a7fac10>,\n",
        " <github.StatsContributor.StatsContributor at 0x10a934d90>,\n",
        " <github.StatsContributor.StatsContributor at 0x10a96ff10>,\n",
        " <github.StatsContributor.StatsContributor at 0x10a9c50d0>,\n",
        " <github.StatsContributor.StatsContributor at 0x10a9ff250>,\n",
        " <github.StatsContributor.StatsContributor at 0x10aa3a3d0>,\n",
        " <github.StatsContributor.StatsContributor at 0x10aa74550>,\n",
        " <github.StatsContributor.StatsContributor at 0x10aaae6d0>,\n",
        " <github.StatsContributor.StatsContributor at 0x10aae8850>,\n",
        " <github.StatsContributor.StatsContributor at 0x10ab23910>,\n",
        " <github.StatsContributor.StatsContributor at 0x10ab5ea90>,\n",
        " <github.StatsContributor.StatsContributor at 0x10ab98c10>,\n",
        " <github.StatsContributor.StatsContributor at 0x10abd2d90>,\n",
        " <github.StatsContributor.StatsContributor at 0x10ad0cf10>,\n",
        " <github.StatsContributor.StatsContributor at 0x10ad630d0>,\n",
        " <github.StatsContributor.StatsContributor at 0x10ad9d250>,\n",
        " <github.StatsContributor.StatsContributor at 0x10add83d0>,\n",
        " <github.StatsContributor.StatsContributor at 0x10ae12550>,\n",
        " <github.StatsContributor.StatsContributor at 0x10ae4c6d0>,\n",
        " <github.StatsContributor.StatsContributor at 0x10ae86850>,\n",
        " <github.StatsContributor.StatsContributor at 0x10aec19d0>,\n",
        " <github.StatsContributor.StatsContributor at 0x10aefbb50>,\n",
        " <github.StatsContributor.StatsContributor at 0x10af36cd0>,\n",
        " <github.StatsContributor.StatsContributor at 0x10af6fe50>,\n",
        " <github.StatsContributor.StatsContributor at 0x10afa9fd0>,\n",
        " <github.StatsContributor.StatsContributor at 0x10b100190>,\n",
        " <github.StatsContributor.StatsContributor at 0x10b13b310>,\n",
        " <github.StatsContributor.StatsContributor at 0x10b175490>,\n",
        " <github.StatsContributor.StatsContributor at 0x10b1af610>,\n",
        " <github.StatsContributor.StatsContributor at 0x10b1ea790>,\n",
        " <github.StatsContributor.StatsContributor at 0x10b223910>,\n",
        " <github.StatsContributor.StatsContributor at 0x10b25ea90>,\n",
        " <github.StatsContributor.StatsContributor at 0x10b298c10>,\n",
        " <github.StatsContributor.StatsContributor at 0x10b2d2d90>,\n",
        " <github.StatsContributor.StatsContributor at 0x10b40cf10>,\n",
        " <github.StatsContributor.StatsContributor at 0x10b4630d0>,\n",
        " <github.StatsContributor.StatsContributor at 0x10b49e250>,\n",
        " <github.StatsContributor.StatsContributor at 0x10b4d83d0>,\n",
        " <github.StatsContributor.StatsContributor at 0x10b512550>,\n",
        " <github.StatsContributor.StatsContributor at 0x10b54c6d0>,\n",
        " <github.StatsContributor.StatsContributor at 0x10b586850>,\n",
        " <github.StatsContributor.StatsContributor at 0x10b5c19d0>,\n",
        " <github.StatsContributor.StatsContributor at 0x10b5fbb50>,\n",
        " <github.StatsContributor.StatsContributor at 0x10b735cd0>,\n",
        " <github.StatsContributor.StatsContributor at 0x10b76fe50>,\n",
        " <github.StatsContributor.StatsContributor at 0x10b7a9fd0>,\n",
        " <github.StatsContributor.StatsContributor at 0x10b800190>,\n",
        " <github.StatsContributor.StatsContributor at 0x10b83b310>]"
       ]
      }
     ],
     "prompt_number": 89
    },
    {
     "cell_type": "code",
     "collapsed": false,
     "input": [
      "importer.getLimitRemaining()"
     ],
     "language": "python",
     "metadata": {},
     "outputs": [
      {
       "metadata": {},
       "output_type": "pyout",
       "prompt_number": 90,
       "text": [
        "4998"
       ]
      }
     ],
     "prompt_number": 90
    },
    {
     "cell_type": "code",
     "collapsed": false,
     "input": [],
     "language": "python",
     "metadata": {},
     "outputs": []
    }
   ],
   "metadata": {}
  }
 ]
}