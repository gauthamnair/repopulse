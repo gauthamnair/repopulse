{
 "metadata": {
  "name": "",
  "signature": "sha256:cf7edf888c9f0e98f69d0d9ecd6f9d743e0341e1466874fbd8bf6b9c76ce5747"
 },
 "nbformat": 3,
 "nbformat_minor": 0,
 "worksheets": [
  {
   "cells": [
    {
     "cell_type": "code",
     "collapsed": false,
     "input": [
      "from gitImporter import importer"
     ],
     "language": "python",
     "metadata": {},
     "outputs": [],
     "prompt_number": 1
    },
    {
     "cell_type": "code",
     "collapsed": false,
     "input": [
      "plyr = importer.getRepo('hadley/plyr')"
     ],
     "language": "python",
     "metadata": {},
     "outputs": [],
     "prompt_number": 2
    },
    {
     "cell_type": "code",
     "collapsed": false,
     "input": [
      "plyr"
     ],
     "language": "python",
     "metadata": {},
     "outputs": [
      {
       "metadata": {},
       "output_type": "pyout",
       "prompt_number": 3,
       "text": [
        "<github.Repository.Repository at 0x106a30ad0>"
       ]
      }
     ],
     "prompt_number": 3
    },
    {
     "cell_type": "markdown",
     "metadata": {},
     "source": [
      "# getting the number of stars"
     ]
    },
    {
     "cell_type": "code",
     "collapsed": false,
     "input": [
      "sgPaginator = plyr.get_stargazers()\n",
      "sgs = list(sgPaginator)"
     ],
     "language": "python",
     "metadata": {},
     "outputs": [],
     "prompt_number": 5
    },
    {
     "cell_type": "code",
     "collapsed": false,
     "input": [
      "importer.getLimitRemaining()"
     ],
     "language": "python",
     "metadata": {},
     "outputs": [
      {
       "metadata": {},
       "output_type": "pyout",
       "prompt_number": 6,
       "text": [
        "4988"
       ]
      }
     ],
     "prompt_number": 6
    },
    {
     "cell_type": "code",
     "collapsed": false,
     "input": [
      "len(sgs)"
     ],
     "language": "python",
     "metadata": {},
     "outputs": [
      {
       "metadata": {},
       "output_type": "pyout",
       "prompt_number": 7,
       "text": [
        "317"
       ]
      }
     ],
     "prompt_number": 7
    },
    {
     "cell_type": "markdown",
     "metadata": {},
     "source": [
      "But can get more easily from the request directly:"
     ]
    },
    {
     "cell_type": "code",
     "collapsed": false,
     "input": [
      "plyr.stargazers_count"
     ],
     "language": "python",
     "metadata": {},
     "outputs": [
      {
       "metadata": {},
       "output_type": "pyout",
       "prompt_number": 15,
       "text": [
        "317"
       ]
      }
     ],
     "prompt_number": 15
    },
    {
     "cell_type": "code",
     "collapsed": false,
     "input": [
      "plyr.forks_count"
     ],
     "language": "python",
     "metadata": {},
     "outputs": [
      {
       "metadata": {},
       "output_type": "pyout",
       "prompt_number": 16,
       "text": [
        "62"
       ]
      }
     ],
     "prompt_number": 16
    },
    {
     "cell_type": "markdown",
     "metadata": {},
     "source": [
      "# getting contributor stats"
     ]
    },
    {
     "cell_type": "code",
     "collapsed": false,
     "input": [
      "plyr.get_stats_code_frequency\n",
      "plyr.get_stats_commit_activity\n",
      "plyr.get_stats_contributors()\n",
      "plyr.get_stats_participation()\n",
      "plyr.get_languages()"
     ],
     "language": "python",
     "metadata": {},
     "outputs": []
    },
    {
     "cell_type": "code",
     "collapsed": false,
     "input": [
      "readme = plyr.get_readme()"
     ],
     "language": "python",
     "metadata": {},
     "outputs": [],
     "prompt_number": 8
    },
    {
     "cell_type": "code",
     "collapsed": false,
     "input": [
      "readme.decoded_content"
     ],
     "language": "python",
     "metadata": {},
     "outputs": [
      {
       "metadata": {},
       "output_type": "pyout",
       "prompt_number": 11,
       "text": [
        "'[![Build Status](https://travis-ci.org/hadley/plyr.png?branch=master)](https://travis-ci.org/hadley/plyr)\\n\\n# plyr\\n\\nplyr is a set of tools for a common set of problems: you need to __split__ up a big data structure into homogeneous pieces, __apply__ a function to each piece and then __combine__ all the results back together. For example, you might want to:\\n\\n  * fit the same model each patient subsets of a data frame\\n  * quickly calculate summary statistics for each group\\n  * perform group-wise transformations like scaling or standardising\\n\\nIt\\'s already possible to do this with base R functions (like split and the apply family of functions), but plyr makes it all a bit easier with:\\n\\n  * totally consistent names, arguments and outputs\\n  * convenient parallelisation through the foreach package\\n  * input from and output to data.frames, matrices and lists\\n  * progress bars to keep track of long running operations\\n  * built-in error recovery, and informative error messages\\n  * labels that are maintained across all transformations\\n\\nConsiderable effort has been put into making plyr fast and memory efficient, and in many cases plyr is as fast as, or faster than, the built-in equivalents.\\n\\nA detailed introduction to plyr has been published in JSS: \"The Split-Apply-Combine Strategy for Data Analysis\", http://www.jstatsoft.org/v40/i01/. You can find out more at http://had.co.nz/plyr/, or track development at http://github.com/hadley/plyr. You can ask questions about plyr (and data manipulation in general) on the plyr mailing list. Sign up at http://groups.google.com/group/manipulatr.\\n'"
       ]
      }
     ],
     "prompt_number": 11
    },
    {
     "cell_type": "code",
     "collapsed": false,
     "input": [
      "plyr.raw_data"
     ],
     "language": "python",
     "metadata": {},
     "outputs": [
      {
       "metadata": {},
       "output_type": "pyout",
       "prompt_number": 12,
       "text": [
        "{u'archive_url': u'https://api.github.com/repos/hadley/plyr/{archive_format}{/ref}',\n",
        " u'assignees_url': u'https://api.github.com/repos/hadley/plyr/assignees{/user}',\n",
        " u'blobs_url': u'https://api.github.com/repos/hadley/plyr/git/blobs{/sha}',\n",
        " u'branches_url': u'https://api.github.com/repos/hadley/plyr/branches{/branch}',\n",
        " u'clone_url': u'https://github.com/hadley/plyr.git',\n",
        " u'collaborators_url': u'https://api.github.com/repos/hadley/plyr/collaborators{/collaborator}',\n",
        " u'comments_url': u'https://api.github.com/repos/hadley/plyr/comments{/number}',\n",
        " u'commits_url': u'https://api.github.com/repos/hadley/plyr/commits{/sha}',\n",
        " u'compare_url': u'https://api.github.com/repos/hadley/plyr/compare/{base}...{head}',\n",
        " u'contents_url': u'https://api.github.com/repos/hadley/plyr/contents/{+path}',\n",
        " u'contributors_url': u'https://api.github.com/repos/hadley/plyr/contributors',\n",
        " u'created_at': u'2008-11-19T15:08:14Z',\n",
        " u'default_branch': u'master',\n",
        " u'description': u'A R package for splitting, applying and combining large problems into simpler problems',\n",
        " u'downloads_url': u'https://api.github.com/repos/hadley/plyr/downloads',\n",
        " u'events_url': u'https://api.github.com/repos/hadley/plyr/events',\n",
        " u'fork': False,\n",
        " u'forks': 62,\n",
        " u'forks_count': 62,\n",
        " u'forks_url': u'https://api.github.com/repos/hadley/plyr/forks',\n",
        " u'full_name': u'hadley/plyr',\n",
        " u'git_commits_url': u'https://api.github.com/repos/hadley/plyr/git/commits{/sha}',\n",
        " u'git_refs_url': u'https://api.github.com/repos/hadley/plyr/git/refs{/sha}',\n",
        " u'git_tags_url': u'https://api.github.com/repos/hadley/plyr/git/tags{/sha}',\n",
        " u'git_url': u'git://github.com/hadley/plyr.git',\n",
        " u'has_downloads': True,\n",
        " u'has_issues': True,\n",
        " u'has_wiki': False,\n",
        " u'homepage': u'plyr.had.co.nz',\n",
        " u'hooks_url': u'https://api.github.com/repos/hadley/plyr/hooks',\n",
        " u'html_url': u'https://github.com/hadley/plyr',\n",
        " u'id': 78162,\n",
        " u'issue_comment_url': u'https://api.github.com/repos/hadley/plyr/issues/comments/{number}',\n",
        " u'issue_events_url': u'https://api.github.com/repos/hadley/plyr/issues/events{/number}',\n",
        " u'issues_url': u'https://api.github.com/repos/hadley/plyr/issues{/number}',\n",
        " u'keys_url': u'https://api.github.com/repos/hadley/plyr/keys{/key_id}',\n",
        " u'labels_url': u'https://api.github.com/repos/hadley/plyr/labels{/name}',\n",
        " u'language': u'R',\n",
        " u'languages_url': u'https://api.github.com/repos/hadley/plyr/languages',\n",
        " u'merges_url': u'https://api.github.com/repos/hadley/plyr/merges',\n",
        " u'milestones_url': u'https://api.github.com/repos/hadley/plyr/milestones{/number}',\n",
        " u'mirror_url': None,\n",
        " u'name': u'plyr',\n",
        " u'network_count': 62,\n",
        " u'notifications_url': u'https://api.github.com/repos/hadley/plyr/notifications{?since,all,participating}',\n",
        " u'open_issues': 21,\n",
        " u'open_issues_count': 21,\n",
        " u'owner': {u'avatar_url': u'https://avatars.githubusercontent.com/u/4196?v=2',\n",
        "  u'events_url': u'https://api.github.com/users/hadley/events{/privacy}',\n",
        "  u'followers_url': u'https://api.github.com/users/hadley/followers',\n",
        "  u'following_url': u'https://api.github.com/users/hadley/following{/other_user}',\n",
        "  u'gists_url': u'https://api.github.com/users/hadley/gists{/gist_id}',\n",
        "  u'gravatar_id': u'7ba164f40a50bc23dbb2aa825fb7bc16',\n",
        "  u'html_url': u'https://github.com/hadley',\n",
        "  u'id': 4196,\n",
        "  u'login': u'hadley',\n",
        "  u'organizations_url': u'https://api.github.com/users/hadley/orgs',\n",
        "  u'received_events_url': u'https://api.github.com/users/hadley/received_events',\n",
        "  u'repos_url': u'https://api.github.com/users/hadley/repos',\n",
        "  u'site_admin': False,\n",
        "  u'starred_url': u'https://api.github.com/users/hadley/starred{/owner}{/repo}',\n",
        "  u'subscriptions_url': u'https://api.github.com/users/hadley/subscriptions',\n",
        "  u'type': u'User',\n",
        "  u'url': u'https://api.github.com/users/hadley'},\n",
        " u'permissions': {u'admin': False, u'pull': True, u'push': False},\n",
        " u'private': False,\n",
        " u'pulls_url': u'https://api.github.com/repos/hadley/plyr/pulls{/number}',\n",
        " u'pushed_at': u'2014-02-27T00:38:28Z',\n",
        " u'releases_url': u'https://api.github.com/repos/hadley/plyr/releases{/id}',\n",
        " u'size': 15541,\n",
        " u'ssh_url': u'git@github.com:hadley/plyr.git',\n",
        " u'stargazers_count': 317,\n",
        " u'stargazers_url': u'https://api.github.com/repos/hadley/plyr/stargazers',\n",
        " u'statuses_url': u'https://api.github.com/repos/hadley/plyr/statuses/{sha}',\n",
        " u'subscribers_count': 39,\n",
        " u'subscribers_url': u'https://api.github.com/repos/hadley/plyr/subscribers',\n",
        " u'subscription_url': u'https://api.github.com/repos/hadley/plyr/subscription',\n",
        " u'svn_url': u'https://github.com/hadley/plyr',\n",
        " u'tags_url': u'https://api.github.com/repos/hadley/plyr/tags',\n",
        " u'teams_url': u'https://api.github.com/repos/hadley/plyr/teams',\n",
        " u'trees_url': u'https://api.github.com/repos/hadley/plyr/git/trees{/sha}',\n",
        " u'updated_at': u'2014-08-03T13:54:28Z',\n",
        " u'url': u'https://api.github.com/repos/hadley/plyr',\n",
        " u'watchers': 317,\n",
        " u'watchers_count': 317}"
       ]
      }
     ],
     "prompt_number": 12
    },
    {
     "cell_type": "code",
     "collapsed": false,
     "input": [
      "plyr.stargazers_count"
     ],
     "language": "python",
     "metadata": {},
     "outputs": [
      {
       "metadata": {},
       "output_type": "pyout",
       "prompt_number": 13,
       "text": [
        "317"
       ]
      }
     ],
     "prompt_number": 13
    },
    {
     "cell_type": "code",
     "collapsed": false,
     "input": [],
     "language": "python",
     "metadata": {},
     "outputs": []
    }
   ],
   "metadata": {}
  }
 ]
}